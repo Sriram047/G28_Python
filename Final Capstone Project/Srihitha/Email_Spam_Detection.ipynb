{
  "nbformat": 4,
  "nbformat_minor": 0,
  "metadata": {
    "colab": {
      "provenance": []
    },
    "kernelspec": {
      "name": "python3",
      "display_name": "Python 3"
    },
    "language_info": {
      "name": "python"
    }
  },
  "cells": [
    {
      "cell_type": "code",
      "execution_count": null,
      "metadata": {
        "id": "e_J52qZuSbLj"
      },
      "outputs": [],
      "source": [
        "import pandas as pd\n",
        "import numpy as np\n",
        "import matplotlib.pyplot as plt\n",
        "import seaborn as sns"
      ]
    },
    {
      "cell_type": "code",
      "source": [
        "data=pd.read_csv(\"/content/drive/MyDrive/spam.csv\")"
      ],
      "metadata": {
        "id": "KWD2TRACSshY"
      },
      "execution_count": null,
      "outputs": []
    },
    {
      "cell_type": "code",
      "source": [
        "data.head()"
      ],
      "metadata": {
        "colab": {
          "base_uri": "https://localhost:8080/",
          "height": 206
        },
        "id": "Rjna_nMVS5bc",
        "outputId": "5934daab-058e-4332-f57b-87c98790a541"
      },
      "execution_count": null,
      "outputs": [
        {
          "output_type": "execute_result",
          "data": {
            "text/plain": [
              "  Category                                            Message\n",
              "0      ham  Go until jurong point, crazy.. Available only ...\n",
              "1      ham                      Ok lar... Joking wif u oni...\n",
              "2     spam  Free entry in 2 a wkly comp to win FA Cup fina...\n",
              "3      ham  U dun say so early hor... U c already then say...\n",
              "4      ham  Nah I don't think he goes to usf, he lives aro..."
            ],
            "text/html": [
              "\n",
              "  <div id=\"df-6307a41e-b1fd-4d16-b82c-fe0c3f09822f\" class=\"colab-df-container\">\n",
              "    <div>\n",
              "<style scoped>\n",
              "    .dataframe tbody tr th:only-of-type {\n",
              "        vertical-align: middle;\n",
              "    }\n",
              "\n",
              "    .dataframe tbody tr th {\n",
              "        vertical-align: top;\n",
              "    }\n",
              "\n",
              "    .dataframe thead th {\n",
              "        text-align: right;\n",
              "    }\n",
              "</style>\n",
              "<table border=\"1\" class=\"dataframe\">\n",
              "  <thead>\n",
              "    <tr style=\"text-align: right;\">\n",
              "      <th></th>\n",
              "      <th>Category</th>\n",
              "      <th>Message</th>\n",
              "    </tr>\n",
              "  </thead>\n",
              "  <tbody>\n",
              "    <tr>\n",
              "      <th>0</th>\n",
              "      <td>ham</td>\n",
              "      <td>Go until jurong point, crazy.. Available only ...</td>\n",
              "    </tr>\n",
              "    <tr>\n",
              "      <th>1</th>\n",
              "      <td>ham</td>\n",
              "      <td>Ok lar... Joking wif u oni...</td>\n",
              "    </tr>\n",
              "    <tr>\n",
              "      <th>2</th>\n",
              "      <td>spam</td>\n",
              "      <td>Free entry in 2 a wkly comp to win FA Cup fina...</td>\n",
              "    </tr>\n",
              "    <tr>\n",
              "      <th>3</th>\n",
              "      <td>ham</td>\n",
              "      <td>U dun say so early hor... U c already then say...</td>\n",
              "    </tr>\n",
              "    <tr>\n",
              "      <th>4</th>\n",
              "      <td>ham</td>\n",
              "      <td>Nah I don't think he goes to usf, he lives aro...</td>\n",
              "    </tr>\n",
              "  </tbody>\n",
              "</table>\n",
              "</div>\n",
              "    <div class=\"colab-df-buttons\">\n",
              "\n",
              "  <div class=\"colab-df-container\">\n",
              "    <button class=\"colab-df-convert\" onclick=\"convertToInteractive('df-6307a41e-b1fd-4d16-b82c-fe0c3f09822f')\"\n",
              "            title=\"Convert this dataframe to an interactive table.\"\n",
              "            style=\"display:none;\">\n",
              "\n",
              "  <svg xmlns=\"http://www.w3.org/2000/svg\" height=\"24px\" viewBox=\"0 -960 960 960\">\n",
              "    <path d=\"M120-120v-720h720v720H120Zm60-500h600v-160H180v160Zm220 220h160v-160H400v160Zm0 220h160v-160H400v160ZM180-400h160v-160H180v160Zm440 0h160v-160H620v160ZM180-180h160v-160H180v160Zm440 0h160v-160H620v160Z\"/>\n",
              "  </svg>\n",
              "    </button>\n",
              "\n",
              "  <style>\n",
              "    .colab-df-container {\n",
              "      display:flex;\n",
              "      gap: 12px;\n",
              "    }\n",
              "\n",
              "    .colab-df-convert {\n",
              "      background-color: #E8F0FE;\n",
              "      border: none;\n",
              "      border-radius: 50%;\n",
              "      cursor: pointer;\n",
              "      display: none;\n",
              "      fill: #1967D2;\n",
              "      height: 32px;\n",
              "      padding: 0 0 0 0;\n",
              "      width: 32px;\n",
              "    }\n",
              "\n",
              "    .colab-df-convert:hover {\n",
              "      background-color: #E2EBFA;\n",
              "      box-shadow: 0px 1px 2px rgba(60, 64, 67, 0.3), 0px 1px 3px 1px rgba(60, 64, 67, 0.15);\n",
              "      fill: #174EA6;\n",
              "    }\n",
              "\n",
              "    .colab-df-buttons div {\n",
              "      margin-bottom: 4px;\n",
              "    }\n",
              "\n",
              "    [theme=dark] .colab-df-convert {\n",
              "      background-color: #3B4455;\n",
              "      fill: #D2E3FC;\n",
              "    }\n",
              "\n",
              "    [theme=dark] .colab-df-convert:hover {\n",
              "      background-color: #434B5C;\n",
              "      box-shadow: 0px 1px 3px 1px rgba(0, 0, 0, 0.15);\n",
              "      filter: drop-shadow(0px 1px 2px rgba(0, 0, 0, 0.3));\n",
              "      fill: #FFFFFF;\n",
              "    }\n",
              "  </style>\n",
              "\n",
              "    <script>\n",
              "      const buttonEl =\n",
              "        document.querySelector('#df-6307a41e-b1fd-4d16-b82c-fe0c3f09822f button.colab-df-convert');\n",
              "      buttonEl.style.display =\n",
              "        google.colab.kernel.accessAllowed ? 'block' : 'none';\n",
              "\n",
              "      async function convertToInteractive(key) {\n",
              "        const element = document.querySelector('#df-6307a41e-b1fd-4d16-b82c-fe0c3f09822f');\n",
              "        const dataTable =\n",
              "          await google.colab.kernel.invokeFunction('convertToInteractive',\n",
              "                                                    [key], {});\n",
              "        if (!dataTable) return;\n",
              "\n",
              "        const docLinkHtml = 'Like what you see? Visit the ' +\n",
              "          '<a target=\"_blank\" href=https://colab.research.google.com/notebooks/data_table.ipynb>data table notebook</a>'\n",
              "          + ' to learn more about interactive tables.';\n",
              "        element.innerHTML = '';\n",
              "        dataTable['output_type'] = 'display_data';\n",
              "        await google.colab.output.renderOutput(dataTable, element);\n",
              "        const docLink = document.createElement('div');\n",
              "        docLink.innerHTML = docLinkHtml;\n",
              "        element.appendChild(docLink);\n",
              "      }\n",
              "    </script>\n",
              "  </div>\n",
              "\n",
              "\n",
              "<div id=\"df-b4bbeb8a-3239-4f6c-b27f-88d27240426c\">\n",
              "  <button class=\"colab-df-quickchart\" onclick=\"quickchart('df-b4bbeb8a-3239-4f6c-b27f-88d27240426c')\"\n",
              "            title=\"Suggest charts\"\n",
              "            style=\"display:none;\">\n",
              "\n",
              "<svg xmlns=\"http://www.w3.org/2000/svg\" height=\"24px\"viewBox=\"0 0 24 24\"\n",
              "     width=\"24px\">\n",
              "    <g>\n",
              "        <path d=\"M19 3H5c-1.1 0-2 .9-2 2v14c0 1.1.9 2 2 2h14c1.1 0 2-.9 2-2V5c0-1.1-.9-2-2-2zM9 17H7v-7h2v7zm4 0h-2V7h2v10zm4 0h-2v-4h2v4z\"/>\n",
              "    </g>\n",
              "</svg>\n",
              "  </button>\n",
              "\n",
              "<style>\n",
              "  .colab-df-quickchart {\n",
              "      --bg-color: #E8F0FE;\n",
              "      --fill-color: #1967D2;\n",
              "      --hover-bg-color: #E2EBFA;\n",
              "      --hover-fill-color: #174EA6;\n",
              "      --disabled-fill-color: #AAA;\n",
              "      --disabled-bg-color: #DDD;\n",
              "  }\n",
              "\n",
              "  [theme=dark] .colab-df-quickchart {\n",
              "      --bg-color: #3B4455;\n",
              "      --fill-color: #D2E3FC;\n",
              "      --hover-bg-color: #434B5C;\n",
              "      --hover-fill-color: #FFFFFF;\n",
              "      --disabled-bg-color: #3B4455;\n",
              "      --disabled-fill-color: #666;\n",
              "  }\n",
              "\n",
              "  .colab-df-quickchart {\n",
              "    background-color: var(--bg-color);\n",
              "    border: none;\n",
              "    border-radius: 50%;\n",
              "    cursor: pointer;\n",
              "    display: none;\n",
              "    fill: var(--fill-color);\n",
              "    height: 32px;\n",
              "    padding: 0;\n",
              "    width: 32px;\n",
              "  }\n",
              "\n",
              "  .colab-df-quickchart:hover {\n",
              "    background-color: var(--hover-bg-color);\n",
              "    box-shadow: 0 1px 2px rgba(60, 64, 67, 0.3), 0 1px 3px 1px rgba(60, 64, 67, 0.15);\n",
              "    fill: var(--button-hover-fill-color);\n",
              "  }\n",
              "\n",
              "  .colab-df-quickchart-complete:disabled,\n",
              "  .colab-df-quickchart-complete:disabled:hover {\n",
              "    background-color: var(--disabled-bg-color);\n",
              "    fill: var(--disabled-fill-color);\n",
              "    box-shadow: none;\n",
              "  }\n",
              "\n",
              "  .colab-df-spinner {\n",
              "    border: 2px solid var(--fill-color);\n",
              "    border-color: transparent;\n",
              "    border-bottom-color: var(--fill-color);\n",
              "    animation:\n",
              "      spin 1s steps(1) infinite;\n",
              "  }\n",
              "\n",
              "  @keyframes spin {\n",
              "    0% {\n",
              "      border-color: transparent;\n",
              "      border-bottom-color: var(--fill-color);\n",
              "      border-left-color: var(--fill-color);\n",
              "    }\n",
              "    20% {\n",
              "      border-color: transparent;\n",
              "      border-left-color: var(--fill-color);\n",
              "      border-top-color: var(--fill-color);\n",
              "    }\n",
              "    30% {\n",
              "      border-color: transparent;\n",
              "      border-left-color: var(--fill-color);\n",
              "      border-top-color: var(--fill-color);\n",
              "      border-right-color: var(--fill-color);\n",
              "    }\n",
              "    40% {\n",
              "      border-color: transparent;\n",
              "      border-right-color: var(--fill-color);\n",
              "      border-top-color: var(--fill-color);\n",
              "    }\n",
              "    60% {\n",
              "      border-color: transparent;\n",
              "      border-right-color: var(--fill-color);\n",
              "    }\n",
              "    80% {\n",
              "      border-color: transparent;\n",
              "      border-right-color: var(--fill-color);\n",
              "      border-bottom-color: var(--fill-color);\n",
              "    }\n",
              "    90% {\n",
              "      border-color: transparent;\n",
              "      border-bottom-color: var(--fill-color);\n",
              "    }\n",
              "  }\n",
              "</style>\n",
              "\n",
              "  <script>\n",
              "    async function quickchart(key) {\n",
              "      const quickchartButtonEl =\n",
              "        document.querySelector('#' + key + ' button');\n",
              "      quickchartButtonEl.disabled = true;  // To prevent multiple clicks.\n",
              "      quickchartButtonEl.classList.add('colab-df-spinner');\n",
              "      try {\n",
              "        const charts = await google.colab.kernel.invokeFunction(\n",
              "            'suggestCharts', [key], {});\n",
              "      } catch (error) {\n",
              "        console.error('Error during call to suggestCharts:', error);\n",
              "      }\n",
              "      quickchartButtonEl.classList.remove('colab-df-spinner');\n",
              "      quickchartButtonEl.classList.add('colab-df-quickchart-complete');\n",
              "    }\n",
              "    (() => {\n",
              "      let quickchartButtonEl =\n",
              "        document.querySelector('#df-b4bbeb8a-3239-4f6c-b27f-88d27240426c button');\n",
              "      quickchartButtonEl.style.display =\n",
              "        google.colab.kernel.accessAllowed ? 'block' : 'none';\n",
              "    })();\n",
              "  </script>\n",
              "</div>\n",
              "\n",
              "    </div>\n",
              "  </div>\n"
            ]
          },
          "metadata": {},
          "execution_count": 6
        }
      ]
    },
    {
      "cell_type": "code",
      "source": [
        "data.info()"
      ],
      "metadata": {
        "colab": {
          "base_uri": "https://localhost:8080/"
        },
        "id": "uFzqaAzOS7jt",
        "outputId": "b80849f9-6e28-4511-f028-81d09e85a57e"
      },
      "execution_count": null,
      "outputs": [
        {
          "output_type": "stream",
          "name": "stdout",
          "text": [
            "<class 'pandas.core.frame.DataFrame'>\n",
            "RangeIndex: 5572 entries, 0 to 5571\n",
            "Data columns (total 2 columns):\n",
            " #   Column    Non-Null Count  Dtype \n",
            "---  ------    --------------  ----- \n",
            " 0   Category  5572 non-null   object\n",
            " 1   Message   5572 non-null   object\n",
            "dtypes: object(2)\n",
            "memory usage: 87.2+ KB\n"
          ]
        }
      ]
    },
    {
      "cell_type": "code",
      "source": [
        "print(data.isnull().sum())"
      ],
      "metadata": {
        "colab": {
          "base_uri": "https://localhost:8080/"
        },
        "id": "p9DmjummS9O-",
        "outputId": "895151c4-33b5-4a7c-cc47-83dc0583a1d4"
      },
      "execution_count": null,
      "outputs": [
        {
          "output_type": "stream",
          "name": "stdout",
          "text": [
            "Category    0\n",
            "Message     0\n",
            "dtype: int64\n"
          ]
        }
      ]
    },
    {
      "cell_type": "code",
      "source": [
        "data.Category.unique()"
      ],
      "metadata": {
        "colab": {
          "base_uri": "https://localhost:8080/"
        },
        "id": "kUXkuv_ZS_XZ",
        "outputId": "85bcd8a2-e7b0-41b3-8756-3d04cedd5f2a"
      },
      "execution_count": null,
      "outputs": [
        {
          "output_type": "execute_result",
          "data": {
            "text/plain": [
              "array(['ham', 'spam'], dtype=object)"
            ]
          },
          "metadata": {},
          "execution_count": 9
        }
      ]
    },
    {
      "cell_type": "code",
      "source": [
        "data[\"Category\"] = data[\"Category\"].map({\"ham\":1, \"spam\":0})"
      ],
      "metadata": {
        "id": "6MLreUfzTE0X"
      },
      "execution_count": null,
      "outputs": []
    },
    {
      "cell_type": "code",
      "source": [
        "data.info()"
      ],
      "metadata": {
        "colab": {
          "base_uri": "https://localhost:8080/"
        },
        "id": "sGzHo8UHTGqG",
        "outputId": "d929783b-d9fb-4296-fec8-f6982c63f388"
      },
      "execution_count": null,
      "outputs": [
        {
          "output_type": "stream",
          "name": "stdout",
          "text": [
            "<class 'pandas.core.frame.DataFrame'>\n",
            "RangeIndex: 5572 entries, 0 to 5571\n",
            "Data columns (total 2 columns):\n",
            " #   Column    Non-Null Count  Dtype \n",
            "---  ------    --------------  ----- \n",
            " 0   Category  5572 non-null   int64 \n",
            " 1   Message   5572 non-null   object\n",
            "dtypes: int64(1), object(1)\n",
            "memory usage: 87.2+ KB\n"
          ]
        }
      ]
    },
    {
      "cell_type": "code",
      "source": [
        "data.head()"
      ],
      "metadata": {
        "colab": {
          "base_uri": "https://localhost:8080/",
          "height": 206
        },
        "id": "i6ansB0ATIob",
        "outputId": "0f317fca-82bc-4d2d-90bb-4ff8e3c92832"
      },
      "execution_count": null,
      "outputs": [
        {
          "output_type": "execute_result",
          "data": {
            "text/plain": [
              "   Category                                            Message\n",
              "0         1  Go until jurong point, crazy.. Available only ...\n",
              "1         1                      Ok lar... Joking wif u oni...\n",
              "2         0  Free entry in 2 a wkly comp to win FA Cup fina...\n",
              "3         1  U dun say so early hor... U c already then say...\n",
              "4         1  Nah I don't think he goes to usf, he lives aro..."
            ],
            "text/html": [
              "\n",
              "  <div id=\"df-057becac-92ce-4028-87cc-3eda435c2551\" class=\"colab-df-container\">\n",
              "    <div>\n",
              "<style scoped>\n",
              "    .dataframe tbody tr th:only-of-type {\n",
              "        vertical-align: middle;\n",
              "    }\n",
              "\n",
              "    .dataframe tbody tr th {\n",
              "        vertical-align: top;\n",
              "    }\n",
              "\n",
              "    .dataframe thead th {\n",
              "        text-align: right;\n",
              "    }\n",
              "</style>\n",
              "<table border=\"1\" class=\"dataframe\">\n",
              "  <thead>\n",
              "    <tr style=\"text-align: right;\">\n",
              "      <th></th>\n",
              "      <th>Category</th>\n",
              "      <th>Message</th>\n",
              "    </tr>\n",
              "  </thead>\n",
              "  <tbody>\n",
              "    <tr>\n",
              "      <th>0</th>\n",
              "      <td>1</td>\n",
              "      <td>Go until jurong point, crazy.. Available only ...</td>\n",
              "    </tr>\n",
              "    <tr>\n",
              "      <th>1</th>\n",
              "      <td>1</td>\n",
              "      <td>Ok lar... Joking wif u oni...</td>\n",
              "    </tr>\n",
              "    <tr>\n",
              "      <th>2</th>\n",
              "      <td>0</td>\n",
              "      <td>Free entry in 2 a wkly comp to win FA Cup fina...</td>\n",
              "    </tr>\n",
              "    <tr>\n",
              "      <th>3</th>\n",
              "      <td>1</td>\n",
              "      <td>U dun say so early hor... U c already then say...</td>\n",
              "    </tr>\n",
              "    <tr>\n",
              "      <th>4</th>\n",
              "      <td>1</td>\n",
              "      <td>Nah I don't think he goes to usf, he lives aro...</td>\n",
              "    </tr>\n",
              "  </tbody>\n",
              "</table>\n",
              "</div>\n",
              "    <div class=\"colab-df-buttons\">\n",
              "\n",
              "  <div class=\"colab-df-container\">\n",
              "    <button class=\"colab-df-convert\" onclick=\"convertToInteractive('df-057becac-92ce-4028-87cc-3eda435c2551')\"\n",
              "            title=\"Convert this dataframe to an interactive table.\"\n",
              "            style=\"display:none;\">\n",
              "\n",
              "  <svg xmlns=\"http://www.w3.org/2000/svg\" height=\"24px\" viewBox=\"0 -960 960 960\">\n",
              "    <path d=\"M120-120v-720h720v720H120Zm60-500h600v-160H180v160Zm220 220h160v-160H400v160Zm0 220h160v-160H400v160ZM180-400h160v-160H180v160Zm440 0h160v-160H620v160ZM180-180h160v-160H180v160Zm440 0h160v-160H620v160Z\"/>\n",
              "  </svg>\n",
              "    </button>\n",
              "\n",
              "  <style>\n",
              "    .colab-df-container {\n",
              "      display:flex;\n",
              "      gap: 12px;\n",
              "    }\n",
              "\n",
              "    .colab-df-convert {\n",
              "      background-color: #E8F0FE;\n",
              "      border: none;\n",
              "      border-radius: 50%;\n",
              "      cursor: pointer;\n",
              "      display: none;\n",
              "      fill: #1967D2;\n",
              "      height: 32px;\n",
              "      padding: 0 0 0 0;\n",
              "      width: 32px;\n",
              "    }\n",
              "\n",
              "    .colab-df-convert:hover {\n",
              "      background-color: #E2EBFA;\n",
              "      box-shadow: 0px 1px 2px rgba(60, 64, 67, 0.3), 0px 1px 3px 1px rgba(60, 64, 67, 0.15);\n",
              "      fill: #174EA6;\n",
              "    }\n",
              "\n",
              "    .colab-df-buttons div {\n",
              "      margin-bottom: 4px;\n",
              "    }\n",
              "\n",
              "    [theme=dark] .colab-df-convert {\n",
              "      background-color: #3B4455;\n",
              "      fill: #D2E3FC;\n",
              "    }\n",
              "\n",
              "    [theme=dark] .colab-df-convert:hover {\n",
              "      background-color: #434B5C;\n",
              "      box-shadow: 0px 1px 3px 1px rgba(0, 0, 0, 0.15);\n",
              "      filter: drop-shadow(0px 1px 2px rgba(0, 0, 0, 0.3));\n",
              "      fill: #FFFFFF;\n",
              "    }\n",
              "  </style>\n",
              "\n",
              "    <script>\n",
              "      const buttonEl =\n",
              "        document.querySelector('#df-057becac-92ce-4028-87cc-3eda435c2551 button.colab-df-convert');\n",
              "      buttonEl.style.display =\n",
              "        google.colab.kernel.accessAllowed ? 'block' : 'none';\n",
              "\n",
              "      async function convertToInteractive(key) {\n",
              "        const element = document.querySelector('#df-057becac-92ce-4028-87cc-3eda435c2551');\n",
              "        const dataTable =\n",
              "          await google.colab.kernel.invokeFunction('convertToInteractive',\n",
              "                                                    [key], {});\n",
              "        if (!dataTable) return;\n",
              "\n",
              "        const docLinkHtml = 'Like what you see? Visit the ' +\n",
              "          '<a target=\"_blank\" href=https://colab.research.google.com/notebooks/data_table.ipynb>data table notebook</a>'\n",
              "          + ' to learn more about interactive tables.';\n",
              "        element.innerHTML = '';\n",
              "        dataTable['output_type'] = 'display_data';\n",
              "        await google.colab.output.renderOutput(dataTable, element);\n",
              "        const docLink = document.createElement('div');\n",
              "        docLink.innerHTML = docLinkHtml;\n",
              "        element.appendChild(docLink);\n",
              "      }\n",
              "    </script>\n",
              "  </div>\n",
              "\n",
              "\n",
              "<div id=\"df-7c085f04-27f8-4b17-923b-f160b676b5c7\">\n",
              "  <button class=\"colab-df-quickchart\" onclick=\"quickchart('df-7c085f04-27f8-4b17-923b-f160b676b5c7')\"\n",
              "            title=\"Suggest charts\"\n",
              "            style=\"display:none;\">\n",
              "\n",
              "<svg xmlns=\"http://www.w3.org/2000/svg\" height=\"24px\"viewBox=\"0 0 24 24\"\n",
              "     width=\"24px\">\n",
              "    <g>\n",
              "        <path d=\"M19 3H5c-1.1 0-2 .9-2 2v14c0 1.1.9 2 2 2h14c1.1 0 2-.9 2-2V5c0-1.1-.9-2-2-2zM9 17H7v-7h2v7zm4 0h-2V7h2v10zm4 0h-2v-4h2v4z\"/>\n",
              "    </g>\n",
              "</svg>\n",
              "  </button>\n",
              "\n",
              "<style>\n",
              "  .colab-df-quickchart {\n",
              "      --bg-color: #E8F0FE;\n",
              "      --fill-color: #1967D2;\n",
              "      --hover-bg-color: #E2EBFA;\n",
              "      --hover-fill-color: #174EA6;\n",
              "      --disabled-fill-color: #AAA;\n",
              "      --disabled-bg-color: #DDD;\n",
              "  }\n",
              "\n",
              "  [theme=dark] .colab-df-quickchart {\n",
              "      --bg-color: #3B4455;\n",
              "      --fill-color: #D2E3FC;\n",
              "      --hover-bg-color: #434B5C;\n",
              "      --hover-fill-color: #FFFFFF;\n",
              "      --disabled-bg-color: #3B4455;\n",
              "      --disabled-fill-color: #666;\n",
              "  }\n",
              "\n",
              "  .colab-df-quickchart {\n",
              "    background-color: var(--bg-color);\n",
              "    border: none;\n",
              "    border-radius: 50%;\n",
              "    cursor: pointer;\n",
              "    display: none;\n",
              "    fill: var(--fill-color);\n",
              "    height: 32px;\n",
              "    padding: 0;\n",
              "    width: 32px;\n",
              "  }\n",
              "\n",
              "  .colab-df-quickchart:hover {\n",
              "    background-color: var(--hover-bg-color);\n",
              "    box-shadow: 0 1px 2px rgba(60, 64, 67, 0.3), 0 1px 3px 1px rgba(60, 64, 67, 0.15);\n",
              "    fill: var(--button-hover-fill-color);\n",
              "  }\n",
              "\n",
              "  .colab-df-quickchart-complete:disabled,\n",
              "  .colab-df-quickchart-complete:disabled:hover {\n",
              "    background-color: var(--disabled-bg-color);\n",
              "    fill: var(--disabled-fill-color);\n",
              "    box-shadow: none;\n",
              "  }\n",
              "\n",
              "  .colab-df-spinner {\n",
              "    border: 2px solid var(--fill-color);\n",
              "    border-color: transparent;\n",
              "    border-bottom-color: var(--fill-color);\n",
              "    animation:\n",
              "      spin 1s steps(1) infinite;\n",
              "  }\n",
              "\n",
              "  @keyframes spin {\n",
              "    0% {\n",
              "      border-color: transparent;\n",
              "      border-bottom-color: var(--fill-color);\n",
              "      border-left-color: var(--fill-color);\n",
              "    }\n",
              "    20% {\n",
              "      border-color: transparent;\n",
              "      border-left-color: var(--fill-color);\n",
              "      border-top-color: var(--fill-color);\n",
              "    }\n",
              "    30% {\n",
              "      border-color: transparent;\n",
              "      border-left-color: var(--fill-color);\n",
              "      border-top-color: var(--fill-color);\n",
              "      border-right-color: var(--fill-color);\n",
              "    }\n",
              "    40% {\n",
              "      border-color: transparent;\n",
              "      border-right-color: var(--fill-color);\n",
              "      border-top-color: var(--fill-color);\n",
              "    }\n",
              "    60% {\n",
              "      border-color: transparent;\n",
              "      border-right-color: var(--fill-color);\n",
              "    }\n",
              "    80% {\n",
              "      border-color: transparent;\n",
              "      border-right-color: var(--fill-color);\n",
              "      border-bottom-color: var(--fill-color);\n",
              "    }\n",
              "    90% {\n",
              "      border-color: transparent;\n",
              "      border-bottom-color: var(--fill-color);\n",
              "    }\n",
              "  }\n",
              "</style>\n",
              "\n",
              "  <script>\n",
              "    async function quickchart(key) {\n",
              "      const quickchartButtonEl =\n",
              "        document.querySelector('#' + key + ' button');\n",
              "      quickchartButtonEl.disabled = true;  // To prevent multiple clicks.\n",
              "      quickchartButtonEl.classList.add('colab-df-spinner');\n",
              "      try {\n",
              "        const charts = await google.colab.kernel.invokeFunction(\n",
              "            'suggestCharts', [key], {});\n",
              "      } catch (error) {\n",
              "        console.error('Error during call to suggestCharts:', error);\n",
              "      }\n",
              "      quickchartButtonEl.classList.remove('colab-df-spinner');\n",
              "      quickchartButtonEl.classList.add('colab-df-quickchart-complete');\n",
              "    }\n",
              "    (() => {\n",
              "      let quickchartButtonEl =\n",
              "        document.querySelector('#df-7c085f04-27f8-4b17-923b-f160b676b5c7 button');\n",
              "      quickchartButtonEl.style.display =\n",
              "        google.colab.kernel.accessAllowed ? 'block' : 'none';\n",
              "    })();\n",
              "  </script>\n",
              "</div>\n",
              "\n",
              "    </div>\n",
              "  </div>\n"
            ]
          },
          "metadata": {},
          "execution_count": 12
        }
      ]
    },
    {
      "cell_type": "code",
      "source": [
        "data['length'] = data['Message'].apply(len)\n",
        "data.head()"
      ],
      "metadata": {
        "colab": {
          "base_uri": "https://localhost:8080/",
          "height": 206
        },
        "id": "tA1LSWqtTLB2",
        "outputId": "5f45258c-9ee4-4c01-b370-6579cc260088"
      },
      "execution_count": null,
      "outputs": [
        {
          "output_type": "execute_result",
          "data": {
            "text/plain": [
              "   Category                                            Message  length\n",
              "0         1  Go until jurong point, crazy.. Available only ...     111\n",
              "1         1                      Ok lar... Joking wif u oni...      29\n",
              "2         0  Free entry in 2 a wkly comp to win FA Cup fina...     155\n",
              "3         1  U dun say so early hor... U c already then say...      49\n",
              "4         1  Nah I don't think he goes to usf, he lives aro...      61"
            ],
            "text/html": [
              "\n",
              "  <div id=\"df-a5496794-f2c6-4ccb-a98c-d9d15470a384\" class=\"colab-df-container\">\n",
              "    <div>\n",
              "<style scoped>\n",
              "    .dataframe tbody tr th:only-of-type {\n",
              "        vertical-align: middle;\n",
              "    }\n",
              "\n",
              "    .dataframe tbody tr th {\n",
              "        vertical-align: top;\n",
              "    }\n",
              "\n",
              "    .dataframe thead th {\n",
              "        text-align: right;\n",
              "    }\n",
              "</style>\n",
              "<table border=\"1\" class=\"dataframe\">\n",
              "  <thead>\n",
              "    <tr style=\"text-align: right;\">\n",
              "      <th></th>\n",
              "      <th>Category</th>\n",
              "      <th>Message</th>\n",
              "      <th>length</th>\n",
              "    </tr>\n",
              "  </thead>\n",
              "  <tbody>\n",
              "    <tr>\n",
              "      <th>0</th>\n",
              "      <td>1</td>\n",
              "      <td>Go until jurong point, crazy.. Available only ...</td>\n",
              "      <td>111</td>\n",
              "    </tr>\n",
              "    <tr>\n",
              "      <th>1</th>\n",
              "      <td>1</td>\n",
              "      <td>Ok lar... Joking wif u oni...</td>\n",
              "      <td>29</td>\n",
              "    </tr>\n",
              "    <tr>\n",
              "      <th>2</th>\n",
              "      <td>0</td>\n",
              "      <td>Free entry in 2 a wkly comp to win FA Cup fina...</td>\n",
              "      <td>155</td>\n",
              "    </tr>\n",
              "    <tr>\n",
              "      <th>3</th>\n",
              "      <td>1</td>\n",
              "      <td>U dun say so early hor... U c already then say...</td>\n",
              "      <td>49</td>\n",
              "    </tr>\n",
              "    <tr>\n",
              "      <th>4</th>\n",
              "      <td>1</td>\n",
              "      <td>Nah I don't think he goes to usf, he lives aro...</td>\n",
              "      <td>61</td>\n",
              "    </tr>\n",
              "  </tbody>\n",
              "</table>\n",
              "</div>\n",
              "    <div class=\"colab-df-buttons\">\n",
              "\n",
              "  <div class=\"colab-df-container\">\n",
              "    <button class=\"colab-df-convert\" onclick=\"convertToInteractive('df-a5496794-f2c6-4ccb-a98c-d9d15470a384')\"\n",
              "            title=\"Convert this dataframe to an interactive table.\"\n",
              "            style=\"display:none;\">\n",
              "\n",
              "  <svg xmlns=\"http://www.w3.org/2000/svg\" height=\"24px\" viewBox=\"0 -960 960 960\">\n",
              "    <path d=\"M120-120v-720h720v720H120Zm60-500h600v-160H180v160Zm220 220h160v-160H400v160Zm0 220h160v-160H400v160ZM180-400h160v-160H180v160Zm440 0h160v-160H620v160ZM180-180h160v-160H180v160Zm440 0h160v-160H620v160Z\"/>\n",
              "  </svg>\n",
              "    </button>\n",
              "\n",
              "  <style>\n",
              "    .colab-df-container {\n",
              "      display:flex;\n",
              "      gap: 12px;\n",
              "    }\n",
              "\n",
              "    .colab-df-convert {\n",
              "      background-color: #E8F0FE;\n",
              "      border: none;\n",
              "      border-radius: 50%;\n",
              "      cursor: pointer;\n",
              "      display: none;\n",
              "      fill: #1967D2;\n",
              "      height: 32px;\n",
              "      padding: 0 0 0 0;\n",
              "      width: 32px;\n",
              "    }\n",
              "\n",
              "    .colab-df-convert:hover {\n",
              "      background-color: #E2EBFA;\n",
              "      box-shadow: 0px 1px 2px rgba(60, 64, 67, 0.3), 0px 1px 3px 1px rgba(60, 64, 67, 0.15);\n",
              "      fill: #174EA6;\n",
              "    }\n",
              "\n",
              "    .colab-df-buttons div {\n",
              "      margin-bottom: 4px;\n",
              "    }\n",
              "\n",
              "    [theme=dark] .colab-df-convert {\n",
              "      background-color: #3B4455;\n",
              "      fill: #D2E3FC;\n",
              "    }\n",
              "\n",
              "    [theme=dark] .colab-df-convert:hover {\n",
              "      background-color: #434B5C;\n",
              "      box-shadow: 0px 1px 3px 1px rgba(0, 0, 0, 0.15);\n",
              "      filter: drop-shadow(0px 1px 2px rgba(0, 0, 0, 0.3));\n",
              "      fill: #FFFFFF;\n",
              "    }\n",
              "  </style>\n",
              "\n",
              "    <script>\n",
              "      const buttonEl =\n",
              "        document.querySelector('#df-a5496794-f2c6-4ccb-a98c-d9d15470a384 button.colab-df-convert');\n",
              "      buttonEl.style.display =\n",
              "        google.colab.kernel.accessAllowed ? 'block' : 'none';\n",
              "\n",
              "      async function convertToInteractive(key) {\n",
              "        const element = document.querySelector('#df-a5496794-f2c6-4ccb-a98c-d9d15470a384');\n",
              "        const dataTable =\n",
              "          await google.colab.kernel.invokeFunction('convertToInteractive',\n",
              "                                                    [key], {});\n",
              "        if (!dataTable) return;\n",
              "\n",
              "        const docLinkHtml = 'Like what you see? Visit the ' +\n",
              "          '<a target=\"_blank\" href=https://colab.research.google.com/notebooks/data_table.ipynb>data table notebook</a>'\n",
              "          + ' to learn more about interactive tables.';\n",
              "        element.innerHTML = '';\n",
              "        dataTable['output_type'] = 'display_data';\n",
              "        await google.colab.output.renderOutput(dataTable, element);\n",
              "        const docLink = document.createElement('div');\n",
              "        docLink.innerHTML = docLinkHtml;\n",
              "        element.appendChild(docLink);\n",
              "      }\n",
              "    </script>\n",
              "  </div>\n",
              "\n",
              "\n",
              "<div id=\"df-fb804533-4202-4d90-af14-0c1573253e5f\">\n",
              "  <button class=\"colab-df-quickchart\" onclick=\"quickchart('df-fb804533-4202-4d90-af14-0c1573253e5f')\"\n",
              "            title=\"Suggest charts\"\n",
              "            style=\"display:none;\">\n",
              "\n",
              "<svg xmlns=\"http://www.w3.org/2000/svg\" height=\"24px\"viewBox=\"0 0 24 24\"\n",
              "     width=\"24px\">\n",
              "    <g>\n",
              "        <path d=\"M19 3H5c-1.1 0-2 .9-2 2v14c0 1.1.9 2 2 2h14c1.1 0 2-.9 2-2V5c0-1.1-.9-2-2-2zM9 17H7v-7h2v7zm4 0h-2V7h2v10zm4 0h-2v-4h2v4z\"/>\n",
              "    </g>\n",
              "</svg>\n",
              "  </button>\n",
              "\n",
              "<style>\n",
              "  .colab-df-quickchart {\n",
              "      --bg-color: #E8F0FE;\n",
              "      --fill-color: #1967D2;\n",
              "      --hover-bg-color: #E2EBFA;\n",
              "      --hover-fill-color: #174EA6;\n",
              "      --disabled-fill-color: #AAA;\n",
              "      --disabled-bg-color: #DDD;\n",
              "  }\n",
              "\n",
              "  [theme=dark] .colab-df-quickchart {\n",
              "      --bg-color: #3B4455;\n",
              "      --fill-color: #D2E3FC;\n",
              "      --hover-bg-color: #434B5C;\n",
              "      --hover-fill-color: #FFFFFF;\n",
              "      --disabled-bg-color: #3B4455;\n",
              "      --disabled-fill-color: #666;\n",
              "  }\n",
              "\n",
              "  .colab-df-quickchart {\n",
              "    background-color: var(--bg-color);\n",
              "    border: none;\n",
              "    border-radius: 50%;\n",
              "    cursor: pointer;\n",
              "    display: none;\n",
              "    fill: var(--fill-color);\n",
              "    height: 32px;\n",
              "    padding: 0;\n",
              "    width: 32px;\n",
              "  }\n",
              "\n",
              "  .colab-df-quickchart:hover {\n",
              "    background-color: var(--hover-bg-color);\n",
              "    box-shadow: 0 1px 2px rgba(60, 64, 67, 0.3), 0 1px 3px 1px rgba(60, 64, 67, 0.15);\n",
              "    fill: var(--button-hover-fill-color);\n",
              "  }\n",
              "\n",
              "  .colab-df-quickchart-complete:disabled,\n",
              "  .colab-df-quickchart-complete:disabled:hover {\n",
              "    background-color: var(--disabled-bg-color);\n",
              "    fill: var(--disabled-fill-color);\n",
              "    box-shadow: none;\n",
              "  }\n",
              "\n",
              "  .colab-df-spinner {\n",
              "    border: 2px solid var(--fill-color);\n",
              "    border-color: transparent;\n",
              "    border-bottom-color: var(--fill-color);\n",
              "    animation:\n",
              "      spin 1s steps(1) infinite;\n",
              "  }\n",
              "\n",
              "  @keyframes spin {\n",
              "    0% {\n",
              "      border-color: transparent;\n",
              "      border-bottom-color: var(--fill-color);\n",
              "      border-left-color: var(--fill-color);\n",
              "    }\n",
              "    20% {\n",
              "      border-color: transparent;\n",
              "      border-left-color: var(--fill-color);\n",
              "      border-top-color: var(--fill-color);\n",
              "    }\n",
              "    30% {\n",
              "      border-color: transparent;\n",
              "      border-left-color: var(--fill-color);\n",
              "      border-top-color: var(--fill-color);\n",
              "      border-right-color: var(--fill-color);\n",
              "    }\n",
              "    40% {\n",
              "      border-color: transparent;\n",
              "      border-right-color: var(--fill-color);\n",
              "      border-top-color: var(--fill-color);\n",
              "    }\n",
              "    60% {\n",
              "      border-color: transparent;\n",
              "      border-right-color: var(--fill-color);\n",
              "    }\n",
              "    80% {\n",
              "      border-color: transparent;\n",
              "      border-right-color: var(--fill-color);\n",
              "      border-bottom-color: var(--fill-color);\n",
              "    }\n",
              "    90% {\n",
              "      border-color: transparent;\n",
              "      border-bottom-color: var(--fill-color);\n",
              "    }\n",
              "  }\n",
              "</style>\n",
              "\n",
              "  <script>\n",
              "    async function quickchart(key) {\n",
              "      const quickchartButtonEl =\n",
              "        document.querySelector('#' + key + ' button');\n",
              "      quickchartButtonEl.disabled = true;  // To prevent multiple clicks.\n",
              "      quickchartButtonEl.classList.add('colab-df-spinner');\n",
              "      try {\n",
              "        const charts = await google.colab.kernel.invokeFunction(\n",
              "            'suggestCharts', [key], {});\n",
              "      } catch (error) {\n",
              "        console.error('Error during call to suggestCharts:', error);\n",
              "      }\n",
              "      quickchartButtonEl.classList.remove('colab-df-spinner');\n",
              "      quickchartButtonEl.classList.add('colab-df-quickchart-complete');\n",
              "    }\n",
              "    (() => {\n",
              "      let quickchartButtonEl =\n",
              "        document.querySelector('#df-fb804533-4202-4d90-af14-0c1573253e5f button');\n",
              "      quickchartButtonEl.style.display =\n",
              "        google.colab.kernel.accessAllowed ? 'block' : 'none';\n",
              "    })();\n",
              "  </script>\n",
              "</div>\n",
              "\n",
              "    </div>\n",
              "  </div>\n"
            ]
          },
          "metadata": {},
          "execution_count": 13
        }
      ]
    },
    {
      "cell_type": "code",
      "source": [
        "emails= data[\"Message\"]\n",
        "labels = data[\"Category\"]"
      ],
      "metadata": {
        "id": "P-9AlJdRYPOR"
      },
      "execution_count": null,
      "outputs": []
    },
    {
      "cell_type": "code",
      "source": [
        "import re\n",
        "import nltk\n",
        "nltk.download('punkt')"
      ],
      "metadata": {
        "colab": {
          "base_uri": "https://localhost:8080/"
        },
        "id": "03nL5jmfYVlC",
        "outputId": "a920d43f-a3d8-4c63-fd44-296085cfca11"
      },
      "execution_count": null,
      "outputs": [
        {
          "output_type": "stream",
          "name": "stderr",
          "text": [
            "[nltk_data] Downloading package punkt to /root/nltk_data...\n",
            "[nltk_data]   Unzipping tokenizers/punkt.zip.\n"
          ]
        },
        {
          "output_type": "execute_result",
          "data": {
            "text/plain": [
              "True"
            ]
          },
          "metadata": {},
          "execution_count": 15
        }
      ]
    },
    {
      "cell_type": "code",
      "source": [
        "def preprocess_text(text):\n",
        "    text = text.lower()\n",
        "    text = re.sub(r\"[^a-z0-9 ]\", \"\", text)\n",
        "    text = nltk.word_tokenize(text)\n",
        "    return text"
      ],
      "metadata": {
        "id": "Tv9E1w2bYdaP"
      },
      "execution_count": null,
      "outputs": []
    },
    {
      "cell_type": "code",
      "source": [
        "emails = emails.apply(preprocess_text)"
      ],
      "metadata": {
        "id": "9DbCHhcfYe1l"
      },
      "execution_count": null,
      "outputs": []
    },
    {
      "cell_type": "code",
      "source": [
        "from sklearn.feature_extraction.text import CountVectorizer\n",
        "vectorizer = CountVectorizer(stop_words ='english')\n",
        "emails = list(map(str, emails))\n",
        "features = vectorizer.fit_transform(emails)"
      ],
      "metadata": {
        "id": "Npu_K4NIYnD0"
      },
      "execution_count": null,
      "outputs": []
    },
    {
      "cell_type": "code",
      "source": [
        "features"
      ],
      "metadata": {
        "colab": {
          "base_uri": "https://localhost:8080/"
        },
        "id": "uL8rmVboZEk1",
        "outputId": "ea23d874-8ba8-4d59-9340-f2c55e41f33b"
      },
      "execution_count": null,
      "outputs": [
        {
          "output_type": "execute_result",
          "data": {
            "text/plain": [
              "<5572x9269 sparse matrix of type '<class 'numpy.int64'>'\n",
              "\twith 43134 stored elements in Compressed Sparse Row format>"
            ]
          },
          "metadata": {},
          "execution_count": 19
        }
      ]
    },
    {
      "cell_type": "code",
      "source": [
        "data.info()"
      ],
      "metadata": {
        "colab": {
          "base_uri": "https://localhost:8080/"
        },
        "id": "Mo5nJZe-TTqq",
        "outputId": "40e752d0-5583-4070-d461-2e40555e7b46"
      },
      "execution_count": null,
      "outputs": [
        {
          "output_type": "stream",
          "name": "stdout",
          "text": [
            "<class 'pandas.core.frame.DataFrame'>\n",
            "RangeIndex: 5572 entries, 0 to 5571\n",
            "Data columns (total 3 columns):\n",
            " #   Column    Non-Null Count  Dtype \n",
            "---  ------    --------------  ----- \n",
            " 0   Category  5572 non-null   int64 \n",
            " 1   Message   5572 non-null   object\n",
            " 2   length    5572 non-null   int64 \n",
            "dtypes: int64(2), object(1)\n",
            "memory usage: 130.7+ KB\n"
          ]
        }
      ]
    },
    {
      "cell_type": "code",
      "source": [
        "from sklearn.model_selection import train_test_split\n",
        "x_train,x_test,y_train,y_test=train_test_split(features,data.Category,test_size=0.25)"
      ],
      "metadata": {
        "id": "z9pa9nIZTX_O"
      },
      "execution_count": null,
      "outputs": []
    },
    {
      "cell_type": "markdown",
      "source": [
        "# Logistic Regression"
      ],
      "metadata": {
        "id": "r1Z7nlYrVYxr"
      }
    },
    {
      "cell_type": "code",
      "source": [
        "from sklearn.linear_model import LogisticRegression"
      ],
      "metadata": {
        "id": "Mq1XRvTGTl4R"
      },
      "execution_count": null,
      "outputs": []
    },
    {
      "cell_type": "code",
      "source": [
        "lr = LogisticRegression().fit(x_train,y_train)"
      ],
      "metadata": {
        "id": "RKQdj7xFULcR"
      },
      "execution_count": null,
      "outputs": []
    },
    {
      "cell_type": "code",
      "source": [
        "lr.coef_"
      ],
      "metadata": {
        "colab": {
          "base_uri": "https://localhost:8080/"
        },
        "id": "A3BOaQ0zUNe7",
        "outputId": "ae6cd3bf-1c26-4af4-99a4-6432f040a644"
      },
      "execution_count": null,
      "outputs": [
        {
          "output_type": "execute_result",
          "data": {
            "text/plain": [
              "array([[-0.0125266 , -0.02258331, -0.5013161 , ...,  0.        ,\n",
              "        -0.32758588,  0.01201794]])"
            ]
          },
          "metadata": {},
          "execution_count": 25
        }
      ]
    },
    {
      "cell_type": "code",
      "source": [
        "lr.intercept_"
      ],
      "metadata": {
        "colab": {
          "base_uri": "https://localhost:8080/"
        },
        "id": "04pemwf-Uavt",
        "outputId": "7f234aed-572d-4757-8132-25c750ffeb03"
      },
      "execution_count": null,
      "outputs": [
        {
          "output_type": "execute_result",
          "data": {
            "text/plain": [
              "array([3.80022913])"
            ]
          },
          "metadata": {},
          "execution_count": 26
        }
      ]
    },
    {
      "cell_type": "code",
      "source": [
        "ypred = lr.predict(x_test)"
      ],
      "metadata": {
        "id": "AeZ0kToYUd9_"
      },
      "execution_count": null,
      "outputs": []
    },
    {
      "cell_type": "code",
      "source": [
        "from sklearn.metrics import accuracy_score, confusion_matrix, classification_report"
      ],
      "metadata": {
        "id": "wpfdFWCgU_QE"
      },
      "execution_count": null,
      "outputs": []
    },
    {
      "cell_type": "code",
      "source": [
        "accuracy_score(y_test,ypred)"
      ],
      "metadata": {
        "colab": {
          "base_uri": "https://localhost:8080/"
        },
        "id": "fR1tLqPze5IS",
        "outputId": "88b21e7d-e843-4d51-d377-1bcfc6cd4c91"
      },
      "execution_count": null,
      "outputs": [
        {
          "output_type": "execute_result",
          "data": {
            "text/plain": [
              "0.9798994974874372"
            ]
          },
          "metadata": {},
          "execution_count": 29
        }
      ]
    },
    {
      "cell_type": "code",
      "source": [
        "print(confusion_matrix(y_test, ypred))"
      ],
      "metadata": {
        "colab": {
          "base_uri": "https://localhost:8080/"
        },
        "id": "zIAccPOfVGP6",
        "outputId": "3f587e0d-1083-4707-bcc5-f7f431bfd860"
      },
      "execution_count": null,
      "outputs": [
        {
          "output_type": "stream",
          "name": "stdout",
          "text": [
            "[[ 153   28]\n",
            " [   0 1212]]\n"
          ]
        }
      ]
    },
    {
      "cell_type": "code",
      "source": [
        "print(classification_report(y_test, ypred))"
      ],
      "metadata": {
        "colab": {
          "base_uri": "https://localhost:8080/"
        },
        "id": "tvCJ8YVIVKcc",
        "outputId": "fd9787cf-a2a6-442f-bef8-0b71df107e70"
      },
      "execution_count": null,
      "outputs": [
        {
          "output_type": "stream",
          "name": "stdout",
          "text": [
            "              precision    recall  f1-score   support\n",
            "\n",
            "           0       1.00      0.85      0.92       181\n",
            "           1       0.98      1.00      0.99      1212\n",
            "\n",
            "    accuracy                           0.98      1393\n",
            "   macro avg       0.99      0.92      0.95      1393\n",
            "weighted avg       0.98      0.98      0.98      1393\n",
            "\n"
          ]
        }
      ]
    },
    {
      "cell_type": "markdown",
      "source": [
        "# Support Vector Machine"
      ],
      "metadata": {
        "id": "WkK01GppVhUA"
      }
    },
    {
      "cell_type": "code",
      "source": [
        "from sklearn.svm import SVC"
      ],
      "metadata": {
        "id": "w9hlzQ_nVO0e"
      },
      "execution_count": null,
      "outputs": []
    },
    {
      "cell_type": "code",
      "source": [
        "svc = SVC().fit(x_train, y_train)"
      ],
      "metadata": {
        "id": "pVvqnJwfVmlp"
      },
      "execution_count": null,
      "outputs": []
    },
    {
      "cell_type": "code",
      "source": [
        "svc_pred = svc.predict(x_test)"
      ],
      "metadata": {
        "id": "U_iBiu9lVogB"
      },
      "execution_count": null,
      "outputs": []
    },
    {
      "cell_type": "code",
      "source": [
        "from sklearn.metrics import confusion_matrix, classification_report"
      ],
      "metadata": {
        "id": "gToZjpVRVtkL"
      },
      "execution_count": null,
      "outputs": []
    },
    {
      "cell_type": "code",
      "source": [
        "accuracy_score(y_test,svc_pred)"
      ],
      "metadata": {
        "colab": {
          "base_uri": "https://localhost:8080/"
        },
        "id": "KF3HdHfpfNAE",
        "outputId": "73a65b0d-d69e-4489-ca48-cd5dce67bcbe"
      },
      "execution_count": null,
      "outputs": [
        {
          "output_type": "execute_result",
          "data": {
            "text/plain": [
              "0.9734386216798278"
            ]
          },
          "metadata": {},
          "execution_count": 36
        }
      ]
    },
    {
      "cell_type": "code",
      "source": [
        "print(classification_report(y_test, svc_pred))"
      ],
      "metadata": {
        "colab": {
          "base_uri": "https://localhost:8080/"
        },
        "id": "A0G5qJRyVvpU",
        "outputId": "c94ac1f4-256e-4d3f-bd7b-f988f976c6aa"
      },
      "execution_count": null,
      "outputs": [
        {
          "output_type": "stream",
          "name": "stdout",
          "text": [
            "              precision    recall  f1-score   support\n",
            "\n",
            "           0       1.00      0.80      0.89       181\n",
            "           1       0.97      1.00      0.98      1212\n",
            "\n",
            "    accuracy                           0.97      1393\n",
            "   macro avg       0.99      0.90      0.94      1393\n",
            "weighted avg       0.97      0.97      0.97      1393\n",
            "\n"
          ]
        }
      ]
    },
    {
      "cell_type": "code",
      "source": [
        "print(confusion_matrix(y_test, svc_pred))"
      ],
      "metadata": {
        "colab": {
          "base_uri": "https://localhost:8080/"
        },
        "id": "d4l-b8HZVxkf",
        "outputId": "99d4a29d-c1fd-4d42-d71a-09ef785c0bf3"
      },
      "execution_count": null,
      "outputs": [
        {
          "output_type": "stream",
          "name": "stdout",
          "text": [
            "[[ 144   37]\n",
            " [   0 1212]]\n"
          ]
        }
      ]
    },
    {
      "cell_type": "markdown",
      "source": [
        "#Naive Bayes"
      ],
      "metadata": {
        "id": "ga2Q2AJWV_4j"
      }
    },
    {
      "cell_type": "code",
      "source": [
        "from sklearn.naive_bayes import GaussianNB"
      ],
      "metadata": {
        "id": "deCYXlROV9Px"
      },
      "execution_count": null,
      "outputs": []
    },
    {
      "cell_type": "code",
      "source": [
        "nb = GaussianNB().fit(x_train.toarray(), y_train)"
      ],
      "metadata": {
        "id": "eCyKNmTmWE7x"
      },
      "execution_count": null,
      "outputs": []
    },
    {
      "cell_type": "code",
      "source": [
        "nb_pred = nb.predict(x_test.toarray())"
      ],
      "metadata": {
        "id": "xu4UhDDLWG6r"
      },
      "execution_count": null,
      "outputs": []
    },
    {
      "cell_type": "code",
      "source": [
        "accuracy_score(y_test,nb_pred)"
      ],
      "metadata": {
        "colab": {
          "base_uri": "https://localhost:8080/"
        },
        "id": "-1N7Jg6efZAe",
        "outputId": "636a5f51-f259-4cb3-e63a-bead47886ee1"
      },
      "execution_count": null,
      "outputs": [
        {
          "output_type": "execute_result",
          "data": {
            "text/plain": [
              "0.8793969849246231"
            ]
          },
          "metadata": {},
          "execution_count": 42
        }
      ]
    },
    {
      "cell_type": "code",
      "source": [
        "print(classification_report(y_test, nb_pred))"
      ],
      "metadata": {
        "colab": {
          "base_uri": "https://localhost:8080/"
        },
        "id": "bin3w_FRWzsC",
        "outputId": "2b5741fd-0e1c-4f8e-c583-f7c37b252bc8"
      },
      "execution_count": null,
      "outputs": [
        {
          "output_type": "stream",
          "name": "stdout",
          "text": [
            "              precision    recall  f1-score   support\n",
            "\n",
            "           0       0.52      0.89      0.66       181\n",
            "           1       0.98      0.88      0.93      1212\n",
            "\n",
            "    accuracy                           0.88      1393\n",
            "   macro avg       0.75      0.88      0.79      1393\n",
            "weighted avg       0.92      0.88      0.89      1393\n",
            "\n"
          ]
        }
      ]
    },
    {
      "cell_type": "code",
      "source": [
        "print(confusion_matrix(y_test, nb_pred))"
      ],
      "metadata": {
        "colab": {
          "base_uri": "https://localhost:8080/"
        },
        "id": "QIYIV19fW28M",
        "outputId": "9af86d13-e349-4f71-e026-d37a16fdd210"
      },
      "execution_count": null,
      "outputs": [
        {
          "output_type": "stream",
          "name": "stdout",
          "text": [
            "[[ 161   20]\n",
            " [ 148 1064]]\n"
          ]
        }
      ]
    },
    {
      "cell_type": "markdown",
      "source": [
        "# Decision Tree"
      ],
      "metadata": {
        "id": "Q8s1moT2W_Nb"
      }
    },
    {
      "cell_type": "code",
      "source": [
        "from sklearn.tree import DecisionTreeClassifier"
      ],
      "metadata": {
        "id": "gVkxRBg-W7F0"
      },
      "execution_count": null,
      "outputs": []
    },
    {
      "cell_type": "code",
      "source": [
        "dtc = DecisionTreeClassifier(random_state=42)\n",
        "dtc.fit(x_train, y_train)"
      ],
      "metadata": {
        "colab": {
          "base_uri": "https://localhost:8080/",
          "height": 74
        },
        "id": "10p46lr7XG4E",
        "outputId": "503afeee-da4c-482f-d9aa-fe926149a090"
      },
      "execution_count": null,
      "outputs": [
        {
          "output_type": "execute_result",
          "data": {
            "text/plain": [
              "DecisionTreeClassifier(random_state=42)"
            ],
            "text/html": [
              "<style>#sk-container-id-1 {color: black;background-color: white;}#sk-container-id-1 pre{padding: 0;}#sk-container-id-1 div.sk-toggleable {background-color: white;}#sk-container-id-1 label.sk-toggleable__label {cursor: pointer;display: block;width: 100%;margin-bottom: 0;padding: 0.3em;box-sizing: border-box;text-align: center;}#sk-container-id-1 label.sk-toggleable__label-arrow:before {content: \"▸\";float: left;margin-right: 0.25em;color: #696969;}#sk-container-id-1 label.sk-toggleable__label-arrow:hover:before {color: black;}#sk-container-id-1 div.sk-estimator:hover label.sk-toggleable__label-arrow:before {color: black;}#sk-container-id-1 div.sk-toggleable__content {max-height: 0;max-width: 0;overflow: hidden;text-align: left;background-color: #f0f8ff;}#sk-container-id-1 div.sk-toggleable__content pre {margin: 0.2em;color: black;border-radius: 0.25em;background-color: #f0f8ff;}#sk-container-id-1 input.sk-toggleable__control:checked~div.sk-toggleable__content {max-height: 200px;max-width: 100%;overflow: auto;}#sk-container-id-1 input.sk-toggleable__control:checked~label.sk-toggleable__label-arrow:before {content: \"▾\";}#sk-container-id-1 div.sk-estimator input.sk-toggleable__control:checked~label.sk-toggleable__label {background-color: #d4ebff;}#sk-container-id-1 div.sk-label input.sk-toggleable__control:checked~label.sk-toggleable__label {background-color: #d4ebff;}#sk-container-id-1 input.sk-hidden--visually {border: 0;clip: rect(1px 1px 1px 1px);clip: rect(1px, 1px, 1px, 1px);height: 1px;margin: -1px;overflow: hidden;padding: 0;position: absolute;width: 1px;}#sk-container-id-1 div.sk-estimator {font-family: monospace;background-color: #f0f8ff;border: 1px dotted black;border-radius: 0.25em;box-sizing: border-box;margin-bottom: 0.5em;}#sk-container-id-1 div.sk-estimator:hover {background-color: #d4ebff;}#sk-container-id-1 div.sk-parallel-item::after {content: \"\";width: 100%;border-bottom: 1px solid gray;flex-grow: 1;}#sk-container-id-1 div.sk-label:hover label.sk-toggleable__label {background-color: #d4ebff;}#sk-container-id-1 div.sk-serial::before {content: \"\";position: absolute;border-left: 1px solid gray;box-sizing: border-box;top: 0;bottom: 0;left: 50%;z-index: 0;}#sk-container-id-1 div.sk-serial {display: flex;flex-direction: column;align-items: center;background-color: white;padding-right: 0.2em;padding-left: 0.2em;position: relative;}#sk-container-id-1 div.sk-item {position: relative;z-index: 1;}#sk-container-id-1 div.sk-parallel {display: flex;align-items: stretch;justify-content: center;background-color: white;position: relative;}#sk-container-id-1 div.sk-item::before, #sk-container-id-1 div.sk-parallel-item::before {content: \"\";position: absolute;border-left: 1px solid gray;box-sizing: border-box;top: 0;bottom: 0;left: 50%;z-index: -1;}#sk-container-id-1 div.sk-parallel-item {display: flex;flex-direction: column;z-index: 1;position: relative;background-color: white;}#sk-container-id-1 div.sk-parallel-item:first-child::after {align-self: flex-end;width: 50%;}#sk-container-id-1 div.sk-parallel-item:last-child::after {align-self: flex-start;width: 50%;}#sk-container-id-1 div.sk-parallel-item:only-child::after {width: 0;}#sk-container-id-1 div.sk-dashed-wrapped {border: 1px dashed gray;margin: 0 0.4em 0.5em 0.4em;box-sizing: border-box;padding-bottom: 0.4em;background-color: white;}#sk-container-id-1 div.sk-label label {font-family: monospace;font-weight: bold;display: inline-block;line-height: 1.2em;}#sk-container-id-1 div.sk-label-container {text-align: center;}#sk-container-id-1 div.sk-container {/* jupyter's `normalize.less` sets `[hidden] { display: none; }` but bootstrap.min.css set `[hidden] { display: none !important; }` so we also need the `!important` here to be able to override the default hidden behavior on the sphinx rendered scikit-learn.org. See: https://github.com/scikit-learn/scikit-learn/issues/21755 */display: inline-block !important;position: relative;}#sk-container-id-1 div.sk-text-repr-fallback {display: none;}</style><div id=\"sk-container-id-1\" class=\"sk-top-container\"><div class=\"sk-text-repr-fallback\"><pre>DecisionTreeClassifier(random_state=42)</pre><b>In a Jupyter environment, please rerun this cell to show the HTML representation or trust the notebook. <br />On GitHub, the HTML representation is unable to render, please try loading this page with nbviewer.org.</b></div><div class=\"sk-container\" hidden><div class=\"sk-item\"><div class=\"sk-estimator sk-toggleable\"><input class=\"sk-toggleable__control sk-hidden--visually\" id=\"sk-estimator-id-1\" type=\"checkbox\" checked><label for=\"sk-estimator-id-1\" class=\"sk-toggleable__label sk-toggleable__label-arrow\">DecisionTreeClassifier</label><div class=\"sk-toggleable__content\"><pre>DecisionTreeClassifier(random_state=42)</pre></div></div></div></div></div>"
            ]
          },
          "metadata": {},
          "execution_count": 46
        }
      ]
    },
    {
      "cell_type": "code",
      "source": [
        "from sklearn.tree import plot_tree\n",
        "plot_tree(dtc)"
      ],
      "metadata": {
        "colab": {
          "base_uri": "https://localhost:8080/",
          "height": 1000
        },
        "id": "fZVRHHUxXIj9",
        "outputId": "04c1eb66-cf15-4593-f557-9684d5724f73"
      },
      "execution_count": null,
      "outputs": [
        {
          "output_type": "execute_result",
          "data": {
            "text/plain": [
              "[Text(0.9372529644268774, 0.9943820224719101, 'x[8445] <= 0.5\\ngini = 0.234\\nsamples = 4179\\nvalue = [566, 3613]'),\n",
              " Text(0.8903162055335968, 0.9831460674157303, 'x[2181] <= 0.5\\ngini = 0.203\\nsamples = 4070\\nvalue = [467, 3603]'),\n",
              " Text(0.8824110671936759, 0.9719101123595506, 'x[5424] <= 0.5\\ngini = 0.178\\nsamples = 3998\\nvalue = [395, 3603]'),\n",
              " Text(0.8359683794466403, 0.9606741573033708, 'x[7190] <= 0.5\\ngini = 0.158\\nsamples = 3935\\nvalue = [341, 3594]'),\n",
              " Text(0.782608695652174, 0.949438202247191, 'x[3506] <= 0.5\\ngini = 0.146\\nsamples = 3899\\nvalue = [308, 3591]'),\n",
              " Text(0.7351778656126482, 0.9382022471910112, 'x[6821] <= 0.5\\ngini = 0.125\\nsamples = 3804\\nvalue = [255, 3549]'),\n",
              " Text(0.7075098814229249, 0.9269662921348315, 'x[8570] <= 0.5\\ngini = 0.109\\nsamples = 3740\\nvalue = [217, 3523]'),\n",
              " Text(0.6996047430830039, 0.9157303370786517, 'x[6482] <= 0.5\\ngini = 0.101\\nsamples = 3722\\nvalue = [199, 3523]'),\n",
              " Text(0.691699604743083, 0.9044943820224719, 'x[6295] <= 0.5\\ngini = 0.096\\nsamples = 3710\\nvalue = [187, 3523]'),\n",
              " Text(0.6758893280632411, 0.8932584269662921, 'x[797] <= 0.5\\ngini = 0.09\\nsamples = 3695\\nvalue = [174, 3521]'),\n",
              " Text(0.6679841897233202, 0.8820224719101124, 'x[8540] <= 0.5\\ngini = 0.085\\nsamples = 3684\\nvalue = [163, 3521]'),\n",
              " Text(0.6600790513833992, 0.8707865168539326, 'x[4785] <= 0.5\\ngini = 0.081\\nsamples = 3676\\nvalue = [155, 3521]'),\n",
              " Text(0.6442687747035574, 0.8595505617977528, 'x[308] <= 0.5\\ngini = 0.077\\nsamples = 3667\\nvalue = [147, 3520]'),\n",
              " Text(0.6363636363636364, 0.848314606741573, 'x[858] <= 0.5\\ngini = 0.074\\nsamples = 3660\\nvalue = [140, 3520]'),\n",
              " Text(0.6284584980237155, 0.8370786516853933, 'x[1240] <= 0.5\\ngini = 0.07\\nsamples = 3653\\nvalue = [133, 3520]'),\n",
              " Text(0.6205533596837944, 0.8258426966292135, 'x[8290] <= 0.5\\ngini = 0.067\\nsamples = 3646\\nvalue = [126, 3520]'),\n",
              " Text(0.6126482213438735, 0.8146067415730337, 'x[1017] <= 0.5\\ngini = 0.064\\nsamples = 3640\\nvalue = [120, 3520]'),\n",
              " Text(0.6047430830039525, 0.8033707865168539, 'x[8664] <= 0.5\\ngini = 0.061\\nsamples = 3634\\nvalue = [114, 3520]'),\n",
              " Text(0.5968379446640316, 0.7921348314606742, 'x[7701] <= 0.5\\ngini = 0.058\\nsamples = 3629\\nvalue = [109, 3520]'),\n",
              " Text(0.5889328063241107, 0.7808988764044944, 'x[8589] <= 0.5\\ngini = 0.056\\nsamples = 3624\\nvalue = [104, 3520]'),\n",
              " Text(0.5731225296442688, 0.7696629213483146, 'x[5219] <= 0.5\\ngini = 0.053\\nsamples = 3618\\nvalue = [99, 3519]'),\n",
              " Text(0.5652173913043478, 0.7584269662921348, 'x[2850] <= 0.5\\ngini = 0.051\\nsamples = 3614\\nvalue = [95, 3519]'),\n",
              " Text(0.5573122529644269, 0.7471910112359551, 'x[7010] <= 0.5\\ngini = 0.05\\nsamples = 3611\\nvalue = [92, 3519]'),\n",
              " Text(0.549407114624506, 0.7359550561797753, 'x[6616] <= 0.5\\ngini = 0.048\\nsamples = 3608\\nvalue = [89, 3519]'),\n",
              " Text(0.541501976284585, 0.7247191011235955, 'x[6909] <= 0.5\\ngini = 0.047\\nsamples = 3605\\nvalue = [86, 3519]'),\n",
              " Text(0.5335968379446641, 0.7134831460674157, 'x[8708] <= 0.5\\ngini = 0.045\\nsamples = 3602\\nvalue = [83, 3519]'),\n",
              " Text(0.525691699604743, 0.702247191011236, 'x[7202] <= 0.5\\ngini = 0.043\\nsamples = 3599\\nvalue = [80, 3519]'),\n",
              " Text(0.4980237154150198, 0.6910112359550562, 'x[3120] <= 0.5\\ngini = 0.041\\nsamples = 3593\\nvalue = [76, 3517]'),\n",
              " Text(0.48221343873517786, 0.6797752808988764, 'x[2465] <= 0.5\\ngini = 0.04\\nsamples = 3589\\nvalue = [73, 3516]'),\n",
              " Text(0.4743083003952569, 0.6685393258426966, 'x[1404] <= 0.5\\ngini = 0.039\\nsamples = 3587\\nvalue = [71, 3516]'),\n",
              " Text(0.466403162055336, 0.6573033707865169, 'x[1602] <= 0.5\\ngini = 0.038\\nsamples = 3585\\nvalue = [69, 3516]'),\n",
              " Text(0.45849802371541504, 0.6460674157303371, 'x[4455] <= 0.5\\ngini = 0.037\\nsamples = 3583\\nvalue = [67, 3516]'),\n",
              " Text(0.4505928853754941, 0.6348314606741573, 'x[1935] <= 0.5\\ngini = 0.036\\nsamples = 3581\\nvalue = [65, 3516]'),\n",
              " Text(0.4426877470355731, 0.6235955056179775, 'x[8462] <= 0.5\\ngini = 0.035\\nsamples = 3579\\nvalue = [63, 3516]'),\n",
              " Text(0.43478260869565216, 0.6123595505617978, 'x[872] <= 0.5\\ngini = 0.034\\nsamples = 3577\\nvalue = [61, 3516]'),\n",
              " Text(0.4268774703557312, 0.601123595505618, 'x[3354] <= 0.5\\ngini = 0.032\\nsamples = 3575\\nvalue = [59, 3516]'),\n",
              " Text(0.4189723320158103, 0.5898876404494382, 'x[7191] <= 0.5\\ngini = 0.031\\nsamples = 3573\\nvalue = [57, 3516]'),\n",
              " Text(0.41106719367588934, 0.5786516853932584, 'x[48] <= 0.5\\ngini = 0.03\\nsamples = 3571\\nvalue = [55, 3516]'),\n",
              " Text(0.4031620553359684, 0.5674157303370787, 'x[8942] <= 0.5\\ngini = 0.029\\nsamples = 3569\\nvalue = [53, 3516]'),\n",
              " Text(0.3952569169960474, 0.5561797752808989, 'x[8780] <= 1.0\\ngini = 0.028\\nsamples = 3567\\nvalue = [51, 3516]'),\n",
              " Text(0.38735177865612647, 0.5449438202247191, 'x[8991] <= 0.5\\ngini = 0.027\\nsamples = 3565\\nvalue = [49, 3516]'),\n",
              " Text(0.3794466403162055, 0.5337078651685393, 'x[8716] <= 0.5\\ngini = 0.026\\nsamples = 3563\\nvalue = [47, 3516]'),\n",
              " Text(0.36363636363636365, 0.5224719101123596, 'x[8668] <= 0.5\\ngini = 0.025\\nsamples = 3560\\nvalue = [45, 3515]'),\n",
              " Text(0.3557312252964427, 0.5112359550561798, 'x[1606] <= 0.5\\ngini = 0.024\\nsamples = 3559\\nvalue = [44, 3515]'),\n",
              " Text(0.34782608695652173, 0.5, 'x[125] <= 0.5\\ngini = 0.024\\nsamples = 3558\\nvalue = [43, 3515]'),\n",
              " Text(0.33992094861660077, 0.4887640449438202, 'x[5184] <= 0.5\\ngini = 0.023\\nsamples = 3557\\nvalue = [42, 3515]'),\n",
              " Text(0.33201581027667987, 0.47752808988764045, 'x[277] <= 0.5\\ngini = 0.023\\nsamples = 3556\\nvalue = [41, 3515]'),\n",
              " Text(0.3241106719367589, 0.46629213483146065, 'x[3106] <= 0.5\\ngini = 0.022\\nsamples = 3555\\nvalue = [40, 3515]'),\n",
              " Text(0.31620553359683795, 0.4550561797752809, 'x[6429] <= 0.5\\ngini = 0.022\\nsamples = 3554\\nvalue = [39, 3515]'),\n",
              " Text(0.308300395256917, 0.4438202247191011, 'x[539] <= 0.5\\ngini = 0.021\\nsamples = 3553\\nvalue = [38, 3515]'),\n",
              " Text(0.30039525691699603, 0.43258426966292135, 'x[282] <= 0.5\\ngini = 0.021\\nsamples = 3552\\nvalue = [37, 3515]'),\n",
              " Text(0.2924901185770751, 0.42134831460674155, 'x[5428] <= 0.5\\ngini = 0.02\\nsamples = 3551\\nvalue = [36, 3515]'),\n",
              " Text(0.2845849802371542, 0.4101123595505618, 'x[596] <= 0.5\\ngini = 0.02\\nsamples = 3550\\nvalue = [35, 3515]'),\n",
              " Text(0.2766798418972332, 0.398876404494382, 'x[6083] <= 0.5\\ngini = 0.019\\nsamples = 3549\\nvalue = [34, 3515]'),\n",
              " Text(0.26877470355731226, 0.38764044943820225, 'x[4357] <= 0.5\\ngini = 0.018\\nsamples = 3548\\nvalue = [33, 3515]'),\n",
              " Text(0.2608695652173913, 0.37640449438202245, 'x[6933] <= 0.5\\ngini = 0.018\\nsamples = 3547\\nvalue = [32, 3515]'),\n",
              " Text(0.25296442687747034, 0.3651685393258427, 'x[4636] <= 0.5\\ngini = 0.017\\nsamples = 3546\\nvalue = [31, 3515]'),\n",
              " Text(0.2450592885375494, 0.3539325842696629, 'x[7041] <= 1.0\\ngini = 0.017\\nsamples = 3545\\nvalue = [30, 3515]'),\n",
              " Text(0.23715415019762845, 0.34269662921348315, 'x[6804] <= 0.5\\ngini = 0.016\\nsamples = 3544\\nvalue = [29, 3515]'),\n",
              " Text(0.22924901185770752, 0.33146067415730335, 'x[8243] <= 0.5\\ngini = 0.016\\nsamples = 3543\\nvalue = [28, 3515]'),\n",
              " Text(0.22134387351778656, 0.3202247191011236, 'x[2154] <= 0.5\\ngini = 0.015\\nsamples = 3542\\nvalue = [27, 3515]'),\n",
              " Text(0.2134387351778656, 0.3089887640449438, 'x[9] <= 0.5\\ngini = 0.015\\nsamples = 3541\\nvalue = [26, 3515]'),\n",
              " Text(0.20553359683794467, 0.29775280898876405, 'x[870] <= 0.5\\ngini = 0.014\\nsamples = 3540\\nvalue = [25, 3515]'),\n",
              " Text(0.1976284584980237, 0.28651685393258425, 'x[627] <= 0.5\\ngini = 0.013\\nsamples = 3539\\nvalue = [24, 3515]'),\n",
              " Text(0.18972332015810275, 0.2752808988764045, 'x[3272] <= 0.5\\ngini = 0.013\\nsamples = 3538\\nvalue = [23, 3515]'),\n",
              " Text(0.18181818181818182, 0.2640449438202247, 'x[2394] <= 0.5\\ngini = 0.012\\nsamples = 3537\\nvalue = [22, 3515]'),\n",
              " Text(0.17391304347826086, 0.25280898876404495, 'x[2462] <= 0.5\\ngini = 0.012\\nsamples = 3536\\nvalue = [21, 3515]'),\n",
              " Text(0.16600790513833993, 0.24157303370786518, 'x[5790] <= 0.5\\ngini = 0.011\\nsamples = 3535\\nvalue = [20, 3515]'),\n",
              " Text(0.15810276679841898, 0.2303370786516854, 'x[4530] <= 0.5\\ngini = 0.011\\nsamples = 3534\\nvalue = [19, 3515]'),\n",
              " Text(0.15019762845849802, 0.21910112359550563, 'x[280] <= 0.5\\ngini = 0.01\\nsamples = 3533\\nvalue = [18, 3515]'),\n",
              " Text(0.1422924901185771, 0.20786516853932585, 'x[2291] <= 0.5\\ngini = 0.01\\nsamples = 3532\\nvalue = [17, 3515]'),\n",
              " Text(0.13438735177865613, 0.19662921348314608, 'x[166] <= 0.5\\ngini = 0.009\\nsamples = 3531\\nvalue = [16, 3515]'),\n",
              " Text(0.12648221343873517, 0.1853932584269663, 'x[600] <= 0.5\\ngini = 0.008\\nsamples = 3530\\nvalue = [15, 3515]'),\n",
              " Text(0.11857707509881422, 0.17415730337078653, 'x[64] <= 0.5\\ngini = 0.008\\nsamples = 3529\\nvalue = [14, 3515]'),\n",
              " Text(0.11067193675889328, 0.16292134831460675, 'x[8037] <= 0.5\\ngini = 0.007\\nsamples = 3528\\nvalue = [13, 3515]'),\n",
              " Text(0.10276679841897234, 0.15168539325842698, 'x[349] <= 0.5\\ngini = 0.007\\nsamples = 3527\\nvalue = [12, 3515]'),\n",
              " Text(0.09486166007905138, 0.1404494382022472, 'x[5945] <= 0.5\\ngini = 0.006\\nsamples = 3526\\nvalue = [11, 3515]'),\n",
              " Text(0.08695652173913043, 0.12921348314606743, 'x[303] <= 0.5\\ngini = 0.006\\nsamples = 3525\\nvalue = [10, 3515]'),\n",
              " Text(0.07905138339920949, 0.11797752808988764, 'x[6942] <= 0.5\\ngini = 0.005\\nsamples = 3524\\nvalue = [9, 3515]'),\n",
              " Text(0.07114624505928854, 0.10674157303370786, 'x[456] <= 0.5\\ngini = 0.005\\nsamples = 3523\\nvalue = [8, 3515]'),\n",
              " Text(0.06324110671936758, 0.09550561797752809, 'x[20] <= 0.5\\ngini = 0.004\\nsamples = 3522\\nvalue = [7, 3515]'),\n",
              " Text(0.05533596837944664, 0.08426966292134831, 'x[4651] <= 0.5\\ngini = 0.003\\nsamples = 3521\\nvalue = [6, 3515]'),\n",
              " Text(0.04743083003952569, 0.07303370786516854, 'x[106] <= 0.5\\ngini = 0.003\\nsamples = 3520\\nvalue = [5, 3515]'),\n",
              " Text(0.039525691699604744, 0.06179775280898876, 'x[137] <= 0.5\\ngini = 0.002\\nsamples = 3519\\nvalue = [4, 3515]'),\n",
              " Text(0.03162055335968379, 0.05056179775280899, 'x[22] <= 0.5\\ngini = 0.002\\nsamples = 3518\\nvalue = [3, 3515]'),\n",
              " Text(0.023715415019762844, 0.03932584269662921, 'x[4184] <= 0.5\\ngini = 0.001\\nsamples = 3517\\nvalue = [2, 3515]'),\n",
              " Text(0.015810276679841896, 0.028089887640449437, 'x[2575] <= 0.5\\ngini = 0.001\\nsamples = 3516\\nvalue = [1, 3515]'),\n",
              " Text(0.007905138339920948, 0.016853932584269662, 'gini = 0.0\\nsamples = 3512\\nvalue = [0, 3512]'),\n",
              " Text(0.023715415019762844, 0.016853932584269662, 'x[8256] <= 0.5\\ngini = 0.375\\nsamples = 4\\nvalue = [1, 3]'),\n",
              " Text(0.015810276679841896, 0.0056179775280898875, 'gini = 0.0\\nsamples = 3\\nvalue = [0, 3]'),\n",
              " Text(0.03162055335968379, 0.0056179775280898875, 'gini = 0.0\\nsamples = 1\\nvalue = [1, 0]'),\n",
              " Text(0.03162055335968379, 0.028089887640449437, 'gini = 0.0\\nsamples = 1\\nvalue = [1, 0]'),\n",
              " Text(0.039525691699604744, 0.03932584269662921, 'gini = 0.0\\nsamples = 1\\nvalue = [1, 0]'),\n",
              " Text(0.04743083003952569, 0.05056179775280899, 'gini = 0.0\\nsamples = 1\\nvalue = [1, 0]'),\n",
              " Text(0.05533596837944664, 0.06179775280898876, 'gini = 0.0\\nsamples = 1\\nvalue = [1, 0]'),\n",
              " Text(0.06324110671936758, 0.07303370786516854, 'gini = 0.0\\nsamples = 1\\nvalue = [1, 0]'),\n",
              " Text(0.07114624505928854, 0.08426966292134831, 'gini = 0.0\\nsamples = 1\\nvalue = [1, 0]'),\n",
              " Text(0.07905138339920949, 0.09550561797752809, 'gini = 0.0\\nsamples = 1\\nvalue = [1, 0]'),\n",
              " Text(0.08695652173913043, 0.10674157303370786, 'gini = 0.0\\nsamples = 1\\nvalue = [1, 0]'),\n",
              " Text(0.09486166007905138, 0.11797752808988764, 'gini = 0.0\\nsamples = 1\\nvalue = [1, 0]'),\n",
              " Text(0.10276679841897234, 0.12921348314606743, 'gini = 0.0\\nsamples = 1\\nvalue = [1, 0]'),\n",
              " Text(0.11067193675889328, 0.1404494382022472, 'gini = 0.0\\nsamples = 1\\nvalue = [1, 0]'),\n",
              " Text(0.11857707509881422, 0.15168539325842698, 'gini = 0.0\\nsamples = 1\\nvalue = [1, 0]'),\n",
              " Text(0.12648221343873517, 0.16292134831460675, 'gini = 0.0\\nsamples = 1\\nvalue = [1, 0]'),\n",
              " Text(0.13438735177865613, 0.17415730337078653, 'gini = 0.0\\nsamples = 1\\nvalue = [1, 0]'),\n",
              " Text(0.1422924901185771, 0.1853932584269663, 'gini = 0.0\\nsamples = 1\\nvalue = [1, 0]'),\n",
              " Text(0.15019762845849802, 0.19662921348314608, 'gini = 0.0\\nsamples = 1\\nvalue = [1, 0]'),\n",
              " Text(0.15810276679841898, 0.20786516853932585, 'gini = 0.0\\nsamples = 1\\nvalue = [1, 0]'),\n",
              " Text(0.16600790513833993, 0.21910112359550563, 'gini = 0.0\\nsamples = 1\\nvalue = [1, 0]'),\n",
              " Text(0.17391304347826086, 0.2303370786516854, 'gini = 0.0\\nsamples = 1\\nvalue = [1, 0]'),\n",
              " Text(0.18181818181818182, 0.24157303370786518, 'gini = 0.0\\nsamples = 1\\nvalue = [1, 0]'),\n",
              " Text(0.18972332015810275, 0.25280898876404495, 'gini = 0.0\\nsamples = 1\\nvalue = [1, 0]'),\n",
              " Text(0.1976284584980237, 0.2640449438202247, 'gini = 0.0\\nsamples = 1\\nvalue = [1, 0]'),\n",
              " Text(0.20553359683794467, 0.2752808988764045, 'gini = 0.0\\nsamples = 1\\nvalue = [1, 0]'),\n",
              " Text(0.2134387351778656, 0.28651685393258425, 'gini = 0.0\\nsamples = 1\\nvalue = [1, 0]'),\n",
              " Text(0.22134387351778656, 0.29775280898876405, 'gini = 0.0\\nsamples = 1\\nvalue = [1, 0]'),\n",
              " Text(0.22924901185770752, 0.3089887640449438, 'gini = 0.0\\nsamples = 1\\nvalue = [1, 0]'),\n",
              " Text(0.23715415019762845, 0.3202247191011236, 'gini = 0.0\\nsamples = 1\\nvalue = [1, 0]'),\n",
              " Text(0.2450592885375494, 0.33146067415730335, 'gini = 0.0\\nsamples = 1\\nvalue = [1, 0]'),\n",
              " Text(0.25296442687747034, 0.34269662921348315, 'gini = 0.0\\nsamples = 1\\nvalue = [1, 0]'),\n",
              " Text(0.2608695652173913, 0.3539325842696629, 'gini = 0.0\\nsamples = 1\\nvalue = [1, 0]'),\n",
              " Text(0.26877470355731226, 0.3651685393258427, 'gini = 0.0\\nsamples = 1\\nvalue = [1, 0]'),\n",
              " Text(0.2766798418972332, 0.37640449438202245, 'gini = 0.0\\nsamples = 1\\nvalue = [1, 0]'),\n",
              " Text(0.2845849802371542, 0.38764044943820225, 'gini = 0.0\\nsamples = 1\\nvalue = [1, 0]'),\n",
              " Text(0.2924901185770751, 0.398876404494382, 'gini = 0.0\\nsamples = 1\\nvalue = [1, 0]'),\n",
              " Text(0.30039525691699603, 0.4101123595505618, 'gini = 0.0\\nsamples = 1\\nvalue = [1, 0]'),\n",
              " Text(0.308300395256917, 0.42134831460674155, 'gini = 0.0\\nsamples = 1\\nvalue = [1, 0]'),\n",
              " Text(0.31620553359683795, 0.43258426966292135, 'gini = 0.0\\nsamples = 1\\nvalue = [1, 0]'),\n",
              " Text(0.3241106719367589, 0.4438202247191011, 'gini = 0.0\\nsamples = 1\\nvalue = [1, 0]'),\n",
              " Text(0.33201581027667987, 0.4550561797752809, 'gini = 0.0\\nsamples = 1\\nvalue = [1, 0]'),\n",
              " Text(0.33992094861660077, 0.46629213483146065, 'gini = 0.0\\nsamples = 1\\nvalue = [1, 0]'),\n",
              " Text(0.34782608695652173, 0.47752808988764045, 'gini = 0.0\\nsamples = 1\\nvalue = [1, 0]'),\n",
              " Text(0.3557312252964427, 0.4887640449438202, 'gini = 0.0\\nsamples = 1\\nvalue = [1, 0]'),\n",
              " Text(0.36363636363636365, 0.5, 'gini = 0.0\\nsamples = 1\\nvalue = [1, 0]'),\n",
              " Text(0.3715415019762846, 0.5112359550561798, 'gini = 0.0\\nsamples = 1\\nvalue = [1, 0]'),\n",
              " Text(0.3952569169960474, 0.5224719101123596, 'x[4600] <= 0.5\\ngini = 0.444\\nsamples = 3\\nvalue = [2, 1]'),\n",
              " Text(0.38735177865612647, 0.5112359550561798, 'gini = 0.0\\nsamples = 2\\nvalue = [2, 0]'),\n",
              " Text(0.4031620553359684, 0.5112359550561798, 'gini = 0.0\\nsamples = 1\\nvalue = [0, 1]'),\n",
              " Text(0.3952569169960474, 0.5337078651685393, 'gini = 0.0\\nsamples = 2\\nvalue = [2, 0]'),\n",
              " Text(0.4031620553359684, 0.5449438202247191, 'gini = 0.0\\nsamples = 2\\nvalue = [2, 0]'),\n",
              " Text(0.41106719367588934, 0.5561797752808989, 'gini = 0.0\\nsamples = 2\\nvalue = [2, 0]'),\n",
              " Text(0.4189723320158103, 0.5674157303370787, 'gini = 0.0\\nsamples = 2\\nvalue = [2, 0]'),\n",
              " Text(0.4268774703557312, 0.5786516853932584, 'gini = 0.0\\nsamples = 2\\nvalue = [2, 0]'),\n",
              " Text(0.43478260869565216, 0.5898876404494382, 'gini = 0.0\\nsamples = 2\\nvalue = [2, 0]'),\n",
              " Text(0.4426877470355731, 0.601123595505618, 'gini = 0.0\\nsamples = 2\\nvalue = [2, 0]'),\n",
              " Text(0.4505928853754941, 0.6123595505617978, 'gini = 0.0\\nsamples = 2\\nvalue = [2, 0]'),\n",
              " Text(0.45849802371541504, 0.6235955056179775, 'gini = 0.0\\nsamples = 2\\nvalue = [2, 0]'),\n",
              " Text(0.466403162055336, 0.6348314606741573, 'gini = 0.0\\nsamples = 2\\nvalue = [2, 0]'),\n",
              " Text(0.4743083003952569, 0.6460674157303371, 'gini = 0.0\\nsamples = 2\\nvalue = [2, 0]'),\n",
              " Text(0.48221343873517786, 0.6573033707865169, 'gini = 0.0\\nsamples = 2\\nvalue = [2, 0]'),\n",
              " Text(0.4901185770750988, 0.6685393258426966, 'gini = 0.0\\nsamples = 2\\nvalue = [2, 0]'),\n",
              " Text(0.5138339920948617, 0.6797752808988764, 'x[7074] <= 0.5\\ngini = 0.375\\nsamples = 4\\nvalue = [3, 1]'),\n",
              " Text(0.5059288537549407, 0.6685393258426966, 'gini = 0.0\\nsamples = 3\\nvalue = [3, 0]'),\n",
              " Text(0.5217391304347826, 0.6685393258426966, 'gini = 0.0\\nsamples = 1\\nvalue = [0, 1]'),\n",
              " Text(0.5533596837944664, 0.6910112359550562, 'x[1172] <= 0.5\\ngini = 0.444\\nsamples = 6\\nvalue = [4, 2]'),\n",
              " Text(0.5454545454545454, 0.6797752808988764, 'x[7409] <= 0.5\\ngini = 0.32\\nsamples = 5\\nvalue = [4, 1]'),\n",
              " Text(0.5375494071146245, 0.6685393258426966, 'gini = 0.0\\nsamples = 4\\nvalue = [4, 0]'),\n",
              " Text(0.5533596837944664, 0.6685393258426966, 'gini = 0.0\\nsamples = 1\\nvalue = [0, 1]'),\n",
              " Text(0.5612648221343873, 0.6797752808988764, 'gini = 0.0\\nsamples = 1\\nvalue = [0, 1]'),\n",
              " Text(0.541501976284585, 0.702247191011236, 'gini = 0.0\\nsamples = 3\\nvalue = [3, 0]'),\n",
              " Text(0.549407114624506, 0.7134831460674157, 'gini = 0.0\\nsamples = 3\\nvalue = [3, 0]'),\n",
              " Text(0.5573122529644269, 0.7247191011235955, 'gini = 0.0\\nsamples = 3\\nvalue = [3, 0]'),\n",
              " Text(0.5652173913043478, 0.7359550561797753, 'gini = 0.0\\nsamples = 3\\nvalue = [3, 0]'),\n",
              " Text(0.5731225296442688, 0.7471910112359551, 'gini = 0.0\\nsamples = 3\\nvalue = [3, 0]'),\n",
              " Text(0.5810276679841897, 0.7584269662921348, 'gini = 0.0\\nsamples = 4\\nvalue = [4, 0]'),\n",
              " Text(0.6047430830039525, 0.7696629213483146, 'x[2813] <= 0.5\\ngini = 0.278\\nsamples = 6\\nvalue = [5, 1]'),\n",
              " Text(0.5968379446640316, 0.7584269662921348, 'gini = 0.0\\nsamples = 5\\nvalue = [5, 0]'),\n",
              " Text(0.6126482213438735, 0.7584269662921348, 'gini = 0.0\\nsamples = 1\\nvalue = [0, 1]'),\n",
              " Text(0.6047430830039525, 0.7808988764044944, 'gini = 0.0\\nsamples = 5\\nvalue = [5, 0]'),\n",
              " Text(0.6126482213438735, 0.7921348314606742, 'gini = 0.0\\nsamples = 5\\nvalue = [5, 0]'),\n",
              " Text(0.6205533596837944, 0.8033707865168539, 'gini = 0.0\\nsamples = 6\\nvalue = [6, 0]'),\n",
              " Text(0.6284584980237155, 0.8146067415730337, 'gini = 0.0\\nsamples = 6\\nvalue = [6, 0]'),\n",
              " Text(0.6363636363636364, 0.8258426966292135, 'gini = 0.0\\nsamples = 7\\nvalue = [7, 0]'),\n",
              " Text(0.6442687747035574, 0.8370786516853933, 'gini = 0.0\\nsamples = 7\\nvalue = [7, 0]'),\n",
              " Text(0.6521739130434783, 0.848314606741573, 'gini = 0.0\\nsamples = 7\\nvalue = [7, 0]'),\n",
              " Text(0.6758893280632411, 0.8595505617977528, 'x[3771] <= 0.5\\ngini = 0.198\\nsamples = 9\\nvalue = [8, 1]'),\n",
              " Text(0.6679841897233202, 0.848314606741573, 'gini = 0.0\\nsamples = 8\\nvalue = [8, 0]'),\n",
              " Text(0.6837944664031621, 0.848314606741573, 'gini = 0.0\\nsamples = 1\\nvalue = [0, 1]'),\n",
              " Text(0.6758893280632411, 0.8707865168539326, 'gini = 0.0\\nsamples = 8\\nvalue = [8, 0]'),\n",
              " Text(0.6837944664031621, 0.8820224719101124, 'gini = 0.0\\nsamples = 11\\nvalue = [11, 0]'),\n",
              " Text(0.7075098814229249, 0.8932584269662921, 'x[3044] <= 0.5\\ngini = 0.231\\nsamples = 15\\nvalue = [13, 2]'),\n",
              " Text(0.6996047430830039, 0.8820224719101124, 'x[7799] <= 0.5\\ngini = 0.133\\nsamples = 14\\nvalue = [13, 1]'),\n",
              " Text(0.691699604743083, 0.8707865168539326, 'gini = 0.0\\nsamples = 13\\nvalue = [13, 0]'),\n",
              " Text(0.7075098814229249, 0.8707865168539326, 'gini = 0.0\\nsamples = 1\\nvalue = [0, 1]'),\n",
              " Text(0.7154150197628458, 0.8820224719101124, 'gini = 0.0\\nsamples = 1\\nvalue = [0, 1]'),\n",
              " Text(0.7075098814229249, 0.9044943820224719, 'gini = 0.0\\nsamples = 12\\nvalue = [12, 0]'),\n",
              " Text(0.7154150197628458, 0.9157303370786517, 'gini = 0.0\\nsamples = 18\\nvalue = [18, 0]'),\n",
              " Text(0.7628458498023716, 0.9269662921348315, 'x[7739] <= 0.5\\ngini = 0.482\\nsamples = 64\\nvalue = [38, 26]'),\n",
              " Text(0.7549407114624506, 0.9157303370786517, 'x[5657] <= 0.5\\ngini = 0.499\\nsamples = 50\\nvalue = [24, 26]'),\n",
              " Text(0.7470355731225297, 0.9044943820224719, 'x[3071] <= 1.0\\ngini = 0.444\\nsamples = 39\\nvalue = [13, 26]'),\n",
              " Text(0.7391304347826086, 0.8932584269662921, 'x[5665] <= 0.5\\ngini = 0.401\\nsamples = 36\\nvalue = [10, 26]'),\n",
              " Text(0.7312252964426877, 0.8820224719101124, 'x[5861] <= 0.5\\ngini = 0.36\\nsamples = 34\\nvalue = [8, 26]'),\n",
              " Text(0.7233201581027668, 0.8707865168539326, 'x[5967] <= 0.5\\ngini = 0.305\\nsamples = 32\\nvalue = [6, 26]'),\n",
              " Text(0.7154150197628458, 0.8595505617977528, 'x[1730] <= 0.5\\ngini = 0.231\\nsamples = 30\\nvalue = [4, 26]'),\n",
              " Text(0.7075098814229249, 0.848314606741573, 'x[3609] <= 0.5\\ngini = 0.185\\nsamples = 29\\nvalue = [3, 26]'),\n",
              " Text(0.6996047430830039, 0.8370786516853933, 'x[8860] <= 0.5\\ngini = 0.133\\nsamples = 28\\nvalue = [2, 26]'),\n",
              " Text(0.691699604743083, 0.8258426966292135, 'x[8998] <= 0.5\\ngini = 0.071\\nsamples = 27\\nvalue = [1, 26]'),\n",
              " Text(0.6837944664031621, 0.8146067415730337, 'gini = 0.0\\nsamples = 26\\nvalue = [0, 26]'),\n",
              " Text(0.6996047430830039, 0.8146067415730337, 'gini = 0.0\\nsamples = 1\\nvalue = [1, 0]'),\n",
              " Text(0.7075098814229249, 0.8258426966292135, 'gini = 0.0\\nsamples = 1\\nvalue = [1, 0]'),\n",
              " Text(0.7154150197628458, 0.8370786516853933, 'gini = 0.0\\nsamples = 1\\nvalue = [1, 0]'),\n",
              " Text(0.7233201581027668, 0.848314606741573, 'gini = 0.0\\nsamples = 1\\nvalue = [1, 0]'),\n",
              " Text(0.7312252964426877, 0.8595505617977528, 'gini = 0.0\\nsamples = 2\\nvalue = [2, 0]'),\n",
              " Text(0.7391304347826086, 0.8707865168539326, 'gini = 0.0\\nsamples = 2\\nvalue = [2, 0]'),\n",
              " Text(0.7470355731225297, 0.8820224719101124, 'gini = 0.0\\nsamples = 2\\nvalue = [2, 0]'),\n",
              " Text(0.7549407114624506, 0.8932584269662921, 'gini = 0.0\\nsamples = 3\\nvalue = [3, 0]'),\n",
              " Text(0.7628458498023716, 0.9044943820224719, 'gini = 0.0\\nsamples = 11\\nvalue = [11, 0]'),\n",
              " Text(0.7707509881422925, 0.9157303370786517, 'gini = 0.0\\nsamples = 14\\nvalue = [14, 0]'),\n",
              " Text(0.8300395256916996, 0.9382022471910112, 'x[8080] <= 0.5\\ngini = 0.493\\nsamples = 95\\nvalue = [53, 42]'),\n",
              " Text(0.8023715415019763, 0.9269662921348315, 'x[7166] <= 0.5\\ngini = 0.499\\nsamples = 77\\nvalue = [37, 40]'),\n",
              " Text(0.7865612648221344, 0.9157303370786517, 'x[5962] <= 0.5\\ngini = 0.483\\nsamples = 66\\nvalue = [27, 39]'),\n",
              " Text(0.7786561264822134, 0.9044943820224719, 'x[2873] <= 0.5\\ngini = 0.455\\nsamples = 60\\nvalue = [21, 39]'),\n",
              " Text(0.7707509881422925, 0.8932584269662921, 'x[416] <= 0.5\\ngini = 0.423\\nsamples = 56\\nvalue = [17, 39]'),\n",
              " Text(0.7628458498023716, 0.8820224719101124, 'x[7153] <= 0.5\\ngini = 0.389\\nsamples = 53\\nvalue = [14, 39]'),\n",
              " Text(0.7549407114624506, 0.8707865168539326, 'x[1942] <= 0.5\\ngini = 0.343\\nsamples = 50\\nvalue = [11, 39]'),\n",
              " Text(0.7470355731225297, 0.8595505617977528, 'x[3810] <= 0.5\\ngini = 0.282\\nsamples = 47\\nvalue = [8, 39]'),\n",
              " Text(0.7391304347826086, 0.848314606741573, 'x[2427] <= 0.5\\ngini = 0.231\\nsamples = 45\\nvalue = [6, 39]'),\n",
              " Text(0.7312252964426877, 0.8370786516853933, 'x[6239] <= 0.5\\ngini = 0.201\\nsamples = 44\\nvalue = [5, 39]'),\n",
              " Text(0.7233201581027668, 0.8258426966292135, 'x[2068] <= 0.5\\ngini = 0.169\\nsamples = 43\\nvalue = [4, 39]'),\n",
              " Text(0.7154150197628458, 0.8146067415730337, 'x[7066] <= 0.5\\ngini = 0.133\\nsamples = 42\\nvalue = [3, 39]'),\n",
              " Text(0.7075098814229249, 0.8033707865168539, 'x[8978] <= 0.5\\ngini = 0.093\\nsamples = 41\\nvalue = [2, 39]'),\n",
              " Text(0.6996047430830039, 0.7921348314606742, 'x[7519] <= 0.5\\ngini = 0.049\\nsamples = 40\\nvalue = [1, 39]'),\n",
              " Text(0.691699604743083, 0.7808988764044944, 'gini = 0.0\\nsamples = 39\\nvalue = [0, 39]'),\n",
              " Text(0.7075098814229249, 0.7808988764044944, 'gini = 0.0\\nsamples = 1\\nvalue = [1, 0]'),\n",
              " Text(0.7154150197628458, 0.7921348314606742, 'gini = 0.0\\nsamples = 1\\nvalue = [1, 0]'),\n",
              " Text(0.7233201581027668, 0.8033707865168539, 'gini = 0.0\\nsamples = 1\\nvalue = [1, 0]'),\n",
              " Text(0.7312252964426877, 0.8146067415730337, 'gini = 0.0\\nsamples = 1\\nvalue = [1, 0]'),\n",
              " Text(0.7391304347826086, 0.8258426966292135, 'gini = 0.0\\nsamples = 1\\nvalue = [1, 0]'),\n",
              " Text(0.7470355731225297, 0.8370786516853933, 'gini = 0.0\\nsamples = 1\\nvalue = [1, 0]'),\n",
              " Text(0.7549407114624506, 0.848314606741573, 'gini = 0.0\\nsamples = 2\\nvalue = [2, 0]'),\n",
              " Text(0.7628458498023716, 0.8595505617977528, 'gini = 0.0\\nsamples = 3\\nvalue = [3, 0]'),\n",
              " Text(0.7707509881422925, 0.8707865168539326, 'gini = 0.0\\nsamples = 3\\nvalue = [3, 0]'),\n",
              " Text(0.7786561264822134, 0.8820224719101124, 'gini = 0.0\\nsamples = 3\\nvalue = [3, 0]'),\n",
              " Text(0.7865612648221344, 0.8932584269662921, 'gini = 0.0\\nsamples = 4\\nvalue = [4, 0]'),\n",
              " Text(0.7944664031620553, 0.9044943820224719, 'gini = 0.0\\nsamples = 6\\nvalue = [6, 0]'),\n",
              " Text(0.8181818181818182, 0.9157303370786517, 'x[5074] <= 0.5\\ngini = 0.165\\nsamples = 11\\nvalue = [10, 1]'),\n",
              " Text(0.8102766798418972, 0.9044943820224719, 'gini = 0.0\\nsamples = 10\\nvalue = [10, 0]'),\n",
              " Text(0.8260869565217391, 0.9044943820224719, 'gini = 0.0\\nsamples = 1\\nvalue = [0, 1]'),\n",
              " Text(0.857707509881423, 0.9269662921348315, 'x[5764] <= 0.5\\ngini = 0.198\\nsamples = 18\\nvalue = [16, 2]'),\n",
              " Text(0.849802371541502, 0.9157303370786517, 'x[1639] <= 0.5\\ngini = 0.111\\nsamples = 17\\nvalue = [16, 1]'),\n",
              " Text(0.841897233201581, 0.9044943820224719, 'gini = 0.0\\nsamples = 16\\nvalue = [16, 0]'),\n",
              " Text(0.857707509881423, 0.9044943820224719, 'gini = 0.0\\nsamples = 1\\nvalue = [0, 1]'),\n",
              " Text(0.8656126482213439, 0.9157303370786517, 'gini = 0.0\\nsamples = 1\\nvalue = [0, 1]'),\n",
              " Text(0.8893280632411067, 0.949438202247191, 'x[4518] <= 0.5\\ngini = 0.153\\nsamples = 36\\nvalue = [33, 3]'),\n",
              " Text(0.8814229249011858, 0.9382022471910112, 'x[6429] <= 0.5\\ngini = 0.057\\nsamples = 34\\nvalue = [33, 1]'),\n",
              " Text(0.8735177865612648, 0.9269662921348315, 'gini = 0.0\\nsamples = 33\\nvalue = [33, 0]'),\n",
              " Text(0.8893280632411067, 0.9269662921348315, 'gini = 0.0\\nsamples = 1\\nvalue = [0, 1]'),\n",
              " Text(0.8972332015810277, 0.9382022471910112, 'gini = 0.0\\nsamples = 2\\nvalue = [0, 2]'),\n",
              " Text(0.9288537549407114, 0.9606741573033708, 'x[5074] <= 0.5\\ngini = 0.245\\nsamples = 63\\nvalue = [54, 9]'),\n",
              " Text(0.9209486166007905, 0.949438202247191, 'x[1957] <= 0.5\\ngini = 0.155\\nsamples = 59\\nvalue = [54, 5]'),\n",
              " Text(0.9130434782608695, 0.9382022471910112, 'x[979] <= 0.5\\ngini = 0.1\\nsamples = 57\\nvalue = [54, 3]'),\n",
              " Text(0.9051383399209486, 0.9269662921348315, 'x[4038] <= 0.5\\ngini = 0.069\\nsamples = 56\\nvalue = [54, 2]'),\n",
              " Text(0.8972332015810277, 0.9157303370786517, 'x[4909] <= 0.5\\ngini = 0.036\\nsamples = 55\\nvalue = [54, 1]'),\n",
              " Text(0.8893280632411067, 0.9044943820224719, 'gini = 0.0\\nsamples = 54\\nvalue = [54, 0]'),\n",
              " Text(0.9051383399209486, 0.9044943820224719, 'gini = 0.0\\nsamples = 1\\nvalue = [0, 1]'),\n",
              " Text(0.9130434782608695, 0.9157303370786517, 'gini = 0.0\\nsamples = 1\\nvalue = [0, 1]'),\n",
              " Text(0.9209486166007905, 0.9269662921348315, 'gini = 0.0\\nsamples = 1\\nvalue = [0, 1]'),\n",
              " Text(0.9288537549407114, 0.9382022471910112, 'gini = 0.0\\nsamples = 2\\nvalue = [0, 2]'),\n",
              " Text(0.9367588932806324, 0.949438202247191, 'gini = 0.0\\nsamples = 4\\nvalue = [0, 4]'),\n",
              " Text(0.8982213438735178, 0.9719101123595506, 'gini = 0.0\\nsamples = 72\\nvalue = [72, 0]'),\n",
              " Text(0.9841897233201581, 0.9831460674157303, 'x[1447] <= 0.5\\ngini = 0.167\\nsamples = 109\\nvalue = [99, 10]'),\n",
              " Text(0.9762845849802372, 0.9719101123595506, 'x[3369] <= 0.5\\ngini = 0.123\\nsamples = 106\\nvalue = [99, 7]'),\n",
              " Text(0.9683794466403162, 0.9606741573033708, 'x[4043] <= 0.5\\ngini = 0.092\\nsamples = 104\\nvalue = [99, 5]'),\n",
              " Text(0.9525691699604744, 0.949438202247191, 'x[4079] <= 0.5\\ngini = 0.058\\nsamples = 101\\nvalue = [98, 3]'),\n",
              " Text(0.9446640316205533, 0.9382022471910112, 'x[6123] <= 0.5\\ngini = 0.039\\nsamples = 100\\nvalue = [98, 2]'),\n",
              " Text(0.9367588932806324, 0.9269662921348315, 'x[6923] <= 0.5\\ngini = 0.02\\nsamples = 99\\nvalue = [98, 1]'),\n",
              " Text(0.9288537549407114, 0.9157303370786517, 'gini = 0.0\\nsamples = 98\\nvalue = [98, 0]'),\n",
              " Text(0.9446640316205533, 0.9157303370786517, 'gini = 0.0\\nsamples = 1\\nvalue = [0, 1]'),\n",
              " Text(0.9525691699604744, 0.9269662921348315, 'gini = 0.0\\nsamples = 1\\nvalue = [0, 1]'),\n",
              " Text(0.9604743083003953, 0.9382022471910112, 'gini = 0.0\\nsamples = 1\\nvalue = [0, 1]'),\n",
              " Text(0.9841897233201581, 0.949438202247191, 'x[8609] <= 0.5\\ngini = 0.444\\nsamples = 3\\nvalue = [1, 2]'),\n",
              " Text(0.9762845849802372, 0.9382022471910112, 'gini = 0.0\\nsamples = 2\\nvalue = [0, 2]'),\n",
              " Text(0.9920948616600791, 0.9382022471910112, 'gini = 0.0\\nsamples = 1\\nvalue = [1, 0]'),\n",
              " Text(0.9841897233201581, 0.9606741573033708, 'gini = 0.0\\nsamples = 2\\nvalue = [0, 2]'),\n",
              " Text(0.9920948616600791, 0.9719101123595506, 'gini = 0.0\\nsamples = 3\\nvalue = [0, 3]')]"
            ]
          },
          "metadata": {},
          "execution_count": 47
        },
        {
          "output_type": "display_data",
          "data": {
            "text/plain": [
              "<Figure size 640x480 with 1 Axes>"
            ],
            "image/png": "[encoded data removed]"
          },
          "metadata": {}
        }
      ]
    },
    {
      "cell_type": "code",
      "source": [
        "dtc_pred = dtc.predict(x_test)"
      ],
      "metadata": {
        "id": "nyzWdsjEXNek"
      },
      "execution_count": null,
      "outputs": []
    },
    {
      "cell_type": "code",
      "source": [
        "accuracy_score(y_test,dtc_pred)"
      ],
      "metadata": {
        "colab": {
          "base_uri": "https://localhost:8080/"
        },
        "id": "w47hbOwmfjDp",
        "outputId": "1c8b46f0-cdef-42df-fa9c-ecac54ec392b"
      },
      "execution_count": null,
      "outputs": [
        {
          "output_type": "execute_result",
          "data": {
            "text/plain": [
              "0.9605168700646087"
            ]
          },
          "metadata": {},
          "execution_count": 49
        }
      ]
    },
    {
      "cell_type": "code",
      "source": [
        "print(classification_report(y_test, dtc_pred))"
      ],
      "metadata": {
        "colab": {
          "base_uri": "https://localhost:8080/"
        },
        "id": "dhzYIjEZXTc8",
        "outputId": "432d0e7f-2f8d-4d83-c54c-ec2f23212109"
      },
      "execution_count": null,
      "outputs": [
        {
          "output_type": "stream",
          "name": "stdout",
          "text": [
            "              precision    recall  f1-score   support\n",
            "\n",
            "           0       0.89      0.79      0.84       181\n",
            "           1       0.97      0.99      0.98      1212\n",
            "\n",
            "    accuracy                           0.96      1393\n",
            "   macro avg       0.93      0.89      0.91      1393\n",
            "weighted avg       0.96      0.96      0.96      1393\n",
            "\n"
          ]
        }
      ]
    },
    {
      "cell_type": "code",
      "source": [
        "print(confusion_matrix(y_test, dtc_pred))"
      ],
      "metadata": {
        "colab": {
          "base_uri": "https://localhost:8080/"
        },
        "id": "cH1Mw1khXWeV",
        "outputId": "e82a69a1-a9a3-49dd-c989-bc1641728ef3"
      },
      "execution_count": null,
      "outputs": [
        {
          "output_type": "stream",
          "name": "stdout",
          "text": [
            "[[ 143   38]\n",
            " [  17 1195]]\n"
          ]
        }
      ]
    },
    {
      "cell_type": "markdown",
      "source": [
        "# Random Forest"
      ],
      "metadata": {
        "id": "7s6XB6y7Xau9"
      }
    },
    {
      "cell_type": "code",
      "source": [
        "from sklearn.ensemble import RandomForestClassifier"
      ],
      "metadata": {
        "id": "QFgIAfM5XY8z"
      },
      "execution_count": null,
      "outputs": []
    },
    {
      "cell_type": "code",
      "source": [
        "rfc = RandomForestClassifier().fit(x_train, y_train)"
      ],
      "metadata": {
        "id": "7yaH9Ri-XgJK"
      },
      "execution_count": null,
      "outputs": []
    },
    {
      "cell_type": "code",
      "source": [
        "rfc_pred = rfc.predict(x_test)"
      ],
      "metadata": {
        "id": "jtIH_pWpXiDo"
      },
      "execution_count": null,
      "outputs": []
    },
    {
      "cell_type": "code",
      "source": [
        "accuracy_score(y_test,rfc_pred)"
      ],
      "metadata": {
        "colab": {
          "base_uri": "https://localhost:8080/"
        },
        "id": "iqsgg0W9fwBx",
        "outputId": "8c0c42ac-5f42-47d7-ccd7-438e092e5297"
      },
      "execution_count": null,
      "outputs": [
        {
          "output_type": "execute_result",
          "data": {
            "text/plain": [
              "0.9691313711414213"
            ]
          },
          "metadata": {},
          "execution_count": 55
        }
      ]
    },
    {
      "cell_type": "code",
      "source": [
        "print(classification_report(y_test, rfc_pred))"
      ],
      "metadata": {
        "colab": {
          "base_uri": "https://localhost:8080/"
        },
        "id": "RAw6vjNXXkCI",
        "outputId": "cb85974f-a374-4fdc-ebd8-65fcfa1f41a7"
      },
      "execution_count": null,
      "outputs": [
        {
          "output_type": "stream",
          "name": "stdout",
          "text": [
            "              precision    recall  f1-score   support\n",
            "\n",
            "           0       1.00      0.76      0.87       181\n",
            "           1       0.97      1.00      0.98      1212\n",
            "\n",
            "    accuracy                           0.97      1393\n",
            "   macro avg       0.98      0.88      0.92      1393\n",
            "weighted avg       0.97      0.97      0.97      1393\n",
            "\n"
          ]
        }
      ]
    },
    {
      "cell_type": "code",
      "source": [
        "print(confusion_matrix(y_test, rfc_pred))"
      ],
      "metadata": {
        "colab": {
          "base_uri": "https://localhost:8080/"
        },
        "id": "Yh-TTPpRXj-z",
        "outputId": "34db68cb-ce12-40dc-d50f-54a6fd88b52d"
      },
      "execution_count": null,
      "outputs": [
        {
          "output_type": "stream",
          "name": "stdout",
          "text": [
            "[[ 138   43]\n",
            " [   0 1212]]\n"
          ]
        }
      ]
    },
    {
      "cell_type": "markdown",
      "source": [
        "# Extra Trees Classifier"
      ],
      "metadata": {
        "id": "nQTnaaMdXvTF"
      }
    },
    {
      "cell_type": "code",
      "source": [
        "from sklearn.ensemble import ExtraTreesClassifier"
      ],
      "metadata": {
        "id": "ULGxhTnEXq-r"
      },
      "execution_count": null,
      "outputs": []
    },
    {
      "cell_type": "code",
      "source": [
        "etc = ExtraTreesClassifier().fit(x_train, y_train)\n",
        "etc_pred = etc.predict(x_test)\n",
        "print(classification_report(y_test, etc_pred))"
      ],
      "metadata": {
        "colab": {
          "base_uri": "https://localhost:8080/"
        },
        "id": "PDM8FhcxX0hN",
        "outputId": "9d4a54f4-caa7-4873-b9da-9fd7b4ba512c"
      },
      "execution_count": null,
      "outputs": [
        {
          "output_type": "stream",
          "name": "stdout",
          "text": [
            "              precision    recall  f1-score   support\n",
            "\n",
            "           0       0.96      0.81      0.88       181\n",
            "           1       0.97      1.00      0.98      1212\n",
            "\n",
            "    accuracy                           0.97      1393\n",
            "   macro avg       0.97      0.90      0.93      1393\n",
            "weighted avg       0.97      0.97      0.97      1393\n",
            "\n"
          ]
        }
      ]
    },
    {
      "cell_type": "code",
      "source": [
        "accuracy_score(y_test,etc_pred)"
      ],
      "metadata": {
        "colab": {
          "base_uri": "https://localhost:8080/"
        },
        "id": "rPVjapLUf49e",
        "outputId": "0d3f489c-f924-4507-f8b5-fe4d99f90840"
      },
      "execution_count": null,
      "outputs": [
        {
          "output_type": "execute_result",
          "data": {
            "text/plain": [
              "0.9712849964106246"
            ]
          },
          "metadata": {},
          "execution_count": 60
        }
      ]
    },
    {
      "cell_type": "code",
      "source": [
        "print(confusion_matrix(y_test, etc_pred))"
      ],
      "metadata": {
        "colab": {
          "base_uri": "https://localhost:8080/"
        },
        "id": "1PWPPJU2X2S8",
        "outputId": "5fe49bee-c122-4a63-d7a2-7d3a286fd789"
      },
      "execution_count": null,
      "outputs": [
        {
          "output_type": "stream",
          "name": "stdout",
          "text": [
            "[[ 147   34]\n",
            " [   6 1206]]\n"
          ]
        }
      ]
    },
    {
      "cell_type": "code",
      "source": [
        "import matplotlib.pyplot as plt\n",
        "spam_counts = y_test.value_counts()\n",
        "plt.figure(figsize=(8, 6))\n",
        "plt.bar(spam_counts.index, spam_counts.values, color=['green', 'red'])\n",
        "plt.xlabel('Email Type')\n",
        "plt.ylabel('Number of Emails')\n",
        "plt.title('Number of Spam and Non-Spam Emails')\n",
        "plt.xticks([0, 1], ['spam', 'ham'])\n",
        "plt.show()"
      ],
      "metadata": {
        "colab": {
          "base_uri": "https://localhost:8080/",
          "height": 564
        },
        "id": "049b2n_p6TmX",
        "outputId": "061cc59d-6f35-4650-9b35-003c2a2d1baf"
      },
      "execution_count": null,
      "outputs": [
        {
          "output_type": "display_data",
          "data": {
            "text/plain": [
              "<Figure size 800x600 with 1 Axes>"
            ],
            "image/png": "[encoded data removed]"
          },
          "metadata": {}
        }
      ]
    },
    {
      "cell_type": "markdown",
      "source": [
        "**LOGISTIC REGRESSION**:\n",
        "\n",
        "ACCURACY SCORE:0.9856424982053122\n",
        "\n",
        "\n",
        "**SVM:**\n",
        "\n",
        "ACCURACY SCORE:0.9755922469490309\n",
        "\n",
        "**RANDOM FOREST:**\n",
        "\n",
        "ACCURACY SCORE:0.9741564967695621\n",
        "\n",
        "**DECISION TREE:**\n",
        "\n",
        "ACCURACY SCORE:0.9691313711414213\n",
        "\n",
        "**NAIVE BAYES:**\n",
        "\n",
        "ACCURACY SCORE:0.8650394831299354\n",
        "\n",
        "**EXTRA TREE CLASSIFIER**:\n",
        "\n",
        "\n",
        "ACCURACY SCORE:0.9784637473079684"
      ],
      "metadata": {
        "id": "ZO2H3tyyb1zg"
      }
    },
    {
      "cell_type": "markdown",
      "source": [
        "**Conclusion:**\n",
        "The classification model Logistic Regression is having highest accuracy"
      ],
      "metadata": {
        "id": "ctJ9X5rs_PHH"
      }
    }
  ]
}
{
  "nbformat": 4,
  "nbformat_minor": 0,
  "metadata": {
    "colab": {
      "provenance": []
    },
    "kernelspec": {
      "name": "python3",
      "display_name": "Python 3"
    },
    "language_info": {
      "name": "python"
    }
  },
  "cells": [
    {
      "cell_type": "markdown",
      "source": [
        "**Problem Statement:**\n",
        "\n",
        "Phishing\n",
        "is a type of fraud in which an attacker impersonates a reputable company or\n",
        "person in order to get sensitive information such as login credentials or account\n",
        "information via email or other communication channels. Phishing is popular among\n",
        "attackers because it is easier to persuade someone to click a malicious link that appears\n",
        "to be authentic than it is to break through a computer's protection measures.\n",
        "The mail goal is to predict whether the domains are real or malicious.\n",
        "Approach: The classical machine learning tasks like Data Exploration, Data Cleaning,\n",
        "Feature Engineering, Model Building and Model Testing. Try out different machine\n",
        "learning algorithms thats best fit for the above case."
      ],
      "metadata": {
        "id": "zOZCm24Q2bW0"
      }
    },
    {
      "cell_type": "code",
      "execution_count": null,
      "metadata": {
        "id": "qXGzMVYfrTNV"
      },
      "outputs": [],
      "source": [
        "import numpy as np\n",
        "import pandas as pd\n",
        "import matplotlib.pyplot as plt\n",
        "import seaborn as sns\n",
        "from sklearn.model_selection import train_test_split\n",
        "from sklearn.linear_model import LinearRegression\n",
        "from sklearn.metrics import mean_squared_error\n",
        "from sklearn.metrics import mean_squared_error,mean_absolute_error,r2_score\n",
        "from sklearn.svm import SVR\n",
        "from sklearn.tree import DecisionTreeRegressor\n",
        "from sklearn.preprocessing import PolynomialFeatures\n",
        "from sklearn.ensemble import RandomForestRegressor\n",
        "from sklearn.preprocessing import LabelEncoder\n",
        "from sklearn.feature_extraction.text import TfidfVectorizer"
      ]
    },
    {
      "cell_type": "code",
      "source": [
        "import warnings\n",
        "warnings.filterwarnings(\"ignore\")"
      ],
      "metadata": {
        "id": "tedFvA9lm3XK"
      },
      "execution_count": null,
      "outputs": []
    },
    {
      "cell_type": "code",
      "source": [
        "data=pd.read_csv(\"/content/drive/MyDrive/dataset_phishing.csv\")"
      ],
      "metadata": {
        "id": "aNjux1zjhwyW"
      },
      "execution_count": null,
      "outputs": []
    },
    {
      "cell_type": "code",
      "source": [
        "data.head()"
      ],
      "metadata": {
        "id": "dWHVpBbuicHg",
        "colab": {
          "base_uri": "https://localhost:8080/",
          "height": 290
        },
        "outputId": "2a3e2eda-1e24-4167-c189-1e2351b06dd1"
      },
      "execution_count": null,
      "outputs": [
        {
          "output_type": "execute_result",
          "data": {
            "text/plain": [
              "                                                 url  length_url  \\\n",
              "0              http://www.crestonwood.com/router.php          37   \n",
              "1  http://shadetreetechnology.com/V4/validation/a...          77   \n",
              "2  https://support-appleld.com.secureupdate.duila...         126   \n",
              "3                                 http://rgipt.ac.in          18   \n",
              "4  http://www.iracing.com/tracks/gateway-motorspo...          55   \n",
              "\n",
              "   length_hostname  ip  nb_dots  nb_hyphens  nb_at  nb_qm  nb_and  nb_or  ...  \\\n",
              "0               19   0        3           0      0      0       0      0  ...   \n",
              "1               23   1        1           0      0      0       0      0  ...   \n",
              "2               50   1        4           1      0      1       2      0  ...   \n",
              "3               11   0        2           0      0      0       0      0  ...   \n",
              "4               15   0        2           2      0      0       0      0  ...   \n",
              "\n",
              "   domain_in_title  domain_with_copyright  whois_registered_domain  \\\n",
              "0                0                      1                        0   \n",
              "1                1                      0                        0   \n",
              "2                1                      0                        0   \n",
              "3                1                      0                        0   \n",
              "4                0                      1                        0   \n",
              "\n",
              "   domain_registration_length  domain_age  web_traffic  dns_record  \\\n",
              "0                          45          -1            0           1   \n",
              "1                          77        5767            0           0   \n",
              "2                          14        4004      5828815           0   \n",
              "3                          62          -1       107721           0   \n",
              "4                         224        8175         8725           0   \n",
              "\n",
              "   google_index  page_rank      status  \n",
              "0             1          4  legitimate  \n",
              "1             1          2    phishing  \n",
              "2             1          0    phishing  \n",
              "3             0          3  legitimate  \n",
              "4             0          6  legitimate  \n",
              "\n",
              "[5 rows x 89 columns]"
            ],
            "text/html": [
              "\n",
              "  <div id=\"df-c0119ea5-2f88-4637-a091-ad076c79e62b\" class=\"colab-df-container\">\n",
              "    <div>\n",
              "<style scoped>\n",
              "    .dataframe tbody tr th:only-of-type {\n",
              "        vertical-align: middle;\n",
              "    }\n",
              "\n",
              "    .dataframe tbody tr th {\n",
              "        vertical-align: top;\n",
              "    }\n",
              "\n",
              "    .dataframe thead th {\n",
              "        text-align: right;\n",
              "    }\n",
              "</style>\n",
              "<table border=\"1\" class=\"dataframe\">\n",
              "  <thead>\n",
              "    <tr style=\"text-align: right;\">\n",
              "      <th></th>\n",
              "      <th>url</th>\n",
              "      <th>length_url</th>\n",
              "      <th>length_hostname</th>\n",
              "      <th>ip</th>\n",
              "      <th>nb_dots</th>\n",
              "      <th>nb_hyphens</th>\n",
              "      <th>nb_at</th>\n",
              "      <th>nb_qm</th>\n",
              "      <th>nb_and</th>\n",
              "      <th>nb_or</th>\n",
              "      <th>...</th>\n",
              "      <th>domain_in_title</th>\n",
              "      <th>domain_with_copyright</th>\n",
              "      <th>whois_registered_domain</th>\n",
              "      <th>domain_registration_length</th>\n",
              "      <th>domain_age</th>\n",
              "      <th>web_traffic</th>\n",
              "      <th>dns_record</th>\n",
              "      <th>google_index</th>\n",
              "      <th>page_rank</th>\n",
              "      <th>status</th>\n",
              "    </tr>\n",
              "  </thead>\n",
              "  <tbody>\n",
              "    <tr>\n",
              "      <th>0</th>\n",
              "      <td>http://www.crestonwood.com/router.php</td>\n",
              "      <td>37</td>\n",
              "      <td>19</td>\n",
              "      <td>0</td>\n",
              "      <td>3</td>\n",
              "      <td>0</td>\n",
              "      <td>0</td>\n",
              "      <td>0</td>\n",
              "      <td>0</td>\n",
              "      <td>0</td>\n",
              "      <td>...</td>\n",
              "      <td>0</td>\n",
              "      <td>1</td>\n",
              "      <td>0</td>\n",
              "      <td>45</td>\n",
              "      <td>-1</td>\n",
              "      <td>0</td>\n",
              "      <td>1</td>\n",
              "      <td>1</td>\n",
              "      <td>4</td>\n",
              "      <td>legitimate</td>\n",
              "    </tr>\n",
              "    <tr>\n",
              "      <th>1</th>\n",
              "      <td>http://shadetreetechnology.com/V4/validation/a...</td>\n",
              "      <td>77</td>\n",
              "      <td>23</td>\n",
              "      <td>1</td>\n",
              "      <td>1</td>\n",
              "      <td>0</td>\n",
              "      <td>0</td>\n",
              "      <td>0</td>\n",
              "      <td>0</td>\n",
              "      <td>0</td>\n",
              "      <td>...</td>\n",
              "      <td>1</td>\n",
              "      <td>0</td>\n",
              "      <td>0</td>\n",
              "      <td>77</td>\n",
              "      <td>5767</td>\n",
              "      <td>0</td>\n",
              "      <td>0</td>\n",
              "      <td>1</td>\n",
              "      <td>2</td>\n",
              "      <td>phishing</td>\n",
              "    </tr>\n",
              "    <tr>\n",
              "      <th>2</th>\n",
              "      <td>https://support-appleld.com.secureupdate.duila...</td>\n",
              "      <td>126</td>\n",
              "      <td>50</td>\n",
              "      <td>1</td>\n",
              "      <td>4</td>\n",
              "      <td>1</td>\n",
              "      <td>0</td>\n",
              "      <td>1</td>\n",
              "      <td>2</td>\n",
              "      <td>0</td>\n",
              "      <td>...</td>\n",
              "      <td>1</td>\n",
              "      <td>0</td>\n",
              "      <td>0</td>\n",
              "      <td>14</td>\n",
              "      <td>4004</td>\n",
              "      <td>5828815</td>\n",
              "      <td>0</td>\n",
              "      <td>1</td>\n",
              "      <td>0</td>\n",
              "      <td>phishing</td>\n",
              "    </tr>\n",
              "    <tr>\n",
              "      <th>3</th>\n",
              "      <td>http://rgipt.ac.in</td>\n",
              "      <td>18</td>\n",
              "      <td>11</td>\n",
              "      <td>0</td>\n",
              "      <td>2</td>\n",
              "      <td>0</td>\n",
              "      <td>0</td>\n",
              "      <td>0</td>\n",
              "      <td>0</td>\n",
              "      <td>0</td>\n",
              "      <td>...</td>\n",
              "      <td>1</td>\n",
              "      <td>0</td>\n",
              "      <td>0</td>\n",
              "      <td>62</td>\n",
              "      <td>-1</td>\n",
              "      <td>107721</td>\n",
              "      <td>0</td>\n",
              "      <td>0</td>\n",
              "      <td>3</td>\n",
              "      <td>legitimate</td>\n",
              "    </tr>\n",
              "    <tr>\n",
              "      <th>4</th>\n",
              "      <td>http://www.iracing.com/tracks/gateway-motorspo...</td>\n",
              "      <td>55</td>\n",
              "      <td>15</td>\n",
              "      <td>0</td>\n",
              "      <td>2</td>\n",
              "      <td>2</td>\n",
              "      <td>0</td>\n",
              "      <td>0</td>\n",
              "      <td>0</td>\n",
              "      <td>0</td>\n",
              "      <td>...</td>\n",
              "      <td>0</td>\n",
              "      <td>1</td>\n",
              "      <td>0</td>\n",
              "      <td>224</td>\n",
              "      <td>8175</td>\n",
              "      <td>8725</td>\n",
              "      <td>0</td>\n",
              "      <td>0</td>\n",
              "      <td>6</td>\n",
              "      <td>legitimate</td>\n",
              "    </tr>\n",
              "  </tbody>\n",
              "</table>\n",
              "<p>5 rows × 89 columns</p>\n",
              "</div>\n",
              "    <div class=\"colab-df-buttons\">\n",
              "\n",
              "  <div class=\"colab-df-container\">\n",
              "    <button class=\"colab-df-convert\" onclick=\"convertToInteractive('df-c0119ea5-2f88-4637-a091-ad076c79e62b')\"\n",
              "            title=\"Convert this dataframe to an interactive table.\"\n",
              "            style=\"display:none;\">\n",
              "\n",
              "  <svg xmlns=\"http://www.w3.org/2000/svg\" height=\"24px\" viewBox=\"0 -960 960 960\">\n",
              "    <path d=\"M120-120v-720h720v720H120Zm60-500h600v-160H180v160Zm220 220h160v-160H400v160Zm0 220h160v-160H400v160ZM180-400h160v-160H180v160Zm440 0h160v-160H620v160ZM180-180h160v-160H180v160Zm440 0h160v-160H620v160Z\"/>\n",
              "  </svg>\n",
              "    </button>\n",
              "\n",
              "  <style>\n",
              "    .colab-df-container {\n",
              "      display:flex;\n",
              "      gap: 12px;\n",
              "    }\n",
              "\n",
              "    .colab-df-convert {\n",
              "      background-color: #E8F0FE;\n",
              "      border: none;\n",
              "      border-radius: 50%;\n",
              "      cursor: pointer;\n",
              "      display: none;\n",
              "      fill: #1967D2;\n",
              "      height: 32px;\n",
              "      padding: 0 0 0 0;\n",
              "      width: 32px;\n",
              "    }\n",
              "\n",
              "    .colab-df-convert:hover {\n",
              "      background-color: #E2EBFA;\n",
              "      box-shadow: 0px 1px 2px rgba(60, 64, 67, 0.3), 0px 1px 3px 1px rgba(60, 64, 67, 0.15);\n",
              "      fill: #174EA6;\n",
              "    }\n",
              "\n",
              "    .colab-df-buttons div {\n",
              "      margin-bottom: 4px;\n",
              "    }\n",
              "\n",
              "    [theme=dark] .colab-df-convert {\n",
              "      background-color: #3B4455;\n",
              "      fill: #D2E3FC;\n",
              "    }\n",
              "\n",
              "    [theme=dark] .colab-df-convert:hover {\n",
              "      background-color: #434B5C;\n",
              "      box-shadow: 0px 1px 3px 1px rgba(0, 0, 0, 0.15);\n",
              "      filter: drop-shadow(0px 1px 2px rgba(0, 0, 0, 0.3));\n",
              "      fill: #FFFFFF;\n",
              "    }\n",
              "  </style>\n",
              "\n",
              "    <script>\n",
              "      const buttonEl =\n",
              "        document.querySelector('#df-c0119ea5-2f88-4637-a091-ad076c79e62b button.colab-df-convert');\n",
              "      buttonEl.style.display =\n",
              "        google.colab.kernel.accessAllowed ? 'block' : 'none';\n",
              "\n",
              "      async function convertToInteractive(key) {\n",
              "        const element = document.querySelector('#df-c0119ea5-2f88-4637-a091-ad076c79e62b');\n",
              "        const dataTable =\n",
              "          await google.colab.kernel.invokeFunction('convertToInteractive',\n",
              "                                                    [key], {});\n",
              "        if (!dataTable) return;\n",
              "\n",
              "        const docLinkHtml = 'Like what you see? Visit the ' +\n",
              "          '<a target=\"_blank\" href=https://colab.research.google.com/notebooks/data_table.ipynb>data table notebook</a>'\n",
              "          + ' to learn more about interactive tables.';\n",
              "        element.innerHTML = '';\n",
              "        dataTable['output_type'] = 'display_data';\n",
              "        await google.colab.output.renderOutput(dataTable, element);\n",
              "        const docLink = document.createElement('div');\n",
              "        docLink.innerHTML = docLinkHtml;\n",
              "        element.appendChild(docLink);\n",
              "      }\n",
              "    </script>\n",
              "  </div>\n",
              "\n",
              "\n",
              "<div id=\"df-44184cea-584e-44ee-b169-85cc8c8ab591\">\n",
              "  <button class=\"colab-df-quickchart\" onclick=\"quickchart('df-44184cea-584e-44ee-b169-85cc8c8ab591')\"\n",
              "            title=\"Suggest charts\"\n",
              "            style=\"display:none;\">\n",
              "\n",
              "<svg xmlns=\"http://www.w3.org/2000/svg\" height=\"24px\"viewBox=\"0 0 24 24\"\n",
              "     width=\"24px\">\n",
              "    <g>\n",
              "        <path d=\"M19 3H5c-1.1 0-2 .9-2 2v14c0 1.1.9 2 2 2h14c1.1 0 2-.9 2-2V5c0-1.1-.9-2-2-2zM9 17H7v-7h2v7zm4 0h-2V7h2v10zm4 0h-2v-4h2v4z\"/>\n",
              "    </g>\n",
              "</svg>\n",
              "  </button>\n",
              "\n",
              "<style>\n",
              "  .colab-df-quickchart {\n",
              "      --bg-color: #E8F0FE;\n",
              "      --fill-color: #1967D2;\n",
              "      --hover-bg-color: #E2EBFA;\n",
              "      --hover-fill-color: #174EA6;\n",
              "      --disabled-fill-color: #AAA;\n",
              "      --disabled-bg-color: #DDD;\n",
              "  }\n",
              "\n",
              "  [theme=dark] .colab-df-quickchart {\n",
              "      --bg-color: #3B4455;\n",
              "      --fill-color: #D2E3FC;\n",
              "      --hover-bg-color: #434B5C;\n",
              "      --hover-fill-color: #FFFFFF;\n",
              "      --disabled-bg-color: #3B4455;\n",
              "      --disabled-fill-color: #666;\n",
              "  }\n",
              "\n",
              "  .colab-df-quickchart {\n",
              "    background-color: var(--bg-color);\n",
              "    border: none;\n",
              "    border-radius: 50%;\n",
              "    cursor: pointer;\n",
              "    display: none;\n",
              "    fill: var(--fill-color);\n",
              "    height: 32px;\n",
              "    padding: 0;\n",
              "    width: 32px;\n",
              "  }\n",
              "\n",
              "  .colab-df-quickchart:hover {\n",
              "    background-color: var(--hover-bg-color);\n",
              "    box-shadow: 0 1px 2px rgba(60, 64, 67, 0.3), 0 1px 3px 1px rgba(60, 64, 67, 0.15);\n",
              "    fill: var(--button-hover-fill-color);\n",
              "  }\n",
              "\n",
              "  .colab-df-quickchart-complete:disabled,\n",
              "  .colab-df-quickchart-complete:disabled:hover {\n",
              "    background-color: var(--disabled-bg-color);\n",
              "    fill: var(--disabled-fill-color);\n",
              "    box-shadow: none;\n",
              "  }\n",
              "\n",
              "  .colab-df-spinner {\n",
              "    border: 2px solid var(--fill-color);\n",
              "    border-color: transparent;\n",
              "    border-bottom-color: var(--fill-color);\n",
              "    animation:\n",
              "      spin 1s steps(1) infinite;\n",
              "  }\n",
              "\n",
              "  @keyframes spin {\n",
              "    0% {\n",
              "      border-color: transparent;\n",
              "      border-bottom-color: var(--fill-color);\n",
              "      border-left-color: var(--fill-color);\n",
              "    }\n",
              "    20% {\n",
              "      border-color: transparent;\n",
              "      border-left-color: var(--fill-color);\n",
              "      border-top-color: var(--fill-color);\n",
              "    }\n",
              "    30% {\n",
              "      border-color: transparent;\n",
              "      border-left-color: var(--fill-color);\n",
              "      border-top-color: var(--fill-color);\n",
              "      border-right-color: var(--fill-color);\n",
              "    }\n",
              "    40% {\n",
              "      border-color: transparent;\n",
              "      border-right-color: var(--fill-color);\n",
              "      border-top-color: var(--fill-color);\n",
              "    }\n",
              "    60% {\n",
              "      border-color: transparent;\n",
              "      border-right-color: var(--fill-color);\n",
              "    }\n",
              "    80% {\n",
              "      border-color: transparent;\n",
              "      border-right-color: var(--fill-color);\n",
              "      border-bottom-color: var(--fill-color);\n",
              "    }\n",
              "    90% {\n",
              "      border-color: transparent;\n",
              "      border-bottom-color: var(--fill-color);\n",
              "    }\n",
              "  }\n",
              "</style>\n",
              "\n",
              "  <script>\n",
              "    async function quickchart(key) {\n",
              "      const quickchartButtonEl =\n",
              "        document.querySelector('#' + key + ' button');\n",
              "      quickchartButtonEl.disabled = true;  // To prevent multiple clicks.\n",
              "      quickchartButtonEl.classList.add('colab-df-spinner');\n",
              "      try {\n",
              "        const charts = await google.colab.kernel.invokeFunction(\n",
              "            'suggestCharts', [key], {});\n",
              "      } catch (error) {\n",
              "        console.error('Error during call to suggestCharts:', error);\n",
              "      }\n",
              "      quickchartButtonEl.classList.remove('colab-df-spinner');\n",
              "      quickchartButtonEl.classList.add('colab-df-quickchart-complete');\n",
              "    }\n",
              "    (() => {\n",
              "      let quickchartButtonEl =\n",
              "        document.querySelector('#df-44184cea-584e-44ee-b169-85cc8c8ab591 button');\n",
              "      quickchartButtonEl.style.display =\n",
              "        google.colab.kernel.accessAllowed ? 'block' : 'none';\n",
              "    })();\n",
              "  </script>\n",
              "</div>\n",
              "\n",
              "    </div>\n",
              "  </div>\n"
            ]
          },
          "metadata": {},
          "execution_count": 4
        }
      ]
    },
    {
      "cell_type": "code",
      "source": [
        "data['url'].unique()"
      ],
      "metadata": {
        "colab": {
          "base_uri": "https://localhost:8080/"
        },
        "id": "1L9OrCBfv2Dw",
        "outputId": "679c6274-d1e6-46a4-a141-e807d5b1039b"
      },
      "execution_count": null,
      "outputs": [
        {
          "output_type": "execute_result",
          "data": {
            "text/plain": [
              "array(['http://www.crestonwood.com/router.php',\n",
              "       'http://shadetreetechnology.com/V4/validation/a111aedc8ae390eabcfa130e041a10a4',\n",
              "       'https://support-appleld.com.secureupdate.duilawyeryork.com/ap/89e6a3b4b063b8d/?cmd=_update&dispatch=89e6a3b4b063b8d1b&locale=_',\n",
              "       ...,\n",
              "       'https://www.facebook.com/Interactive-Television-Pvt-Ltd-Group-M-100230523435650/photos/?ref=page_internal',\n",
              "       'http://www.mypublicdomainpictures.com/',\n",
              "       'http://174.139.46.123/ap/signin?openid.pape.max_auth_age=0&amp;openid.return_to=https%3A%2F%2Fwww.amazon.co.jp%2F%3Fref_%3Dnav_em_hd_re_signin&amp;openid.identity=http%3A%2F%2Fspecs.openid.net%2Fauth%2F2.0%2Fidentifier_select&amp;openid.assoc_handle=jpflex&amp;openid.mode=checkid_setup&amp;key=a@b.c&amp;openid.claimed_id=http%3A%2F%2Fspecs.openid.net%2Fauth%2F2.0%2Fidentifier_select&amp;openid.ns=http%3A%2F%2Fspecs.openid.net%2Fauth%2F2.0&amp;&amp;ref_=nav_em_hd_clc_signin'],\n",
              "      dtype=object)"
            ]
          },
          "metadata": {},
          "execution_count": 5
        }
      ]
    },
    {
      "cell_type": "code",
      "source": [
        "data.info()"
      ],
      "metadata": {
        "colab": {
          "base_uri": "https://localhost:8080/"
        },
        "id": "MYSkT4Laj7vk",
        "outputId": "5c132fdb-db13-4e7f-b6ef-d7443ed9a9ff"
      },
      "execution_count": null,
      "outputs": [
        {
          "output_type": "stream",
          "name": "stdout",
          "text": [
            "<class 'pandas.core.frame.DataFrame'>\n",
            "RangeIndex: 11430 entries, 0 to 11429\n",
            "Data columns (total 89 columns):\n",
            " #   Column                      Non-Null Count  Dtype  \n",
            "---  ------                      --------------  -----  \n",
            " 0   url                         11430 non-null  object \n",
            " 1   length_url                  11430 non-null  int64  \n",
            " 2   length_hostname             11430 non-null  int64  \n",
            " 3   ip                          11430 non-null  int64  \n",
            " 4   nb_dots                     11430 non-null  int64  \n",
            " 5   nb_hyphens                  11430 non-null  int64  \n",
            " 6   nb_at                       11430 non-null  int64  \n",
            " 7   nb_qm                       11430 non-null  int64  \n",
            " 8   nb_and                      11430 non-null  int64  \n",
            " 9   nb_or                       11430 non-null  int64  \n",
            " 10  nb_eq                       11430 non-null  int64  \n",
            " 11  nb_underscore               11430 non-null  int64  \n",
            " 12  nb_tilde                    11430 non-null  int64  \n",
            " 13  nb_percent                  11430 non-null  int64  \n",
            " 14  nb_slash                    11430 non-null  int64  \n",
            " 15  nb_star                     11430 non-null  int64  \n",
            " 16  nb_colon                    11430 non-null  int64  \n",
            " 17  nb_comma                    11430 non-null  int64  \n",
            " 18  nb_semicolumn               11430 non-null  int64  \n",
            " 19  nb_dollar                   11430 non-null  int64  \n",
            " 20  nb_space                    11430 non-null  int64  \n",
            " 21  nb_www                      11430 non-null  int64  \n",
            " 22  nb_com                      11430 non-null  int64  \n",
            " 23  nb_dslash                   11430 non-null  int64  \n",
            " 24  http_in_path                11430 non-null  int64  \n",
            " 25  https_token                 11430 non-null  int64  \n",
            " 26  ratio_digits_url            11430 non-null  float64\n",
            " 27  ratio_digits_host           11430 non-null  float64\n",
            " 28  punycode                    11430 non-null  int64  \n",
            " 29  port                        11430 non-null  int64  \n",
            " 30  tld_in_path                 11430 non-null  int64  \n",
            " 31  tld_in_subdomain            11430 non-null  int64  \n",
            " 32  abnormal_subdomain          11430 non-null  int64  \n",
            " 33  nb_subdomains               11430 non-null  int64  \n",
            " 34  prefix_suffix               11430 non-null  int64  \n",
            " 35  random_domain               11430 non-null  int64  \n",
            " 36  shortening_service          11430 non-null  int64  \n",
            " 37  path_extension              11430 non-null  int64  \n",
            " 38  nb_redirection              11430 non-null  int64  \n",
            " 39  nb_external_redirection     11430 non-null  int64  \n",
            " 40  length_words_raw            11430 non-null  int64  \n",
            " 41  char_repeat                 11430 non-null  int64  \n",
            " 42  shortest_words_raw          11430 non-null  int64  \n",
            " 43  shortest_word_host          11430 non-null  int64  \n",
            " 44  shortest_word_path          11430 non-null  int64  \n",
            " 45  longest_words_raw           11430 non-null  int64  \n",
            " 46  longest_word_host           11430 non-null  int64  \n",
            " 47  longest_word_path           11430 non-null  int64  \n",
            " 48  avg_words_raw               11430 non-null  float64\n",
            " 49  avg_word_host               11430 non-null  float64\n",
            " 50  avg_word_path               11430 non-null  float64\n",
            " 51  phish_hints                 11430 non-null  int64  \n",
            " 52  domain_in_brand             11430 non-null  int64  \n",
            " 53  brand_in_subdomain          11430 non-null  int64  \n",
            " 54  brand_in_path               11430 non-null  int64  \n",
            " 55  suspecious_tld              11430 non-null  int64  \n",
            " 56  statistical_report          11430 non-null  int64  \n",
            " 57  nb_hyperlinks               11430 non-null  int64  \n",
            " 58  ratio_intHyperlinks         11430 non-null  float64\n",
            " 59  ratio_extHyperlinks         11430 non-null  float64\n",
            " 60  ratio_nullHyperlinks        11430 non-null  int64  \n",
            " 61  nb_extCSS                   11430 non-null  int64  \n",
            " 62  ratio_intRedirection        11430 non-null  int64  \n",
            " 63  ratio_extRedirection        11430 non-null  float64\n",
            " 64  ratio_intErrors             11430 non-null  int64  \n",
            " 65  ratio_extErrors             11430 non-null  float64\n",
            " 66  login_form                  11430 non-null  int64  \n",
            " 67  external_favicon            11430 non-null  int64  \n",
            " 68  links_in_tags               11430 non-null  float64\n",
            " 69  submit_email                11430 non-null  int64  \n",
            " 70  ratio_intMedia              11430 non-null  float64\n",
            " 71  ratio_extMedia              11430 non-null  float64\n",
            " 72  sfh                         11430 non-null  int64  \n",
            " 73  iframe                      11430 non-null  int64  \n",
            " 74  popup_window                11430 non-null  int64  \n",
            " 75  safe_anchor                 11430 non-null  float64\n",
            " 76  onmouseover                 11430 non-null  int64  \n",
            " 77  right_clic                  11430 non-null  int64  \n",
            " 78  empty_title                 11430 non-null  int64  \n",
            " 79  domain_in_title             11430 non-null  int64  \n",
            " 80  domain_with_copyright       11430 non-null  int64  \n",
            " 81  whois_registered_domain     11430 non-null  int64  \n",
            " 82  domain_registration_length  11430 non-null  int64  \n",
            " 83  domain_age                  11430 non-null  int64  \n",
            " 84  web_traffic                 11430 non-null  int64  \n",
            " 85  dns_record                  11430 non-null  int64  \n",
            " 86  google_index                11430 non-null  int64  \n",
            " 87  page_rank                   11430 non-null  int64  \n",
            " 88  status                      11430 non-null  object \n",
            "dtypes: float64(13), int64(74), object(2)\n",
            "memory usage: 7.8+ MB\n"
          ]
        }
      ]
    },
    {
      "cell_type": "code",
      "source": [
        "data.columns"
      ],
      "metadata": {
        "colab": {
          "base_uri": "https://localhost:8080/"
        },
        "id": "Z-cNAFamkoPd",
        "outputId": "08d26cfb-5fb6-4909-96a8-8c3b178b2c23"
      },
      "execution_count": null,
      "outputs": [
        {
          "output_type": "execute_result",
          "data": {
            "text/plain": [
              "Index(['url', 'length_url', 'length_hostname', 'ip', 'nb_dots', 'nb_hyphens',\n",
              "       'nb_at', 'nb_qm', 'nb_and', 'nb_or', 'nb_eq', 'nb_underscore',\n",
              "       'nb_tilde', 'nb_percent', 'nb_slash', 'nb_star', 'nb_colon', 'nb_comma',\n",
              "       'nb_semicolumn', 'nb_dollar', 'nb_space', 'nb_www', 'nb_com',\n",
              "       'nb_dslash', 'http_in_path', 'https_token', 'ratio_digits_url',\n",
              "       'ratio_digits_host', 'punycode', 'port', 'tld_in_path',\n",
              "       'tld_in_subdomain', 'abnormal_subdomain', 'nb_subdomains',\n",
              "       'prefix_suffix', 'random_domain', 'shortening_service',\n",
              "       'path_extension', 'nb_redirection', 'nb_external_redirection',\n",
              "       'length_words_raw', 'char_repeat', 'shortest_words_raw',\n",
              "       'shortest_word_host', 'shortest_word_path', 'longest_words_raw',\n",
              "       'longest_word_host', 'longest_word_path', 'avg_words_raw',\n",
              "       'avg_word_host', 'avg_word_path', 'phish_hints', 'domain_in_brand',\n",
              "       'brand_in_subdomain', 'brand_in_path', 'suspecious_tld',\n",
              "       'statistical_report', 'nb_hyperlinks', 'ratio_intHyperlinks',\n",
              "       'ratio_extHyperlinks', 'ratio_nullHyperlinks', 'nb_extCSS',\n",
              "       'ratio_intRedirection', 'ratio_extRedirection', 'ratio_intErrors',\n",
              "       'ratio_extErrors', 'login_form', 'external_favicon', 'links_in_tags',\n",
              "       'submit_email', 'ratio_intMedia', 'ratio_extMedia', 'sfh', 'iframe',\n",
              "       'popup_window', 'safe_anchor', 'onmouseover', 'right_clic',\n",
              "       'empty_title', 'domain_in_title', 'domain_with_copyright',\n",
              "       'whois_registered_domain', 'domain_registration_length', 'domain_age',\n",
              "       'web_traffic', 'dns_record', 'google_index', 'page_rank', 'status'],\n",
              "      dtype='object')"
            ]
          },
          "metadata": {},
          "execution_count": 7
        }
      ]
    },
    {
      "cell_type": "code",
      "source": [
        "data.shape"
      ],
      "metadata": {
        "colab": {
          "base_uri": "https://localhost:8080/"
        },
        "id": "ZgbsJGIakoMG",
        "outputId": "903e32bb-cba3-475e-a6f2-bf31b54ed406"
      },
      "execution_count": null,
      "outputs": [
        {
          "output_type": "execute_result",
          "data": {
            "text/plain": [
              "(11430, 89)"
            ]
          },
          "metadata": {},
          "execution_count": 8
        }
      ]
    },
    {
      "cell_type": "code",
      "source": [
        "data.describe()"
      ],
      "metadata": {
        "colab": {
          "base_uri": "https://localhost:8080/",
          "height": 349
        },
        "id": "4H7-y9PckoKn",
        "outputId": "0bf9591f-aad9-455c-bc76-809244d9ba36"
      },
      "execution_count": null,
      "outputs": [
        {
          "output_type": "execute_result",
          "data": {
            "text/plain": [
              "         length_url  length_hostname            ip       nb_dots  \\\n",
              "count  11430.000000     11430.000000  11430.000000  11430.000000   \n",
              "mean      61.126684        21.090289      0.150569      2.480752   \n",
              "std       55.297318        10.777171      0.357644      1.369686   \n",
              "min       12.000000         4.000000      0.000000      1.000000   \n",
              "25%       33.000000        15.000000      0.000000      2.000000   \n",
              "50%       47.000000        19.000000      0.000000      2.000000   \n",
              "75%       71.000000        24.000000      0.000000      3.000000   \n",
              "max     1641.000000       214.000000      1.000000     24.000000   \n",
              "\n",
              "         nb_hyphens         nb_at         nb_qm        nb_and    nb_or  \\\n",
              "count  11430.000000  11430.000000  11430.000000  11430.000000  11430.0   \n",
              "mean       0.997550      0.022222      0.141207      0.162292      0.0   \n",
              "std        2.087087      0.155500      0.364456      0.821337      0.0   \n",
              "min        0.000000      0.000000      0.000000      0.000000      0.0   \n",
              "25%        0.000000      0.000000      0.000000      0.000000      0.0   \n",
              "50%        0.000000      0.000000      0.000000      0.000000      0.0   \n",
              "75%        1.000000      0.000000      0.000000      0.000000      0.0   \n",
              "max       43.000000      4.000000      3.000000     19.000000      0.0   \n",
              "\n",
              "              nb_eq  ...   empty_title  domain_in_title  \\\n",
              "count  11430.000000  ...  11430.000000     11430.000000   \n",
              "mean       0.293176  ...      0.124759         0.775853   \n",
              "std        0.998317  ...      0.330460         0.417038   \n",
              "min        0.000000  ...      0.000000         0.000000   \n",
              "25%        0.000000  ...      0.000000         1.000000   \n",
              "50%        0.000000  ...      0.000000         1.000000   \n",
              "75%        0.000000  ...      0.000000         1.000000   \n",
              "max       19.000000  ...      1.000000         1.000000   \n",
              "\n",
              "       domain_with_copyright  whois_registered_domain  \\\n",
              "count           11430.000000             11430.000000   \n",
              "mean                0.439545                 0.072878   \n",
              "std                 0.496353                 0.259948   \n",
              "min                 0.000000                 0.000000   \n",
              "25%                 0.000000                 0.000000   \n",
              "50%                 0.000000                 0.000000   \n",
              "75%                 1.000000                 0.000000   \n",
              "max                 1.000000                 1.000000   \n",
              "\n",
              "       domain_registration_length    domain_age   web_traffic    dns_record  \\\n",
              "count                11430.000000  11430.000000  1.143000e+04  11430.000000   \n",
              "mean                   492.532196   4062.543745  8.567566e+05      0.020122   \n",
              "std                    814.769415   3107.784600  1.995606e+06      0.140425   \n",
              "min                     -1.000000    -12.000000  0.000000e+00      0.000000   \n",
              "25%                     84.000000    972.250000  0.000000e+00      0.000000   \n",
              "50%                    242.000000   3993.000000  1.651000e+03      0.000000   \n",
              "75%                    449.000000   7026.750000  3.738455e+05      0.000000   \n",
              "max                  29829.000000  12874.000000  1.076799e+07      1.000000   \n",
              "\n",
              "       google_index     page_rank  \n",
              "count  11430.000000  11430.000000  \n",
              "mean       0.533946      3.185739  \n",
              "std        0.498868      2.536955  \n",
              "min        0.000000      0.000000  \n",
              "25%        0.000000      1.000000  \n",
              "50%        1.000000      3.000000  \n",
              "75%        1.000000      5.000000  \n",
              "max        1.000000     10.000000  \n",
              "\n",
              "[8 rows x 87 columns]"
            ],
            "text/html": [
              "\n",
              "  <div id=\"df-80ebfb7e-d1af-48bb-8e72-0ed31e4b26e7\" class=\"colab-df-container\">\n",
              "    <div>\n",
              "<style scoped>\n",
              "    .dataframe tbody tr th:only-of-type {\n",
              "        vertical-align: middle;\n",
              "    }\n",
              "\n",
              "    .dataframe tbody tr th {\n",
              "        vertical-align: top;\n",
              "    }\n",
              "\n",
              "    .dataframe thead th {\n",
              "        text-align: right;\n",
              "    }\n",
              "</style>\n",
              "<table border=\"1\" class=\"dataframe\">\n",
              "  <thead>\n",
              "    <tr style=\"text-align: right;\">\n",
              "      <th></th>\n",
              "      <th>length_url</th>\n",
              "      <th>length_hostname</th>\n",
              "      <th>ip</th>\n",
              "      <th>nb_dots</th>\n",
              "      <th>nb_hyphens</th>\n",
              "      <th>nb_at</th>\n",
              "      <th>nb_qm</th>\n",
              "      <th>nb_and</th>\n",
              "      <th>nb_or</th>\n",
              "      <th>nb_eq</th>\n",
              "      <th>...</th>\n",
              "      <th>empty_title</th>\n",
              "      <th>domain_in_title</th>\n",
              "      <th>domain_with_copyright</th>\n",
              "      <th>whois_registered_domain</th>\n",
              "      <th>domain_registration_length</th>\n",
              "      <th>domain_age</th>\n",
              "      <th>web_traffic</th>\n",
              "      <th>dns_record</th>\n",
              "      <th>google_index</th>\n",
              "      <th>page_rank</th>\n",
              "    </tr>\n",
              "  </thead>\n",
              "  <tbody>\n",
              "    <tr>\n",
              "      <th>count</th>\n",
              "      <td>11430.000000</td>\n",
              "      <td>11430.000000</td>\n",
              "      <td>11430.000000</td>\n",
              "      <td>11430.000000</td>\n",
              "      <td>11430.000000</td>\n",
              "      <td>11430.000000</td>\n",
              "      <td>11430.000000</td>\n",
              "      <td>11430.000000</td>\n",
              "      <td>11430.0</td>\n",
              "      <td>11430.000000</td>\n",
              "      <td>...</td>\n",
              "      <td>11430.000000</td>\n",
              "      <td>11430.000000</td>\n",
              "      <td>11430.000000</td>\n",
              "      <td>11430.000000</td>\n",
              "      <td>11430.000000</td>\n",
              "      <td>11430.000000</td>\n",
              "      <td>1.143000e+04</td>\n",
              "      <td>11430.000000</td>\n",
              "      <td>11430.000000</td>\n",
              "      <td>11430.000000</td>\n",
              "    </tr>\n",
              "    <tr>\n",
              "      <th>mean</th>\n",
              "      <td>61.126684</td>\n",
              "      <td>21.090289</td>\n",
              "      <td>0.150569</td>\n",
              "      <td>2.480752</td>\n",
              "      <td>0.997550</td>\n",
              "      <td>0.022222</td>\n",
              "      <td>0.141207</td>\n",
              "      <td>0.162292</td>\n",
              "      <td>0.0</td>\n",
              "      <td>0.293176</td>\n",
              "      <td>...</td>\n",
              "      <td>0.124759</td>\n",
              "      <td>0.775853</td>\n",
              "      <td>0.439545</td>\n",
              "      <td>0.072878</td>\n",
              "      <td>492.532196</td>\n",
              "      <td>4062.543745</td>\n",
              "      <td>8.567566e+05</td>\n",
              "      <td>0.020122</td>\n",
              "      <td>0.533946</td>\n",
              "      <td>3.185739</td>\n",
              "    </tr>\n",
              "    <tr>\n",
              "      <th>std</th>\n",
              "      <td>55.297318</td>\n",
              "      <td>10.777171</td>\n",
              "      <td>0.357644</td>\n",
              "      <td>1.369686</td>\n",
              "      <td>2.087087</td>\n",
              "      <td>0.155500</td>\n",
              "      <td>0.364456</td>\n",
              "      <td>0.821337</td>\n",
              "      <td>0.0</td>\n",
              "      <td>0.998317</td>\n",
              "      <td>...</td>\n",
              "      <td>0.330460</td>\n",
              "      <td>0.417038</td>\n",
              "      <td>0.496353</td>\n",
              "      <td>0.259948</td>\n",
              "      <td>814.769415</td>\n",
              "      <td>3107.784600</td>\n",
              "      <td>1.995606e+06</td>\n",
              "      <td>0.140425</td>\n",
              "      <td>0.498868</td>\n",
              "      <td>2.536955</td>\n",
              "    </tr>\n",
              "    <tr>\n",
              "      <th>min</th>\n",
              "      <td>12.000000</td>\n",
              "      <td>4.000000</td>\n",
              "      <td>0.000000</td>\n",
              "      <td>1.000000</td>\n",
              "      <td>0.000000</td>\n",
              "      <td>0.000000</td>\n",
              "      <td>0.000000</td>\n",
              "      <td>0.000000</td>\n",
              "      <td>0.0</td>\n",
              "      <td>0.000000</td>\n",
              "      <td>...</td>\n",
              "      <td>0.000000</td>\n",
              "      <td>0.000000</td>\n",
              "      <td>0.000000</td>\n",
              "      <td>0.000000</td>\n",
              "      <td>-1.000000</td>\n",
              "      <td>-12.000000</td>\n",
              "      <td>0.000000e+00</td>\n",
              "      <td>0.000000</td>\n",
              "      <td>0.000000</td>\n",
              "      <td>0.000000</td>\n",
              "    </tr>\n",
              "    <tr>\n",
              "      <th>25%</th>\n",
              "      <td>33.000000</td>\n",
              "      <td>15.000000</td>\n",
              "      <td>0.000000</td>\n",
              "      <td>2.000000</td>\n",
              "      <td>0.000000</td>\n",
              "      <td>0.000000</td>\n",
              "      <td>0.000000</td>\n",
              "      <td>0.000000</td>\n",
              "      <td>0.0</td>\n",
              "      <td>0.000000</td>\n",
              "      <td>...</td>\n",
              "      <td>0.000000</td>\n",
              "      <td>1.000000</td>\n",
              "      <td>0.000000</td>\n",
              "      <td>0.000000</td>\n",
              "      <td>84.000000</td>\n",
              "      <td>972.250000</td>\n",
              "      <td>0.000000e+00</td>\n",
              "      <td>0.000000</td>\n",
              "      <td>0.000000</td>\n",
              "      <td>1.000000</td>\n",
              "    </tr>\n",
              "    <tr>\n",
              "      <th>50%</th>\n",
              "      <td>47.000000</td>\n",
              "      <td>19.000000</td>\n",
              "      <td>0.000000</td>\n",
              "      <td>2.000000</td>\n",
              "      <td>0.000000</td>\n",
              "      <td>0.000000</td>\n",
              "      <td>0.000000</td>\n",
              "      <td>0.000000</td>\n",
              "      <td>0.0</td>\n",
              "      <td>0.000000</td>\n",
              "      <td>...</td>\n",
              "      <td>0.000000</td>\n",
              "      <td>1.000000</td>\n",
              "      <td>0.000000</td>\n",
              "      <td>0.000000</td>\n",
              "      <td>242.000000</td>\n",
              "      <td>3993.000000</td>\n",
              "      <td>1.651000e+03</td>\n",
              "      <td>0.000000</td>\n",
              "      <td>1.000000</td>\n",
              "      <td>3.000000</td>\n",
              "    </tr>\n",
              "    <tr>\n",
              "      <th>75%</th>\n",
              "      <td>71.000000</td>\n",
              "      <td>24.000000</td>\n",
              "      <td>0.000000</td>\n",
              "      <td>3.000000</td>\n",
              "      <td>1.000000</td>\n",
              "      <td>0.000000</td>\n",
              "      <td>0.000000</td>\n",
              "      <td>0.000000</td>\n",
              "      <td>0.0</td>\n",
              "      <td>0.000000</td>\n",
              "      <td>...</td>\n",
              "      <td>0.000000</td>\n",
              "      <td>1.000000</td>\n",
              "      <td>1.000000</td>\n",
              "      <td>0.000000</td>\n",
              "      <td>449.000000</td>\n",
              "      <td>7026.750000</td>\n",
              "      <td>3.738455e+05</td>\n",
              "      <td>0.000000</td>\n",
              "      <td>1.000000</td>\n",
              "      <td>5.000000</td>\n",
              "    </tr>\n",
              "    <tr>\n",
              "      <th>max</th>\n",
              "      <td>1641.000000</td>\n",
              "      <td>214.000000</td>\n",
              "      <td>1.000000</td>\n",
              "      <td>24.000000</td>\n",
              "      <td>43.000000</td>\n",
              "      <td>4.000000</td>\n",
              "      <td>3.000000</td>\n",
              "      <td>19.000000</td>\n",
              "      <td>0.0</td>\n",
              "      <td>19.000000</td>\n",
              "      <td>...</td>\n",
              "      <td>1.000000</td>\n",
              "      <td>1.000000</td>\n",
              "      <td>1.000000</td>\n",
              "      <td>1.000000</td>\n",
              "      <td>29829.000000</td>\n",
              "      <td>12874.000000</td>\n",
              "      <td>1.076799e+07</td>\n",
              "      <td>1.000000</td>\n",
              "      <td>1.000000</td>\n",
              "      <td>10.000000</td>\n",
              "    </tr>\n",
              "  </tbody>\n",
              "</table>\n",
              "<p>8 rows × 87 columns</p>\n",
              "</div>\n",
              "    <div class=\"colab-df-buttons\">\n",
              "\n",
              "  <div class=\"colab-df-container\">\n",
              "    <button class=\"colab-df-convert\" onclick=\"convertToInteractive('df-80ebfb7e-d1af-48bb-8e72-0ed31e4b26e7')\"\n",
              "            title=\"Convert this dataframe to an interactive table.\"\n",
              "            style=\"display:none;\">\n",
              "\n",
              "  <svg xmlns=\"http://www.w3.org/2000/svg\" height=\"24px\" viewBox=\"0 -960 960 960\">\n",
              "    <path d=\"M120-120v-720h720v720H120Zm60-500h600v-160H180v160Zm220 220h160v-160H400v160Zm0 220h160v-160H400v160ZM180-400h160v-160H180v160Zm440 0h160v-160H620v160ZM180-180h160v-160H180v160Zm440 0h160v-160H620v160Z\"/>\n",
              "  </svg>\n",
              "    </button>\n",
              "\n",
              "  <style>\n",
              "    .colab-df-container {\n",
              "      display:flex;\n",
              "      gap: 12px;\n",
              "    }\n",
              "\n",
              "    .colab-df-convert {\n",
              "      background-color: #E8F0FE;\n",
              "      border: none;\n",
              "      border-radius: 50%;\n",
              "      cursor: pointer;\n",
              "      display: none;\n",
              "      fill: #1967D2;\n",
              "      height: 32px;\n",
              "      padding: 0 0 0 0;\n",
              "      width: 32px;\n",
              "    }\n",
              "\n",
              "    .colab-df-convert:hover {\n",
              "      background-color: #E2EBFA;\n",
              "      box-shadow: 0px 1px 2px rgba(60, 64, 67, 0.3), 0px 1px 3px 1px rgba(60, 64, 67, 0.15);\n",
              "      fill: #174EA6;\n",
              "    }\n",
              "\n",
              "    .colab-df-buttons div {\n",
              "      margin-bottom: 4px;\n",
              "    }\n",
              "\n",
              "    [theme=dark] .colab-df-convert {\n",
              "      background-color: #3B4455;\n",
              "      fill: #D2E3FC;\n",
              "    }\n",
              "\n",
              "    [theme=dark] .colab-df-convert:hover {\n",
              "      background-color: #434B5C;\n",
              "      box-shadow: 0px 1px 3px 1px rgba(0, 0, 0, 0.15);\n",
              "      filter: drop-shadow(0px 1px 2px rgba(0, 0, 0, 0.3));\n",
              "      fill: #FFFFFF;\n",
              "    }\n",
              "  </style>\n",
              "\n",
              "    <script>\n",
              "      const buttonEl =\n",
              "        document.querySelector('#df-80ebfb7e-d1af-48bb-8e72-0ed31e4b26e7 button.colab-df-convert');\n",
              "      buttonEl.style.display =\n",
              "        google.colab.kernel.accessAllowed ? 'block' : 'none';\n",
              "\n",
              "      async function convertToInteractive(key) {\n",
              "        const element = document.querySelector('#df-80ebfb7e-d1af-48bb-8e72-0ed31e4b26e7');\n",
              "        const dataTable =\n",
              "          await google.colab.kernel.invokeFunction('convertToInteractive',\n",
              "                                                    [key], {});\n",
              "        if (!dataTable) return;\n",
              "\n",
              "        const docLinkHtml = 'Like what you see? Visit the ' +\n",
              "          '<a target=\"_blank\" href=https://colab.research.google.com/notebooks/data_table.ipynb>data table notebook</a>'\n",
              "          + ' to learn more about interactive tables.';\n",
              "        element.innerHTML = '';\n",
              "        dataTable['output_type'] = 'display_data';\n",
              "        await google.colab.output.renderOutput(dataTable, element);\n",
              "        const docLink = document.createElement('div');\n",
              "        docLink.innerHTML = docLinkHtml;\n",
              "        element.appendChild(docLink);\n",
              "      }\n",
              "    </script>\n",
              "  </div>\n",
              "\n",
              "\n",
              "<div id=\"df-2c1cde78-4c1c-40b1-84b0-9e9df72ac2bc\">\n",
              "  <button class=\"colab-df-quickchart\" onclick=\"quickchart('df-2c1cde78-4c1c-40b1-84b0-9e9df72ac2bc')\"\n",
              "            title=\"Suggest charts\"\n",
              "            style=\"display:none;\">\n",
              "\n",
              "<svg xmlns=\"http://www.w3.org/2000/svg\" height=\"24px\"viewBox=\"0 0 24 24\"\n",
              "     width=\"24px\">\n",
              "    <g>\n",
              "        <path d=\"M19 3H5c-1.1 0-2 .9-2 2v14c0 1.1.9 2 2 2h14c1.1 0 2-.9 2-2V5c0-1.1-.9-2-2-2zM9 17H7v-7h2v7zm4 0h-2V7h2v10zm4 0h-2v-4h2v4z\"/>\n",
              "    </g>\n",
              "</svg>\n",
              "  </button>\n",
              "\n",
              "<style>\n",
              "  .colab-df-quickchart {\n",
              "      --bg-color: #E8F0FE;\n",
              "      --fill-color: #1967D2;\n",
              "      --hover-bg-color: #E2EBFA;\n",
              "      --hover-fill-color: #174EA6;\n",
              "      --disabled-fill-color: #AAA;\n",
              "      --disabled-bg-color: #DDD;\n",
              "  }\n",
              "\n",
              "  [theme=dark] .colab-df-quickchart {\n",
              "      --bg-color: #3B4455;\n",
              "      --fill-color: #D2E3FC;\n",
              "      --hover-bg-color: #434B5C;\n",
              "      --hover-fill-color: #FFFFFF;\n",
              "      --disabled-bg-color: #3B4455;\n",
              "      --disabled-fill-color: #666;\n",
              "  }\n",
              "\n",
              "  .colab-df-quickchart {\n",
              "    background-color: var(--bg-color);\n",
              "    border: none;\n",
              "    border-radius: 50%;\n",
              "    cursor: pointer;\n",
              "    display: none;\n",
              "    fill: var(--fill-color);\n",
              "    height: 32px;\n",
              "    padding: 0;\n",
              "    width: 32px;\n",
              "  }\n",
              "\n",
              "  .colab-df-quickchart:hover {\n",
              "    background-color: var(--hover-bg-color);\n",
              "    box-shadow: 0 1px 2px rgba(60, 64, 67, 0.3), 0 1px 3px 1px rgba(60, 64, 67, 0.15);\n",
              "    fill: var(--button-hover-fill-color);\n",
              "  }\n",
              "\n",
              "  .colab-df-quickchart-complete:disabled,\n",
              "  .colab-df-quickchart-complete:disabled:hover {\n",
              "    background-color: var(--disabled-bg-color);\n",
              "    fill: var(--disabled-fill-color);\n",
              "    box-shadow: none;\n",
              "  }\n",
              "\n",
              "  .colab-df-spinner {\n",
              "    border: 2px solid var(--fill-color);\n",
              "    border-color: transparent;\n",
              "    border-bottom-color: var(--fill-color);\n",
              "    animation:\n",
              "      spin 1s steps(1) infinite;\n",
              "  }\n",
              "\n",
              "  @keyframes spin {\n",
              "    0% {\n",
              "      border-color: transparent;\n",
              "      border-bottom-color: var(--fill-color);\n",
              "      border-left-color: var(--fill-color);\n",
              "    }\n",
              "    20% {\n",
              "      border-color: transparent;\n",
              "      border-left-color: var(--fill-color);\n",
              "      border-top-color: var(--fill-color);\n",
              "    }\n",
              "    30% {\n",
              "      border-color: transparent;\n",
              "      border-left-color: var(--fill-color);\n",
              "      border-top-color: var(--fill-color);\n",
              "      border-right-color: var(--fill-color);\n",
              "    }\n",
              "    40% {\n",
              "      border-color: transparent;\n",
              "      border-right-color: var(--fill-color);\n",
              "      border-top-color: var(--fill-color);\n",
              "    }\n",
              "    60% {\n",
              "      border-color: transparent;\n",
              "      border-right-color: var(--fill-color);\n",
              "    }\n",
              "    80% {\n",
              "      border-color: transparent;\n",
              "      border-right-color: var(--fill-color);\n",
              "      border-bottom-color: var(--fill-color);\n",
              "    }\n",
              "    90% {\n",
              "      border-color: transparent;\n",
              "      border-bottom-color: var(--fill-color);\n",
              "    }\n",
              "  }\n",
              "</style>\n",
              "\n",
              "  <script>\n",
              "    async function quickchart(key) {\n",
              "      const quickchartButtonEl =\n",
              "        document.querySelector('#' + key + ' button');\n",
              "      quickchartButtonEl.disabled = true;  // To prevent multiple clicks.\n",
              "      quickchartButtonEl.classList.add('colab-df-spinner');\n",
              "      try {\n",
              "        const charts = await google.colab.kernel.invokeFunction(\n",
              "            'suggestCharts', [key], {});\n",
              "      } catch (error) {\n",
              "        console.error('Error during call to suggestCharts:', error);\n",
              "      }\n",
              "      quickchartButtonEl.classList.remove('colab-df-spinner');\n",
              "      quickchartButtonEl.classList.add('colab-df-quickchart-complete');\n",
              "    }\n",
              "    (() => {\n",
              "      let quickchartButtonEl =\n",
              "        document.querySelector('#df-2c1cde78-4c1c-40b1-84b0-9e9df72ac2bc button');\n",
              "      quickchartButtonEl.style.display =\n",
              "        google.colab.kernel.accessAllowed ? 'block' : 'none';\n",
              "    })();\n",
              "  </script>\n",
              "</div>\n",
              "\n",
              "    </div>\n",
              "  </div>\n"
            ]
          },
          "metadata": {},
          "execution_count": 9
        }
      ]
    },
    {
      "cell_type": "code",
      "source": [
        "data.isnull().sum()"
      ],
      "metadata": {
        "colab": {
          "base_uri": "https://localhost:8080/"
        },
        "id": "47sDundTkoIr",
        "outputId": "f826563b-2751-447b-80e3-b4bc6c551121"
      },
      "execution_count": null,
      "outputs": [
        {
          "output_type": "execute_result",
          "data": {
            "text/plain": [
              "url                0\n",
              "length_url         0\n",
              "length_hostname    0\n",
              "ip                 0\n",
              "nb_dots            0\n",
              "                  ..\n",
              "web_traffic        0\n",
              "dns_record         0\n",
              "google_index       0\n",
              "page_rank          0\n",
              "status             0\n",
              "Length: 89, dtype: int64"
            ]
          },
          "metadata": {},
          "execution_count": 10
        }
      ]
    },
    {
      "cell_type": "code",
      "source": [
        "data = data.drop_duplicates()"
      ],
      "metadata": {
        "id": "QUbB6MXFIjvG"
      },
      "execution_count": null,
      "outputs": []
    },
    {
      "cell_type": "code",
      "source": [
        "data[\"status\"] = data[\"status\"].map({\"legitimate\":1, \"phishing\":0})"
      ],
      "metadata": {
        "id": "7HgttkxLkSi_"
      },
      "execution_count": null,
      "outputs": []
    },
    {
      "cell_type": "code",
      "source": [
        "data.info()"
      ],
      "metadata": {
        "colab": {
          "base_uri": "https://localhost:8080/"
        },
        "id": "KKdcbCIylNU5",
        "outputId": "180e60b6-d15d-4bc4-a84e-ae775634b527"
      },
      "execution_count": null,
      "outputs": [
        {
          "output_type": "stream",
          "name": "stdout",
          "text": [
            "<class 'pandas.core.frame.DataFrame'>\n",
            "Int64Index: 11430 entries, 0 to 11429\n",
            "Data columns (total 89 columns):\n",
            " #   Column                      Non-Null Count  Dtype  \n",
            "---  ------                      --------------  -----  \n",
            " 0   url                         11430 non-null  object \n",
            " 1   length_url                  11430 non-null  int64  \n",
            " 2   length_hostname             11430 non-null  int64  \n",
            " 3   ip                          11430 non-null  int64  \n",
            " 4   nb_dots                     11430 non-null  int64  \n",
            " 5   nb_hyphens                  11430 non-null  int64  \n",
            " 6   nb_at                       11430 non-null  int64  \n",
            " 7   nb_qm                       11430 non-null  int64  \n",
            " 8   nb_and                      11430 non-null  int64  \n",
            " 9   nb_or                       11430 non-null  int64  \n",
            " 10  nb_eq                       11430 non-null  int64  \n",
            " 11  nb_underscore               11430 non-null  int64  \n",
            " 12  nb_tilde                    11430 non-null  int64  \n",
            " 13  nb_percent                  11430 non-null  int64  \n",
            " 14  nb_slash                    11430 non-null  int64  \n",
            " 15  nb_star                     11430 non-null  int64  \n",
            " 16  nb_colon                    11430 non-null  int64  \n",
            " 17  nb_comma                    11430 non-null  int64  \n",
            " 18  nb_semicolumn               11430 non-null  int64  \n",
            " 19  nb_dollar                   11430 non-null  int64  \n",
            " 20  nb_space                    11430 non-null  int64  \n",
            " 21  nb_www                      11430 non-null  int64  \n",
            " 22  nb_com                      11430 non-null  int64  \n",
            " 23  nb_dslash                   11430 non-null  int64  \n",
            " 24  http_in_path                11430 non-null  int64  \n",
            " 25  https_token                 11430 non-null  int64  \n",
            " 26  ratio_digits_url            11430 non-null  float64\n",
            " 27  ratio_digits_host           11430 non-null  float64\n",
            " 28  punycode                    11430 non-null  int64  \n",
            " 29  port                        11430 non-null  int64  \n",
            " 30  tld_in_path                 11430 non-null  int64  \n",
            " 31  tld_in_subdomain            11430 non-null  int64  \n",
            " 32  abnormal_subdomain          11430 non-null  int64  \n",
            " 33  nb_subdomains               11430 non-null  int64  \n",
            " 34  prefix_suffix               11430 non-null  int64  \n",
            " 35  random_domain               11430 non-null  int64  \n",
            " 36  shortening_service          11430 non-null  int64  \n",
            " 37  path_extension              11430 non-null  int64  \n",
            " 38  nb_redirection              11430 non-null  int64  \n",
            " 39  nb_external_redirection     11430 non-null  int64  \n",
            " 40  length_words_raw            11430 non-null  int64  \n",
            " 41  char_repeat                 11430 non-null  int64  \n",
            " 42  shortest_words_raw          11430 non-null  int64  \n",
            " 43  shortest_word_host          11430 non-null  int64  \n",
            " 44  shortest_word_path          11430 non-null  int64  \n",
            " 45  longest_words_raw           11430 non-null  int64  \n",
            " 46  longest_word_host           11430 non-null  int64  \n",
            " 47  longest_word_path           11430 non-null  int64  \n",
            " 48  avg_words_raw               11430 non-null  float64\n",
            " 49  avg_word_host               11430 non-null  float64\n",
            " 50  avg_word_path               11430 non-null  float64\n",
            " 51  phish_hints                 11430 non-null  int64  \n",
            " 52  domain_in_brand             11430 non-null  int64  \n",
            " 53  brand_in_subdomain          11430 non-null  int64  \n",
            " 54  brand_in_path               11430 non-null  int64  \n",
            " 55  suspecious_tld              11430 non-null  int64  \n",
            " 56  statistical_report          11430 non-null  int64  \n",
            " 57  nb_hyperlinks               11430 non-null  int64  \n",
            " 58  ratio_intHyperlinks         11430 non-null  float64\n",
            " 59  ratio_extHyperlinks         11430 non-null  float64\n",
            " 60  ratio_nullHyperlinks        11430 non-null  int64  \n",
            " 61  nb_extCSS                   11430 non-null  int64  \n",
            " 62  ratio_intRedirection        11430 non-null  int64  \n",
            " 63  ratio_extRedirection        11430 non-null  float64\n",
            " 64  ratio_intErrors             11430 non-null  int64  \n",
            " 65  ratio_extErrors             11430 non-null  float64\n",
            " 66  login_form                  11430 non-null  int64  \n",
            " 67  external_favicon            11430 non-null  int64  \n",
            " 68  links_in_tags               11430 non-null  float64\n",
            " 69  submit_email                11430 non-null  int64  \n",
            " 70  ratio_intMedia              11430 non-null  float64\n",
            " 71  ratio_extMedia              11430 non-null  float64\n",
            " 72  sfh                         11430 non-null  int64  \n",
            " 73  iframe                      11430 non-null  int64  \n",
            " 74  popup_window                11430 non-null  int64  \n",
            " 75  safe_anchor                 11430 non-null  float64\n",
            " 76  onmouseover                 11430 non-null  int64  \n",
            " 77  right_clic                  11430 non-null  int64  \n",
            " 78  empty_title                 11430 non-null  int64  \n",
            " 79  domain_in_title             11430 non-null  int64  \n",
            " 80  domain_with_copyright       11430 non-null  int64  \n",
            " 81  whois_registered_domain     11430 non-null  int64  \n",
            " 82  domain_registration_length  11430 non-null  int64  \n",
            " 83  domain_age                  11430 non-null  int64  \n",
            " 84  web_traffic                 11430 non-null  int64  \n",
            " 85  dns_record                  11430 non-null  int64  \n",
            " 86  google_index                11430 non-null  int64  \n",
            " 87  page_rank                   11430 non-null  int64  \n",
            " 88  status                      11430 non-null  int64  \n",
            "dtypes: float64(13), int64(75), object(1)\n",
            "memory usage: 7.8+ MB\n"
          ]
        }
      ]
    },
    {
      "cell_type": "code",
      "source": [
        "import re\n",
        "def preprocess_url(url):\n",
        "  url = url.replace(\" \", \"\")\n",
        "  url = url.lower()\n",
        "  url = re.sub(\"[^a-zA-Z0-9]\", \"\", url)\n",
        "  url = url[:50]\n",
        "  encoded_url = np.zeros(len(ALPHABET))\n",
        "  for i, c in enumerate(url):\n",
        "    encoded_url[ALPHABET.index(c)] = 1\n",
        "  return encoded_url"
      ],
      "metadata": {
        "id": "fEXyZnP3Dgkn"
      },
      "execution_count": null,
      "outputs": []
    },
    {
      "cell_type": "code",
      "source": [
        "names= data[\"url\"]\n",
        "labels = data[\"status\"]"
      ],
      "metadata": {
        "id": "6TVFOegzGElX"
      },
      "execution_count": null,
      "outputs": []
    },
    {
      "cell_type": "code",
      "source": [
        "ALPHABET = \"abcdefghijklmnopqrstuvwxyz0123456789-._~\"\n",
        "names = names.apply(preprocess_url)"
      ],
      "metadata": {
        "id": "eQTxL6jJEhFO"
      },
      "execution_count": null,
      "outputs": []
    },
    {
      "cell_type": "code",
      "source": [
        "vectorizer = TfidfVectorizer(stop_words ='english')\n",
        "names = list(map(str, names))\n",
        "X_train_tfidf = vectorizer.fit_transform(names)\n",
        "X_test_tfidf = vectorizer.transform(labels)"
      ],
      "metadata": {
        "colab": {
          "base_uri": "https://localhost:8080/",
          "height": 387
        },
        "id": "c2O3VaW-D_QS",
        "outputId": "adff1255-8df9-4786-fe60-a992e5acc436"
      },
      "execution_count": null,
      "outputs": [
        {
          "output_type": "error",
          "ename": "ValueError",
          "evalue": "ignored",
          "traceback": [
            "\u001b[0;31m---------------------------------------------------------------------------\u001b[0m",
            "\u001b[0;31mValueError\u001b[0m                                Traceback (most recent call last)",
            "\u001b[0;32m<ipython-input-88-e2633b7399f5>\u001b[0m in \u001b[0;36m<cell line: 3>\u001b[0;34m()\u001b[0m\n\u001b[1;32m      1\u001b[0m \u001b[0mvectorizer\u001b[0m \u001b[0;34m=\u001b[0m \u001b[0mTfidfVectorizer\u001b[0m\u001b[0;34m(\u001b[0m\u001b[0mstop_words\u001b[0m \u001b[0;34m=\u001b[0m\u001b[0;34m'english'\u001b[0m\u001b[0;34m)\u001b[0m\u001b[0;34m\u001b[0m\u001b[0;34m\u001b[0m\u001b[0m\n\u001b[1;32m      2\u001b[0m \u001b[0mnames\u001b[0m \u001b[0;34m=\u001b[0m \u001b[0mlist\u001b[0m\u001b[0;34m(\u001b[0m\u001b[0mmap\u001b[0m\u001b[0;34m(\u001b[0m\u001b[0mstr\u001b[0m\u001b[0;34m,\u001b[0m \u001b[0mnames\u001b[0m\u001b[0;34m)\u001b[0m\u001b[0;34m)\u001b[0m\u001b[0;34m\u001b[0m\u001b[0;34m\u001b[0m\u001b[0m\n\u001b[0;32m----> 3\u001b[0;31m \u001b[0mX_train_tfidf\u001b[0m \u001b[0;34m=\u001b[0m \u001b[0mvectorizer\u001b[0m\u001b[0;34m.\u001b[0m\u001b[0mfit_transform\u001b[0m\u001b[0;34m(\u001b[0m\u001b[0mnames\u001b[0m\u001b[0;34m)\u001b[0m\u001b[0;34m\u001b[0m\u001b[0;34m\u001b[0m\u001b[0m\n\u001b[0m\u001b[1;32m      4\u001b[0m \u001b[0mX_test_tfidf\u001b[0m \u001b[0;34m=\u001b[0m \u001b[0mvectorizer\u001b[0m\u001b[0;34m.\u001b[0m\u001b[0mtransform\u001b[0m\u001b[0;34m(\u001b[0m\u001b[0mlabels\u001b[0m\u001b[0;34m)\u001b[0m\u001b[0;34m\u001b[0m\u001b[0;34m\u001b[0m\u001b[0m\n",
            "\u001b[0;32m/usr/local/lib/python3.10/dist-packages/sklearn/feature_extraction/text.py\u001b[0m in \u001b[0;36mfit_transform\u001b[0;34m(self, raw_documents, y)\u001b[0m\n\u001b[1;32m   2131\u001b[0m             \u001b[0msublinear_tf\u001b[0m\u001b[0;34m=\u001b[0m\u001b[0mself\u001b[0m\u001b[0;34m.\u001b[0m\u001b[0msublinear_tf\u001b[0m\u001b[0;34m,\u001b[0m\u001b[0;34m\u001b[0m\u001b[0;34m\u001b[0m\u001b[0m\n\u001b[1;32m   2132\u001b[0m         )\n\u001b[0;32m-> 2133\u001b[0;31m         \u001b[0mX\u001b[0m \u001b[0;34m=\u001b[0m \u001b[0msuper\u001b[0m\u001b[0;34m(\u001b[0m\u001b[0;34m)\u001b[0m\u001b[0;34m.\u001b[0m\u001b[0mfit_transform\u001b[0m\u001b[0;34m(\u001b[0m\u001b[0mraw_documents\u001b[0m\u001b[0;34m)\u001b[0m\u001b[0;34m\u001b[0m\u001b[0;34m\u001b[0m\u001b[0m\n\u001b[0m\u001b[1;32m   2134\u001b[0m         \u001b[0mself\u001b[0m\u001b[0;34m.\u001b[0m\u001b[0m_tfidf\u001b[0m\u001b[0;34m.\u001b[0m\u001b[0mfit\u001b[0m\u001b[0;34m(\u001b[0m\u001b[0mX\u001b[0m\u001b[0;34m)\u001b[0m\u001b[0;34m\u001b[0m\u001b[0;34m\u001b[0m\u001b[0m\n\u001b[1;32m   2135\u001b[0m         \u001b[0;31m# X is already a transformed view of raw_documents so\u001b[0m\u001b[0;34m\u001b[0m\u001b[0;34m\u001b[0m\u001b[0m\n",
            "\u001b[0;32m/usr/local/lib/python3.10/dist-packages/sklearn/feature_extraction/text.py\u001b[0m in \u001b[0;36mfit_transform\u001b[0;34m(self, raw_documents, y)\u001b[0m\n\u001b[1;32m   1386\u001b[0m                     \u001b[0;32mbreak\u001b[0m\u001b[0;34m\u001b[0m\u001b[0;34m\u001b[0m\u001b[0m\n\u001b[1;32m   1387\u001b[0m \u001b[0;34m\u001b[0m\u001b[0m\n\u001b[0;32m-> 1388\u001b[0;31m         \u001b[0mvocabulary\u001b[0m\u001b[0;34m,\u001b[0m \u001b[0mX\u001b[0m \u001b[0;34m=\u001b[0m \u001b[0mself\u001b[0m\u001b[0;34m.\u001b[0m\u001b[0m_count_vocab\u001b[0m\u001b[0;34m(\u001b[0m\u001b[0mraw_documents\u001b[0m\u001b[0;34m,\u001b[0m \u001b[0mself\u001b[0m\u001b[0;34m.\u001b[0m\u001b[0mfixed_vocabulary_\u001b[0m\u001b[0;34m)\u001b[0m\u001b[0;34m\u001b[0m\u001b[0;34m\u001b[0m\u001b[0m\n\u001b[0m\u001b[1;32m   1389\u001b[0m \u001b[0;34m\u001b[0m\u001b[0m\n\u001b[1;32m   1390\u001b[0m         \u001b[0;32mif\u001b[0m \u001b[0mself\u001b[0m\u001b[0;34m.\u001b[0m\u001b[0mbinary\u001b[0m\u001b[0;34m:\u001b[0m\u001b[0;34m\u001b[0m\u001b[0;34m\u001b[0m\u001b[0m\n",
            "\u001b[0;32m/usr/local/lib/python3.10/dist-packages/sklearn/feature_extraction/text.py\u001b[0m in \u001b[0;36m_count_vocab\u001b[0;34m(self, raw_documents, fixed_vocab)\u001b[0m\n\u001b[1;32m   1292\u001b[0m             \u001b[0mvocabulary\u001b[0m \u001b[0;34m=\u001b[0m \u001b[0mdict\u001b[0m\u001b[0;34m(\u001b[0m\u001b[0mvocabulary\u001b[0m\u001b[0;34m)\u001b[0m\u001b[0;34m\u001b[0m\u001b[0;34m\u001b[0m\u001b[0m\n\u001b[1;32m   1293\u001b[0m             \u001b[0;32mif\u001b[0m \u001b[0;32mnot\u001b[0m \u001b[0mvocabulary\u001b[0m\u001b[0;34m:\u001b[0m\u001b[0;34m\u001b[0m\u001b[0;34m\u001b[0m\u001b[0m\n\u001b[0;32m-> 1294\u001b[0;31m                 raise ValueError(\n\u001b[0m\u001b[1;32m   1295\u001b[0m                     \u001b[0;34m\"empty vocabulary; perhaps the documents only contain stop words\"\u001b[0m\u001b[0;34m\u001b[0m\u001b[0;34m\u001b[0m\u001b[0m\n\u001b[1;32m   1296\u001b[0m                 )\n",
            "\u001b[0;31mValueError\u001b[0m: empty vocabulary; perhaps the documents only contain stop words"
          ]
        }
      ]
    },
    {
      "cell_type": "code",
      "source": [
        "data.drop(['url'], axis = 1, inplace = True)"
      ],
      "metadata": {
        "id": "6KtYnyIzcDDA"
      },
      "execution_count": null,
      "outputs": []
    },
    {
      "cell_type": "code",
      "source": [
        "x = data.drop(\"status\", axis=1)\n",
        "y = data[\"status\"]"
      ],
      "metadata": {
        "id": "nK3CE8mQc8F2"
      },
      "execution_count": null,
      "outputs": []
    },
    {
      "cell_type": "markdown",
      "source": [
        "# Logistic Regression"
      ],
      "metadata": {
        "id": "z2_Mird7e2ss"
      }
    },
    {
      "cell_type": "code",
      "source": [
        "from sklearn.linear_model import LogisticRegression"
      ],
      "metadata": {
        "id": "lR_CDmXnDBUF"
      },
      "execution_count": null,
      "outputs": []
    },
    {
      "cell_type": "code",
      "source": [
        "x_train, x_test, y_train, y_test = train_test_split(x,y,test_size = 0.2,random_state =0)"
      ],
      "metadata": {
        "id": "JDamFtTMCr07"
      },
      "execution_count": null,
      "outputs": []
    },
    {
      "cell_type": "code",
      "source": [
        "lr = LogisticRegression().fit(x_train,y_train)"
      ],
      "metadata": {
        "id": "Ag7GkKo9DBQp"
      },
      "execution_count": null,
      "outputs": []
    },
    {
      "cell_type": "code",
      "source": [
        "lr.coef_"
      ],
      "metadata": {
        "id": "PqnawLHsDBNv",
        "colab": {
          "base_uri": "https://localhost:8080/"
        },
        "outputId": "7dab3367-dfe7-4753-d7e5-847d0643e378"
      },
      "execution_count": null,
      "outputs": [
        {
          "output_type": "execute_result",
          "data": {
            "text/plain": [
              "array([[-1.00821791e-02, -2.59710202e-03, -5.77923268e-05,\n",
              "        -2.93139195e-04,  1.50699418e-05, -1.13969490e-05,\n",
              "        -5.57242937e-05, -6.53046611e-05,  0.00000000e+00,\n",
              "        -1.13363819e-04, -3.97498388e-05, -1.26719128e-06,\n",
              "        -3.04272411e-05, -4.99358892e-04, -2.70200063e-07,\n",
              "        -8.04185693e-05, -6.08795294e-07, -2.87717615e-05,\n",
              "        -7.59532033e-07, -3.12280716e-06,  7.18306557e-05,\n",
              "        -3.41237662e-05, -3.18329970e-06, -5.63612357e-06,\n",
              "        -6.40283651e-05, -1.73321605e-05, -1.06779133e-05,\n",
              "        -1.67451129e-07, -2.32077544e-07, -1.36411236e-05,\n",
              "        -2.07849650e-05, -9.37638929e-06, -1.85440721e-04,\n",
              "        -4.98779154e-05, -5.70236064e-06, -3.00433221e-05,\n",
              "         3.27825587e-08, -3.03799258e-05, -1.48935168e-06,\n",
              "        -9.07457968e-04, -2.06760315e-04, -1.69167044e-04,\n",
              "        -7.19170867e-04, -2.92640388e-04, -2.97666128e-03,\n",
              "        -9.89944080e-04, -2.89065039e-03, -7.95273312e-04,\n",
              "        -8.22616775e-04, -1.00226117e-03, -1.47887305e-04,\n",
              "        -1.87306604e-06, -2.34533423e-06, -2.01780666e-06,\n",
              "        -6.94618461e-06, -2.34791461e-05,  1.75776213e-02,\n",
              "         3.04136340e-06, -3.45194310e-05,  0.00000000e+00,\n",
              "         4.47555378e-05,  0.00000000e+00,  5.17372328e-06,\n",
              "         0.00000000e+00, -2.97464538e-06, -1.62042249e-06,\n",
              "        -2.09234790e-06,  3.42682551e-04,  0.00000000e+00,\n",
              "         1.19545197e-03,  6.14629508e-04,  0.00000000e+00,\n",
              "         2.41323767e-07,  1.58935839e-06,  6.51829900e-04,\n",
              "         7.58088661e-08, -8.08904814e-08, -3.89020043e-05,\n",
              "        -1.11664830e-04,  9.75479451e-06, -7.77937475e-06,\n",
              "         4.76725925e-05,  2.63655660e-05, -1.15828270e-07,\n",
              "        -8.62395426e-06, -1.98809617e-04,  2.61646091e-04]])"
            ]
          },
          "metadata": {},
          "execution_count": 21
        }
      ]
    },
    {
      "cell_type": "code",
      "source": [
        "lr.intercept_"
      ],
      "metadata": {
        "id": "9KsdFq7yDBLZ",
        "colab": {
          "base_uri": "https://localhost:8080/"
        },
        "outputId": "114c3fbe-a35d-4bc9-a239-f5751c47613e"
      },
      "execution_count": null,
      "outputs": [
        {
          "output_type": "execute_result",
          "data": {
            "text/plain": [
              "array([-6.82228244e-05])"
            ]
          },
          "metadata": {},
          "execution_count": 22
        }
      ]
    },
    {
      "cell_type": "code",
      "source": [
        "ypred = lr.predict(x_test)"
      ],
      "metadata": {
        "id": "ROe6wVIvDBJm"
      },
      "execution_count": null,
      "outputs": []
    },
    {
      "cell_type": "code",
      "source": [
        "from sklearn.metrics import accuracy_score, confusion_matrix, classification_report"
      ],
      "metadata": {
        "id": "9PIhVZxHDBH7"
      },
      "execution_count": null,
      "outputs": []
    },
    {
      "cell_type": "code",
      "source": [
        "accuracy_score(y_test,ypred)"
      ],
      "metadata": {
        "id": "V2IWo6CNDBF4",
        "colab": {
          "base_uri": "https://localhost:8080/"
        },
        "outputId": "6edc9e22-093b-481a-d573-21975540ca14"
      },
      "execution_count": null,
      "outputs": [
        {
          "output_type": "execute_result",
          "data": {
            "text/plain": [
              "0.7909011373578303"
            ]
          },
          "metadata": {},
          "execution_count": 25
        }
      ]
    },
    {
      "cell_type": "code",
      "source": [
        "print(confusion_matrix(y_test, ypred))"
      ],
      "metadata": {
        "colab": {
          "base_uri": "https://localhost:8080/"
        },
        "id": "2PCp-IxTepIq",
        "outputId": "bc86f419-3966-4d48-d37a-9cdd400a6c34"
      },
      "execution_count": null,
      "outputs": [
        {
          "output_type": "stream",
          "name": "stdout",
          "text": [
            "[[855 276]\n",
            " [202 953]]\n"
          ]
        }
      ]
    },
    {
      "cell_type": "code",
      "source": [
        "print(classification_report(y_test, ypred))"
      ],
      "metadata": {
        "colab": {
          "base_uri": "https://localhost:8080/"
        },
        "id": "5qdXx-rbepFS",
        "outputId": "034792f6-ca0e-491e-c843-c976645530ab"
      },
      "execution_count": null,
      "outputs": [
        {
          "output_type": "stream",
          "name": "stdout",
          "text": [
            "              precision    recall  f1-score   support\n",
            "\n",
            "           0       0.81      0.76      0.78      1131\n",
            "           1       0.78      0.83      0.80      1155\n",
            "\n",
            "    accuracy                           0.79      2286\n",
            "   macro avg       0.79      0.79      0.79      2286\n",
            "weighted avg       0.79      0.79      0.79      2286\n",
            "\n"
          ]
        }
      ]
    },
    {
      "cell_type": "markdown",
      "source": [
        "# Support Vector Machine"
      ],
      "metadata": {
        "id": "w9NcDglXe9Ep"
      }
    },
    {
      "cell_type": "code",
      "source": [
        "from sklearn.svm import SVC"
      ],
      "metadata": {
        "id": "Ky-dmq0fepBO"
      },
      "execution_count": null,
      "outputs": []
    },
    {
      "cell_type": "code",
      "source": [
        "svc = SVC().fit(x_train, y_train)"
      ],
      "metadata": {
        "id": "iq_IP2ySepDV"
      },
      "execution_count": null,
      "outputs": []
    },
    {
      "cell_type": "code",
      "source": [
        "svc_pred = svc.predict(x_test)"
      ],
      "metadata": {
        "id": "7BvIuL_deo_K"
      },
      "execution_count": null,
      "outputs": []
    },
    {
      "cell_type": "code",
      "source": [
        "accuracy_score(y_test,svc_pred)"
      ],
      "metadata": {
        "colab": {
          "base_uri": "https://localhost:8080/"
        },
        "id": "-lbPdkvpeo9F",
        "outputId": "af56bf09-b026-4994-cba0-0729aa0a01c6"
      },
      "execution_count": null,
      "outputs": [
        {
          "output_type": "execute_result",
          "data": {
            "text/plain": [
              "0.6019247594050744"
            ]
          },
          "metadata": {},
          "execution_count": 31
        }
      ]
    },
    {
      "cell_type": "code",
      "source": [
        "print(classification_report(y_test, svc_pred))"
      ],
      "metadata": {
        "colab": {
          "base_uri": "https://localhost:8080/"
        },
        "id": "TGmEj4ebeo7A",
        "outputId": "0a02513c-1ccc-4ef5-ab5f-2feba4531825"
      },
      "execution_count": null,
      "outputs": [
        {
          "output_type": "stream",
          "name": "stdout",
          "text": [
            "              precision    recall  f1-score   support\n",
            "\n",
            "           0       0.56      0.89      0.69      1131\n",
            "           1       0.75      0.32      0.45      1155\n",
            "\n",
            "    accuracy                           0.60      2286\n",
            "   macro avg       0.65      0.60      0.57      2286\n",
            "weighted avg       0.66      0.60      0.57      2286\n",
            "\n"
          ]
        }
      ]
    },
    {
      "cell_type": "code",
      "source": [
        "print(confusion_matrix(y_test, svc_pred))"
      ],
      "metadata": {
        "colab": {
          "base_uri": "https://localhost:8080/"
        },
        "id": "up9iOK1Heo5K",
        "outputId": "bd3544f6-e75f-4878-ef41-ff7ef25a152b"
      },
      "execution_count": null,
      "outputs": [
        {
          "output_type": "stream",
          "name": "stdout",
          "text": [
            "[[1005  126]\n",
            " [ 784  371]]\n"
          ]
        }
      ]
    },
    {
      "cell_type": "markdown",
      "source": [
        "# Naive Bayes"
      ],
      "metadata": {
        "id": "d_yX1Tk8fagK"
      }
    },
    {
      "cell_type": "code",
      "source": [
        "from sklearn.naive_bayes import GaussianNB"
      ],
      "metadata": {
        "id": "Hc6KmmvWeo3b"
      },
      "execution_count": null,
      "outputs": []
    },
    {
      "cell_type": "code",
      "source": [
        "nb = GaussianNB().fit(x_train, y_train)"
      ],
      "metadata": {
        "id": "HDpHDFMofX05"
      },
      "execution_count": null,
      "outputs": []
    },
    {
      "cell_type": "code",
      "source": [
        "nb_pred = nb.predict(x_test)"
      ],
      "metadata": {
        "id": "QMvfo1cXfXxf"
      },
      "execution_count": null,
      "outputs": []
    },
    {
      "cell_type": "code",
      "source": [
        "accuracy_score(y_test,nb_pred)"
      ],
      "metadata": {
        "colab": {
          "base_uri": "https://localhost:8080/"
        },
        "id": "1kVM7467fXvC",
        "outputId": "2c354ae3-451a-4294-82d4-369753a85fe3"
      },
      "execution_count": null,
      "outputs": [
        {
          "output_type": "execute_result",
          "data": {
            "text/plain": [
              "0.7480314960629921"
            ]
          },
          "metadata": {},
          "execution_count": 38
        }
      ]
    },
    {
      "cell_type": "code",
      "source": [
        "print(classification_report(y_test, nb_pred))"
      ],
      "metadata": {
        "colab": {
          "base_uri": "https://localhost:8080/"
        },
        "id": "EjpFwUrvfXs2",
        "outputId": "402284ac-7dd0-4f8d-c6de-47dd0c5b4891"
      },
      "execution_count": null,
      "outputs": [
        {
          "output_type": "stream",
          "name": "stdout",
          "text": [
            "              precision    recall  f1-score   support\n",
            "\n",
            "           0       0.70      0.87      0.77      1131\n",
            "           1       0.83      0.63      0.72      1155\n",
            "\n",
            "    accuracy                           0.75      2286\n",
            "   macro avg       0.76      0.75      0.74      2286\n",
            "weighted avg       0.76      0.75      0.74      2286\n",
            "\n"
          ]
        }
      ]
    },
    {
      "cell_type": "code",
      "source": [
        "print(confusion_matrix(y_test, nb_pred))"
      ],
      "metadata": {
        "colab": {
          "base_uri": "https://localhost:8080/"
        },
        "id": "hGKZ5Nm5fXrA",
        "outputId": "61ba5103-0ec4-452f-d601-cc6399b00669"
      },
      "execution_count": null,
      "outputs": [
        {
          "output_type": "stream",
          "name": "stdout",
          "text": [
            "[[980 151]\n",
            " [425 730]]\n"
          ]
        }
      ]
    },
    {
      "cell_type": "markdown",
      "source": [
        "# Decision Tree"
      ],
      "metadata": {
        "id": "bzV5hQ1Qf1Bn"
      }
    },
    {
      "cell_type": "code",
      "source": [
        "from sklearn.tree import DecisionTreeClassifier"
      ],
      "metadata": {
        "id": "zIIAN3MLfXpD"
      },
      "execution_count": null,
      "outputs": []
    },
    {
      "cell_type": "code",
      "source": [
        "dtc = DecisionTreeClassifier(random_state=42)\n",
        "dtc.fit(x_train, y_train)"
      ],
      "metadata": {
        "colab": {
          "base_uri": "https://localhost:8080/",
          "height": 74
        },
        "id": "Lt-cnQyYfXmx",
        "outputId": "de4fb033-b22d-45f6-a750-eaec75c0bed9"
      },
      "execution_count": null,
      "outputs": [
        {
          "output_type": "execute_result",
          "data": {
            "text/plain": [
              "DecisionTreeClassifier(random_state=42)"
            ],
            "text/html": [
              "<style>#sk-container-id-1 {color: black;background-color: white;}#sk-container-id-1 pre{padding: 0;}#sk-container-id-1 div.sk-toggleable {background-color: white;}#sk-container-id-1 label.sk-toggleable__label {cursor: pointer;display: block;width: 100%;margin-bottom: 0;padding: 0.3em;box-sizing: border-box;text-align: center;}#sk-container-id-1 label.sk-toggleable__label-arrow:before {content: \"▸\";float: left;margin-right: 0.25em;color: #696969;}#sk-container-id-1 label.sk-toggleable__label-arrow:hover:before {color: black;}#sk-container-id-1 div.sk-estimator:hover label.sk-toggleable__label-arrow:before {color: black;}#sk-container-id-1 div.sk-toggleable__content {max-height: 0;max-width: 0;overflow: hidden;text-align: left;background-color: #f0f8ff;}#sk-container-id-1 div.sk-toggleable__content pre {margin: 0.2em;color: black;border-radius: 0.25em;background-color: #f0f8ff;}#sk-container-id-1 input.sk-toggleable__control:checked~div.sk-toggleable__content {max-height: 200px;max-width: 100%;overflow: auto;}#sk-container-id-1 input.sk-toggleable__control:checked~label.sk-toggleable__label-arrow:before {content: \"▾\";}#sk-container-id-1 div.sk-estimator input.sk-toggleable__control:checked~label.sk-toggleable__label {background-color: #d4ebff;}#sk-container-id-1 div.sk-label input.sk-toggleable__control:checked~label.sk-toggleable__label {background-color: #d4ebff;}#sk-container-id-1 input.sk-hidden--visually {border: 0;clip: rect(1px 1px 1px 1px);clip: rect(1px, 1px, 1px, 1px);height: 1px;margin: -1px;overflow: hidden;padding: 0;position: absolute;width: 1px;}#sk-container-id-1 div.sk-estimator {font-family: monospace;background-color: #f0f8ff;border: 1px dotted black;border-radius: 0.25em;box-sizing: border-box;margin-bottom: 0.5em;}#sk-container-id-1 div.sk-estimator:hover {background-color: #d4ebff;}#sk-container-id-1 div.sk-parallel-item::after {content: \"\";width: 100%;border-bottom: 1px solid gray;flex-grow: 1;}#sk-container-id-1 div.sk-label:hover label.sk-toggleable__label {background-color: #d4ebff;}#sk-container-id-1 div.sk-serial::before {content: \"\";position: absolute;border-left: 1px solid gray;box-sizing: border-box;top: 0;bottom: 0;left: 50%;z-index: 0;}#sk-container-id-1 div.sk-serial {display: flex;flex-direction: column;align-items: center;background-color: white;padding-right: 0.2em;padding-left: 0.2em;position: relative;}#sk-container-id-1 div.sk-item {position: relative;z-index: 1;}#sk-container-id-1 div.sk-parallel {display: flex;align-items: stretch;justify-content: center;background-color: white;position: relative;}#sk-container-id-1 div.sk-item::before, #sk-container-id-1 div.sk-parallel-item::before {content: \"\";position: absolute;border-left: 1px solid gray;box-sizing: border-box;top: 0;bottom: 0;left: 50%;z-index: -1;}#sk-container-id-1 div.sk-parallel-item {display: flex;flex-direction: column;z-index: 1;position: relative;background-color: white;}#sk-container-id-1 div.sk-parallel-item:first-child::after {align-self: flex-end;width: 50%;}#sk-container-id-1 div.sk-parallel-item:last-child::after {align-self: flex-start;width: 50%;}#sk-container-id-1 div.sk-parallel-item:only-child::after {width: 0;}#sk-container-id-1 div.sk-dashed-wrapped {border: 1px dashed gray;margin: 0 0.4em 0.5em 0.4em;box-sizing: border-box;padding-bottom: 0.4em;background-color: white;}#sk-container-id-1 div.sk-label label {font-family: monospace;font-weight: bold;display: inline-block;line-height: 1.2em;}#sk-container-id-1 div.sk-label-container {text-align: center;}#sk-container-id-1 div.sk-container {/* jupyter's `normalize.less` sets `[hidden] { display: none; }` but bootstrap.min.css set `[hidden] { display: none !important; }` so we also need the `!important` here to be able to override the default hidden behavior on the sphinx rendered scikit-learn.org. See: https://github.com/scikit-learn/scikit-learn/issues/21755 */display: inline-block !important;position: relative;}#sk-container-id-1 div.sk-text-repr-fallback {display: none;}</style><div id=\"sk-container-id-1\" class=\"sk-top-container\"><div class=\"sk-text-repr-fallback\"><pre>DecisionTreeClassifier(random_state=42)</pre><b>In a Jupyter environment, please rerun this cell to show the HTML representation or trust the notebook. <br />On GitHub, the HTML representation is unable to render, please try loading this page with nbviewer.org.</b></div><div class=\"sk-container\" hidden><div class=\"sk-item\"><div class=\"sk-estimator sk-toggleable\"><input class=\"sk-toggleable__control sk-hidden--visually\" id=\"sk-estimator-id-1\" type=\"checkbox\" checked><label for=\"sk-estimator-id-1\" class=\"sk-toggleable__label sk-toggleable__label-arrow\">DecisionTreeClassifier</label><div class=\"sk-toggleable__content\"><pre>DecisionTreeClassifier(random_state=42)</pre></div></div></div></div></div>"
            ]
          },
          "metadata": {},
          "execution_count": 42
        }
      ]
    },
    {
      "cell_type": "code",
      "source": [
        "from sklearn.tree import plot_tree\n",
        "plot_tree(dtc)"
      ],
      "metadata": {
        "colab": {
          "base_uri": "https://localhost:8080/",
          "height": 1000
        },
        "id": "sur_XksJfXk7",
        "outputId": "5ceb8929-9adf-4b17-ceb3-32a3f79241ca"
      },
      "execution_count": null,
      "outputs": [
        {
          "output_type": "execute_result",
          "data": {
            "text/plain": [
              "[Text(0.5002378098924903, 0.9772727272727273, 'x[85] <= 0.5\\ngini = 0.5\\nsamples = 9144\\nvalue = [4584, 4560]'),\n",
              " Text(0.2382528348309799, 0.9318181818181818, 'x[86] <= 0.5\\ngini = 0.194\\nsamples = 4250\\nvalue = [463, 3787]'),\n",
              " Text(0.07171587505348738, 0.8863636363636364, 'x[39] <= 2.5\\ngini = 0.416\\nsamples = 217\\nvalue = [153, 64]'),\n",
              " Text(0.048951647411210955, 0.8409090909090909, 'x[56] <= 45.5\\ngini = 0.5\\nsamples = 108\\nvalue = [54, 54]'),\n",
              " Text(0.03080872913992298, 0.7954545454545454, 'x[42] <= 4.5\\ngini = 0.451\\nsamples = 70\\nvalue = [46, 24]'),\n",
              " Text(0.017800599058622166, 0.75, 'x[56] <= 28.0\\ngini = 0.487\\nsamples = 31\\nvalue = [13, 18]'),\n",
              " Text(0.010954214805305947, 0.7045454545454546, 'x[48] <= 6.25\\ngini = 0.375\\nsamples = 20\\nvalue = [5, 15]'),\n",
              " Text(0.005477107402652974, 0.6590909090909091, 'x[0] <= 19.5\\ngini = 0.49\\nsamples = 7\\nvalue = [4, 3]'),\n",
              " Text(0.002738553701326487, 0.6136363636363636, 'gini = 0.0\\nsamples = 3\\nvalue = [0, 3]'),\n",
              " Text(0.008215661103979461, 0.6136363636363636, 'gini = 0.0\\nsamples = 4\\nvalue = [4, 0]'),\n",
              " Text(0.016431322207958923, 0.6590909090909091, 'x[13] <= 2.5\\ngini = 0.142\\nsamples = 13\\nvalue = [1, 12]'),\n",
              " Text(0.013692768506632435, 0.6136363636363636, 'x[69] <= 50.0\\ngini = 0.5\\nsamples = 2\\nvalue = [1, 1]'),\n",
              " Text(0.010954214805305947, 0.5681818181818182, 'gini = 0.0\\nsamples = 1\\nvalue = [0, 1]'),\n",
              " Text(0.016431322207958923, 0.5681818181818182, 'gini = 0.0\\nsamples = 1\\nvalue = [1, 0]'),\n",
              " Text(0.01916987590928541, 0.6136363636363636, 'gini = 0.0\\nsamples = 11\\nvalue = [0, 11]'),\n",
              " Text(0.024646983311938382, 0.7045454545454546, 'x[67] <= 55.714\\ngini = 0.397\\nsamples = 11\\nvalue = [8, 3]'),\n",
              " Text(0.021908429610611894, 0.6590909090909091, 'gini = 0.0\\nsamples = 2\\nvalue = [0, 2]'),\n",
              " Text(0.02738553701326487, 0.6590909090909091, 'x[0] <= 17.5\\ngini = 0.198\\nsamples = 9\\nvalue = [8, 1]'),\n",
              " Text(0.024646983311938382, 0.6136363636363636, 'gini = 0.0\\nsamples = 1\\nvalue = [0, 1]'),\n",
              " Text(0.030124090714591358, 0.6136363636363636, 'gini = 0.0\\nsamples = 8\\nvalue = [8, 0]'),\n",
              " Text(0.04381685922122379, 0.75, 'x[13] <= 2.5\\ngini = 0.26\\nsamples = 39\\nvalue = [33, 6]'),\n",
              " Text(0.03560119811724433, 0.7045454545454546, 'x[24] <= 0.5\\ngini = 0.5\\nsamples = 8\\nvalue = [4, 4]'),\n",
              " Text(0.032862644415917845, 0.6590909090909091, 'gini = 0.0\\nsamples = 3\\nvalue = [3, 0]'),\n",
              " Text(0.03833975181857082, 0.6590909090909091, 'x[1] <= 22.0\\ngini = 0.32\\nsamples = 5\\nvalue = [1, 4]'),\n",
              " Text(0.03560119811724433, 0.6136363636363636, 'gini = 0.0\\nsamples = 4\\nvalue = [0, 4]'),\n",
              " Text(0.0410783055198973, 0.6136363636363636, 'gini = 0.0\\nsamples = 1\\nvalue = [1, 0]'),\n",
              " Text(0.05203252032520325, 0.7045454545454546, 'x[81] <= 9.5\\ngini = 0.121\\nsamples = 31\\nvalue = [29, 2]'),\n",
              " Text(0.049293966623876764, 0.6590909090909091, 'x[74] <= 41.667\\ngini = 0.444\\nsamples = 6\\nvalue = [4, 2]'),\n",
              " Text(0.04655541292255028, 0.6136363636363636, 'gini = 0.0\\nsamples = 4\\nvalue = [4, 0]'),\n",
              " Text(0.05203252032520325, 0.6136363636363636, 'gini = 0.0\\nsamples = 2\\nvalue = [0, 2]'),\n",
              " Text(0.05477107402652974, 0.6590909090909091, 'gini = 0.0\\nsamples = 25\\nvalue = [25, 0]'),\n",
              " Text(0.06709456568249893, 0.7954545454545454, 'x[13] <= 2.5\\ngini = 0.332\\nsamples = 38\\nvalue = [8, 30]'),\n",
              " Text(0.06435601198117244, 0.75, 'gini = 0.0\\nsamples = 16\\nvalue = [0, 16]'),\n",
              " Text(0.06983311938382541, 0.75, 'x[58] <= 0.029\\ngini = 0.463\\nsamples = 22\\nvalue = [8, 14]'),\n",
              " Text(0.0629867351305092, 0.7045454545454546, 'x[47] <= 5.0\\ngini = 0.278\\nsamples = 6\\nvalue = [5, 1]'),\n",
              " Text(0.060248181429182715, 0.6590909090909091, 'gini = 0.0\\nsamples = 1\\nvalue = [0, 1]'),\n",
              " Text(0.06572528883183569, 0.6590909090909091, 'gini = 0.0\\nsamples = 5\\nvalue = [5, 0]'),\n",
              " Text(0.07667950363714164, 0.7045454545454546, 'x[81] <= 54.0\\ngini = 0.305\\nsamples = 16\\nvalue = [3, 13]'),\n",
              " Text(0.07120239623448867, 0.6590909090909091, 'x[62] <= 0.113\\ngini = 0.444\\nsamples = 3\\nvalue = [2, 1]'),\n",
              " Text(0.06846384253316218, 0.6136363636363636, 'gini = 0.0\\nsamples = 2\\nvalue = [2, 0]'),\n",
              " Text(0.07394094993581515, 0.6136363636363636, 'gini = 0.0\\nsamples = 1\\nvalue = [0, 1]'),\n",
              " Text(0.0821566110397946, 0.6590909090909091, 'x[83] <= 7296833.5\\ngini = 0.142\\nsamples = 13\\nvalue = [1, 12]'),\n",
              " Text(0.07941805733846811, 0.6136363636363636, 'gini = 0.0\\nsamples = 12\\nvalue = [0, 12]'),\n",
              " Text(0.08489516474112109, 0.6136363636363636, 'gini = 0.0\\nsamples = 1\\nvalue = [1, 0]'),\n",
              " Text(0.0944801026957638, 0.8409090909090909, 'x[20] <= 0.5\\ngini = 0.167\\nsamples = 109\\nvalue = [99, 10]'),\n",
              " Text(0.08489516474112109, 0.7954545454545454, 'x[4] <= 5.0\\ngini = 0.027\\nsamples = 74\\nvalue = [73, 1]'),\n",
              " Text(0.0821566110397946, 0.75, 'gini = 0.0\\nsamples = 70\\nvalue = [70, 0]'),\n",
              " Text(0.08763371844244758, 0.75, 'x[60] <= 2.0\\ngini = 0.375\\nsamples = 4\\nvalue = [3, 1]'),\n",
              " Text(0.08489516474112109, 0.7045454545454546, 'gini = 0.0\\nsamples = 3\\nvalue = [3, 0]'),\n",
              " Text(0.09037227214377407, 0.7045454545454546, 'gini = 0.0\\nsamples = 1\\nvalue = [0, 1]'),\n",
              " Text(0.1040650406504065, 0.7954545454545454, 'x[60] <= 1.5\\ngini = 0.382\\nsamples = 35\\nvalue = [26, 9]'),\n",
              " Text(0.10132648694908002, 0.75, 'x[81] <= 179.5\\ngini = 0.305\\nsamples = 32\\nvalue = [26, 6]'),\n",
              " Text(0.09584937954642704, 0.7045454545454546, 'x[57] <= 0.976\\ngini = 0.496\\nsamples = 11\\nvalue = [6, 5]'),\n",
              " Text(0.09311082584510055, 0.6590909090909091, 'x[50] <= 0.5\\ngini = 0.278\\nsamples = 6\\nvalue = [1, 5]'),\n",
              " Text(0.09037227214377407, 0.6136363636363636, 'gini = 0.0\\nsamples = 5\\nvalue = [0, 5]'),\n",
              " Text(0.09584937954642704, 0.6136363636363636, 'gini = 0.0\\nsamples = 1\\nvalue = [1, 0]'),\n",
              " Text(0.09858793324775353, 0.6590909090909091, 'gini = 0.0\\nsamples = 5\\nvalue = [5, 0]'),\n",
              " Text(0.10680359435173299, 0.7045454545454546, 'x[81] <= 2182.0\\ngini = 0.091\\nsamples = 21\\nvalue = [20, 1]'),\n",
              " Text(0.1040650406504065, 0.6590909090909091, 'gini = 0.0\\nsamples = 20\\nvalue = [20, 0]'),\n",
              " Text(0.10954214805305948, 0.6590909090909091, 'gini = 0.0\\nsamples = 1\\nvalue = [0, 1]'),\n",
              " Text(0.10680359435173299, 0.75, 'gini = 0.0\\nsamples = 3\\nvalue = [0, 3]'),\n",
              " Text(0.4047897946084724, 0.8863636363636364, 'x[6] <= 0.5\\ngini = 0.142\\nsamples = 4033\\nvalue = [310, 3723]'),\n",
              " Text(0.3524122807017544, 0.8409090909090909, 'x[50] <= 1.5\\ngini = 0.102\\nsamples = 3807\\nvalue = [206, 3601]'),\n",
              " Text(0.29874839537869063, 0.7954545454545454, 'x[20] <= 0.5\\ngini = 0.092\\nsamples = 3774\\nvalue = [183, 3591]'),\n",
              " Text(0.21059050064184853, 0.75, 'x[86] <= 2.5\\ngini = 0.215\\nsamples = 1241\\nvalue = [152, 1089]'),\n",
              " Text(0.1353872486093282, 0.7045454545454546, 'x[39] <= 1.5\\ngini = 0.469\\nsamples = 218\\nvalue = [82, 136]'),\n",
              " Text(0.11501925545571245, 0.6590909090909091, 'x[65] <= 0.5\\ngini = 0.169\\nsamples = 107\\nvalue = [10, 97]'),\n",
              " Text(0.1071459135643988, 0.6136363636363636, 'x[77] <= 0.5\\ngini = 0.127\\nsamples = 103\\nvalue = [7, 96]'),\n",
              " Text(0.09961489088575096, 0.5681818181818182, 'x[58] <= 0.706\\ngini = 0.095\\nsamples = 100\\nvalue = [5, 95]'),\n",
              " Text(0.09276850663243474, 0.5227272727272727, 'x[50] <= 0.5\\ngini = 0.061\\nsamples = 95\\nvalue = [3, 92]'),\n",
              " Text(0.08729139922978177, 0.4772727272727273, 'x[40] <= 0.5\\ngini = 0.042\\nsamples = 93\\nvalue = [2, 91]'),\n",
              " Text(0.08455284552845528, 0.4318181818181818, 'gini = 0.0\\nsamples = 77\\nvalue = [0, 77]'),\n",
              " Text(0.09002995293110826, 0.4318181818181818, 'x[62] <= 0.354\\ngini = 0.219\\nsamples = 16\\nvalue = [2, 14]'),\n",
              " Text(0.08729139922978177, 0.38636363636363635, 'gini = 0.0\\nsamples = 13\\nvalue = [0, 13]'),\n",
              " Text(0.09276850663243474, 0.38636363636363635, 'x[58] <= 0.038\\ngini = 0.444\\nsamples = 3\\nvalue = [2, 1]'),\n",
              " Text(0.09002995293110826, 0.3409090909090909, 'gini = 0.0\\nsamples = 1\\nvalue = [0, 1]'),\n",
              " Text(0.09550706033376123, 0.3409090909090909, 'gini = 0.0\\nsamples = 2\\nvalue = [2, 0]'),\n",
              " Text(0.09824561403508772, 0.4772727272727273, 'x[69] <= 58.176\\ngini = 0.5\\nsamples = 2\\nvalue = [1, 1]'),\n",
              " Text(0.09550706033376123, 0.4318181818181818, 'gini = 0.0\\nsamples = 1\\nvalue = [0, 1]'),\n",
              " Text(0.10098416773641421, 0.4318181818181818, 'gini = 0.0\\nsamples = 1\\nvalue = [1, 0]'),\n",
              " Text(0.10646127513906718, 0.5227272727272727, 'x[67] <= 30.456\\ngini = 0.48\\nsamples = 5\\nvalue = [2, 3]'),\n",
              " Text(0.1037227214377407, 0.4772727272727273, 'gini = 0.0\\nsamples = 3\\nvalue = [0, 3]'),\n",
              " Text(0.10919982884039367, 0.4772727272727273, 'gini = 0.0\\nsamples = 2\\nvalue = [2, 0]'),\n",
              " Text(0.11467693624304665, 0.5681818181818182, 'x[1] <= 14.0\\ngini = 0.444\\nsamples = 3\\nvalue = [2, 1]'),\n",
              " Text(0.11193838254172016, 0.5227272727272727, 'gini = 0.0\\nsamples = 2\\nvalue = [2, 0]'),\n",
              " Text(0.11741548994437313, 0.5227272727272727, 'gini = 0.0\\nsamples = 1\\nvalue = [0, 1]'),\n",
              " Text(0.12289259734702611, 0.6136363636363636, 'x[13] <= 2.5\\ngini = 0.375\\nsamples = 4\\nvalue = [3, 1]'),\n",
              " Text(0.12015404364569962, 0.5681818181818182, 'gini = 0.0\\nsamples = 1\\nvalue = [0, 1]'),\n",
              " Text(0.1256311510483526, 0.5681818181818182, 'gini = 0.0\\nsamples = 3\\nvalue = [3, 0]'),\n",
              " Text(0.15575524176294395, 0.6590909090909091, 'x[82] <= 2086.5\\ngini = 0.456\\nsamples = 111\\nvalue = [72, 39]'),\n",
              " Text(0.13932391955498502, 0.6136363636363636, 'x[0] <= 21.5\\ngini = 0.288\\nsamples = 63\\nvalue = [52, 11]'),\n",
              " Text(0.13110825845100557, 0.5681818181818182, 'x[3] <= 1.5\\ngini = 0.375\\nsamples = 8\\nvalue = [2, 6]'),\n",
              " Text(0.12836970474967907, 0.5227272727272727, 'gini = 0.0\\nsamples = 5\\nvalue = [0, 5]'),\n",
              " Text(0.13384681215233205, 0.5227272727272727, 'x[1] <= 12.0\\ngini = 0.444\\nsamples = 3\\nvalue = [2, 1]'),\n",
              " Text(0.13110825845100557, 0.4772727272727273, 'gini = 0.0\\nsamples = 1\\nvalue = [0, 1]'),\n",
              " Text(0.13658536585365855, 0.4772727272727273, 'gini = 0.0\\nsamples = 2\\nvalue = [2, 0]'),\n",
              " Text(0.1475395806589645, 0.5681818181818182, 'x[81] <= 1751.5\\ngini = 0.165\\nsamples = 55\\nvalue = [50, 5]'),\n",
              " Text(0.144801026957638, 0.5227272727272727, 'x[1] <= 12.5\\ngini = 0.107\\nsamples = 53\\nvalue = [50, 3]'),\n",
              " Text(0.14206247325631152, 0.4772727272727273, 'x[4] <= 0.5\\ngini = 0.49\\nsamples = 7\\nvalue = [4, 3]'),\n",
              " Text(0.13932391955498502, 0.4318181818181818, 'gini = 0.0\\nsamples = 4\\nvalue = [4, 0]'),\n",
              " Text(0.144801026957638, 0.4318181818181818, 'gini = 0.0\\nsamples = 3\\nvalue = [0, 3]'),\n",
              " Text(0.1475395806589645, 0.4772727272727273, 'gini = 0.0\\nsamples = 46\\nvalue = [46, 0]'),\n",
              " Text(0.15027813436029097, 0.5227272727272727, 'gini = 0.0\\nsamples = 2\\nvalue = [0, 2]'),\n",
              " Text(0.17218656397090287, 0.6136363636363636, 'x[83] <= 38986.0\\ngini = 0.486\\nsamples = 48\\nvalue = [20, 28]'),\n",
              " Text(0.16123234916559692, 0.5681818181818182, 'x[58] <= 0.058\\ngini = 0.454\\nsamples = 23\\nvalue = [15, 8]'),\n",
              " Text(0.15575524176294395, 0.5227272727272727, 'x[31] <= 0.5\\ngini = 0.18\\nsamples = 10\\nvalue = [9, 1]'),\n",
              " Text(0.15301668806161745, 0.4772727272727273, 'gini = 0.0\\nsamples = 9\\nvalue = [9, 0]'),\n",
              " Text(0.15849379546427042, 0.4772727272727273, 'gini = 0.0\\nsamples = 1\\nvalue = [0, 1]'),\n",
              " Text(0.1667094565682499, 0.5227272727272727, 'x[74] <= 71.875\\ngini = 0.497\\nsamples = 13\\nvalue = [6, 7]'),\n",
              " Text(0.1639709028669234, 0.4772727272727273, 'x[58] <= 0.823\\ngini = 0.42\\nsamples = 10\\nvalue = [3, 7]'),\n",
              " Text(0.16123234916559692, 0.4318181818181818, 'gini = 0.0\\nsamples = 6\\nvalue = [0, 6]'),\n",
              " Text(0.1667094565682499, 0.4318181818181818, 'x[46] <= 9.0\\ngini = 0.375\\nsamples = 4\\nvalue = [3, 1]'),\n",
              " Text(0.1639709028669234, 0.38636363636363635, 'gini = 0.0\\nsamples = 3\\nvalue = [3, 0]'),\n",
              " Text(0.16944801026957637, 0.38636363636363635, 'gini = 0.0\\nsamples = 1\\nvalue = [0, 1]'),\n",
              " Text(0.16944801026957637, 0.4772727272727273, 'gini = 0.0\\nsamples = 3\\nvalue = [3, 0]'),\n",
              " Text(0.18314077877620882, 0.5681818181818182, 'x[62] <= 0.308\\ngini = 0.32\\nsamples = 25\\nvalue = [5, 20]'),\n",
              " Text(0.17766367137355585, 0.5227272727272727, 'x[1] <= 12.5\\ngini = 0.18\\nsamples = 20\\nvalue = [2, 18]'),\n",
              " Text(0.17492511767222935, 0.4772727272727273, 'gini = 0.0\\nsamples = 1\\nvalue = [1, 0]'),\n",
              " Text(0.18040222507488232, 0.4772727272727273, 'x[57] <= 0.993\\ngini = 0.1\\nsamples = 19\\nvalue = [1, 18]'),\n",
              " Text(0.17766367137355585, 0.4318181818181818, 'gini = 0.0\\nsamples = 18\\nvalue = [0, 18]'),\n",
              " Text(0.18314077877620882, 0.4318181818181818, 'gini = 0.0\\nsamples = 1\\nvalue = [1, 0]'),\n",
              " Text(0.1886178861788618, 0.5227272727272727, 'x[74] <= 82.5\\ngini = 0.48\\nsamples = 5\\nvalue = [3, 2]'),\n",
              " Text(0.1858793324775353, 0.4772727272727273, 'gini = 0.0\\nsamples = 3\\nvalue = [3, 0]'),\n",
              " Text(0.19135643988018827, 0.4772727272727273, 'gini = 0.0\\nsamples = 2\\nvalue = [0, 2]'),\n",
              " Text(0.28579375267436885, 0.7045454545454546, 'x[58] <= 0.917\\ngini = 0.127\\nsamples = 1023\\nvalue = [70, 953]'),\n",
              " Text(0.26213093709884466, 0.6590909090909091, 'x[62] <= 0.003\\ngini = 0.109\\nsamples = 999\\nvalue = [58, 941]'),\n",
              " Text(0.23123662815575524, 0.6136363636363636, 'x[45] <= 10.5\\ngini = 0.255\\nsamples = 307\\nvalue = [46, 261]'),\n",
              " Text(0.2050492083868207, 0.5681818181818182, 'x[1] <= 6.5\\ngini = 0.149\\nsamples = 209\\nvalue = [17, 192]'),\n",
              " Text(0.19957210098416775, 0.5227272727272727, 'x[47] <= 3.25\\ngini = 0.32\\nsamples = 5\\nvalue = [4, 1]'),\n",
              " Text(0.19683354728284125, 0.4772727272727273, 'gini = 0.0\\nsamples = 1\\nvalue = [0, 1]'),\n",
              " Text(0.20231065468549422, 0.4772727272727273, 'gini = 0.0\\nsamples = 4\\nvalue = [4, 0]'),\n",
              " Text(0.21052631578947367, 0.5227272727272727, 'x[1] <= 34.5\\ngini = 0.119\\nsamples = 204\\nvalue = [13, 191]'),\n",
              " Text(0.2077877620881472, 0.4772727272727273, 'x[58] <= 0.835\\ngini = 0.095\\nsamples = 201\\nvalue = [10, 191]'),\n",
              " Text(0.2050492083868207, 0.4318181818181818, 'x[50] <= 0.5\\ngini = 0.077\\nsamples = 199\\nvalue = [8, 191]'),\n",
              " Text(0.19683354728284125, 0.38636363636363635, 'x[1] <= 22.5\\ngini = 0.042\\nsamples = 185\\nvalue = [4, 181]'),\n",
              " Text(0.1886178861788618, 0.3409090909090909, 'x[1] <= 20.5\\ngini = 0.012\\nsamples = 168\\nvalue = [1, 167]'),\n",
              " Text(0.1858793324775353, 0.29545454545454547, 'gini = 0.0\\nsamples = 153\\nvalue = [0, 153]'),\n",
              " Text(0.19135643988018827, 0.29545454545454547, 'x[44] <= 7.5\\ngini = 0.124\\nsamples = 15\\nvalue = [1, 14]'),\n",
              " Text(0.1886178861788618, 0.25, 'gini = 0.0\\nsamples = 1\\nvalue = [1, 0]'),\n",
              " Text(0.19409499358151477, 0.25, 'gini = 0.0\\nsamples = 14\\nvalue = [0, 14]'),\n",
              " Text(0.2050492083868207, 0.3409090909090909, 'x[35] <= 0.5\\ngini = 0.291\\nsamples = 17\\nvalue = [3, 14]'),\n",
              " Text(0.20231065468549422, 0.29545454545454547, 'x[82] <= 8536.5\\ngini = 0.124\\nsamples = 15\\nvalue = [1, 14]'),\n",
              " Text(0.19957210098416775, 0.25, 'gini = 0.0\\nsamples = 13\\nvalue = [0, 13]'),\n",
              " Text(0.2050492083868207, 0.25, 'x[49] <= 3.125\\ngini = 0.5\\nsamples = 2\\nvalue = [1, 1]'),\n",
              " Text(0.20231065468549422, 0.20454545454545456, 'gini = 0.0\\nsamples = 1\\nvalue = [1, 0]'),\n",
              " Text(0.2077877620881472, 0.20454545454545456, 'gini = 0.0\\nsamples = 1\\nvalue = [0, 1]'),\n",
              " Text(0.2077877620881472, 0.29545454545454547, 'gini = 0.0\\nsamples = 2\\nvalue = [2, 0]'),\n",
              " Text(0.21326486949080017, 0.38636363636363635, 'x[83] <= 0.5\\ngini = 0.408\\nsamples = 14\\nvalue = [4, 10]'),\n",
              " Text(0.21052631578947367, 0.3409090909090909, 'gini = 0.0\\nsamples = 3\\nvalue = [3, 0]'),\n",
              " Text(0.21600342319212665, 0.3409090909090909, 'x[48] <= 4.833\\ngini = 0.165\\nsamples = 11\\nvalue = [1, 10]'),\n",
              " Text(0.21326486949080017, 0.29545454545454547, 'gini = 0.0\\nsamples = 1\\nvalue = [1, 0]'),\n",
              " Text(0.21874197689345315, 0.29545454545454547, 'gini = 0.0\\nsamples = 10\\nvalue = [0, 10]'),\n",
              " Text(0.21052631578947367, 0.4318181818181818, 'gini = 0.0\\nsamples = 2\\nvalue = [2, 0]'),\n",
              " Text(0.21326486949080017, 0.4772727272727273, 'gini = 0.0\\nsamples = 3\\nvalue = [3, 0]'),\n",
              " Text(0.25742404792468976, 0.5681818181818182, 'x[81] <= 278.5\\ngini = 0.417\\nsamples = 98\\nvalue = [29, 69]'),\n",
              " Text(0.24407359863072314, 0.5227272727272727, 'x[83] <= 84359.0\\ngini = 0.496\\nsamples = 46\\nvalue = [25, 21]'),\n",
              " Text(0.2365425759520753, 0.4772727272727273, 'x[86] <= 6.5\\ngini = 0.383\\nsamples = 31\\nvalue = [23, 8]'),\n",
              " Text(0.2296961916987591, 0.4318181818181818, 'x[81] <= 88.5\\ngini = 0.211\\nsamples = 25\\nvalue = [22, 3]'),\n",
              " Text(0.22421908429610612, 0.38636363636363635, 'x[48] <= 7.875\\ngini = 0.444\\nsamples = 3\\nvalue = [1, 2]'),\n",
              " Text(0.22148053059477962, 0.3409090909090909, 'gini = 0.0\\nsamples = 1\\nvalue = [1, 0]'),\n",
              " Text(0.2269576379974326, 0.3409090909090909, 'gini = 0.0\\nsamples = 2\\nvalue = [0, 2]'),\n",
              " Text(0.23517329910141208, 0.38636363636363635, 'x[70] <= 75.962\\ngini = 0.087\\nsamples = 22\\nvalue = [21, 1]'),\n",
              " Text(0.23243474540008557, 0.3409090909090909, 'gini = 0.0\\nsamples = 21\\nvalue = [21, 0]'),\n",
              " Text(0.23791185280273855, 0.3409090909090909, 'gini = 0.0\\nsamples = 1\\nvalue = [0, 1]'),\n",
              " Text(0.24338896020539152, 0.4318181818181818, 'x[74] <= 98.077\\ngini = 0.278\\nsamples = 6\\nvalue = [1, 5]'),\n",
              " Text(0.24065040650406505, 0.38636363636363635, 'gini = 0.0\\nsamples = 4\\nvalue = [0, 4]'),\n",
              " Text(0.24612751390671803, 0.38636363636363635, 'x[48] <= 14.25\\ngini = 0.5\\nsamples = 2\\nvalue = [1, 1]'),\n",
              " Text(0.24338896020539152, 0.3409090909090909, 'gini = 0.0\\nsamples = 1\\nvalue = [0, 1]'),\n",
              " Text(0.2488660676080445, 0.3409090909090909, 'gini = 0.0\\nsamples = 1\\nvalue = [1, 0]'),\n",
              " Text(0.251604621309371, 0.4772727272727273, 'x[25] <= 0.049\\ngini = 0.231\\nsamples = 15\\nvalue = [2, 13]'),\n",
              " Text(0.2488660676080445, 0.4318181818181818, 'gini = 0.0\\nsamples = 12\\nvalue = [0, 12]'),\n",
              " Text(0.2543431750106975, 0.4318181818181818, 'x[49] <= 6.2\\ngini = 0.444\\nsamples = 3\\nvalue = [2, 1]'),\n",
              " Text(0.251604621309371, 0.38636363636363635, 'gini = 0.0\\nsamples = 1\\nvalue = [0, 1]'),\n",
              " Text(0.25708172871202395, 0.38636363636363635, 'gini = 0.0\\nsamples = 2\\nvalue = [2, 0]'),\n",
              " Text(0.2707744972186564, 0.5227272727272727, 'x[50] <= 0.5\\ngini = 0.142\\nsamples = 52\\nvalue = [4, 48]'),\n",
              " Text(0.2680359435173299, 0.4772727272727273, 'x[73] <= 0.5\\ngini = 0.111\\nsamples = 51\\nvalue = [3, 48]'),\n",
              " Text(0.2652973898160034, 0.4318181818181818, 'x[86] <= 3.5\\ngini = 0.077\\nsamples = 50\\nvalue = [2, 48]'),\n",
              " Text(0.26255883611467695, 0.38636363636363635, 'x[57] <= 0.277\\ngini = 0.5\\nsamples = 4\\nvalue = [2, 2]'),\n",
              " Text(0.2598202824133504, 0.3409090909090909, 'gini = 0.0\\nsamples = 2\\nvalue = [0, 2]'),\n",
              " Text(0.2652973898160034, 0.3409090909090909, 'gini = 0.0\\nsamples = 2\\nvalue = [2, 0]'),\n",
              " Text(0.2680359435173299, 0.38636363636363635, 'gini = 0.0\\nsamples = 46\\nvalue = [0, 46]'),\n",
              " Text(0.2707744972186564, 0.4318181818181818, 'gini = 0.0\\nsamples = 1\\nvalue = [1, 0]'),\n",
              " Text(0.2735130509199829, 0.4772727272727273, 'gini = 0.0\\nsamples = 1\\nvalue = [1, 0]'),\n",
              " Text(0.2930252460419341, 0.6136363636363636, 'x[46] <= 28.0\\ngini = 0.034\\nsamples = 692\\nvalue = [12, 680]'),\n",
              " Text(0.2902866923406076, 0.5681818181818182, 'x[64] <= 0.677\\ngini = 0.029\\nsamples = 690\\nvalue = [10, 680]'),\n",
              " Text(0.28754813863928114, 0.5227272727272727, 'x[1] <= 6.5\\ngini = 0.026\\nsamples = 689\\nvalue = [9, 680]'),\n",
              " Text(0.27899015832263585, 0.4772727272727273, 'x[62] <= 0.275\\ngini = 0.408\\nsamples = 7\\nvalue = [2, 5]'),\n",
              " Text(0.2762516046213094, 0.4318181818181818, 'gini = 0.0\\nsamples = 2\\nvalue = [2, 0]'),\n",
              " Text(0.2817287120239623, 0.4318181818181818, 'gini = 0.0\\nsamples = 5\\nvalue = [0, 5]'),\n",
              " Text(0.2961061189559264, 0.4772727272727273, 'x[57] <= 0.088\\ngini = 0.02\\nsamples = 682\\nvalue = [7, 675]'),\n",
              " Text(0.2872058194266153, 0.4318181818181818, 'x[81] <= 365.5\\ngini = 0.375\\nsamples = 4\\nvalue = [1, 3]'),\n",
              " Text(0.28446726572528885, 0.38636363636363635, 'gini = 0.0\\nsamples = 1\\nvalue = [1, 0]'),\n",
              " Text(0.2899443731279418, 0.38636363636363635, 'gini = 0.0\\nsamples = 3\\nvalue = [0, 3]'),\n",
              " Text(0.30500641848523746, 0.4318181818181818, 'x[65] <= 0.5\\ngini = 0.018\\nsamples = 678\\nvalue = [6, 672]'),\n",
              " Text(0.2954214805305948, 0.38636363636363635, 'x[74] <= 3.212\\ngini = 0.01\\nsamples = 622\\nvalue = [3, 619]'),\n",
              " Text(0.2899443731279418, 0.3409090909090909, 'x[74] <= 1.837\\ngini = 0.069\\nsamples = 56\\nvalue = [2, 54]'),\n",
              " Text(0.2872058194266153, 0.29545454545454547, 'x[62] <= 0.059\\ngini = 0.036\\nsamples = 55\\nvalue = [1, 54]'),\n",
              " Text(0.28446726572528885, 0.25, 'x[57] <= 0.407\\ngini = 0.375\\nsamples = 4\\nvalue = [1, 3]'),\n",
              " Text(0.2817287120239623, 0.20454545454545456, 'gini = 0.0\\nsamples = 1\\nvalue = [1, 0]'),\n",
              " Text(0.2872058194266153, 0.20454545454545456, 'gini = 0.0\\nsamples = 3\\nvalue = [0, 3]'),\n",
              " Text(0.2899443731279418, 0.25, 'gini = 0.0\\nsamples = 51\\nvalue = [0, 51]'),\n",
              " Text(0.2926829268292683, 0.29545454545454547, 'gini = 0.0\\nsamples = 1\\nvalue = [1, 0]'),\n",
              " Text(0.30089858793324775, 0.3409090909090909, 'x[44] <= 20.5\\ngini = 0.004\\nsamples = 566\\nvalue = [1, 565]'),\n",
              " Text(0.2981600342319213, 0.29545454545454547, 'gini = 0.0\\nsamples = 549\\nvalue = [0, 549]'),\n",
              " Text(0.3036371416345742, 0.29545454545454547, 'x[67] <= 79.072\\ngini = 0.111\\nsamples = 17\\nvalue = [1, 16]'),\n",
              " Text(0.30089858793324775, 0.25, 'gini = 0.0\\nsamples = 16\\nvalue = [0, 16]'),\n",
              " Text(0.30637569533590076, 0.25, 'gini = 0.0\\nsamples = 1\\nvalue = [1, 0]'),\n",
              " Text(0.3145913564398802, 0.38636363636363635, 'x[50] <= 0.5\\ngini = 0.101\\nsamples = 56\\nvalue = [3, 53]'),\n",
              " Text(0.3118528027385537, 0.3409090909090909, 'x[3] <= 2.5\\ngini = 0.07\\nsamples = 55\\nvalue = [2, 53]'),\n",
              " Text(0.30911424903722723, 0.29545454545454547, 'gini = 0.0\\nsamples = 50\\nvalue = [0, 50]'),\n",
              " Text(0.3145913564398802, 0.29545454545454547, 'x[62] <= 0.458\\ngini = 0.48\\nsamples = 5\\nvalue = [2, 3]'),\n",
              " Text(0.3118528027385537, 0.25, 'gini = 0.0\\nsamples = 3\\nvalue = [0, 3]'),\n",
              " Text(0.31732991014120665, 0.25, 'gini = 0.0\\nsamples = 2\\nvalue = [2, 0]'),\n",
              " Text(0.31732991014120665, 0.3409090909090909, 'gini = 0.0\\nsamples = 1\\nvalue = [1, 0]'),\n",
              " Text(0.2930252460419341, 0.5227272727272727, 'gini = 0.0\\nsamples = 1\\nvalue = [1, 0]'),\n",
              " Text(0.2957637997432606, 0.5681818181818182, 'gini = 0.0\\nsamples = 2\\nvalue = [2, 0]'),\n",
              " Text(0.30945656824989304, 0.6590909090909091, 'x[56] <= 28.5\\ngini = 0.5\\nsamples = 24\\nvalue = [12, 12]'),\n",
              " Text(0.30397946084724004, 0.6136363636363636, 'x[0] <= 28.5\\ngini = 0.355\\nsamples = 13\\nvalue = [10, 3]'),\n",
              " Text(0.30124090714591356, 0.5681818181818182, 'gini = 0.0\\nsamples = 2\\nvalue = [0, 2]'),\n",
              " Text(0.30671801454856656, 0.5681818181818182, 'x[37] <= 3.0\\ngini = 0.165\\nsamples = 11\\nvalue = [10, 1]'),\n",
              " Text(0.30397946084724004, 0.5227272727272727, 'gini = 0.0\\nsamples = 10\\nvalue = [10, 0]'),\n",
              " Text(0.30945656824989304, 0.5227272727272727, 'gini = 0.0\\nsamples = 1\\nvalue = [0, 1]'),\n",
              " Text(0.314933675652546, 0.6136363636363636, 'x[64] <= 0.233\\ngini = 0.298\\nsamples = 11\\nvalue = [2, 9]'),\n",
              " Text(0.3121951219512195, 0.5681818181818182, 'gini = 0.0\\nsamples = 9\\nvalue = [0, 9]'),\n",
              " Text(0.31767222935387246, 0.5681818181818182, 'gini = 0.0\\nsamples = 2\\nvalue = [2, 0]'),\n",
              " Text(0.38690629011553274, 0.75, 'x[48] <= 1.833\\ngini = 0.024\\nsamples = 2533\\nvalue = [31, 2502]'),\n",
              " Text(0.38416773641420626, 0.7045454545454546, 'gini = 0.0\\nsamples = 1\\nvalue = [1, 0]'),\n",
              " Text(0.3896448438168592, 0.7045454545454546, 'x[44] <= 31.5\\ngini = 0.023\\nsamples = 2532\\nvalue = [30, 2502]'),\n",
              " Text(0.38690629011553274, 0.6590909090909091, 'x[3] <= 6.0\\ngini = 0.023\\nsamples = 2531\\nvalue = [29, 2502]'),\n",
              " Text(0.38416773641420626, 0.6136363636363636, 'x[56] <= 27.5\\ngini = 0.022\\nsamples = 2530\\nvalue = [28, 2502]'),\n",
              " Text(0.3544715447154472, 0.5681818181818182, 'x[86] <= 1.5\\ngini = 0.087\\nsamples = 440\\nvalue = [20, 420]'),\n",
              " Text(0.3337612323491656, 0.5227272727272727, 'x[13] <= 3.5\\ngini = 0.366\\nsamples = 29\\nvalue = [7, 22]'),\n",
              " Text(0.33102267864783913, 0.4772727272727273, 'x[3] <= 3.5\\ngini = 0.211\\nsamples = 25\\nvalue = [3, 22]'),\n",
              " Text(0.3282841249465126, 0.4318181818181818, 'x[62] <= 0.75\\ngini = 0.153\\nsamples = 24\\nvalue = [2, 22]'),\n",
              " Text(0.3255455712451861, 0.38636363636363635, 'x[82] <= 6032.5\\ngini = 0.083\\nsamples = 23\\nvalue = [1, 22]'),\n",
              " Text(0.32280701754385965, 0.3409090909090909, 'gini = 0.0\\nsamples = 21\\nvalue = [0, 21]'),\n",
              " Text(0.3282841249465126, 0.3409090909090909, 'x[1] <= 22.0\\ngini = 0.5\\nsamples = 2\\nvalue = [1, 1]'),\n",
              " Text(0.3255455712451861, 0.29545454545454547, 'gini = 0.0\\nsamples = 1\\nvalue = [1, 0]'),\n",
              " Text(0.33102267864783913, 0.29545454545454547, 'gini = 0.0\\nsamples = 1\\nvalue = [0, 1]'),\n",
              " Text(0.33102267864783913, 0.38636363636363635, 'gini = 0.0\\nsamples = 1\\nvalue = [1, 0]'),\n",
              " Text(0.3337612323491656, 0.4318181818181818, 'gini = 0.0\\nsamples = 1\\nvalue = [1, 0]'),\n",
              " Text(0.3364997860504921, 0.4772727272727273, 'gini = 0.0\\nsamples = 4\\nvalue = [4, 0]'),\n",
              " Text(0.3751818570817287, 0.5227272727272727, 'x[1] <= 36.5\\ngini = 0.061\\nsamples = 411\\nvalue = [13, 398]'),\n",
              " Text(0.3724433033804022, 0.4772727272727273, 'x[49] <= 11.667\\ngini = 0.057\\nsamples = 410\\nvalue = [12, 398]'),\n",
              " Text(0.36970474967907574, 0.4318181818181818, 'x[43] <= 4.5\\ngini = 0.052\\nsamples = 409\\nvalue = [11, 398]'),\n",
              " Text(0.3590928540864356, 0.38636363636363635, 'x[45] <= 18.5\\ngini = 0.04\\nsamples = 388\\nvalue = [8, 380]'),\n",
              " Text(0.3460847240051348, 0.3409090909090909, 'x[37] <= 0.5\\ngini = 0.032\\nsamples = 370\\nvalue = [6, 364]'),\n",
              " Text(0.3364997860504921, 0.29545454545454547, 'x[56] <= 26.5\\ngini = 0.008\\nsamples = 247\\nvalue = [1, 246]'),\n",
              " Text(0.3337612323491656, 0.25, 'gini = 0.0\\nsamples = 241\\nvalue = [0, 241]'),\n",
              " Text(0.33923833975181855, 0.25, 'x[64] <= 0.133\\ngini = 0.278\\nsamples = 6\\nvalue = [1, 5]'),\n",
              " Text(0.3364997860504921, 0.20454545454545456, 'gini = 0.0\\nsamples = 5\\nvalue = [0, 5]'),\n",
              " Text(0.3419768934531451, 0.20454545454545456, 'gini = 0.0\\nsamples = 1\\nvalue = [1, 0]'),\n",
              " Text(0.3556696619597775, 0.29545454545454547, 'x[47] <= 4.817\\ngini = 0.078\\nsamples = 123\\nvalue = [5, 118]'),\n",
              " Text(0.3501925545571245, 0.25, 'x[47] <= 4.743\\ngini = 0.219\\nsamples = 32\\nvalue = [4, 28]'),\n",
              " Text(0.34745400085579803, 0.20454545454545456, 'x[43] <= 3.5\\ngini = 0.124\\nsamples = 30\\nvalue = [2, 28]'),\n",
              " Text(0.34471544715447155, 0.1590909090909091, 'gini = 0.0\\nsamples = 27\\nvalue = [0, 27]'),\n",
              " Text(0.3501925545571245, 0.1590909090909091, 'x[34] <= 0.5\\ngini = 0.444\\nsamples = 3\\nvalue = [2, 1]'),\n",
              " Text(0.34745400085579803, 0.11363636363636363, 'gini = 0.0\\nsamples = 2\\nvalue = [2, 0]'),\n",
              " Text(0.35293110825845103, 0.11363636363636363, 'gini = 0.0\\nsamples = 1\\nvalue = [0, 1]'),\n",
              " Text(0.35293110825845103, 0.20454545454545456, 'gini = 0.0\\nsamples = 2\\nvalue = [2, 0]'),\n",
              " Text(0.36114676936243045, 0.25, 'x[80] <= 0.5\\ngini = 0.022\\nsamples = 91\\nvalue = [1, 90]'),\n",
              " Text(0.358408215661104, 0.20454545454545456, 'gini = 0.0\\nsamples = 85\\nvalue = [0, 85]'),\n",
              " Text(0.3638853230637569, 0.20454545454545456, 'x[29] <= 0.5\\ngini = 0.278\\nsamples = 6\\nvalue = [1, 5]'),\n",
              " Text(0.36114676936243045, 0.1590909090909091, 'gini = 0.0\\nsamples = 5\\nvalue = [0, 5]'),\n",
              " Text(0.36662387676508346, 0.1590909090909091, 'gini = 0.0\\nsamples = 1\\nvalue = [1, 0]'),\n",
              " Text(0.3721009841677364, 0.3409090909090909, 'x[47] <= 8.232\\ngini = 0.198\\nsamples = 18\\nvalue = [2, 16]'),\n",
              " Text(0.36936243046640993, 0.29545454545454547, 'x[4] <= 3.5\\ngini = 0.444\\nsamples = 3\\nvalue = [2, 1]'),\n",
              " Text(0.36662387676508346, 0.25, 'gini = 0.0\\nsamples = 2\\nvalue = [2, 0]'),\n",
              " Text(0.3721009841677364, 0.25, 'gini = 0.0\\nsamples = 1\\nvalue = [0, 1]'),\n",
              " Text(0.3748395378690629, 0.29545454545454547, 'gini = 0.0\\nsamples = 15\\nvalue = [0, 15]'),\n",
              " Text(0.3803166452717159, 0.38636363636363635, 'x[58] <= 0.519\\ngini = 0.245\\nsamples = 21\\nvalue = [3, 18]'),\n",
              " Text(0.3775780915703894, 0.3409090909090909, 'gini = 0.0\\nsamples = 17\\nvalue = [0, 17]'),\n",
              " Text(0.38305519897304235, 0.3409090909090909, 'x[4] <= 2.0\\ngini = 0.375\\nsamples = 4\\nvalue = [3, 1]'),\n",
              " Text(0.3803166452717159, 0.29545454545454547, 'gini = 0.0\\nsamples = 3\\nvalue = [3, 0]'),\n",
              " Text(0.38579375267436883, 0.29545454545454547, 'gini = 0.0\\nsamples = 1\\nvalue = [0, 1]'),\n",
              " Text(0.3751818570817287, 0.4318181818181818, 'gini = 0.0\\nsamples = 1\\nvalue = [1, 0]'),\n",
              " Text(0.3779204107830552, 0.4772727272727273, 'gini = 0.0\\nsamples = 1\\nvalue = [1, 0]'),\n",
              " Text(0.41386392811296535, 0.5681818181818182, 'x[13] <= 2.5\\ngini = 0.008\\nsamples = 2090\\nvalue = [8, 2082]'),\n",
              " Text(0.40427899015832264, 0.5227272727272727, 'x[81] <= 313.0\\ngini = 0.083\\nsamples = 46\\nvalue = [2, 44]'),\n",
              " Text(0.40154043645699616, 0.4772727272727273, 'gini = 0.0\\nsamples = 36\\nvalue = [0, 36]'),\n",
              " Text(0.4070175438596491, 0.4772727272727273, 'x[47] <= 7.25\\ngini = 0.32\\nsamples = 10\\nvalue = [2, 8]'),\n",
              " Text(0.40427899015832264, 0.4318181818181818, 'gini = 0.0\\nsamples = 8\\nvalue = [0, 8]'),\n",
              " Text(0.4097560975609756, 0.4318181818181818, 'gini = 0.0\\nsamples = 2\\nvalue = [2, 0]'),\n",
              " Text(0.42344886606760807, 0.5227272727272727, 'x[48] <= 11.75\\ngini = 0.006\\nsamples = 2044\\nvalue = [6, 2038]'),\n",
              " Text(0.41797175866495506, 0.4772727272727273, 'x[81] <= 199.5\\ngini = 0.005\\nsamples = 2013\\nvalue = [5, 2008]'),\n",
              " Text(0.4152332049636286, 0.4318181818181818, 'x[81] <= 198.5\\ngini = 0.014\\nsamples = 701\\nvalue = [5, 696]'),\n",
              " Text(0.4063329054343175, 0.38636363636363635, 'x[74] <= 95.938\\ngini = 0.011\\nsamples = 698\\nvalue = [4, 694]'),\n",
              " Text(0.3967479674796748, 0.3409090909090909, 'x[47] <= 3.1\\ngini = 0.006\\nsamples = 647\\nvalue = [2, 645]'),\n",
              " Text(0.39127086007702183, 0.29545454545454547, 'x[39] <= 7.5\\ngini = 0.074\\nsamples = 26\\nvalue = [1, 25]'),\n",
              " Text(0.38853230637569536, 0.25, 'gini = 0.0\\nsamples = 25\\nvalue = [0, 25]'),\n",
              " Text(0.3940094137783483, 0.25, 'gini = 0.0\\nsamples = 1\\nvalue = [1, 0]'),\n",
              " Text(0.4022250748823278, 0.29545454545454547, 'x[67] <= 1.0\\ngini = 0.003\\nsamples = 621\\nvalue = [1, 620]'),\n",
              " Text(0.3994865211810013, 0.25, 'x[74] <= 73.214\\ngini = 0.069\\nsamples = 28\\nvalue = [1, 27]'),\n",
              " Text(0.3967479674796748, 0.20454545454545456, 'gini = 0.0\\nsamples = 25\\nvalue = [0, 25]'),\n",
              " Text(0.4022250748823278, 0.20454545454545456, 'x[62] <= 0.025\\ngini = 0.444\\nsamples = 3\\nvalue = [1, 2]'),\n",
              " Text(0.3994865211810013, 0.1590909090909091, 'gini = 0.0\\nsamples = 1\\nvalue = [1, 0]'),\n",
              " Text(0.40496362858365426, 0.1590909090909091, 'gini = 0.0\\nsamples = 2\\nvalue = [0, 2]'),\n",
              " Text(0.40496362858365426, 0.25, 'gini = 0.0\\nsamples = 593\\nvalue = [0, 593]'),\n",
              " Text(0.4159178433889602, 0.3409090909090909, 'x[50] <= 0.5\\ngini = 0.075\\nsamples = 51\\nvalue = [2, 49]'),\n",
              " Text(0.41317928968763373, 0.29545454545454547, 'x[81] <= 145.5\\ngini = 0.039\\nsamples = 50\\nvalue = [1, 49]'),\n",
              " Text(0.41044073598630726, 0.25, 'gini = 0.0\\nsamples = 43\\nvalue = [0, 43]'),\n",
              " Text(0.4159178433889602, 0.25, 'x[47] <= 4.417\\ngini = 0.245\\nsamples = 7\\nvalue = [1, 6]'),\n",
              " Text(0.41317928968763373, 0.20454545454545456, 'gini = 0.0\\nsamples = 1\\nvalue = [1, 0]'),\n",
              " Text(0.4186563970902867, 0.20454545454545456, 'gini = 0.0\\nsamples = 6\\nvalue = [0, 6]'),\n",
              " Text(0.4186563970902867, 0.29545454545454547, 'gini = 0.0\\nsamples = 1\\nvalue = [1, 0]'),\n",
              " Text(0.4241335044929397, 0.38636363636363635, 'x[0] <= 63.0\\ngini = 0.444\\nsamples = 3\\nvalue = [1, 2]'),\n",
              " Text(0.42139495079161315, 0.3409090909090909, 'gini = 0.0\\nsamples = 1\\nvalue = [1, 0]'),\n",
              " Text(0.42687205819426616, 0.3409090909090909, 'gini = 0.0\\nsamples = 2\\nvalue = [0, 2]'),\n",
              " Text(0.42071031236628154, 0.4318181818181818, 'gini = 0.0\\nsamples = 1312\\nvalue = [0, 1312]'),\n",
              " Text(0.428925973470261, 0.4772727272727273, 'x[62] <= 0.675\\ngini = 0.062\\nsamples = 31\\nvalue = [1, 30]'),\n",
              " Text(0.42618741976893454, 0.4318181818181818, 'gini = 0.0\\nsamples = 30\\nvalue = [0, 30]'),\n",
              " Text(0.4316645271715875, 0.4318181818181818, 'gini = 0.0\\nsamples = 1\\nvalue = [1, 0]'),\n",
              " Text(0.3896448438168592, 0.6136363636363636, 'gini = 0.0\\nsamples = 1\\nvalue = [1, 0]'),\n",
              " Text(0.3923833975181857, 0.6590909090909091, 'gini = 0.0\\nsamples = 1\\nvalue = [1, 0]'),\n",
              " Text(0.40607616602481816, 0.7954545454545454, 'x[10] <= 0.5\\ngini = 0.422\\nsamples = 33\\nvalue = [23, 10]'),\n",
              " Text(0.40333761232349163, 0.75, 'x[4] <= 4.5\\ngini = 0.252\\nsamples = 27\\nvalue = [23, 4]'),\n",
              " Text(0.40059905862216516, 0.7045454545454546, 'x[81] <= 3117.0\\ngini = 0.08\\nsamples = 24\\nvalue = [23, 1]'),\n",
              " Text(0.3978605049208387, 0.6590909090909091, 'gini = 0.0\\nsamples = 23\\nvalue = [23, 0]'),\n",
              " Text(0.40333761232349163, 0.6590909090909091, 'gini = 0.0\\nsamples = 1\\nvalue = [0, 1]'),\n",
              " Text(0.40607616602481816, 0.7045454545454546, 'gini = 0.0\\nsamples = 3\\nvalue = [0, 3]'),\n",
              " Text(0.40881471972614464, 0.75, 'gini = 0.0\\nsamples = 6\\nvalue = [0, 6]'),\n",
              " Text(0.45716730851519044, 0.8409090909090909, 'x[56] <= 26.5\\ngini = 0.497\\nsamples = 226\\nvalue = [104, 122]'),\n",
              " Text(0.4326914848095849, 0.7954545454545454, 'x[81] <= 106.5\\ngini = 0.335\\nsamples = 113\\nvalue = [89, 24]'),\n",
              " Text(0.4248181429182713, 0.75, 'x[15] <= 1.5\\ngini = 0.432\\nsamples = 19\\nvalue = [6, 13]'),\n",
              " Text(0.42207958921694483, 0.7045454545454546, 'x[45] <= 19.0\\ngini = 0.231\\nsamples = 15\\nvalue = [2, 13]'),\n",
              " Text(0.4193410355156183, 0.6590909090909091, 'x[67] <= 75.0\\ngini = 0.133\\nsamples = 14\\nvalue = [1, 13]'),\n",
              " Text(0.4166024818142918, 0.6136363636363636, 'gini = 0.0\\nsamples = 11\\nvalue = [0, 11]'),\n",
              " Text(0.42207958921694483, 0.6136363636363636, 'x[47] <= 6.304\\ngini = 0.444\\nsamples = 3\\nvalue = [1, 2]'),\n",
              " Text(0.4193410355156183, 0.5681818181818182, 'gini = 0.0\\nsamples = 1\\nvalue = [1, 0]'),\n",
              " Text(0.4248181429182713, 0.5681818181818182, 'gini = 0.0\\nsamples = 2\\nvalue = [0, 2]'),\n",
              " Text(0.4248181429182713, 0.6590909090909091, 'gini = 0.0\\nsamples = 1\\nvalue = [1, 0]'),\n",
              " Text(0.4275566966195978, 0.7045454545454546, 'gini = 0.0\\nsamples = 4\\nvalue = [4, 0]'),\n",
              " Text(0.4405648267008986, 0.75, 'x[83] <= 80912.5\\ngini = 0.207\\nsamples = 94\\nvalue = [83, 11]'),\n",
              " Text(0.4330338040222507, 0.7045454545454546, 'x[41] <= 4.5\\ngini = 0.029\\nsamples = 68\\nvalue = [67, 1]'),\n",
              " Text(0.43029525032092425, 0.6590909090909091, 'gini = 0.0\\nsamples = 67\\nvalue = [67, 0]'),\n",
              " Text(0.43577235772357725, 0.6590909090909091, 'gini = 0.0\\nsamples = 1\\nvalue = [0, 1]'),\n",
              " Text(0.44809584937954644, 0.7045454545454546, 'x[46] <= 8.5\\ngini = 0.473\\nsamples = 26\\nvalue = [16, 10]'),\n",
              " Text(0.4412494651262302, 0.6590909090909091, 'x[70] <= 50.0\\ngini = 0.245\\nsamples = 7\\nvalue = [1, 6]'),\n",
              " Text(0.4385109114249037, 0.6136363636363636, 'gini = 0.0\\nsamples = 6\\nvalue = [0, 6]'),\n",
              " Text(0.4439880188275567, 0.6136363636363636, 'gini = 0.0\\nsamples = 1\\nvalue = [1, 0]'),\n",
              " Text(0.4549422336328626, 0.6590909090909091, 'x[49] <= 6.412\\ngini = 0.332\\nsamples = 19\\nvalue = [15, 4]'),\n",
              " Text(0.4494651262302097, 0.6136363636363636, 'x[3] <= 2.5\\ngini = 0.124\\nsamples = 15\\nvalue = [14, 1]'),\n",
              " Text(0.4467265725288832, 0.5681818181818182, 'gini = 0.0\\nsamples = 1\\nvalue = [0, 1]'),\n",
              " Text(0.45220367993153615, 0.5681818181818182, 'gini = 0.0\\nsamples = 14\\nvalue = [14, 0]'),\n",
              " Text(0.46041934103551563, 0.6136363636363636, 'x[81] <= 238.5\\ngini = 0.375\\nsamples = 4\\nvalue = [1, 3]'),\n",
              " Text(0.45768078733418915, 0.5681818181818182, 'gini = 0.0\\nsamples = 3\\nvalue = [0, 3]'),\n",
              " Text(0.4631578947368421, 0.5681818181818182, 'gini = 0.0\\nsamples = 1\\nvalue = [1, 0]'),\n",
              " Text(0.4816431322207959, 0.7954545454545454, 'x[82] <= 2064.0\\ngini = 0.23\\nsamples = 113\\nvalue = [15, 98]'),\n",
              " Text(0.47411210954214805, 0.75, 'x[34] <= 0.5\\ngini = 0.484\\nsamples = 17\\nvalue = [7, 10]'),\n",
              " Text(0.4713735558408216, 0.7045454545454546, 'x[62] <= 0.162\\ngini = 0.355\\nsamples = 13\\nvalue = [3, 10]'),\n",
              " Text(0.4686350021394951, 0.6590909090909091, 'x[60] <= 0.5\\ngini = 0.5\\nsamples = 6\\nvalue = [3, 3]'),\n",
              " Text(0.4658964484381686, 0.6136363636363636, 'gini = 0.0\\nsamples = 3\\nvalue = [3, 0]'),\n",
              " Text(0.4713735558408216, 0.6136363636363636, 'gini = 0.0\\nsamples = 3\\nvalue = [0, 3]'),\n",
              " Text(0.47411210954214805, 0.6590909090909091, 'gini = 0.0\\nsamples = 7\\nvalue = [0, 7]'),\n",
              " Text(0.4768506632434745, 0.7045454545454546, 'gini = 0.0\\nsamples = 4\\nvalue = [4, 0]'),\n",
              " Text(0.4891741548994437, 0.75, 'x[46] <= 40.5\\ngini = 0.153\\nsamples = 96\\nvalue = [8, 88]'),\n",
              " Text(0.48643560119811724, 0.7045454545454546, 'x[81] <= 3372.0\\ngini = 0.12\\nsamples = 94\\nvalue = [6, 88]'),\n",
              " Text(0.48369704749679077, 0.6590909090909091, 'x[83] <= 1.5\\ngini = 0.102\\nsamples = 93\\nvalue = [5, 88]'),\n",
              " Text(0.4768506632434745, 0.6136363636363636, 'x[0] <= 56.0\\ngini = 0.408\\nsamples = 7\\nvalue = [2, 5]'),\n",
              " Text(0.47411210954214805, 0.5681818181818182, 'gini = 0.0\\nsamples = 2\\nvalue = [2, 0]'),\n",
              " Text(0.479589216944801, 0.5681818181818182, 'gini = 0.0\\nsamples = 5\\nvalue = [0, 5]'),\n",
              " Text(0.49054343175010695, 0.6136363636363636, 'x[83] <= 3356587.5\\ngini = 0.067\\nsamples = 86\\nvalue = [3, 83]'),\n",
              " Text(0.485066324347454, 0.5681818181818182, 'x[25] <= 0.107\\ngini = 0.046\\nsamples = 84\\nvalue = [2, 82]'),\n",
              " Text(0.48232777064612753, 0.5227272727272727, 'gini = 0.0\\nsamples = 62\\nvalue = [0, 62]'),\n",
              " Text(0.4878048780487805, 0.5227272727272727, 'x[57] <= 0.501\\ngini = 0.165\\nsamples = 22\\nvalue = [2, 20]'),\n",
              " Text(0.485066324347454, 0.4772727272727273, 'gini = 0.0\\nsamples = 1\\nvalue = [1, 0]'),\n",
              " Text(0.49054343175010695, 0.4772727272727273, 'x[25] <= 0.112\\ngini = 0.091\\nsamples = 21\\nvalue = [1, 20]'),\n",
              " Text(0.4878048780487805, 0.4318181818181818, 'gini = 0.0\\nsamples = 1\\nvalue = [1, 0]'),\n",
              " Text(0.4932819854514335, 0.4318181818181818, 'gini = 0.0\\nsamples = 20\\nvalue = [0, 20]'),\n",
              " Text(0.49602053915275995, 0.5681818181818182, 'x[24] <= 0.5\\ngini = 0.5\\nsamples = 2\\nvalue = [1, 1]'),\n",
              " Text(0.4932819854514335, 0.5227272727272727, 'gini = 0.0\\nsamples = 1\\nvalue = [1, 0]'),\n",
              " Text(0.4987590928540864, 0.5227272727272727, 'gini = 0.0\\nsamples = 1\\nvalue = [0, 1]'),\n",
              " Text(0.4891741548994437, 0.6590909090909091, 'gini = 0.0\\nsamples = 1\\nvalue = [1, 0]'),\n",
              " Text(0.49191270860077024, 0.7045454545454546, 'gini = 0.0\\nsamples = 2\\nvalue = [2, 0]'),\n",
              " Text(0.7622227849540009, 0.9318181818181818, 'x[86] <= 2.5\\ngini = 0.266\\nsamples = 4894\\nvalue = [4121, 773]'),\n",
              " Text(0.6438828827021823, 0.8863636363636364, 'x[51] <= 0.5\\ngini = 0.066\\nsamples = 3059\\nvalue = [2955, 104]'),\n",
              " Text(0.6028110959563543, 0.8409090909090909, 'x[78] <= 0.5\\ngini = 0.061\\nsamples = 3050\\nvalue = [2954, 96]'),\n",
              " Text(0.5288831835686778, 0.7954545454545454, 'x[13] <= 4.5\\ngini = 0.288\\nsamples = 166\\nvalue = [137, 29]'),\n",
              " Text(0.5151904150620453, 0.75, 'x[67] <= 53.571\\ngini = 0.442\\nsamples = 79\\nvalue = [53, 26]'),\n",
              " Text(0.5097133076593924, 0.7045454545454546, 'x[83] <= 7317552.5\\ngini = 0.188\\nsamples = 38\\nvalue = [34, 4]'),\n",
              " Text(0.5069747539580659, 0.6590909090909091, 'x[45] <= 13.5\\ngini = 0.149\\nsamples = 37\\nvalue = [34, 3]'),\n",
              " Text(0.5042362002567394, 0.6136363636363636, 'gini = 0.0\\nsamples = 23\\nvalue = [23, 0]'),\n",
              " Text(0.5097133076593924, 0.6136363636363636, 'x[46] <= 7.5\\ngini = 0.337\\nsamples = 14\\nvalue = [11, 3]'),\n",
              " Text(0.5069747539580659, 0.5681818181818182, 'x[44] <= 15.5\\ngini = 0.153\\nsamples = 12\\nvalue = [11, 1]'),\n",
              " Text(0.5042362002567394, 0.5227272727272727, 'gini = 0.0\\nsamples = 1\\nvalue = [0, 1]'),\n",
              " Text(0.5097133076593924, 0.5227272727272727, 'gini = 0.0\\nsamples = 11\\nvalue = [11, 0]'),\n",
              " Text(0.5124518613607189, 0.5681818181818182, 'gini = 0.0\\nsamples = 2\\nvalue = [0, 2]'),\n",
              " Text(0.5124518613607189, 0.6590909090909091, 'gini = 0.0\\nsamples = 1\\nvalue = [0, 1]'),\n",
              " Text(0.5206675224646984, 0.7045454545454546, 'x[58] <= 0.046\\ngini = 0.497\\nsamples = 41\\nvalue = [19, 22]'),\n",
              " Text(0.5179289687633718, 0.6590909090909091, 'gini = 0.0\\nsamples = 8\\nvalue = [8, 0]'),\n",
              " Text(0.5234060761660249, 0.6590909090909091, 'x[42] <= 2.5\\ngini = 0.444\\nsamples = 33\\nvalue = [11, 22]'),\n",
              " Text(0.5206675224646984, 0.6136363636363636, 'gini = 0.0\\nsamples = 4\\nvalue = [4, 0]'),\n",
              " Text(0.5261446298673513, 0.6136363636363636, 'x[1] <= 12.5\\ngini = 0.366\\nsamples = 29\\nvalue = [7, 22]'),\n",
              " Text(0.5206675224646984, 0.5681818181818182, 'x[25] <= 0.103\\ngini = 0.408\\nsamples = 7\\nvalue = [5, 2]'),\n",
              " Text(0.5179289687633718, 0.5227272727272727, 'gini = 0.0\\nsamples = 5\\nvalue = [5, 0]'),\n",
              " Text(0.5234060761660249, 0.5227272727272727, 'gini = 0.0\\nsamples = 2\\nvalue = [0, 2]'),\n",
              " Text(0.5316217372700043, 0.5681818181818182, 'x[44] <= 12.5\\ngini = 0.165\\nsamples = 22\\nvalue = [2, 20]'),\n",
              " Text(0.5288831835686778, 0.5227272727272727, 'gini = 0.0\\nsamples = 19\\nvalue = [0, 19]'),\n",
              " Text(0.5343602909713308, 0.5227272727272727, 'x[46] <= 5.5\\ngini = 0.444\\nsamples = 3\\nvalue = [2, 1]'),\n",
              " Text(0.5316217372700043, 0.4772727272727273, 'gini = 0.0\\nsamples = 1\\nvalue = [0, 1]'),\n",
              " Text(0.5370988446726572, 0.4772727272727273, 'gini = 0.0\\nsamples = 2\\nvalue = [2, 0]'),\n",
              " Text(0.5425759520753102, 0.75, 'x[82] <= 7728.0\\ngini = 0.067\\nsamples = 87\\nvalue = [84, 3]'),\n",
              " Text(0.5398373983739837, 0.7045454545454546, 'x[64] <= 0.035\\ngini = 0.045\\nsamples = 86\\nvalue = [84, 2]'),\n",
              " Text(0.5370988446726572, 0.6590909090909091, 'gini = 0.0\\nsamples = 78\\nvalue = [78, 0]'),\n",
              " Text(0.5425759520753102, 0.6590909090909091, 'x[62] <= 0.526\\ngini = 0.375\\nsamples = 8\\nvalue = [6, 2]'),\n",
              " Text(0.5398373983739837, 0.6136363636363636, 'x[74] <= 97.5\\ngini = 0.245\\nsamples = 7\\nvalue = [6, 1]'),\n",
              " Text(0.5370988446726572, 0.5681818181818182, 'gini = 0.0\\nsamples = 6\\nvalue = [6, 0]'),\n",
              " Text(0.5425759520753102, 0.5681818181818182, 'gini = 0.0\\nsamples = 1\\nvalue = [0, 1]'),\n",
              " Text(0.5453145057766368, 0.6136363636363636, 'gini = 0.0\\nsamples = 1\\nvalue = [0, 1]'),\n",
              " Text(0.5453145057766368, 0.7045454545454546, 'gini = 0.0\\nsamples = 1\\nvalue = [0, 1]'),\n",
              " Text(0.6767390083440308, 0.7954545454545454, 'x[62] <= 1.75\\ngini = 0.045\\nsamples = 2884\\nvalue = [2817, 67]'),\n",
              " Text(0.6562593602909713, 0.75, 'x[86] <= 1.5\\ngini = 0.043\\nsamples = 2879\\nvalue = [2815, 64]'),\n",
              " Text(0.6235157252888318, 0.7045454545454546, 'x[19] <= 6.5\\ngini = 0.022\\nsamples = 2265\\nvalue = [2240, 25]'),\n",
              " Text(0.6134841677364142, 0.6590909090909091, 'x[56] <= 109.5\\ngini = 0.021\\nsamples = 2263\\nvalue = [2239, 24]'),\n",
              " Text(0.6016367137355584, 0.6136363636363636, 'x[4] <= 5.5\\ngini = 0.017\\nsamples = 2171\\nvalue = [2152, 19]'),\n",
              " Text(0.5861574668378263, 0.5681818181818182, 'x[41] <= 13.5\\ngini = 0.015\\nsamples = 2123\\nvalue = [2107, 16]'),\n",
              " Text(0.5688917415489945, 0.5227272727272727, 'x[57] <= 0.009\\ngini = 0.014\\nsamples = 2113\\nvalue = [2098, 15]'),\n",
              " Text(0.5425759520753102, 0.4772727272727273, 'x[82] <= -1.5\\ngini = 0.034\\nsamples = 573\\nvalue = [563, 10]'),\n",
              " Text(0.5301668806161746, 0.4318181818181818, 'x[47] <= 6.958\\ngini = 0.444\\nsamples = 3\\nvalue = [2, 1]'),\n",
              " Text(0.5274283269148481, 0.38636363636363635, 'gini = 0.0\\nsamples = 2\\nvalue = [2, 0]'),\n",
              " Text(0.532905434317501, 0.38636363636363635, 'gini = 0.0\\nsamples = 1\\nvalue = [0, 1]'),\n",
              " Text(0.5549850235344459, 0.4318181818181818, 'x[41] <= 1.5\\ngini = 0.031\\nsamples = 570\\nvalue = [561, 9]'),\n",
              " Text(0.5383825417201541, 0.38636363636363635, 'x[62] <= 0.048\\ngini = 0.145\\nsamples = 51\\nvalue = [47, 4]'),\n",
              " Text(0.5356439880188275, 0.3409090909090909, 'x[60] <= 1.5\\ngini = 0.078\\nsamples = 49\\nvalue = [47, 2]'),\n",
              " Text(0.5301668806161746, 0.29545454545454547, 'x[83] <= 1449737.0\\ngini = 0.042\\nsamples = 47\\nvalue = [46, 1]'),\n",
              " Text(0.5274283269148481, 0.25, 'gini = 0.0\\nsamples = 44\\nvalue = [44, 0]'),\n",
              " Text(0.532905434317501, 0.25, 'x[83] <= 4402312.5\\ngini = 0.444\\nsamples = 3\\nvalue = [2, 1]'),\n",
              " Text(0.5301668806161746, 0.20454545454545456, 'gini = 0.0\\nsamples = 1\\nvalue = [0, 1]'),\n",
              " Text(0.5356439880188275, 0.20454545454545456, 'gini = 0.0\\nsamples = 2\\nvalue = [2, 0]'),\n",
              " Text(0.5411210954214806, 0.29545454545454547, 'x[4] <= 0.5\\ngini = 0.5\\nsamples = 2\\nvalue = [1, 1]'),\n",
              " Text(0.5383825417201541, 0.25, 'gini = 0.0\\nsamples = 1\\nvalue = [0, 1]'),\n",
              " Text(0.543859649122807, 0.25, 'gini = 0.0\\nsamples = 1\\nvalue = [1, 0]'),\n",
              " Text(0.5411210954214806, 0.3409090909090909, 'gini = 0.0\\nsamples = 2\\nvalue = [0, 2]'),\n",
              " Text(0.5715875053487377, 0.38636363636363635, 'x[4] <= 3.5\\ngini = 0.019\\nsamples = 519\\nvalue = [514, 5]'),\n",
              " Text(0.5637141634574241, 0.3409090909090909, 'x[10] <= 1.5\\ngini = 0.016\\nsamples = 508\\nvalue = [504, 4]'),\n",
              " Text(0.5561831407787762, 0.29545454545454547, 'x[54] <= 0.5\\ngini = 0.012\\nsamples = 499\\nvalue = [496, 3]'),\n",
              " Text(0.54933675652546, 0.25, 'x[43] <= 8.5\\ngini = 0.008\\nsamples = 481\\nvalue = [479, 2]'),\n",
              " Text(0.543859649122807, 0.20454545454545456, 'x[44] <= 6.5\\ngini = 0.004\\nsamples = 463\\nvalue = [462, 1]'),\n",
              " Text(0.5411210954214806, 0.1590909090909091, 'x[77] <= 0.5\\ngini = 0.059\\nsamples = 33\\nvalue = [32, 1]'),\n",
              " Text(0.5383825417201541, 0.11363636363636363, 'x[81] <= 117.0\\ngini = 0.278\\nsamples = 6\\nvalue = [5, 1]'),\n",
              " Text(0.5356439880188275, 0.06818181818181818, 'gini = 0.0\\nsamples = 5\\nvalue = [5, 0]'),\n",
              " Text(0.5411210954214806, 0.06818181818181818, 'gini = 0.0\\nsamples = 1\\nvalue = [0, 1]'),\n",
              " Text(0.543859649122807, 0.11363636363636363, 'gini = 0.0\\nsamples = 27\\nvalue = [27, 0]'),\n",
              " Text(0.5465982028241335, 0.1590909090909091, 'gini = 0.0\\nsamples = 430\\nvalue = [430, 0]'),\n",
              " Text(0.5548138639281129, 0.20454545454545456, 'x[40] <= 5.5\\ngini = 0.105\\nsamples = 18\\nvalue = [17, 1]'),\n",
              " Text(0.5520753102267865, 0.1590909090909091, 'gini = 0.0\\nsamples = 17\\nvalue = [17, 0]'),\n",
              " Text(0.5575524176294394, 0.1590909090909091, 'gini = 0.0\\nsamples = 1\\nvalue = [0, 1]'),\n",
              " Text(0.5630295250320925, 0.25, 'x[40] <= 3.5\\ngini = 0.105\\nsamples = 18\\nvalue = [17, 1]'),\n",
              " Text(0.5602909713307659, 0.20454545454545456, 'gini = 0.0\\nsamples = 16\\nvalue = [16, 0]'),\n",
              " Text(0.5657680787334189, 0.20454545454545456, 'x[56] <= 0.5\\ngini = 0.5\\nsamples = 2\\nvalue = [1, 1]'),\n",
              " Text(0.5630295250320925, 0.1590909090909091, 'gini = 0.0\\nsamples = 1\\nvalue = [0, 1]'),\n",
              " Text(0.5685066324347454, 0.1590909090909091, 'gini = 0.0\\nsamples = 1\\nvalue = [1, 0]'),\n",
              " Text(0.5712451861360719, 0.29545454545454547, 'x[41] <= 3.5\\ngini = 0.198\\nsamples = 9\\nvalue = [8, 1]'),\n",
              " Text(0.5685066324347454, 0.25, 'gini = 0.0\\nsamples = 8\\nvalue = [8, 0]'),\n",
              " Text(0.5739837398373984, 0.25, 'gini = 0.0\\nsamples = 1\\nvalue = [0, 1]'),\n",
              " Text(0.5794608472400513, 0.3409090909090909, 'x[82] <= 958.0\\ngini = 0.165\\nsamples = 11\\nvalue = [10, 1]'),\n",
              " Text(0.5767222935387248, 0.29545454545454547, 'gini = 0.0\\nsamples = 1\\nvalue = [0, 1]'),\n",
              " Text(0.5821994009413778, 0.29545454545454547, 'gini = 0.0\\nsamples = 10\\nvalue = [10, 0]'),\n",
              " Text(0.5952075310226786, 0.4772727272727273, 'x[13] <= 2.5\\ngini = 0.006\\nsamples = 1540\\nvalue = [1535, 5]'),\n",
              " Text(0.5876765083440308, 0.4318181818181818, 'x[70] <= 5.0\\ngini = 0.095\\nsamples = 20\\nvalue = [19, 1]'),\n",
              " Text(0.5849379546427044, 0.38636363636363635, 'gini = 0.0\\nsamples = 19\\nvalue = [19, 0]'),\n",
              " Text(0.5904150620453573, 0.38636363636363635, 'gini = 0.0\\nsamples = 1\\nvalue = [0, 1]'),\n",
              " Text(0.6027385537013265, 0.4318181818181818, 'x[62] <= 0.661\\ngini = 0.005\\nsamples = 1520\\nvalue = [1516, 4]'),\n",
              " Text(0.5958921694480103, 0.38636363636363635, 'x[4] <= 2.5\\ngini = 0.003\\nsamples = 1412\\nvalue = [1410, 2]'),\n",
              " Text(0.5904150620453573, 0.3409090909090909, 'x[81] <= 367.5\\ngini = 0.001\\nsamples = 1346\\nvalue = [1345, 1]'),\n",
              " Text(0.5876765083440308, 0.29545454545454547, 'gini = 0.0\\nsamples = 1239\\nvalue = [1239, 0]'),\n",
              " Text(0.5931536157466838, 0.29545454545454547, 'x[81] <= 368.5\\ngini = 0.019\\nsamples = 107\\nvalue = [106, 1]'),\n",
              " Text(0.5904150620453573, 0.25, 'gini = 0.0\\nsamples = 1\\nvalue = [0, 1]'),\n",
              " Text(0.5958921694480103, 0.25, 'gini = 0.0\\nsamples = 106\\nvalue = [106, 0]'),\n",
              " Text(0.6013692768506632, 0.3409090909090909, 'x[37] <= 1.5\\ngini = 0.03\\nsamples = 66\\nvalue = [65, 1]'),\n",
              " Text(0.5986307231493367, 0.29545454545454547, 'gini = 0.0\\nsamples = 63\\nvalue = [63, 0]'),\n",
              " Text(0.6041078305519897, 0.29545454545454547, 'x[42] <= 12.5\\ngini = 0.444\\nsamples = 3\\nvalue = [2, 1]'),\n",
              " Text(0.6013692768506632, 0.25, 'gini = 0.0\\nsamples = 1\\nvalue = [0, 1]'),\n",
              " Text(0.6068463842533162, 0.25, 'gini = 0.0\\nsamples = 2\\nvalue = [2, 0]'),\n",
              " Text(0.6095849379546427, 0.38636363636363635, 'x[57] <= 0.87\\ngini = 0.036\\nsamples = 108\\nvalue = [106, 2]'),\n",
              " Text(0.6068463842533162, 0.3409090909090909, 'gini = 0.0\\nsamples = 87\\nvalue = [87, 0]'),\n",
              " Text(0.6123234916559692, 0.3409090909090909, 'x[57] <= 0.885\\ngini = 0.172\\nsamples = 21\\nvalue = [19, 2]'),\n",
              " Text(0.6095849379546427, 0.29545454545454547, 'gini = 0.0\\nsamples = 2\\nvalue = [0, 2]'),\n",
              " Text(0.6150620453572957, 0.29545454545454547, 'gini = 0.0\\nsamples = 19\\nvalue = [19, 0]'),\n",
              " Text(0.6034231921266581, 0.5227272727272727, 'x[41] <= 14.5\\ngini = 0.18\\nsamples = 10\\nvalue = [9, 1]'),\n",
              " Text(0.6006846384253316, 0.4772727272727273, 'gini = 0.0\\nsamples = 1\\nvalue = [0, 1]'),\n",
              " Text(0.6061617458279845, 0.4772727272727273, 'gini = 0.0\\nsamples = 9\\nvalue = [9, 0]'),\n",
              " Text(0.6171159606332906, 0.5681818181818182, 'x[0] <= 91.5\\ngini = 0.117\\nsamples = 48\\nvalue = [45, 3]'),\n",
              " Text(0.6143774069319641, 0.5227272727272727, 'x[49] <= 6.293\\ngini = 0.48\\nsamples = 5\\nvalue = [2, 3]'),\n",
              " Text(0.6116388532306376, 0.4772727272727273, 'gini = 0.0\\nsamples = 2\\nvalue = [2, 0]'),\n",
              " Text(0.6171159606332906, 0.4772727272727273, 'gini = 0.0\\nsamples = 3\\nvalue = [0, 3]'),\n",
              " Text(0.619854514334617, 0.5227272727272727, 'gini = 0.0\\nsamples = 43\\nvalue = [43, 0]'),\n",
              " Text(0.62533162173727, 0.6136363636363636, 'x[56] <= 112.5\\ngini = 0.103\\nsamples = 92\\nvalue = [87, 5]'),\n",
              " Text(0.6225930680359435, 0.5681818181818182, 'gini = 0.0\\nsamples = 2\\nvalue = [0, 2]'),\n",
              " Text(0.6280701754385964, 0.5681818181818182, 'x[83] <= 8744170.0\\ngini = 0.064\\nsamples = 90\\nvalue = [87, 3]'),\n",
              " Text(0.62533162173727, 0.5227272727272727, 'x[37] <= 2.5\\ngini = 0.044\\nsamples = 89\\nvalue = [87, 2]'),\n",
              " Text(0.6225930680359435, 0.4772727272727273, 'gini = 0.0\\nsamples = 79\\nvalue = [79, 0]'),\n",
              " Text(0.6280701754385964, 0.4772727272727273, 'x[1] <= 21.0\\ngini = 0.32\\nsamples = 10\\nvalue = [8, 2]'),\n",
              " Text(0.62533162173727, 0.4318181818181818, 'gini = 0.0\\nsamples = 8\\nvalue = [8, 0]'),\n",
              " Text(0.630808729139923, 0.4318181818181818, 'gini = 0.0\\nsamples = 2\\nvalue = [0, 2]'),\n",
              " Text(0.630808729139923, 0.5227272727272727, 'gini = 0.0\\nsamples = 1\\nvalue = [0, 1]'),\n",
              " Text(0.6335472828412495, 0.6590909090909091, 'x[37] <= 0.5\\ngini = 0.5\\nsamples = 2\\nvalue = [1, 1]'),\n",
              " Text(0.630808729139923, 0.6136363636363636, 'gini = 0.0\\nsamples = 1\\nvalue = [0, 1]'),\n",
              " Text(0.636285836542576, 0.6136363636363636, 'gini = 0.0\\nsamples = 1\\nvalue = [1, 0]'),\n",
              " Text(0.6890029952931108, 0.7045454545454546, 'x[4] <= 7.5\\ngini = 0.119\\nsamples = 614\\nvalue = [575, 39]'),\n",
              " Text(0.6862644415917843, 0.6590909090909091, 'x[19] <= 0.5\\ngini = 0.111\\nsamples = 611\\nvalue = [575, 36]'),\n",
              " Text(0.6732563115104835, 0.6136363636363636, 'x[28] <= 0.5\\ngini = 0.096\\nsamples = 594\\nvalue = [564, 30]'),\n",
              " Text(0.6636713735558408, 0.5681818181818182, 'x[25] <= 0.025\\ngini = 0.09\\nsamples = 591\\nvalue = [563, 28]'),\n",
              " Text(0.6527171587505348, 0.5227272727272727, 'x[4] <= 1.5\\ngini = 0.159\\nsamples = 309\\nvalue = [282, 27]'),\n",
              " Text(0.6417629439452289, 0.4772727272727273, 'x[56] <= 296.0\\ngini = 0.117\\nsamples = 272\\nvalue = [255, 17]'),\n",
              " Text(0.636285836542576, 0.4318181818181818, 'x[48] <= 2.833\\ngini = 0.105\\nsamples = 269\\nvalue = [254, 15]'),\n",
              " Text(0.6335472828412495, 0.38636363636363635, 'gini = 0.0\\nsamples = 1\\nvalue = [0, 1]'),\n",
              " Text(0.6390243902439025, 0.38636363636363635, 'x[25] <= 0.024\\ngini = 0.099\\nsamples = 268\\nvalue = [254, 14]'),\n",
              " Text(0.636285836542576, 0.3409090909090909, 'x[62] <= 0.293\\ngini = 0.093\\nsamples = 267\\nvalue = [254, 13]'),\n",
              " Text(0.6244758237056055, 0.29545454545454547, 'x[49] <= 10.6\\ngini = 0.065\\nsamples = 239\\nvalue = [231, 8]'),\n",
              " Text(0.6145485665382969, 0.25, 'x[47] <= 4.817\\ngini = 0.057\\nsamples = 237\\nvalue = [230, 7]'),\n",
              " Text(0.6029097133076594, 0.20454545454545456, 'x[56] <= 34.0\\ngini = 0.177\\nsamples = 51\\nvalue = [46, 5]'),\n",
              " Text(0.5933247753530166, 0.1590909090909091, 'x[64] <= 0.625\\ngini = 0.087\\nsamples = 44\\nvalue = [42, 2]'),\n",
              " Text(0.5878476679503637, 0.11363636363636363, 'x[0] <= 21.5\\ngini = 0.046\\nsamples = 42\\nvalue = [41, 1]'),\n",
              " Text(0.5851091142490372, 0.06818181818181818, 'x[83] <= 5248244.0\\ngini = 0.375\\nsamples = 4\\nvalue = [3, 1]'),\n",
              " Text(0.5823705605477107, 0.022727272727272728, 'gini = 0.0\\nsamples = 3\\nvalue = [3, 0]'),\n",
              " Text(0.5878476679503637, 0.022727272727272728, 'gini = 0.0\\nsamples = 1\\nvalue = [0, 1]'),\n",
              " Text(0.5905862216516902, 0.06818181818181818, 'gini = 0.0\\nsamples = 38\\nvalue = [38, 0]'),\n",
              " Text(0.5988018827556697, 0.11363636363636363, 'x[25] <= 0.006\\ngini = 0.5\\nsamples = 2\\nvalue = [1, 1]'),\n",
              " Text(0.5960633290543432, 0.06818181818181818, 'gini = 0.0\\nsamples = 1\\nvalue = [0, 1]'),\n",
              " Text(0.6015404364569962, 0.06818181818181818, 'gini = 0.0\\nsamples = 1\\nvalue = [1, 0]'),\n",
              " Text(0.6124946512623021, 0.1590909090909091, 'x[81] <= 226.0\\ngini = 0.49\\nsamples = 7\\nvalue = [4, 3]'),\n",
              " Text(0.6097560975609756, 0.11363636363636363, 'x[42] <= 4.0\\ngini = 0.375\\nsamples = 4\\nvalue = [1, 3]'),\n",
              " Text(0.6070175438596491, 0.06818181818181818, 'gini = 0.0\\nsamples = 3\\nvalue = [0, 3]'),\n",
              " Text(0.6124946512623021, 0.06818181818181818, 'gini = 0.0\\nsamples = 1\\nvalue = [1, 0]'),\n",
              " Text(0.6152332049636285, 0.11363636363636363, 'gini = 0.0\\nsamples = 3\\nvalue = [3, 0]'),\n",
              " Text(0.6261874197689346, 0.20454545454545456, 'x[82] <= 301.5\\ngini = 0.021\\nsamples = 186\\nvalue = [184, 2]'),\n",
              " Text(0.6234488660676081, 0.1590909090909091, 'x[82] <= 234.0\\ngini = 0.1\\nsamples = 38\\nvalue = [36, 2]'),\n",
              " Text(0.6207103123662816, 0.11363636363636363, 'x[32] <= 1.5\\ngini = 0.053\\nsamples = 37\\nvalue = [36, 1]'),\n",
              " Text(0.617971758664955, 0.06818181818181818, 'x[48] <= 18.0\\ngini = 0.5\\nsamples = 2\\nvalue = [1, 1]'),\n",
              " Text(0.6152332049636285, 0.022727272727272728, 'gini = 0.0\\nsamples = 1\\nvalue = [0, 1]'),\n",
              " Text(0.6207103123662816, 0.022727272727272728, 'gini = 0.0\\nsamples = 1\\nvalue = [1, 0]'),\n",
              " Text(0.6234488660676081, 0.06818181818181818, 'gini = 0.0\\nsamples = 35\\nvalue = [35, 0]'),\n",
              " Text(0.6261874197689346, 0.11363636363636363, 'gini = 0.0\\nsamples = 1\\nvalue = [0, 1]'),\n",
              " Text(0.628925973470261, 0.1590909090909091, 'gini = 0.0\\nsamples = 148\\nvalue = [148, 0]'),\n",
              " Text(0.634403080872914, 0.25, 'x[58] <= 0.286\\ngini = 0.5\\nsamples = 2\\nvalue = [1, 1]'),\n",
              " Text(0.6316645271715875, 0.20454545454545456, 'gini = 0.0\\nsamples = 1\\nvalue = [0, 1]'),\n",
              " Text(0.6371416345742404, 0.20454545454545456, 'gini = 0.0\\nsamples = 1\\nvalue = [1, 0]'),\n",
              " Text(0.6480958493795465, 0.29545454545454547, 'x[44] <= 10.5\\ngini = 0.293\\nsamples = 28\\nvalue = [23, 5]'),\n",
              " Text(0.64535729567822, 0.25, 'x[1] <= 18.5\\ngini = 0.486\\nsamples = 12\\nvalue = [7, 5]'),\n",
              " Text(0.6426187419768935, 0.20454545454545456, 'gini = 0.0\\nsamples = 6\\nvalue = [6, 0]'),\n",
              " Text(0.6480958493795465, 0.20454545454545456, 'x[49] <= 8.25\\ngini = 0.278\\nsamples = 6\\nvalue = [1, 5]'),\n",
              " Text(0.64535729567822, 0.1590909090909091, 'gini = 0.0\\nsamples = 5\\nvalue = [0, 5]'),\n",
              " Text(0.6508344030808729, 0.1590909090909091, 'gini = 0.0\\nsamples = 1\\nvalue = [1, 0]'),\n",
              " Text(0.6508344030808729, 0.25, 'gini = 0.0\\nsamples = 16\\nvalue = [16, 0]'),\n",
              " Text(0.6417629439452289, 0.3409090909090909, 'gini = 0.0\\nsamples = 1\\nvalue = [0, 1]'),\n",
              " Text(0.6472400513478819, 0.4318181818181818, 'x[82] <= 2428.0\\ngini = 0.444\\nsamples = 3\\nvalue = [1, 2]'),\n",
              " Text(0.6445014976465554, 0.38636363636363635, 'gini = 0.0\\nsamples = 1\\nvalue = [1, 0]'),\n",
              " Text(0.6499786050492083, 0.38636363636363635, 'gini = 0.0\\nsamples = 2\\nvalue = [0, 2]'),\n",
              " Text(0.6636713735558408, 0.4772727272727273, 'x[43] <= 2.5\\ngini = 0.394\\nsamples = 37\\nvalue = [27, 10]'),\n",
              " Text(0.6581942661531879, 0.4318181818181818, 'x[42] <= 1.5\\ngini = 0.08\\nsamples = 24\\nvalue = [23, 1]'),\n",
              " Text(0.6554557124518614, 0.38636363636363635, 'gini = 0.0\\nsamples = 1\\nvalue = [0, 1]'),\n",
              " Text(0.6609328198545144, 0.38636363636363635, 'gini = 0.0\\nsamples = 23\\nvalue = [23, 0]'),\n",
              " Text(0.6691484809584938, 0.4318181818181818, 'x[13] <= 6.0\\ngini = 0.426\\nsamples = 13\\nvalue = [4, 9]'),\n",
              " Text(0.6664099272571673, 0.38636363636363635, 'x[81] <= 92.5\\ngini = 0.298\\nsamples = 11\\nvalue = [2, 9]'),\n",
              " Text(0.6636713735558408, 0.3409090909090909, 'gini = 0.0\\nsamples = 2\\nvalue = [2, 0]'),\n",
              " Text(0.6691484809584938, 0.3409090909090909, 'gini = 0.0\\nsamples = 9\\nvalue = [0, 9]'),\n",
              " Text(0.6718870346598202, 0.38636363636363635, 'gini = 0.0\\nsamples = 2\\nvalue = [2, 0]'),\n",
              " Text(0.6746255883611467, 0.5227272727272727, 'x[29] <= 0.5\\ngini = 0.007\\nsamples = 282\\nvalue = [281, 1]'),\n",
              " Text(0.6718870346598202, 0.4772727272727273, 'gini = 0.0\\nsamples = 271\\nvalue = [271, 0]'),\n",
              " Text(0.6773641420624733, 0.4772727272727273, 'x[0] <= 58.0\\ngini = 0.165\\nsamples = 11\\nvalue = [10, 1]'),\n",
              " Text(0.6746255883611467, 0.4318181818181818, 'gini = 0.0\\nsamples = 1\\nvalue = [0, 1]'),\n",
              " Text(0.6801026957637998, 0.4318181818181818, 'gini = 0.0\\nsamples = 10\\nvalue = [10, 0]'),\n",
              " Text(0.6828412494651263, 0.5681818181818182, 'x[46] <= 6.0\\ngini = 0.444\\nsamples = 3\\nvalue = [1, 2]'),\n",
              " Text(0.6801026957637998, 0.5227272727272727, 'gini = 0.0\\nsamples = 2\\nvalue = [0, 2]'),\n",
              " Text(0.6855798031664527, 0.5227272727272727, 'gini = 0.0\\nsamples = 1\\nvalue = [1, 0]'),\n",
              " Text(0.6992725716730851, 0.6136363636363636, 'x[20] <= 0.5\\ngini = 0.457\\nsamples = 17\\nvalue = [11, 6]'),\n",
              " Text(0.6937954642704321, 0.5681818181818182, 'x[47] <= 4.817\\ngini = 0.18\\nsamples = 10\\nvalue = [9, 1]'),\n",
              " Text(0.6910569105691057, 0.5227272727272727, 'gini = 0.0\\nsamples = 1\\nvalue = [0, 1]'),\n",
              " Text(0.6965340179717586, 0.5227272727272727, 'gini = 0.0\\nsamples = 9\\nvalue = [9, 0]'),\n",
              " Text(0.7047496790757382, 0.5681818181818182, 'x[74] <= 22.917\\ngini = 0.408\\nsamples = 7\\nvalue = [2, 5]'),\n",
              " Text(0.7020111253744117, 0.5227272727272727, 'gini = 0.0\\nsamples = 4\\nvalue = [0, 4]'),\n",
              " Text(0.7074882327770646, 0.5227272727272727, 'x[70] <= 12.5\\ngini = 0.444\\nsamples = 3\\nvalue = [2, 1]'),\n",
              " Text(0.7047496790757382, 0.4772727272727273, 'gini = 0.0\\nsamples = 2\\nvalue = [2, 0]'),\n",
              " Text(0.7102267864783911, 0.4772727272727273, 'gini = 0.0\\nsamples = 1\\nvalue = [0, 1]'),\n",
              " Text(0.6917415489944373, 0.6590909090909091, 'gini = 0.0\\nsamples = 3\\nvalue = [0, 3]'),\n",
              " Text(0.6972186563970902, 0.75, 'x[1] <= 16.5\\ngini = 0.48\\nsamples = 5\\nvalue = [2, 3]'),\n",
              " Text(0.6944801026957638, 0.7045454545454546, 'gini = 0.0\\nsamples = 3\\nvalue = [0, 3]'),\n",
              " Text(0.6999572100984168, 0.7045454545454546, 'gini = 0.0\\nsamples = 2\\nvalue = [2, 0]'),\n",
              " Text(0.6849546694480103, 0.8409090909090909, 'x[81] <= 238.0\\ngini = 0.198\\nsamples = 9\\nvalue = [1, 8]'),\n",
              " Text(0.6822161157466838, 0.7954545454545454, 'gini = 0.0\\nsamples = 8\\nvalue = [0, 8]'),\n",
              " Text(0.6876932231493368, 0.7954545454545454, 'gini = 0.0\\nsamples = 1\\nvalue = [1, 0]'),\n",
              " Text(0.8805626872058194, 0.8863636363636364, 'x[56] <= 36.5\\ngini = 0.463\\nsamples = 1835\\nvalue = [1166, 669]'),\n",
              " Text(0.8210954214805306, 0.8409090909090909, 'x[20] <= 0.5\\ngini = 0.277\\nsamples = 1230\\nvalue = [1026, 204]'),\n",
              " Text(0.7767222935387249, 0.7954545454545454, 'x[82] <= 8989.0\\ngini = 0.162\\nsamples = 1047\\nvalue = [954, 93]'),\n",
              " Text(0.7739837398373983, 0.75, 'x[4] <= 3.5\\ngini = 0.134\\nsamples = 1028\\nvalue = [954, 74]'),\n",
              " Text(0.7459991442019683, 0.7045454545454546, 'x[82] <= 45.0\\ngini = 0.097\\nsamples = 981\\nvalue = [931, 50]'),\n",
              " Text(0.7280273855370133, 0.6590909090909091, 'x[77] <= 0.5\\ngini = 0.379\\nsamples = 67\\nvalue = [50, 17]'),\n",
              " Text(0.721181001283697, 0.6136363636363636, 'x[78] <= 0.5\\ngini = 0.122\\nsamples = 46\\nvalue = [43, 3]'),\n",
              " Text(0.715703893881044, 0.5681818181818182, 'x[39] <= 2.5\\ngini = 0.48\\nsamples = 5\\nvalue = [3, 2]'),\n",
              " Text(0.7129653401797176, 0.5227272727272727, 'gini = 0.0\\nsamples = 3\\nvalue = [3, 0]'),\n",
              " Text(0.7184424475823705, 0.5227272727272727, 'gini = 0.0\\nsamples = 2\\nvalue = [0, 2]'),\n",
              " Text(0.7266581086863501, 0.5681818181818182, 'x[49] <= 10.389\\ngini = 0.048\\nsamples = 41\\nvalue = [40, 1]'),\n",
              " Text(0.7239195549850236, 0.5227272727272727, 'gini = 0.0\\nsamples = 36\\nvalue = [36, 0]'),\n",
              " Text(0.7293966623876765, 0.5227272727272727, 'x[25] <= 0.033\\ngini = 0.32\\nsamples = 5\\nvalue = [4, 1]'),\n",
              " Text(0.7266581086863501, 0.4772727272727273, 'gini = 0.0\\nsamples = 1\\nvalue = [0, 1]'),\n",
              " Text(0.732135216089003, 0.4772727272727273, 'gini = 0.0\\nsamples = 4\\nvalue = [4, 0]'),\n",
              " Text(0.7348737697903295, 0.6136363636363636, 'x[79] <= 0.5\\ngini = 0.444\\nsamples = 21\\nvalue = [7, 14]'),\n",
              " Text(0.732135216089003, 0.5681818181818182, 'gini = 0.0\\nsamples = 7\\nvalue = [7, 0]'),\n",
              " Text(0.737612323491656, 0.5681818181818182, 'gini = 0.0\\nsamples = 14\\nvalue = [0, 14]'),\n",
              " Text(0.7639709028669234, 0.6590909090909091, 'x[82] <= 8348.5\\ngini = 0.07\\nsamples = 914\\nvalue = [881, 33]'),\n",
              " Text(0.7533590072742833, 0.6136363636363636, 'x[39] <= 1.5\\ngini = 0.058\\nsamples = 899\\nvalue = [872, 27]'),\n",
              " Text(0.7506204535729568, 0.5681818181818182, 'gini = 0.0\\nsamples = 2\\nvalue = [0, 2]'),\n",
              " Text(0.7560975609756098, 0.5681818181818182, 'x[58] <= 0.49\\ngini = 0.054\\nsamples = 897\\nvalue = [872, 25]'),\n",
              " Text(0.7430894308943089, 0.5227272727272727, 'x[51] <= 0.5\\ngini = 0.131\\nsamples = 311\\nvalue = [289, 22]'),\n",
              " Text(0.737612323491656, 0.4772727272727273, 'x[82] <= 8281.5\\ngini = 0.092\\nsamples = 288\\nvalue = [274, 14]'),\n",
              " Text(0.7348737697903295, 0.4318181818181818, 'x[55] <= 1.0\\ngini = 0.086\\nsamples = 287\\nvalue = [274, 13]'),\n",
              " Text(0.732135216089003, 0.38636363636363635, 'x[81] <= 29.0\\ngini = 0.08\\nsamples = 286\\nvalue = [274, 12]'),\n",
              " Text(0.7242618741976894, 0.3409090909090909, 'x[40] <= 0.5\\ngini = 0.444\\nsamples = 9\\nvalue = [6, 3]'),\n",
              " Text(0.7215233204963628, 0.29545454545454547, 'gini = 0.0\\nsamples = 3\\nvalue = [0, 3]'),\n",
              " Text(0.7270004278990159, 0.29545454545454547, 'gini = 0.0\\nsamples = 6\\nvalue = [6, 0]'),\n",
              " Text(0.7400085579803166, 0.3409090909090909, 'x[62] <= 0.107\\ngini = 0.063\\nsamples = 277\\nvalue = [268, 9]'),\n",
              " Text(0.7324775353016688, 0.29545454545454547, 'x[19] <= 1.5\\ngini = 0.031\\nsamples = 257\\nvalue = [253, 4]'),\n",
              " Text(0.7256311510483526, 0.25, 'x[58] <= 0.372\\ngini = 0.016\\nsamples = 247\\nvalue = [245, 2]'),\n",
              " Text(0.7201540436456996, 0.20454545454545456, 'x[56] <= 27.5\\ngini = 0.008\\nsamples = 237\\nvalue = [236, 1]'),\n",
              " Text(0.7174154899443731, 0.1590909090909091, 'gini = 0.0\\nsamples = 228\\nvalue = [228, 0]'),\n",
              " Text(0.7228925973470262, 0.1590909090909091, 'x[83] <= 602438.0\\ngini = 0.198\\nsamples = 9\\nvalue = [8, 1]'),\n",
              " Text(0.7201540436456996, 0.11363636363636363, 'gini = 0.0\\nsamples = 8\\nvalue = [8, 0]'),\n",
              " Text(0.7256311510483526, 0.11363636363636363, 'gini = 0.0\\nsamples = 1\\nvalue = [0, 1]'),\n",
              " Text(0.7311082584510056, 0.20454545454545456, 'x[86] <= 4.5\\ngini = 0.18\\nsamples = 10\\nvalue = [9, 1]'),\n",
              " Text(0.7283697047496791, 0.1590909090909091, 'gini = 0.0\\nsamples = 9\\nvalue = [9, 0]'),\n",
              " Text(0.733846812152332, 0.1590909090909091, 'gini = 0.0\\nsamples = 1\\nvalue = [0, 1]'),\n",
              " Text(0.739323919554985, 0.25, 'x[81] <= 295.5\\ngini = 0.32\\nsamples = 10\\nvalue = [8, 2]'),\n",
              " Text(0.7365853658536585, 0.20454545454545456, 'gini = 0.0\\nsamples = 8\\nvalue = [8, 0]'),\n",
              " Text(0.7420624732563115, 0.20454545454545456, 'gini = 0.0\\nsamples = 2\\nvalue = [0, 2]'),\n",
              " Text(0.7475395806589645, 0.29545454545454547, 'x[1] <= 11.5\\ngini = 0.375\\nsamples = 20\\nvalue = [15, 5]'),\n",
              " Text(0.744801026957638, 0.25, 'gini = 0.0\\nsamples = 5\\nvalue = [0, 5]'),\n",
              " Text(0.750278134360291, 0.25, 'gini = 0.0\\nsamples = 15\\nvalue = [15, 0]'),\n",
              " Text(0.737612323491656, 0.38636363636363635, 'gini = 0.0\\nsamples = 1\\nvalue = [0, 1]'),\n",
              " Text(0.7403508771929824, 0.4318181818181818, 'gini = 0.0\\nsamples = 1\\nvalue = [0, 1]'),\n",
              " Text(0.748566538296962, 0.4772727272727273, 'x[81] <= 1048.5\\ngini = 0.454\\nsamples = 23\\nvalue = [15, 8]'),\n",
              " Text(0.7458279845956355, 0.4318181818181818, 'x[1] <= 39.0\\ngini = 0.198\\nsamples = 9\\nvalue = [1, 8]'),\n",
              " Text(0.7430894308943089, 0.38636363636363635, 'gini = 0.0\\nsamples = 8\\nvalue = [0, 8]'),\n",
              " Text(0.748566538296962, 0.38636363636363635, 'gini = 0.0\\nsamples = 1\\nvalue = [1, 0]'),\n",
              " Text(0.7513050919982884, 0.4318181818181818, 'gini = 0.0\\nsamples = 14\\nvalue = [14, 0]'),\n",
              " Text(0.7691056910569106, 0.5227272727272727, 'x[81] <= 2976.5\\ngini = 0.01\\nsamples = 586\\nvalue = [583, 3]'),\n",
              " Text(0.7622593068035943, 0.4772727272727273, 'x[69] <= 87.5\\ngini = 0.007\\nsamples = 584\\nvalue = [582, 2]'),\n",
              " Text(0.7567821994009414, 0.4318181818181818, 'x[78] <= 0.5\\ngini = 0.004\\nsamples = 570\\nvalue = [569, 1]'),\n",
              " Text(0.7540436456996149, 0.38636363636363635, 'x[62] <= 0.449\\ngini = 0.04\\nsamples = 49\\nvalue = [48, 1]'),\n",
              " Text(0.7513050919982884, 0.3409090909090909, 'gini = 0.0\\nsamples = 48\\nvalue = [48, 0]'),\n",
              " Text(0.7567821994009414, 0.3409090909090909, 'gini = 0.0\\nsamples = 1\\nvalue = [0, 1]'),\n",
              " Text(0.7595207531022679, 0.38636363636363635, 'gini = 0.0\\nsamples = 521\\nvalue = [521, 0]'),\n",
              " Text(0.7677364142062473, 0.4318181818181818, 'x[41] <= 3.5\\ngini = 0.133\\nsamples = 14\\nvalue = [13, 1]'),\n",
              " Text(0.7649978605049208, 0.38636363636363635, 'gini = 0.0\\nsamples = 13\\nvalue = [13, 0]'),\n",
              " Text(0.7704749679075739, 0.38636363636363635, 'gini = 0.0\\nsamples = 1\\nvalue = [0, 1]'),\n",
              " Text(0.7759520753102268, 0.4772727272727273, 'x[47] <= 9.3\\ngini = 0.5\\nsamples = 2\\nvalue = [1, 1]'),\n",
              " Text(0.7732135216089003, 0.4318181818181818, 'gini = 0.0\\nsamples = 1\\nvalue = [0, 1]'),\n",
              " Text(0.7786906290115533, 0.4318181818181818, 'gini = 0.0\\nsamples = 1\\nvalue = [1, 0]'),\n",
              " Text(0.7745827984595636, 0.6136363636363636, 'x[86] <= 3.5\\ngini = 0.48\\nsamples = 15\\nvalue = [9, 6]'),\n",
              " Text(0.7718442447582371, 0.5681818181818182, 'gini = 0.0\\nsamples = 8\\nvalue = [8, 0]'),\n",
              " Text(0.77732135216089, 0.5681818181818182, 'x[3] <= 3.5\\ngini = 0.245\\nsamples = 7\\nvalue = [1, 6]'),\n",
              " Text(0.7745827984595636, 0.5227272727272727, 'gini = 0.0\\nsamples = 6\\nvalue = [0, 6]'),\n",
              " Text(0.7800599058622165, 0.5227272727272727, 'gini = 0.0\\nsamples = 1\\nvalue = [1, 0]'),\n",
              " Text(0.8019683354728284, 0.7045454545454546, 'x[58] <= 0.092\\ngini = 0.5\\nsamples = 47\\nvalue = [23, 24]'),\n",
              " Text(0.7910141206675224, 0.6590909090909091, 'x[42] <= 3.5\\ngini = 0.298\\nsamples = 22\\nvalue = [4, 18]'),\n",
              " Text(0.7855370132648695, 0.6136363636363636, 'x[37] <= 0.5\\ngini = 0.375\\nsamples = 4\\nvalue = [3, 1]'),\n",
              " Text(0.782798459563543, 0.5681818181818182, 'gini = 0.0\\nsamples = 3\\nvalue = [3, 0]'),\n",
              " Text(0.7882755669661959, 0.5681818181818182, 'gini = 0.0\\nsamples = 1\\nvalue = [0, 1]'),\n",
              " Text(0.7964912280701755, 0.6136363636363636, 'x[82] <= 1635.5\\ngini = 0.105\\nsamples = 18\\nvalue = [1, 17]'),\n",
              " Text(0.793752674368849, 0.5681818181818182, 'gini = 0.0\\nsamples = 1\\nvalue = [1, 0]'),\n",
              " Text(0.799229781771502, 0.5681818181818182, 'gini = 0.0\\nsamples = 17\\nvalue = [0, 17]'),\n",
              " Text(0.8129225502781343, 0.6590909090909091, 'x[19] <= 0.5\\ngini = 0.365\\nsamples = 25\\nvalue = [19, 6]'),\n",
              " Text(0.8074454428754814, 0.6136363636363636, 'x[25] <= 0.011\\ngini = 0.1\\nsamples = 19\\nvalue = [18, 1]'),\n",
              " Text(0.8047068891741549, 0.5681818181818182, 'gini = 0.0\\nsamples = 1\\nvalue = [0, 1]'),\n",
              " Text(0.8101839965768078, 0.5681818181818182, 'gini = 0.0\\nsamples = 18\\nvalue = [18, 0]'),\n",
              " Text(0.8183996576807874, 0.6136363636363636, 'x[86] <= 3.5\\ngini = 0.278\\nsamples = 6\\nvalue = [1, 5]'),\n",
              " Text(0.8156611039794609, 0.5681818181818182, 'gini = 0.0\\nsamples = 1\\nvalue = [1, 0]'),\n",
              " Text(0.8211382113821138, 0.5681818181818182, 'gini = 0.0\\nsamples = 5\\nvalue = [0, 5]'),\n",
              " Text(0.7794608472400514, 0.75, 'gini = 0.0\\nsamples = 19\\nvalue = [0, 19]'),\n",
              " Text(0.8654685494223363, 0.7954545454545454, 'x[50] <= 0.5\\ngini = 0.477\\nsamples = 183\\nvalue = [72, 111]'),\n",
              " Text(0.8413350449293967, 0.75, 'x[46] <= 5.5\\ngini = 0.387\\nsamples = 137\\nvalue = [36, 101]'),\n",
              " Text(0.8238767650834403, 0.7045454545454546, 'x[57] <= 0.522\\ngini = 0.432\\nsamples = 19\\nvalue = [13, 6]'),\n",
              " Text(0.8211382113821138, 0.6590909090909091, 'gini = 0.0\\nsamples = 9\\nvalue = [9, 0]'),\n",
              " Text(0.8266153187847668, 0.6590909090909091, 'x[82] <= 2131.5\\ngini = 0.48\\nsamples = 10\\nvalue = [4, 6]'),\n",
              " Text(0.8238767650834403, 0.6136363636363636, 'gini = 0.0\\nsamples = 3\\nvalue = [3, 0]'),\n",
              " Text(0.8293538724860933, 0.6136363636363636, 'x[62] <= 0.312\\ngini = 0.245\\nsamples = 7\\nvalue = [1, 6]'),\n",
              " Text(0.8266153187847668, 0.5681818181818182, 'gini = 0.0\\nsamples = 6\\nvalue = [0, 6]'),\n",
              " Text(0.8320924261874197, 0.5681818181818182, 'gini = 0.0\\nsamples = 1\\nvalue = [1, 0]'),\n",
              " Text(0.858793324775353, 0.7045454545454546, 'x[49] <= 6.523\\ngini = 0.314\\nsamples = 118\\nvalue = [23, 95]'),\n",
              " Text(0.8457851946940522, 0.6590909090909091, 'x[3] <= 4.5\\ngini = 0.137\\nsamples = 81\\nvalue = [6, 75]'),\n",
              " Text(0.8403080872913993, 0.6136363636363636, 'x[48] <= 2.0\\ngini = 0.097\\nsamples = 78\\nvalue = [4, 74]'),\n",
              " Text(0.8375695335900727, 0.5681818181818182, 'gini = 0.0\\nsamples = 1\\nvalue = [1, 0]'),\n",
              " Text(0.8430466409927257, 0.5681818181818182, 'x[83] <= 57.0\\ngini = 0.075\\nsamples = 77\\nvalue = [3, 74]'),\n",
              " Text(0.8375695335900727, 0.5227272727272727, 'x[56] <= 9.0\\ngini = 0.346\\nsamples = 9\\nvalue = [2, 7]'),\n",
              " Text(0.8348309798887462, 0.4772727272727273, 'gini = 0.0\\nsamples = 1\\nvalue = [1, 0]'),\n",
              " Text(0.8403080872913993, 0.4772727272727273, 'x[1] <= 20.5\\ngini = 0.219\\nsamples = 8\\nvalue = [1, 7]'),\n",
              " Text(0.8375695335900727, 0.4318181818181818, 'gini = 0.0\\nsamples = 7\\nvalue = [0, 7]'),\n",
              " Text(0.8430466409927257, 0.4318181818181818, 'gini = 0.0\\nsamples = 1\\nvalue = [1, 0]'),\n",
              " Text(0.8485237483953787, 0.5227272727272727, 'x[83] <= 5252229.5\\ngini = 0.029\\nsamples = 68\\nvalue = [1, 67]'),\n",
              " Text(0.8457851946940522, 0.4772727272727273, 'gini = 0.0\\nsamples = 63\\nvalue = [0, 63]'),\n",
              " Text(0.8512623020967052, 0.4772727272727273, 'x[49] <= 4.774\\ngini = 0.32\\nsamples = 5\\nvalue = [1, 4]'),\n",
              " Text(0.8485237483953787, 0.4318181818181818, 'gini = 0.0\\nsamples = 1\\nvalue = [1, 0]'),\n",
              " Text(0.8540008557980316, 0.4318181818181818, 'gini = 0.0\\nsamples = 4\\nvalue = [0, 4]'),\n",
              " Text(0.8512623020967052, 0.6136363636363636, 'x[47] <= 5.812\\ngini = 0.444\\nsamples = 3\\nvalue = [2, 1]'),\n",
              " Text(0.8485237483953787, 0.5681818181818182, 'gini = 0.0\\nsamples = 2\\nvalue = [2, 0]'),\n",
              " Text(0.8540008557980316, 0.5681818181818182, 'gini = 0.0\\nsamples = 1\\nvalue = [0, 1]'),\n",
              " Text(0.8718014548566538, 0.6590909090909091, 'x[25] <= 0.104\\ngini = 0.497\\nsamples = 37\\nvalue = [17, 20]'),\n",
              " Text(0.8649550706033377, 0.6136363636363636, 'x[58] <= 0.617\\ngini = 0.417\\nsamples = 27\\nvalue = [8, 19]'),\n",
              " Text(0.8594779632006846, 0.5681818181818182, 'x[0] <= 90.5\\ngini = 0.18\\nsamples = 20\\nvalue = [2, 18]'),\n",
              " Text(0.8567394094993581, 0.5227272727272727, 'gini = 0.0\\nsamples = 17\\nvalue = [0, 17]'),\n",
              " Text(0.8622165169020112, 0.5227272727272727, 'x[60] <= 1.5\\ngini = 0.444\\nsamples = 3\\nvalue = [2, 1]'),\n",
              " Text(0.8594779632006846, 0.4772727272727273, 'gini = 0.0\\nsamples = 2\\nvalue = [2, 0]'),\n",
              " Text(0.8649550706033377, 0.4772727272727273, 'gini = 0.0\\nsamples = 1\\nvalue = [0, 1]'),\n",
              " Text(0.8704321780059906, 0.5681818181818182, 'x[60] <= 1.5\\ngini = 0.245\\nsamples = 7\\nvalue = [6, 1]'),\n",
              " Text(0.8676936243046641, 0.5227272727272727, 'gini = 0.0\\nsamples = 6\\nvalue = [6, 0]'),\n",
              " Text(0.8731707317073171, 0.5227272727272727, 'gini = 0.0\\nsamples = 1\\nvalue = [0, 1]'),\n",
              " Text(0.87864783910997, 0.6136363636363636, 'x[12] <= 16.0\\ngini = 0.18\\nsamples = 10\\nvalue = [9, 1]'),\n",
              " Text(0.8759092854086435, 0.5681818181818182, 'gini = 0.0\\nsamples = 9\\nvalue = [9, 0]'),\n",
              " Text(0.8813863928112965, 0.5681818181818182, 'gini = 0.0\\nsamples = 1\\nvalue = [0, 1]'),\n",
              " Text(0.889602053915276, 0.75, 'x[77] <= 0.5\\ngini = 0.34\\nsamples = 46\\nvalue = [36, 10]'),\n",
              " Text(0.884124946512623, 0.7045454545454546, 'x[10] <= 2.5\\ngini = 0.117\\nsamples = 32\\nvalue = [30, 2]'),\n",
              " Text(0.8813863928112965, 0.6590909090909091, 'gini = 0.0\\nsamples = 28\\nvalue = [28, 0]'),\n",
              " Text(0.8868635002139496, 0.6590909090909091, 'x[4] <= 0.5\\ngini = 0.5\\nsamples = 4\\nvalue = [2, 2]'),\n",
              " Text(0.884124946512623, 0.6136363636363636, 'gini = 0.0\\nsamples = 2\\nvalue = [0, 2]'),\n",
              " Text(0.889602053915276, 0.6136363636363636, 'gini = 0.0\\nsamples = 2\\nvalue = [2, 0]'),\n",
              " Text(0.895079161317929, 0.7045454545454546, 'x[79] <= 0.5\\ngini = 0.49\\nsamples = 14\\nvalue = [6, 8]'),\n",
              " Text(0.8923406076166025, 0.6590909090909091, 'gini = 0.0\\nsamples = 6\\nvalue = [6, 0]'),\n",
              " Text(0.8978177150192554, 0.6590909090909091, 'gini = 0.0\\nsamples = 8\\nvalue = [0, 8]'),\n",
              " Text(0.9400299529311082, 0.8409090909090909, 'x[83] <= 0.5\\ngini = 0.356\\nsamples = 605\\nvalue = [140, 465]'),\n",
              " Text(0.9183568677792041, 0.7954545454545454, 'x[4] <= 1.5\\ngini = 0.415\\nsamples = 75\\nvalue = [53, 22]'),\n",
              " Text(0.9115104835258879, 0.75, 'x[41] <= 7.0\\ngini = 0.302\\nsamples = 54\\nvalue = [44, 10]'),\n",
              " Text(0.9087719298245615, 0.7045454545454546, 'x[57] <= 0.977\\ngini = 0.211\\nsamples = 50\\nvalue = [44, 6]'),\n",
              " Text(0.9032948224219084, 0.6590909090909091, 'x[62] <= 0.815\\ngini = 0.156\\nsamples = 47\\nvalue = [43, 4]'),\n",
              " Text(0.9005562687205819, 0.6136363636363636, 'x[49] <= 12.778\\ngini = 0.122\\nsamples = 46\\nvalue = [43, 3]'),\n",
              " Text(0.8978177150192554, 0.5681818181818182, 'x[45] <= 17.5\\ngini = 0.085\\nsamples = 45\\nvalue = [43, 2]'),\n",
              " Text(0.895079161317929, 0.5227272727272727, 'gini = 0.0\\nsamples = 34\\nvalue = [34, 0]'),\n",
              " Text(0.9005562687205819, 0.5227272727272727, 'x[58] <= 0.534\\ngini = 0.298\\nsamples = 11\\nvalue = [9, 2]'),\n",
              " Text(0.8978177150192554, 0.4772727272727273, 'gini = 0.0\\nsamples = 8\\nvalue = [8, 0]'),\n",
              " Text(0.9032948224219084, 0.4772727272727273, 'x[40] <= 1.5\\ngini = 0.444\\nsamples = 3\\nvalue = [1, 2]'),\n",
              " Text(0.9005562687205819, 0.4318181818181818, 'gini = 0.0\\nsamples = 1\\nvalue = [1, 0]'),\n",
              " Text(0.9060333761232349, 0.4318181818181818, 'gini = 0.0\\nsamples = 2\\nvalue = [0, 2]'),\n",
              " Text(0.9032948224219084, 0.5681818181818182, 'gini = 0.0\\nsamples = 1\\nvalue = [0, 1]'),\n",
              " Text(0.9060333761232349, 0.6136363636363636, 'gini = 0.0\\nsamples = 1\\nvalue = [0, 1]'),\n",
              " Text(0.9142490372272144, 0.6590909090909091, 'x[81] <= 241.5\\ngini = 0.444\\nsamples = 3\\nvalue = [1, 2]'),\n",
              " Text(0.9115104835258879, 0.6136363636363636, 'gini = 0.0\\nsamples = 1\\nvalue = [1, 0]'),\n",
              " Text(0.9169875909285409, 0.6136363636363636, 'gini = 0.0\\nsamples = 2\\nvalue = [0, 2]'),\n",
              " Text(0.9142490372272144, 0.7045454545454546, 'gini = 0.0\\nsamples = 4\\nvalue = [0, 4]'),\n",
              " Text(0.9252032520325203, 0.75, 'x[32] <= 2.5\\ngini = 0.49\\nsamples = 21\\nvalue = [9, 12]'),\n",
              " Text(0.9224646983311938, 0.7045454545454546, 'gini = 0.0\\nsamples = 10\\nvalue = [0, 10]'),\n",
              " Text(0.9279418057338468, 0.7045454545454546, 'x[39] <= 7.5\\ngini = 0.298\\nsamples = 11\\nvalue = [9, 2]'),\n",
              " Text(0.9252032520325203, 0.6590909090909091, 'x[48] <= 4.417\\ngini = 0.444\\nsamples = 3\\nvalue = [1, 2]'),\n",
              " Text(0.9224646983311938, 0.6136363636363636, 'gini = 0.0\\nsamples = 1\\nvalue = [1, 0]'),\n",
              " Text(0.9279418057338468, 0.6136363636363636, 'gini = 0.0\\nsamples = 2\\nvalue = [0, 2]'),\n",
              " Text(0.9306803594351734, 0.6590909090909091, 'gini = 0.0\\nsamples = 8\\nvalue = [8, 0]'),\n",
              " Text(0.9617030380830124, 0.7954545454545454, 'x[74] <= 6.345\\ngini = 0.274\\nsamples = 530\\nvalue = [87, 443]'),\n",
              " Text(0.949165596919127, 0.75, 'x[4] <= 1.5\\ngini = 0.499\\nsamples = 86\\nvalue = [45, 41]'),\n",
              " Text(0.9436884895164741, 0.7045454545454546, 'x[51] <= 0.5\\ngini = 0.448\\nsamples = 65\\nvalue = [43, 22]'),\n",
              " Text(0.9409499358151476, 0.6590909090909091, 'x[10] <= 0.5\\ngini = 0.371\\nsamples = 57\\nvalue = [43, 14]'),\n",
              " Text(0.9334189131364998, 0.6136363636363636, 'x[56] <= 171.0\\ngini = 0.269\\nsamples = 50\\nvalue = [42, 8]'),\n",
              " Text(0.9265725288831835, 0.5681818181818182, 'x[58] <= 0.045\\ngini = 0.165\\nsamples = 44\\nvalue = [40, 4]'),\n",
              " Text(0.9210954214805306, 0.5227272727272727, 'x[2] <= 0.5\\ngini = 0.444\\nsamples = 3\\nvalue = [1, 2]'),\n",
              " Text(0.9183568677792041, 0.4772727272727273, 'gini = 0.0\\nsamples = 2\\nvalue = [0, 2]'),\n",
              " Text(0.9238339751818571, 0.4772727272727273, 'gini = 0.0\\nsamples = 1\\nvalue = [1, 0]'),\n",
              " Text(0.9320496362858366, 0.5227272727272727, 'x[29] <= 0.5\\ngini = 0.093\\nsamples = 41\\nvalue = [39, 2]'),\n",
              " Text(0.92931108258451, 0.4772727272727273, 'x[83] <= 3863479.0\\ngini = 0.049\\nsamples = 40\\nvalue = [39, 1]'),\n",
              " Text(0.9265725288831835, 0.4318181818181818, 'gini = 0.0\\nsamples = 37\\nvalue = [37, 0]'),\n",
              " Text(0.9320496362858366, 0.4318181818181818, 'x[56] <= 50.0\\ngini = 0.444\\nsamples = 3\\nvalue = [2, 1]'),\n",
              " Text(0.92931108258451, 0.38636363636363635, 'gini = 0.0\\nsamples = 1\\nvalue = [0, 1]'),\n",
              " Text(0.9347881899871631, 0.38636363636363635, 'gini = 0.0\\nsamples = 2\\nvalue = [2, 0]'),\n",
              " Text(0.9347881899871631, 0.4772727272727273, 'gini = 0.0\\nsamples = 1\\nvalue = [0, 1]'),\n",
              " Text(0.940265297389816, 0.5681818181818182, 'x[48] <= 4.25\\ngini = 0.444\\nsamples = 6\\nvalue = [2, 4]'),\n",
              " Text(0.9375267436884895, 0.5227272727272727, 'gini = 0.0\\nsamples = 2\\nvalue = [2, 0]'),\n",
              " Text(0.9430038510911425, 0.5227272727272727, 'gini = 0.0\\nsamples = 4\\nvalue = [0, 4]'),\n",
              " Text(0.9484809584937954, 0.6136363636363636, 'x[39] <= 4.5\\ngini = 0.245\\nsamples = 7\\nvalue = [1, 6]'),\n",
              " Text(0.945742404792469, 0.5681818181818182, 'gini = 0.0\\nsamples = 1\\nvalue = [1, 0]'),\n",
              " Text(0.9512195121951219, 0.5681818181818182, 'gini = 0.0\\nsamples = 6\\nvalue = [0, 6]'),\n",
              " Text(0.9464270432178006, 0.6590909090909091, 'gini = 0.0\\nsamples = 8\\nvalue = [0, 8]'),\n",
              " Text(0.9546427043217801, 0.7045454545454546, 'x[49] <= 7.095\\ngini = 0.172\\nsamples = 21\\nvalue = [2, 19]'),\n",
              " Text(0.9519041506204535, 0.6590909090909091, 'gini = 0.0\\nsamples = 19\\nvalue = [0, 19]'),\n",
              " Text(0.9573812580231066, 0.6590909090909091, 'gini = 0.0\\nsamples = 2\\nvalue = [2, 0]'),\n",
              " Text(0.9742404792468977, 0.75, 'x[1] <= 7.5\\ngini = 0.171\\nsamples = 444\\nvalue = [42, 402]'),\n",
              " Text(0.9715019255455712, 0.7045454545454546, 'gini = 0.0\\nsamples = 8\\nvalue = [8, 0]'),\n",
              " Text(0.9769790329482242, 0.7045454545454546, 'x[3] <= 4.5\\ngini = 0.144\\nsamples = 436\\nvalue = [34, 402]'),\n",
              " Text(0.9742404792468977, 0.6590909090909091, 'x[50] <= 0.5\\ngini = 0.114\\nsamples = 428\\nvalue = [26, 402]'),\n",
              " Text(0.9594351732991014, 0.6136363636363636, 'x[54] <= 0.5\\ngini = 0.055\\nsamples = 391\\nvalue = [11, 380]'),\n",
              " Text(0.956696619597775, 0.5681818181818182, 'x[58] <= 0.002\\ngini = 0.05\\nsamples = 390\\nvalue = [10, 380]'),\n",
              " Text(0.9486521181001284, 0.5227272727272727, 'x[39] <= 5.5\\ngini = 0.42\\nsamples = 10\\nvalue = [3, 7]'),\n",
              " Text(0.9459135643988019, 0.4772727272727273, 'gini = 0.0\\nsamples = 3\\nvalue = [3, 0]'),\n",
              " Text(0.9513906718014549, 0.4772727272727273, 'gini = 0.0\\nsamples = 7\\nvalue = [0, 7]'),\n",
              " Text(0.9647411210954214, 0.5227272727272727, 'x[83] <= 7317324.5\\ngini = 0.036\\nsamples = 380\\nvalue = [7, 373]'),\n",
              " Text(0.9568677792041078, 0.4772727272727273, 'x[3] <= 3.5\\ngini = 0.031\\nsamples = 378\\nvalue = [6, 372]'),\n",
              " Text(0.94933675652546, 0.4318181818181818, 'x[65] <= 0.5\\ngini = 0.022\\nsamples = 365\\nvalue = [4, 361]'),\n",
              " Text(0.9424903722721438, 0.38636363636363635, 'x[56] <= 38.5\\ngini = 0.011\\nsamples = 351\\nvalue = [2, 349]'),\n",
              " Text(0.9370132648694908, 0.3409090909090909, 'x[13] <= 5.5\\ngini = 0.198\\nsamples = 9\\nvalue = [1, 8]'),\n",
              " Text(0.9342747111681643, 0.29545454545454547, 'gini = 0.0\\nsamples = 8\\nvalue = [0, 8]'),\n",
              " Text(0.9397518185708172, 0.29545454545454547, 'gini = 0.0\\nsamples = 1\\nvalue = [1, 0]'),\n",
              " Text(0.9479674796747968, 0.3409090909090909, 'x[0] <= 39.5\\ngini = 0.006\\nsamples = 342\\nvalue = [1, 341]'),\n",
              " Text(0.9452289259734703, 0.29545454545454547, 'x[0] <= 38.5\\ngini = 0.053\\nsamples = 37\\nvalue = [1, 36]'),\n",
              " Text(0.9424903722721438, 0.25, 'gini = 0.0\\nsamples = 32\\nvalue = [0, 32]'),\n",
              " Text(0.9479674796747968, 0.25, 'x[57] <= 0.962\\ngini = 0.32\\nsamples = 5\\nvalue = [1, 4]'),\n",
              " Text(0.9452289259734703, 0.20454545454545456, 'gini = 0.0\\nsamples = 4\\nvalue = [0, 4]'),\n",
              " Text(0.9507060333761232, 0.20454545454545456, 'gini = 0.0\\nsamples = 1\\nvalue = [1, 0]'),\n",
              " Text(0.9507060333761232, 0.29545454545454547, 'gini = 0.0\\nsamples = 305\\nvalue = [0, 305]'),\n",
              " Text(0.9561831407787762, 0.38636363636363635, 'x[1] <= 11.5\\ngini = 0.245\\nsamples = 14\\nvalue = [2, 12]'),\n",
              " Text(0.9534445870774497, 0.3409090909090909, 'gini = 0.0\\nsamples = 2\\nvalue = [2, 0]'),\n",
              " Text(0.9589216944801027, 0.3409090909090909, 'gini = 0.0\\nsamples = 12\\nvalue = [0, 12]'),\n",
              " Text(0.9643988018827556, 0.4318181818181818, 'x[29] <= 0.5\\ngini = 0.26\\nsamples = 13\\nvalue = [2, 11]'),\n",
              " Text(0.9616602481814291, 0.38636363636363635, 'gini = 0.0\\nsamples = 11\\nvalue = [0, 11]'),\n",
              " Text(0.9671373555840822, 0.38636363636363635, 'gini = 0.0\\nsamples = 2\\nvalue = [2, 0]'),\n",
              " Text(0.9726144629867352, 0.4772727272727273, 'x[0] <= 50.0\\ngini = 0.5\\nsamples = 2\\nvalue = [1, 1]'),\n",
              " Text(0.9698759092854087, 0.4318181818181818, 'gini = 0.0\\nsamples = 1\\nvalue = [1, 0]'),\n",
              " Text(0.9753530166880616, 0.4318181818181818, 'gini = 0.0\\nsamples = 1\\nvalue = [0, 1]'),\n",
              " Text(0.9621737270004279, 0.5681818181818182, 'gini = 0.0\\nsamples = 1\\nvalue = [1, 0]'),\n",
              " Text(0.9890457851946941, 0.6136363636363636, 'x[56] <= 96.0\\ngini = 0.482\\nsamples = 37\\nvalue = [15, 22]'),\n",
              " Text(0.983568677792041, 0.5681818181818182, 'x[48] <= 6.75\\ngini = 0.388\\nsamples = 19\\nvalue = [14, 5]'),\n",
              " Text(0.9808301240907146, 0.5227272727272727, 'gini = 0.0\\nsamples = 11\\nvalue = [11, 0]'),\n",
              " Text(0.9863072314933675, 0.5227272727272727, 'x[64] <= 0.014\\ngini = 0.469\\nsamples = 8\\nvalue = [3, 5]'),\n",
              " Text(0.983568677792041, 0.4772727272727273, 'x[49] <= 4.225\\ngini = 0.375\\nsamples = 4\\nvalue = [3, 1]'),\n",
              " Text(0.9808301240907146, 0.4318181818181818, 'gini = 0.0\\nsamples = 1\\nvalue = [0, 1]'),\n",
              " Text(0.9863072314933675, 0.4318181818181818, 'gini = 0.0\\nsamples = 3\\nvalue = [3, 0]'),\n",
              " Text(0.9890457851946941, 0.4772727272727273, 'gini = 0.0\\nsamples = 4\\nvalue = [0, 4]'),\n",
              " Text(0.994522892597347, 0.5681818181818182, 'x[40] <= 0.5\\ngini = 0.105\\nsamples = 18\\nvalue = [1, 17]'),\n",
              " Text(0.9917843388960206, 0.5227272727272727, 'gini = 0.0\\nsamples = 1\\nvalue = [1, 0]'),\n",
              " Text(0.9972614462986735, 0.5227272727272727, 'gini = 0.0\\nsamples = 17\\nvalue = [0, 17]'),\n",
              " Text(0.9797175866495507, 0.6590909090909091, 'gini = 0.0\\nsamples = 8\\nvalue = [8, 0]')]"
            ]
          },
          "metadata": {},
          "execution_count": 43
        },
        {
          "output_type": "display_data",
          "data": {
            "text/plain": [
              "<Figure size 640x480 with 1 Axes>"
            ],
            "image/png": "[encoded data removed]"
          },
          "metadata": {}
        }
      ]
    },
    {
      "cell_type": "code",
      "source": [
        "dtc_pred = dtc.predict(x_test)"
      ],
      "metadata": {
        "id": "AnaCrmWvfXiw"
      },
      "execution_count": null,
      "outputs": []
    },
    {
      "cell_type": "code",
      "source": [
        "accuracy_score(y_test,dtc_pred)"
      ],
      "metadata": {
        "colab": {
          "base_uri": "https://localhost:8080/"
        },
        "id": "mrRaz1usfXgp",
        "outputId": "7043120c-ccbf-4237-ee4a-1f23c2f89a3a"
      },
      "execution_count": null,
      "outputs": [
        {
          "output_type": "execute_result",
          "data": {
            "text/plain": [
              "0.9361329833770778"
            ]
          },
          "metadata": {},
          "execution_count": 45
        }
      ]
    },
    {
      "cell_type": "code",
      "source": [
        "print(classification_report(y_test, dtc_pred))"
      ],
      "metadata": {
        "colab": {
          "base_uri": "https://localhost:8080/"
        },
        "id": "nAQpV3pXfXec",
        "outputId": "1421321c-2482-4383-e0c6-e0be7a6edcb2"
      },
      "execution_count": null,
      "outputs": [
        {
          "output_type": "stream",
          "name": "stdout",
          "text": [
            "              precision    recall  f1-score   support\n",
            "\n",
            "           0       0.93      0.94      0.94      1131\n",
            "           1       0.94      0.93      0.94      1155\n",
            "\n",
            "    accuracy                           0.94      2286\n",
            "   macro avg       0.94      0.94      0.94      2286\n",
            "weighted avg       0.94      0.94      0.94      2286\n",
            "\n"
          ]
        }
      ]
    },
    {
      "cell_type": "code",
      "source": [
        "print(confusion_matrix(y_test, dtc_pred))"
      ],
      "metadata": {
        "colab": {
          "base_uri": "https://localhost:8080/"
        },
        "id": "L7HVLshyfXcB",
        "outputId": "155778f5-d8f4-4c36-ff1c-ac3c3c5be5e1"
      },
      "execution_count": null,
      "outputs": [
        {
          "output_type": "stream",
          "name": "stdout",
          "text": [
            "[[1062   69]\n",
            " [  77 1078]]\n"
          ]
        }
      ]
    },
    {
      "cell_type": "markdown",
      "source": [
        "# Random Forest"
      ],
      "metadata": {
        "id": "p9qEoUcugbV6"
      }
    },
    {
      "cell_type": "code",
      "source": [
        "from sklearn.ensemble import RandomForestClassifier"
      ],
      "metadata": {
        "id": "84XmnuqDfXZ9"
      },
      "execution_count": null,
      "outputs": []
    },
    {
      "cell_type": "code",
      "source": [
        "rfc = RandomForestClassifier().fit(x_train, y_train)"
      ],
      "metadata": {
        "id": "02BBgvuVfXX5"
      },
      "execution_count": null,
      "outputs": []
    },
    {
      "cell_type": "code",
      "source": [
        "rfc_pred = rfc.predict(x_test)"
      ],
      "metadata": {
        "id": "J9y3vc3OfXVt"
      },
      "execution_count": null,
      "outputs": []
    },
    {
      "cell_type": "code",
      "source": [
        "accuracy_score(y_test,rfc_pred)"
      ],
      "metadata": {
        "colab": {
          "base_uri": "https://localhost:8080/"
        },
        "id": "4QdnQDTsfXTJ",
        "outputId": "4b6db614-d1a2-4167-b2f6-78536cef545b"
      },
      "execution_count": null,
      "outputs": [
        {
          "output_type": "execute_result",
          "data": {
            "text/plain": [
              "0.9698162729658792"
            ]
          },
          "metadata": {},
          "execution_count": 51
        }
      ]
    },
    {
      "cell_type": "code",
      "source": [
        "print(classification_report(y_test, rfc_pred))"
      ],
      "metadata": {
        "colab": {
          "base_uri": "https://localhost:8080/"
        },
        "id": "cnqrmKUtgn34",
        "outputId": "6c1f8901-b68d-4ba2-f5c9-7f3aa934c843"
      },
      "execution_count": null,
      "outputs": [
        {
          "output_type": "stream",
          "name": "stdout",
          "text": [
            "              precision    recall  f1-score   support\n",
            "\n",
            "           0       0.97      0.97      0.97      1131\n",
            "           1       0.97      0.97      0.97      1155\n",
            "\n",
            "    accuracy                           0.97      2286\n",
            "   macro avg       0.97      0.97      0.97      2286\n",
            "weighted avg       0.97      0.97      0.97      2286\n",
            "\n"
          ]
        }
      ]
    },
    {
      "cell_type": "code",
      "source": [
        "print(confusion_matrix(y_test, rfc_pred))"
      ],
      "metadata": {
        "colab": {
          "base_uri": "https://localhost:8080/"
        },
        "id": "D0DdIYtIgn0g",
        "outputId": "80f6470a-466d-46db-8537-97e46bdf0c87"
      },
      "execution_count": null,
      "outputs": [
        {
          "output_type": "stream",
          "name": "stdout",
          "text": [
            "[[1097   34]\n",
            " [  35 1120]]\n"
          ]
        }
      ]
    },
    {
      "cell_type": "markdown",
      "source": [
        "# Extra Tree Classifier"
      ],
      "metadata": {
        "id": "DUK4mtM8hER2"
      }
    },
    {
      "cell_type": "code",
      "source": [
        "from sklearn.ensemble import ExtraTreesClassifier"
      ],
      "metadata": {
        "id": "QgxwqG1rgnyi"
      },
      "execution_count": null,
      "outputs": []
    },
    {
      "cell_type": "code",
      "source": [
        "etc = ExtraTreesClassifier().fit(x_train, y_train)\n",
        "etc_pred = etc.predict(x_test)\n",
        "print(classification_report(y_test, etc_pred))"
      ],
      "metadata": {
        "colab": {
          "base_uri": "https://localhost:8080/"
        },
        "id": "s9axYnzIgnw5",
        "outputId": "9d3eae75-8866-4c91-f53b-1ee33a65596b"
      },
      "execution_count": null,
      "outputs": [
        {
          "output_type": "stream",
          "name": "stdout",
          "text": [
            "              precision    recall  f1-score   support\n",
            "\n",
            "           0       0.97      0.97      0.97      1131\n",
            "           1       0.97      0.97      0.97      1155\n",
            "\n",
            "    accuracy                           0.97      2286\n",
            "   macro avg       0.97      0.97      0.97      2286\n",
            "weighted avg       0.97      0.97      0.97      2286\n",
            "\n"
          ]
        }
      ]
    },
    {
      "cell_type": "code",
      "source": [
        "accuracy_score(y_test,etc_pred)"
      ],
      "metadata": {
        "colab": {
          "base_uri": "https://localhost:8080/"
        },
        "id": "0uaE2IQ7gnvA",
        "outputId": "ac0373a8-4789-4f31-f66e-60d67a543219"
      },
      "execution_count": null,
      "outputs": [
        {
          "output_type": "execute_result",
          "data": {
            "text/plain": [
              "0.9706911636045494"
            ]
          },
          "metadata": {},
          "execution_count": 56
        }
      ]
    },
    {
      "cell_type": "code",
      "source": [
        "print(confusion_matrix(y_test, etc_pred))"
      ],
      "metadata": {
        "colab": {
          "base_uri": "https://localhost:8080/"
        },
        "id": "bv2Lz-Rxgns4",
        "outputId": "96b4ac81-462b-4d07-9505-b258bc795ecc"
      },
      "execution_count": null,
      "outputs": [
        {
          "output_type": "stream",
          "name": "stdout",
          "text": [
            "[[1093   38]\n",
            " [  29 1126]]\n"
          ]
        }
      ]
    },
    {
      "cell_type": "markdown",
      "source": [
        "**LOGISTIC REGRESSION**:\n",
        "\n",
        "ACCURACY SCORE:0.7909011373578303\n",
        "\n",
        "\n",
        "**SVM:**\n",
        "\n",
        "ACCURACY SCORE:0.6019247594050744\n",
        "\n",
        "**RANDOM FOREST:**\n",
        "\n",
        "ACCURACY SCORE:0.9698162729658792\n",
        "\n",
        "**DECISION TREE:**\n",
        "\n",
        "ACCURACY SCORE:0.9361329833770778\n",
        "\n",
        "**NAIVE BAYES:**\n",
        "\n",
        "ACCURACY SCORE:0.7480314960629921\n",
        "\n",
        "**EXTRA TREE CLASSIFIER**:\n",
        "\n",
        "\n",
        "ACCURACY SCORE:0.9706911636045494"
      ],
      "metadata": {
        "id": "Nr284JwkhWHP"
      }
    },
    {
      "cell_type": "markdown",
      "source": [
        "**Conclusion:**\n",
        "The classification model Extra Tree Classifier is having highest accuracy"
      ],
      "metadata": {
        "id": "AusG3DpKiJTL"
      }
    }
  ]
}
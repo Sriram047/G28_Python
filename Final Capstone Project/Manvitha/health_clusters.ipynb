{
  "nbformat": 4,
  "nbformat_minor": 0,
  "metadata": {
    "colab": {
      "provenance": []
    },
    "kernelspec": {
      "name": "python3",
      "display_name": "Python 3"
    },
    "language_info": {
      "name": "python"
    }
  },
  "cells": [
    {
      "cell_type": "code",
      "execution_count": null,
      "metadata": {
        "id": "llRfWYJCDcC-"
      },
      "outputs": [],
      "source": [
        "import numpy as np\n",
        "import pandas as pd\n",
        "import matplotlib.pyplot as plt\n",
        "import seaborn as sns"
      ]
    },
    {
      "cell_type": "code",
      "source": [
        "data = pd.read_csv(\"/content/Nutritions_US.csv\", encoding=\"ISO-8859-1\")\n",
        "data.head()"
      ],
      "metadata": {
        "colab": {
          "base_uri": "https://localhost:8080/",
          "height": 359
        },
        "id": "7FT9V2Z_Ds2L",
        "outputId": "2250998a-a98c-4ae5-9def-3a913dad55c1"
      },
      "execution_count": null,
      "outputs": [
        {
          "output_type": "execute_result",
          "data": {
            "text/plain": [
              "   NDB_No               Shrt_Desc  Water_(g)  Energ_Kcal  Protein_(g)  \\\n",
              "0    1001        BUTTER,WITH SALT      15.87         717         0.85   \n",
              "1    1002  BUTTER,WHIPPED,W/ SALT      16.72         718         0.49   \n",
              "2    1003    BUTTER OIL,ANHYDROUS       0.24         876         0.28   \n",
              "3    1004             CHEESE,BLUE      42.41         353        21.40   \n",
              "4    1005            CHEESE,BRICK      41.11         371        23.24   \n",
              "\n",
              "   Lipid_Tot_(g)  Ash_(g)  Carbohydrt_(g)  Fiber_TD_(g)  Sugar_Tot_(g)  ...  \\\n",
              "0          81.11     2.11            0.06           0.0           0.06  ...   \n",
              "1          78.30     1.62            2.87           0.0           0.06  ...   \n",
              "2          99.48     0.00            0.00           0.0           0.00  ...   \n",
              "3          28.74     5.11            2.34           0.0           0.50  ...   \n",
              "4          29.68     3.18            2.79           0.0           0.51  ...   \n",
              "\n",
              "   Vit_D_IU  Vit_K_(¾g)  FA_Sat_(g)  FA_Mono_(g)  FA_Poly_(g)  Cholestrl_(mg)  \\\n",
              "0       0.0         7.0      51.368       21.021        3.043           215.0   \n",
              "1       0.0         4.6      45.390       19.874        3.331           225.0   \n",
              "2       0.0         8.6      61.924       28.732        3.694           256.0   \n",
              "3      21.0         2.4      18.669        7.778        0.800            75.0   \n",
              "4      22.0         2.5      18.764        8.598        0.784            94.0   \n",
              "\n",
              "   GmWt_1                  GmWt_Desc1  GmWt_2       GmWt_Desc2  \n",
              "0    5.00  1 pat,  (1\" sq, 1/3\" high)    14.2           1 tbsp  \n",
              "1    3.80  1 pat,  (1\" sq, 1/3\" high)     9.4           1 tbsp  \n",
              "2   12.80                      1 tbsp   205.0            1 cup  \n",
              "3   28.35                        1 oz    17.0     1 cubic inch  \n",
              "4  132.00                1 cup, diced   113.0  1 cup, shredded  \n",
              "\n",
              "[5 rows x 52 columns]"
            ],
            "text/html": [
              "\n",
              "  <div id=\"df-bd640d73-5afc-42c8-ae53-3130eb4fec86\" class=\"colab-df-container\">\n",
              "    <div>\n",
              "<style scoped>\n",
              "    .dataframe tbody tr th:only-of-type {\n",
              "        vertical-align: middle;\n",
              "    }\n",
              "\n",
              "    .dataframe tbody tr th {\n",
              "        vertical-align: top;\n",
              "    }\n",
              "\n",
              "    .dataframe thead th {\n",
              "        text-align: right;\n",
              "    }\n",
              "</style>\n",
              "<table border=\"1\" class=\"dataframe\">\n",
              "  <thead>\n",
              "    <tr style=\"text-align: right;\">\n",
              "      <th></th>\n",
              "      <th>NDB_No</th>\n",
              "      <th>Shrt_Desc</th>\n",
              "      <th>Water_(g)</th>\n",
              "      <th>Energ_Kcal</th>\n",
              "      <th>Protein_(g)</th>\n",
              "      <th>Lipid_Tot_(g)</th>\n",
              "      <th>Ash_(g)</th>\n",
              "      <th>Carbohydrt_(g)</th>\n",
              "      <th>Fiber_TD_(g)</th>\n",
              "      <th>Sugar_Tot_(g)</th>\n",
              "      <th>...</th>\n",
              "      <th>Vit_D_IU</th>\n",
              "      <th>Vit_K_(¾g)</th>\n",
              "      <th>FA_Sat_(g)</th>\n",
              "      <th>FA_Mono_(g)</th>\n",
              "      <th>FA_Poly_(g)</th>\n",
              "      <th>Cholestrl_(mg)</th>\n",
              "      <th>GmWt_1</th>\n",
              "      <th>GmWt_Desc1</th>\n",
              "      <th>GmWt_2</th>\n",
              "      <th>GmWt_Desc2</th>\n",
              "    </tr>\n",
              "  </thead>\n",
              "  <tbody>\n",
              "    <tr>\n",
              "      <th>0</th>\n",
              "      <td>1001</td>\n",
              "      <td>BUTTER,WITH SALT</td>\n",
              "      <td>15.87</td>\n",
              "      <td>717</td>\n",
              "      <td>0.85</td>\n",
              "      <td>81.11</td>\n",
              "      <td>2.11</td>\n",
              "      <td>0.06</td>\n",
              "      <td>0.0</td>\n",
              "      <td>0.06</td>\n",
              "      <td>...</td>\n",
              "      <td>0.0</td>\n",
              "      <td>7.0</td>\n",
              "      <td>51.368</td>\n",
              "      <td>21.021</td>\n",
              "      <td>3.043</td>\n",
              "      <td>215.0</td>\n",
              "      <td>5.00</td>\n",
              "      <td>1 pat,  (1\" sq, 1/3\" high)</td>\n",
              "      <td>14.2</td>\n",
              "      <td>1 tbsp</td>\n",
              "    </tr>\n",
              "    <tr>\n",
              "      <th>1</th>\n",
              "      <td>1002</td>\n",
              "      <td>BUTTER,WHIPPED,W/ SALT</td>\n",
              "      <td>16.72</td>\n",
              "      <td>718</td>\n",
              "      <td>0.49</td>\n",
              "      <td>78.30</td>\n",
              "      <td>1.62</td>\n",
              "      <td>2.87</td>\n",
              "      <td>0.0</td>\n",
              "      <td>0.06</td>\n",
              "      <td>...</td>\n",
              "      <td>0.0</td>\n",
              "      <td>4.6</td>\n",
              "      <td>45.390</td>\n",
              "      <td>19.874</td>\n",
              "      <td>3.331</td>\n",
              "      <td>225.0</td>\n",
              "      <td>3.80</td>\n",
              "      <td>1 pat,  (1\" sq, 1/3\" high)</td>\n",
              "      <td>9.4</td>\n",
              "      <td>1 tbsp</td>\n",
              "    </tr>\n",
              "    <tr>\n",
              "      <th>2</th>\n",
              "      <td>1003</td>\n",
              "      <td>BUTTER OIL,ANHYDROUS</td>\n",
              "      <td>0.24</td>\n",
              "      <td>876</td>\n",
              "      <td>0.28</td>\n",
              "      <td>99.48</td>\n",
              "      <td>0.00</td>\n",
              "      <td>0.00</td>\n",
              "      <td>0.0</td>\n",
              "      <td>0.00</td>\n",
              "      <td>...</td>\n",
              "      <td>0.0</td>\n",
              "      <td>8.6</td>\n",
              "      <td>61.924</td>\n",
              "      <td>28.732</td>\n",
              "      <td>3.694</td>\n",
              "      <td>256.0</td>\n",
              "      <td>12.80</td>\n",
              "      <td>1 tbsp</td>\n",
              "      <td>205.0</td>\n",
              "      <td>1 cup</td>\n",
              "    </tr>\n",
              "    <tr>\n",
              "      <th>3</th>\n",
              "      <td>1004</td>\n",
              "      <td>CHEESE,BLUE</td>\n",
              "      <td>42.41</td>\n",
              "      <td>353</td>\n",
              "      <td>21.40</td>\n",
              "      <td>28.74</td>\n",
              "      <td>5.11</td>\n",
              "      <td>2.34</td>\n",
              "      <td>0.0</td>\n",
              "      <td>0.50</td>\n",
              "      <td>...</td>\n",
              "      <td>21.0</td>\n",
              "      <td>2.4</td>\n",
              "      <td>18.669</td>\n",
              "      <td>7.778</td>\n",
              "      <td>0.800</td>\n",
              "      <td>75.0</td>\n",
              "      <td>28.35</td>\n",
              "      <td>1 oz</td>\n",
              "      <td>17.0</td>\n",
              "      <td>1 cubic inch</td>\n",
              "    </tr>\n",
              "    <tr>\n",
              "      <th>4</th>\n",
              "      <td>1005</td>\n",
              "      <td>CHEESE,BRICK</td>\n",
              "      <td>41.11</td>\n",
              "      <td>371</td>\n",
              "      <td>23.24</td>\n",
              "      <td>29.68</td>\n",
              "      <td>3.18</td>\n",
              "      <td>2.79</td>\n",
              "      <td>0.0</td>\n",
              "      <td>0.51</td>\n",
              "      <td>...</td>\n",
              "      <td>22.0</td>\n",
              "      <td>2.5</td>\n",
              "      <td>18.764</td>\n",
              "      <td>8.598</td>\n",
              "      <td>0.784</td>\n",
              "      <td>94.0</td>\n",
              "      <td>132.00</td>\n",
              "      <td>1 cup, diced</td>\n",
              "      <td>113.0</td>\n",
              "      <td>1 cup, shredded</td>\n",
              "    </tr>\n",
              "  </tbody>\n",
              "</table>\n",
              "<p>5 rows × 52 columns</p>\n",
              "</div>\n",
              "    <div class=\"colab-df-buttons\">\n",
              "\n",
              "  <div class=\"colab-df-container\">\n",
              "    <button class=\"colab-df-convert\" onclick=\"convertToInteractive('df-bd640d73-5afc-42c8-ae53-3130eb4fec86')\"\n",
              "            title=\"Convert this dataframe to an interactive table.\"\n",
              "            style=\"display:none;\">\n",
              "\n",
              "  <svg xmlns=\"http://www.w3.org/2000/svg\" height=\"24px\" viewBox=\"0 -960 960 960\">\n",
              "    <path d=\"M120-120v-720h720v720H120Zm60-500h600v-160H180v160Zm220 220h160v-160H400v160Zm0 220h160v-160H400v160ZM180-400h160v-160H180v160Zm440 0h160v-160H620v160ZM180-180h160v-160H180v160Zm440 0h160v-160H620v160Z\"/>\n",
              "  </svg>\n",
              "    </button>\n",
              "\n",
              "  <style>\n",
              "    .colab-df-container {\n",
              "      display:flex;\n",
              "      gap: 12px;\n",
              "    }\n",
              "\n",
              "    .colab-df-convert {\n",
              "      background-color: #E8F0FE;\n",
              "      border: none;\n",
              "      border-radius: 50%;\n",
              "      cursor: pointer;\n",
              "      display: none;\n",
              "      fill: #1967D2;\n",
              "      height: 32px;\n",
              "      padding: 0 0 0 0;\n",
              "      width: 32px;\n",
              "    }\n",
              "\n",
              "    .colab-df-convert:hover {\n",
              "      background-color: #E2EBFA;\n",
              "      box-shadow: 0px 1px 2px rgba(60, 64, 67, 0.3), 0px 1px 3px 1px rgba(60, 64, 67, 0.15);\n",
              "      fill: #174EA6;\n",
              "    }\n",
              "\n",
              "    .colab-df-buttons div {\n",
              "      margin-bottom: 4px;\n",
              "    }\n",
              "\n",
              "    [theme=dark] .colab-df-convert {\n",
              "      background-color: #3B4455;\n",
              "      fill: #D2E3FC;\n",
              "    }\n",
              "\n",
              "    [theme=dark] .colab-df-convert:hover {\n",
              "      background-color: #434B5C;\n",
              "      box-shadow: 0px 1px 3px 1px rgba(0, 0, 0, 0.15);\n",
              "      filter: drop-shadow(0px 1px 2px rgba(0, 0, 0, 0.3));\n",
              "      fill: #FFFFFF;\n",
              "    }\n",
              "  </style>\n",
              "\n",
              "    <script>\n",
              "      const buttonEl =\n",
              "        document.querySelector('#df-bd640d73-5afc-42c8-ae53-3130eb4fec86 button.colab-df-convert');\n",
              "      buttonEl.style.display =\n",
              "        google.colab.kernel.accessAllowed ? 'block' : 'none';\n",
              "\n",
              "      async function convertToInteractive(key) {\n",
              "        const element = document.querySelector('#df-bd640d73-5afc-42c8-ae53-3130eb4fec86');\n",
              "        const dataTable =\n",
              "          await google.colab.kernel.invokeFunction('convertToInteractive',\n",
              "                                                    [key], {});\n",
              "        if (!dataTable) return;\n",
              "\n",
              "        const docLinkHtml = 'Like what you see? Visit the ' +\n",
              "          '<a target=\"_blank\" href=https://colab.research.google.com/notebooks/data_table.ipynb>data table notebook</a>'\n",
              "          + ' to learn more about interactive tables.';\n",
              "        element.innerHTML = '';\n",
              "        dataTable['output_type'] = 'display_data';\n",
              "        await google.colab.output.renderOutput(dataTable, element);\n",
              "        const docLink = document.createElement('div');\n",
              "        docLink.innerHTML = docLinkHtml;\n",
              "        element.appendChild(docLink);\n",
              "      }\n",
              "    </script>\n",
              "  </div>\n",
              "\n",
              "\n",
              "<div id=\"df-1fd12458-ab3a-4f34-af28-85539e315ab1\">\n",
              "  <button class=\"colab-df-quickchart\" onclick=\"quickchart('df-1fd12458-ab3a-4f34-af28-85539e315ab1')\"\n",
              "            title=\"Suggest charts\"\n",
              "            style=\"display:none;\">\n",
              "\n",
              "<svg xmlns=\"http://www.w3.org/2000/svg\" height=\"24px\"viewBox=\"0 0 24 24\"\n",
              "     width=\"24px\">\n",
              "    <g>\n",
              "        <path d=\"M19 3H5c-1.1 0-2 .9-2 2v14c0 1.1.9 2 2 2h14c1.1 0 2-.9 2-2V5c0-1.1-.9-2-2-2zM9 17H7v-7h2v7zm4 0h-2V7h2v10zm4 0h-2v-4h2v4z\"/>\n",
              "    </g>\n",
              "</svg>\n",
              "  </button>\n",
              "\n",
              "<style>\n",
              "  .colab-df-quickchart {\n",
              "      --bg-color: #E8F0FE;\n",
              "      --fill-color: #1967D2;\n",
              "      --hover-bg-color: #E2EBFA;\n",
              "      --hover-fill-color: #174EA6;\n",
              "      --disabled-fill-color: #AAA;\n",
              "      --disabled-bg-color: #DDD;\n",
              "  }\n",
              "\n",
              "  [theme=dark] .colab-df-quickchart {\n",
              "      --bg-color: #3B4455;\n",
              "      --fill-color: #D2E3FC;\n",
              "      --hover-bg-color: #434B5C;\n",
              "      --hover-fill-color: #FFFFFF;\n",
              "      --disabled-bg-color: #3B4455;\n",
              "      --disabled-fill-color: #666;\n",
              "  }\n",
              "\n",
              "  .colab-df-quickchart {\n",
              "    background-color: var(--bg-color);\n",
              "    border: none;\n",
              "    border-radius: 50%;\n",
              "    cursor: pointer;\n",
              "    display: none;\n",
              "    fill: var(--fill-color);\n",
              "    height: 32px;\n",
              "    padding: 0;\n",
              "    width: 32px;\n",
              "  }\n",
              "\n",
              "  .colab-df-quickchart:hover {\n",
              "    background-color: var(--hover-bg-color);\n",
              "    box-shadow: 0 1px 2px rgba(60, 64, 67, 0.3), 0 1px 3px 1px rgba(60, 64, 67, 0.15);\n",
              "    fill: var(--button-hover-fill-color);\n",
              "  }\n",
              "\n",
              "  .colab-df-quickchart-complete:disabled,\n",
              "  .colab-df-quickchart-complete:disabled:hover {\n",
              "    background-color: var(--disabled-bg-color);\n",
              "    fill: var(--disabled-fill-color);\n",
              "    box-shadow: none;\n",
              "  }\n",
              "\n",
              "  .colab-df-spinner {\n",
              "    border: 2px solid var(--fill-color);\n",
              "    border-color: transparent;\n",
              "    border-bottom-color: var(--fill-color);\n",
              "    animation:\n",
              "      spin 1s steps(1) infinite;\n",
              "  }\n",
              "\n",
              "  @keyframes spin {\n",
              "    0% {\n",
              "      border-color: transparent;\n",
              "      border-bottom-color: var(--fill-color);\n",
              "      border-left-color: var(--fill-color);\n",
              "    }\n",
              "    20% {\n",
              "      border-color: transparent;\n",
              "      border-left-color: var(--fill-color);\n",
              "      border-top-color: var(--fill-color);\n",
              "    }\n",
              "    30% {\n",
              "      border-color: transparent;\n",
              "      border-left-color: var(--fill-color);\n",
              "      border-top-color: var(--fill-color);\n",
              "      border-right-color: var(--fill-color);\n",
              "    }\n",
              "    40% {\n",
              "      border-color: transparent;\n",
              "      border-right-color: var(--fill-color);\n",
              "      border-top-color: var(--fill-color);\n",
              "    }\n",
              "    60% {\n",
              "      border-color: transparent;\n",
              "      border-right-color: var(--fill-color);\n",
              "    }\n",
              "    80% {\n",
              "      border-color: transparent;\n",
              "      border-right-color: var(--fill-color);\n",
              "      border-bottom-color: var(--fill-color);\n",
              "    }\n",
              "    90% {\n",
              "      border-color: transparent;\n",
              "      border-bottom-color: var(--fill-color);\n",
              "    }\n",
              "  }\n",
              "</style>\n",
              "\n",
              "  <script>\n",
              "    async function quickchart(key) {\n",
              "      const quickchartButtonEl =\n",
              "        document.querySelector('#' + key + ' button');\n",
              "      quickchartButtonEl.disabled = true;  // To prevent multiple clicks.\n",
              "      quickchartButtonEl.classList.add('colab-df-spinner');\n",
              "      try {\n",
              "        const charts = await google.colab.kernel.invokeFunction(\n",
              "            'suggestCharts', [key], {});\n",
              "      } catch (error) {\n",
              "        console.error('Error during call to suggestCharts:', error);\n",
              "      }\n",
              "      quickchartButtonEl.classList.remove('colab-df-spinner');\n",
              "      quickchartButtonEl.classList.add('colab-df-quickchart-complete');\n",
              "    }\n",
              "    (() => {\n",
              "      let quickchartButtonEl =\n",
              "        document.querySelector('#df-1fd12458-ab3a-4f34-af28-85539e315ab1 button');\n",
              "      quickchartButtonEl.style.display =\n",
              "        google.colab.kernel.accessAllowed ? 'block' : 'none';\n",
              "    })();\n",
              "  </script>\n",
              "</div>\n",
              "\n",
              "    </div>\n",
              "  </div>\n"
            ]
          },
          "metadata": {},
          "execution_count": 2
        }
      ]
    },
    {
      "cell_type": "code",
      "source": [
        "data.info()"
      ],
      "metadata": {
        "colab": {
          "base_uri": "https://localhost:8080/"
        },
        "id": "7Za2GuYKDxEw",
        "outputId": "324a6dfe-a3b5-4f2e-c3bd-1c91fdaceca2"
      },
      "execution_count": null,
      "outputs": [
        {
          "output_type": "stream",
          "name": "stdout",
          "text": [
            "<class 'pandas.core.frame.DataFrame'>\n",
            "RangeIndex: 8790 entries, 0 to 8789\n",
            "Data columns (total 52 columns):\n",
            " #   Column             Non-Null Count  Dtype  \n",
            "---  ------             --------------  -----  \n",
            " 0   NDB_No             8790 non-null   int64  \n",
            " 1   Shrt_Desc          8790 non-null   object \n",
            " 2   Water_(g)          8789 non-null   float64\n",
            " 3   Energ_Kcal         8790 non-null   int64  \n",
            " 4   Protein_(g)        8790 non-null   float64\n",
            " 5   Lipid_Tot_(g)      8790 non-null   float64\n",
            " 6   Ash_(g)            8465 non-null   float64\n",
            " 7   Carbohydrt_(g)     8790 non-null   float64\n",
            " 8   Fiber_TD_(g)       8196 non-null   float64\n",
            " 9   Sugar_Tot_(g)      6958 non-null   float64\n",
            " 10  Calcium_(mg)       8442 non-null   float64\n",
            " 11  Iron_(mg)          8646 non-null   float64\n",
            " 12  Magnesium_(mg)     8051 non-null   float64\n",
            " 13  Phosphorus_(mg)    8211 non-null   float64\n",
            " 14  Potassium_(mg)     8364 non-null   float64\n",
            " 15  Sodium_(mg)        8707 non-null   float64\n",
            " 16  Zinc_(mg)          8084 non-null   float64\n",
            " 17  Copper_mg)         7533 non-null   float64\n",
            " 18  Manganese_(mg)     6630 non-null   float64\n",
            " 19  Selenium_(¾g)      7090 non-null   float64\n",
            " 20  Vit_C_(mg)         7972 non-null   float64\n",
            " 21  Thiamin_(mg)       8156 non-null   float64\n",
            " 22  Riboflavin_(mg)    8174 non-null   float64\n",
            " 23  Niacin_(mg)        8153 non-null   float64\n",
            " 24  Panto_Acid_mg)     6548 non-null   float64\n",
            " 25  Vit_B6_(mg)        7885 non-null   float64\n",
            " 26  Folate_Tot_(¾g)    7529 non-null   float64\n",
            " 27  Folic_Acid_(¾g)    6751 non-null   float64\n",
            " 28  Food_Folate_(¾g)   7022 non-null   float64\n",
            " 29  Folate_DFE_(¾g)    6733 non-null   float64\n",
            " 30  Choline_Tot_ (mg)  4774 non-null   float64\n",
            " 31  Vit_B12_(¾g)       7597 non-null   float64\n",
            " 32  Vit_A_IU           8079 non-null   float64\n",
            " 33  Vit_A_RAE          7255 non-null   float64\n",
            " 34  Retinol_(¾g)       6984 non-null   float64\n",
            " 35  Alpha_Carot_(¾g)   5532 non-null   float64\n",
            " 36  Beta_Carot_(¾g)    5628 non-null   float64\n",
            " 37  Beta_Crypt_(¾g)    5520 non-null   float64\n",
            " 38  Lycopene_(¾g)      5498 non-null   float64\n",
            " 39  Lut+Zea_ (¾g)      5475 non-null   float64\n",
            " 40  Vit_E_(mg)         5901 non-null   float64\n",
            " 41  Vit_D_¾g           5528 non-null   float64\n",
            " 42  Vit_D_IU           5579 non-null   float64\n",
            " 43  Vit_K_(¾g)         5227 non-null   float64\n",
            " 44  FA_Sat_(g)         8441 non-null   float64\n",
            " 45  FA_Mono_(g)        8124 non-null   float64\n",
            " 46  FA_Poly_(g)        8125 non-null   float64\n",
            " 47  Cholestrl_(mg)     8380 non-null   float64\n",
            " 48  GmWt_1             8490 non-null   float64\n",
            " 49  GmWt_Desc1         8491 non-null   object \n",
            " 50  GmWt_2             4825 non-null   float64\n",
            " 51  GmWt_Desc2         4825 non-null   object \n",
            "dtypes: float64(47), int64(2), object(3)\n",
            "memory usage: 3.5+ MB\n"
          ]
        }
      ]
    },
    {
      "cell_type": "code",
      "source": [
        "data.drop(\"Shrt_Desc\", axis=1, inplace = True)"
      ],
      "metadata": {
        "id": "bi9M2EHdD4nr"
      },
      "execution_count": null,
      "outputs": []
    },
    {
      "cell_type": "code",
      "source": [
        "data.drop(\"GmWt_Desc1\", axis=1, inplace = True)"
      ],
      "metadata": {
        "id": "YEkTLj8PD-6d"
      },
      "execution_count": null,
      "outputs": []
    },
    {
      "cell_type": "code",
      "source": [
        "data.drop(\"GmWt_Desc2\", axis=1, inplace = True)"
      ],
      "metadata": {
        "id": "8CJSKJvJEDDn"
      },
      "execution_count": null,
      "outputs": []
    },
    {
      "cell_type": "code",
      "source": [
        "data.isna().sum()"
      ],
      "metadata": {
        "colab": {
          "base_uri": "https://localhost:8080/"
        },
        "id": "8Z_afEFkEGV7",
        "outputId": "719b99f6-18f0-4d42-9b22-1dc4cd2eeee3"
      },
      "execution_count": null,
      "outputs": [
        {
          "output_type": "execute_result",
          "data": {
            "text/plain": [
              "NDB_No                  0\n",
              "Water_(g)               1\n",
              "Energ_Kcal              0\n",
              "Protein_(g)             0\n",
              "Lipid_Tot_(g)           0\n",
              "Ash_(g)               325\n",
              "Carbohydrt_(g)          0\n",
              "Fiber_TD_(g)          594\n",
              "Sugar_Tot_(g)        1832\n",
              "Calcium_(mg)          348\n",
              "Iron_(mg)             144\n",
              "Magnesium_(mg)        739\n",
              "Phosphorus_(mg)       579\n",
              "Potassium_(mg)        426\n",
              "Sodium_(mg)            83\n",
              "Zinc_(mg)             706\n",
              "Copper_mg)           1257\n",
              "Manganese_(mg)       2160\n",
              "Selenium_(¾g)        1700\n",
              "Vit_C_(mg)            818\n",
              "Thiamin_(mg)          634\n",
              "Riboflavin_(mg)       616\n",
              "Niacin_(mg)           637\n",
              "Panto_Acid_mg)       2242\n",
              "Vit_B6_(mg)           905\n",
              "Folate_Tot_(¾g)      1261\n",
              "Folic_Acid_(¾g)      2039\n",
              "Food_Folate_(¾g)     1768\n",
              "Folate_DFE_(¾g)      2057\n",
              "Choline_Tot_ (mg)    4016\n",
              "Vit_B12_(¾g)         1193\n",
              "Vit_A_IU              711\n",
              "Vit_A_RAE            1535\n",
              "Retinol_(¾g)         1806\n",
              "Alpha_Carot_(¾g)     3258\n",
              "Beta_Carot_(¾g)      3162\n",
              "Beta_Crypt_(¾g)      3270\n",
              "Lycopene_(¾g)        3292\n",
              "Lut+Zea_ (¾g)        3315\n",
              "Vit_E_(mg)           2889\n",
              "Vit_D_¾g             3262\n",
              "Vit_D_IU             3211\n",
              "Vit_K_(¾g)           3563\n",
              "FA_Sat_(g)            349\n",
              "FA_Mono_(g)           666\n",
              "FA_Poly_(g)           665\n",
              "Cholestrl_(mg)        410\n",
              "GmWt_1                300\n",
              "GmWt_2               3965\n",
              "dtype: int64"
            ]
          },
          "metadata": {},
          "execution_count": 7
        }
      ]
    },
    {
      "cell_type": "code",
      "source": [
        "data.fillna(data.mean(), inplace=True)"
      ],
      "metadata": {
        "id": "8oqCjikvFhTT"
      },
      "execution_count": null,
      "outputs": []
    },
    {
      "cell_type": "code",
      "source": [
        "x =  data[[\"Water_(g)\", \"Carbohydrt_(g)\"]]"
      ],
      "metadata": {
        "id": "R2ZqqGghEH0i"
      },
      "execution_count": null,
      "outputs": []
    },
    {
      "cell_type": "code",
      "source": [
        "from sklearn.cluster import KMeans\n",
        "interia = []\n",
        "\n",
        "for i in range(1,15):\n",
        "  kmeans = KMeans(n_clusters=i).fit(x)\n",
        "  interia.append(kmeans.inertia_)"
      ],
      "metadata": {
        "colab": {
          "base_uri": "https://localhost:8080/"
        },
        "id": "PVOWHL8mMzVb",
        "outputId": "a2f1f752-d5d8-4451-eb15-bd0e47fd735a"
      },
      "execution_count": null,
      "outputs": [
        {
          "output_type": "stream",
          "name": "stderr",
          "text": [
            "/usr/local/lib/python3.10/dist-packages/sklearn/cluster/_kmeans.py:870: FutureWarning: The default value of `n_init` will change from 10 to 'auto' in 1.4. Set the value of `n_init` explicitly to suppress the warning\n",
            "  warnings.warn(\n",
            "/usr/local/lib/python3.10/dist-packages/sklearn/cluster/_kmeans.py:870: FutureWarning: The default value of `n_init` will change from 10 to 'auto' in 1.4. Set the value of `n_init` explicitly to suppress the warning\n",
            "  warnings.warn(\n",
            "/usr/local/lib/python3.10/dist-packages/sklearn/cluster/_kmeans.py:870: FutureWarning: The default value of `n_init` will change from 10 to 'auto' in 1.4. Set the value of `n_init` explicitly to suppress the warning\n",
            "  warnings.warn(\n",
            "/usr/local/lib/python3.10/dist-packages/sklearn/cluster/_kmeans.py:870: FutureWarning: The default value of `n_init` will change from 10 to 'auto' in 1.4. Set the value of `n_init` explicitly to suppress the warning\n",
            "  warnings.warn(\n",
            "/usr/local/lib/python3.10/dist-packages/sklearn/cluster/_kmeans.py:870: FutureWarning: The default value of `n_init` will change from 10 to 'auto' in 1.4. Set the value of `n_init` explicitly to suppress the warning\n",
            "  warnings.warn(\n",
            "/usr/local/lib/python3.10/dist-packages/sklearn/cluster/_kmeans.py:870: FutureWarning: The default value of `n_init` will change from 10 to 'auto' in 1.4. Set the value of `n_init` explicitly to suppress the warning\n",
            "  warnings.warn(\n",
            "/usr/local/lib/python3.10/dist-packages/sklearn/cluster/_kmeans.py:870: FutureWarning: The default value of `n_init` will change from 10 to 'auto' in 1.4. Set the value of `n_init` explicitly to suppress the warning\n",
            "  warnings.warn(\n",
            "/usr/local/lib/python3.10/dist-packages/sklearn/cluster/_kmeans.py:870: FutureWarning: The default value of `n_init` will change from 10 to 'auto' in 1.4. Set the value of `n_init` explicitly to suppress the warning\n",
            "  warnings.warn(\n",
            "/usr/local/lib/python3.10/dist-packages/sklearn/cluster/_kmeans.py:870: FutureWarning: The default value of `n_init` will change from 10 to 'auto' in 1.4. Set the value of `n_init` explicitly to suppress the warning\n",
            "  warnings.warn(\n",
            "/usr/local/lib/python3.10/dist-packages/sklearn/cluster/_kmeans.py:870: FutureWarning: The default value of `n_init` will change from 10 to 'auto' in 1.4. Set the value of `n_init` explicitly to suppress the warning\n",
            "  warnings.warn(\n",
            "/usr/local/lib/python3.10/dist-packages/sklearn/cluster/_kmeans.py:870: FutureWarning: The default value of `n_init` will change from 10 to 'auto' in 1.4. Set the value of `n_init` explicitly to suppress the warning\n",
            "  warnings.warn(\n",
            "/usr/local/lib/python3.10/dist-packages/sklearn/cluster/_kmeans.py:870: FutureWarning: The default value of `n_init` will change from 10 to 'auto' in 1.4. Set the value of `n_init` explicitly to suppress the warning\n",
            "  warnings.warn(\n",
            "/usr/local/lib/python3.10/dist-packages/sklearn/cluster/_kmeans.py:870: FutureWarning: The default value of `n_init` will change from 10 to 'auto' in 1.4. Set the value of `n_init` explicitly to suppress the warning\n",
            "  warnings.warn(\n",
            "/usr/local/lib/python3.10/dist-packages/sklearn/cluster/_kmeans.py:870: FutureWarning: The default value of `n_init` will change from 10 to 'auto' in 1.4. Set the value of `n_init` explicitly to suppress the warning\n",
            "  warnings.warn(\n"
          ]
        }
      ]
    },
    {
      "cell_type": "code",
      "source": [
        "min(interia), max(interia)"
      ],
      "metadata": {
        "colab": {
          "base_uri": "https://localhost:8080/"
        },
        "id": "6D3y_NL5M2rs",
        "outputId": "6b74fbac-1ce6-4470-d358-8778e0d4e0c7"
      },
      "execution_count": null,
      "outputs": [
        {
          "output_type": "execute_result",
          "data": {
            "text/plain": [
              "(301881.57467597525, 14858319.017680328)"
            ]
          },
          "metadata": {},
          "execution_count": 14
        }
      ]
    },
    {
      "cell_type": "code",
      "source": [
        "plt.plot(range(1,15), interia, \"-*\")"
      ],
      "metadata": {
        "colab": {
          "base_uri": "https://localhost:8080/",
          "height": 463
        },
        "id": "tKlo716nM7TT",
        "outputId": "951a915a-1228-46d0-a45b-0980ac8272bf"
      },
      "execution_count": null,
      "outputs": [
        {
          "output_type": "execute_result",
          "data": {
            "text/plain": [
              "[<matplotlib.lines.Line2D at 0x7c76f28a4640>]"
            ]
          },
          "metadata": {},
          "execution_count": 15
        },
        {
          "output_type": "display_data",
          "data": {
            "text/plain": [
              "<Figure size 640x480 with 1 Axes>"
            ],
            "image/png": "[encoded data removed]"
          },
          "metadata": {}
        }
      ]
    },
    {
      "cell_type": "code",
      "source": [
        "kmeans = KMeans(n_clusters = 4).fit(x)"
      ],
      "metadata": {
        "colab": {
          "base_uri": "https://localhost:8080/"
        },
        "id": "Z_LEcuZQM-aQ",
        "outputId": "b1393409-bd39-4f41-9db0-8eb92226e121"
      },
      "execution_count": null,
      "outputs": [
        {
          "output_type": "stream",
          "name": "stderr",
          "text": [
            "/usr/local/lib/python3.10/dist-packages/sklearn/cluster/_kmeans.py:870: FutureWarning: The default value of `n_init` will change from 10 to 'auto' in 1.4. Set the value of `n_init` explicitly to suppress the warning\n",
            "  warnings.warn(\n"
          ]
        }
      ]
    },
    {
      "cell_type": "code",
      "source": [
        "ypred = kmeans.predict(x)"
      ],
      "metadata": {
        "id": "Qt824t-FNBE8"
      },
      "execution_count": null,
      "outputs": []
    },
    {
      "cell_type": "code",
      "source": [
        "x.iloc[ypred == 0, 0].shape == x.iloc[ypred == 0, 1].shape"
      ],
      "metadata": {
        "colab": {
          "base_uri": "https://localhost:8080/"
        },
        "id": "sP-thItENDkF",
        "outputId": "04cd6d1a-506e-4318-b960-1211a1ae55d2"
      },
      "execution_count": null,
      "outputs": [
        {
          "output_type": "execute_result",
          "data": {
            "text/plain": [
              "True"
            ]
          },
          "metadata": {},
          "execution_count": 18
        }
      ]
    },
    {
      "cell_type": "code",
      "source": [
        "centroids = kmeans.cluster_centers_"
      ],
      "metadata": {
        "id": "MD8zSd4RNGUI"
      },
      "execution_count": null,
      "outputs": []
    },
    {
      "cell_type": "code",
      "source": [
        "plt.scatter(x.loc[ypred == 0,\"Water_(g)\"], x.loc[ypred==0, \"Carbohydrt_(g)\"], c = \"r\", label = \"Cluster 1\" )\n",
        "plt.scatter(x.loc[ypred == 1,\"Water_(g)\"], x.loc[ypred==1, \"Carbohydrt_(g)\"], c = \"b\",label = \"Cluster 2\" )\n",
        "plt.scatter(x.loc[ypred == 2,\"Water_(g)\"], x.loc[ypred==2, \"Carbohydrt_(g)\"], c = \"y\" ,label = \"Cluster 3\")\n",
        "plt.scatter(x.loc[ypred == 3,\"Water_(g)\"], x.loc[ypred==3, \"Carbohydrt_(g)\"], c = \"g\" ,label = \"Cluster 4\")\n",
        "plt.scatter(centroids[:,0],centroids[:,1], c= \"black\", s=200, label = \"Centroids\" )\n",
        "plt.xlabel(\"Water_(g)\")\n",
        "plt.ylabel(\"Carbohydrt_(g)\")\n",
        "plt.title(\"Clustering\")\n",
        "plt.legend()"
      ],
      "metadata": {
        "colab": {
          "base_uri": "https://localhost:8080/",
          "height": 490
        },
        "id": "68b9cM-BNIvE",
        "outputId": "9e17d870-f26a-489c-bd80-7dfd00b9c5e0"
      },
      "execution_count": null,
      "outputs": [
        {
          "output_type": "execute_result",
          "data": {
            "text/plain": [
              "<matplotlib.legend.Legend at 0x7c76f07a0700>"
            ]
          },
          "metadata": {},
          "execution_count": 20
        },
        {
          "output_type": "display_data",
          "data": {
            "text/plain": [
              "<Figure size 640x480 with 1 Axes>"
            ],
            "image/png": "[encoded data removed]"
          },
          "metadata": {}
        }
      ]
    }
  ]
}
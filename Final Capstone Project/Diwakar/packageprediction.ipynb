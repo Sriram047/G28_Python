{
  "nbformat": 4,
  "nbformat_minor": 0,
  "metadata": {
    "colab": {
      "provenance": []
    },
    "kernelspec": {
      "name": "python3",
      "display_name": "Python 3"
    },
    "language_info": {
      "name": "python"
    }
  },
  "cells": [
    {
      "cell_type": "code",
      "source": [
        "import numpy as np\n",
        "import pandas as pd\n",
        "import seaborn as sns\n",
        "from sklearn.model_selection import train_test_split\n",
        "from sklearn.linear_model import LinearRegression\n",
        "from sklearn.metrics import mean_squared_error, r2_score\n",
        "import matplotlib.pyplot as plt\n",
        "from sklearn import metrics\n",
        "from sklearn.metrics import confusion_matrix, classification_report\n",
        "from sklearn.metrics import accuracy_score,precision_score,recall_score,f1_score\n",
        "from sklearn.linear_model import LogisticRegression\n",
        "from sklearn.ensemble import BaggingClassifier\n",
        "from sklearn.ensemble import RandomForestClassifier\n",
        "from sklearn.ensemble import AdaBoostClassifier, GradientBoostingClassifier\n",
        "from xgboost import XGBClassifier\n",
        "from sklearn.ensemble import StackingClassifier\n",
        "from sklearn.tree import DecisionTreeClassifier\n",
        "from sklearn.tree import DecisionTreeRegressor\n",
        "from sklearn.ensemble import BaggingRegressor,RandomForestRegressor, GradientBoostingRegressor, AdaBoostRegressor, StackingRegressor\n",
        "from xgboost import XGBRegressor\n",
        "from sklearn import tree\n",
        "\n",
        "data = pd.read_csv('/content/Tourism.csv',delimiter=',')"
      ],
      "metadata": {
        "id": "vWplZtGv7obd"
      },
      "execution_count": null,
      "outputs": []
    },
    {
      "cell_type": "code",
      "source": [
        "data.columns"
      ],
      "metadata": {
        "id": "ud2TWClE8uka",
        "outputId": "590214cc-6f8b-4e3b-e15f-ba9ecda3d419",
        "colab": {
          "base_uri": "https://localhost:8080/"
        }
      },
      "execution_count": null,
      "outputs": [
        {
          "output_type": "execute_result",
          "data": {
            "text/plain": [
              "Index(['CustomerID', 'ProdTaken', 'Age', 'TypeofContact', 'CityTier',\n",
              "       'DurationOfPitch', 'Occupation', 'Gender', 'NumberOfPersonVisiting',\n",
              "       'NumberOfFollowups', 'ProductPitched', 'PreferredPropertyStar',\n",
              "       'MaritalStatus', 'NumberOfTrips', 'Passport', 'PitchSatisfactionScore',\n",
              "       'OwnCar', 'NumberOfChildrenVisiting', 'Designation', 'MonthlyIncome'],\n",
              "      dtype='object')"
            ]
          },
          "metadata": {},
          "execution_count": 46
        }
      ]
    },
    {
      "cell_type": "code",
      "source": [
        "data.head()"
      ],
      "metadata": {
        "colab": {
          "base_uri": "https://localhost:8080/",
          "height": 278
        },
        "id": "cH8x62-V7ymz",
        "outputId": "cc4e6933-0879-451f-b51c-4eab763f8356"
      },
      "execution_count": null,
      "outputs": [
        {
          "output_type": "execute_result",
          "data": {
            "text/plain": [
              "   CustomerID  ProdTaken   Age    TypeofContact  CityTier  DurationOfPitch  \\\n",
              "0      200000          1  41.0     Self Enquiry         3              6.0   \n",
              "1      200001          0  49.0  Company Invited         1             14.0   \n",
              "2      200002          1  37.0     Self Enquiry         1              8.0   \n",
              "3      200003          0  33.0  Company Invited         1              9.0   \n",
              "4      200004          0   NaN     Self Enquiry         1              8.0   \n",
              "\n",
              "       Occupation  Gender  NumberOfPersonVisiting  NumberOfFollowups  \\\n",
              "0        Salaried  Female                       3                3.0   \n",
              "1        Salaried    Male                       3                4.0   \n",
              "2     Free Lancer    Male                       3                4.0   \n",
              "3        Salaried  Female                       2                3.0   \n",
              "4  Small Business    Male                       2                3.0   \n",
              "\n",
              "  ProductPitched  PreferredPropertyStar MaritalStatus  NumberOfTrips  \\\n",
              "0         Deluxe                    3.0        Single            1.0   \n",
              "1         Deluxe                    4.0      Divorced            2.0   \n",
              "2          Basic                    3.0        Single            7.0   \n",
              "3          Basic                    3.0      Divorced            2.0   \n",
              "4          Basic                    4.0      Divorced            1.0   \n",
              "\n",
              "   Passport  PitchSatisfactionScore  OwnCar  NumberOfChildrenVisiting  \\\n",
              "0         1                       2       1                       0.0   \n",
              "1         0                       3       1                       2.0   \n",
              "2         1                       3       0                       0.0   \n",
              "3         1                       5       1                       1.0   \n",
              "4         0                       5       1                       0.0   \n",
              "\n",
              "  Designation  MonthlyIncome  \n",
              "0     Manager        20993.0  \n",
              "1     Manager        20130.0  \n",
              "2   Executive        17090.0  \n",
              "3   Executive        17909.0  \n",
              "4   Executive        18468.0  "
            ],
            "text/html": [
              "\n",
              "  <div id=\"df-182a2b43-8c0c-4e46-bb30-33a387e1798a\" class=\"colab-df-container\">\n",
              "    <div>\n",
              "<style scoped>\n",
              "    .dataframe tbody tr th:only-of-type {\n",
              "        vertical-align: middle;\n",
              "    }\n",
              "\n",
              "    .dataframe tbody tr th {\n",
              "        vertical-align: top;\n",
              "    }\n",
              "\n",
              "    .dataframe thead th {\n",
              "        text-align: right;\n",
              "    }\n",
              "</style>\n",
              "<table border=\"1\" class=\"dataframe\">\n",
              "  <thead>\n",
              "    <tr style=\"text-align: right;\">\n",
              "      <th></th>\n",
              "      <th>CustomerID</th>\n",
              "      <th>ProdTaken</th>\n",
              "      <th>Age</th>\n",
              "      <th>TypeofContact</th>\n",
              "      <th>CityTier</th>\n",
              "      <th>DurationOfPitch</th>\n",
              "      <th>Occupation</th>\n",
              "      <th>Gender</th>\n",
              "      <th>NumberOfPersonVisiting</th>\n",
              "      <th>NumberOfFollowups</th>\n",
              "      <th>ProductPitched</th>\n",
              "      <th>PreferredPropertyStar</th>\n",
              "      <th>MaritalStatus</th>\n",
              "      <th>NumberOfTrips</th>\n",
              "      <th>Passport</th>\n",
              "      <th>PitchSatisfactionScore</th>\n",
              "      <th>OwnCar</th>\n",
              "      <th>NumberOfChildrenVisiting</th>\n",
              "      <th>Designation</th>\n",
              "      <th>MonthlyIncome</th>\n",
              "    </tr>\n",
              "  </thead>\n",
              "  <tbody>\n",
              "    <tr>\n",
              "      <th>0</th>\n",
              "      <td>200000</td>\n",
              "      <td>1</td>\n",
              "      <td>41.0</td>\n",
              "      <td>Self Enquiry</td>\n",
              "      <td>3</td>\n",
              "      <td>6.0</td>\n",
              "      <td>Salaried</td>\n",
              "      <td>Female</td>\n",
              "      <td>3</td>\n",
              "      <td>3.0</td>\n",
              "      <td>Deluxe</td>\n",
              "      <td>3.0</td>\n",
              "      <td>Single</td>\n",
              "      <td>1.0</td>\n",
              "      <td>1</td>\n",
              "      <td>2</td>\n",
              "      <td>1</td>\n",
              "      <td>0.0</td>\n",
              "      <td>Manager</td>\n",
              "      <td>20993.0</td>\n",
              "    </tr>\n",
              "    <tr>\n",
              "      <th>1</th>\n",
              "      <td>200001</td>\n",
              "      <td>0</td>\n",
              "      <td>49.0</td>\n",
              "      <td>Company Invited</td>\n",
              "      <td>1</td>\n",
              "      <td>14.0</td>\n",
              "      <td>Salaried</td>\n",
              "      <td>Male</td>\n",
              "      <td>3</td>\n",
              "      <td>4.0</td>\n",
              "      <td>Deluxe</td>\n",
              "      <td>4.0</td>\n",
              "      <td>Divorced</td>\n",
              "      <td>2.0</td>\n",
              "      <td>0</td>\n",
              "      <td>3</td>\n",
              "      <td>1</td>\n",
              "      <td>2.0</td>\n",
              "      <td>Manager</td>\n",
              "      <td>20130.0</td>\n",
              "    </tr>\n",
              "    <tr>\n",
              "      <th>2</th>\n",
              "      <td>200002</td>\n",
              "      <td>1</td>\n",
              "      <td>37.0</td>\n",
              "      <td>Self Enquiry</td>\n",
              "      <td>1</td>\n",
              "      <td>8.0</td>\n",
              "      <td>Free Lancer</td>\n",
              "      <td>Male</td>\n",
              "      <td>3</td>\n",
              "      <td>4.0</td>\n",
              "      <td>Basic</td>\n",
              "      <td>3.0</td>\n",
              "      <td>Single</td>\n",
              "      <td>7.0</td>\n",
              "      <td>1</td>\n",
              "      <td>3</td>\n",
              "      <td>0</td>\n",
              "      <td>0.0</td>\n",
              "      <td>Executive</td>\n",
              "      <td>17090.0</td>\n",
              "    </tr>\n",
              "    <tr>\n",
              "      <th>3</th>\n",
              "      <td>200003</td>\n",
              "      <td>0</td>\n",
              "      <td>33.0</td>\n",
              "      <td>Company Invited</td>\n",
              "      <td>1</td>\n",
              "      <td>9.0</td>\n",
              "      <td>Salaried</td>\n",
              "      <td>Female</td>\n",
              "      <td>2</td>\n",
              "      <td>3.0</td>\n",
              "      <td>Basic</td>\n",
              "      <td>3.0</td>\n",
              "      <td>Divorced</td>\n",
              "      <td>2.0</td>\n",
              "      <td>1</td>\n",
              "      <td>5</td>\n",
              "      <td>1</td>\n",
              "      <td>1.0</td>\n",
              "      <td>Executive</td>\n",
              "      <td>17909.0</td>\n",
              "    </tr>\n",
              "    <tr>\n",
              "      <th>4</th>\n",
              "      <td>200004</td>\n",
              "      <td>0</td>\n",
              "      <td>NaN</td>\n",
              "      <td>Self Enquiry</td>\n",
              "      <td>1</td>\n",
              "      <td>8.0</td>\n",
              "      <td>Small Business</td>\n",
              "      <td>Male</td>\n",
              "      <td>2</td>\n",
              "      <td>3.0</td>\n",
              "      <td>Basic</td>\n",
              "      <td>4.0</td>\n",
              "      <td>Divorced</td>\n",
              "      <td>1.0</td>\n",
              "      <td>0</td>\n",
              "      <td>5</td>\n",
              "      <td>1</td>\n",
              "      <td>0.0</td>\n",
              "      <td>Executive</td>\n",
              "      <td>18468.0</td>\n",
              "    </tr>\n",
              "  </tbody>\n",
              "</table>\n",
              "</div>\n",
              "    <div class=\"colab-df-buttons\">\n",
              "\n",
              "  <div class=\"colab-df-container\">\n",
              "    <button class=\"colab-df-convert\" onclick=\"convertToInteractive('df-182a2b43-8c0c-4e46-bb30-33a387e1798a')\"\n",
              "            title=\"Convert this dataframe to an interactive table.\"\n",
              "            style=\"display:none;\">\n",
              "\n",
              "  <svg xmlns=\"http://www.w3.org/2000/svg\" height=\"24px\" viewBox=\"0 -960 960 960\">\n",
              "    <path d=\"M120-120v-720h720v720H120Zm60-500h600v-160H180v160Zm220 220h160v-160H400v160Zm0 220h160v-160H400v160ZM180-400h160v-160H180v160Zm440 0h160v-160H620v160ZM180-180h160v-160H180v160Zm440 0h160v-160H620v160Z\"/>\n",
              "  </svg>\n",
              "    </button>\n",
              "\n",
              "  <style>\n",
              "    .colab-df-container {\n",
              "      display:flex;\n",
              "      gap: 12px;\n",
              "    }\n",
              "\n",
              "    .colab-df-convert {\n",
              "      background-color: #E8F0FE;\n",
              "      border: none;\n",
              "      border-radius: 50%;\n",
              "      cursor: pointer;\n",
              "      display: none;\n",
              "      fill: #1967D2;\n",
              "      height: 32px;\n",
              "      padding: 0 0 0 0;\n",
              "      width: 32px;\n",
              "    }\n",
              "\n",
              "    .colab-df-convert:hover {\n",
              "      background-color: #E2EBFA;\n",
              "      box-shadow: 0px 1px 2px rgba(60, 64, 67, 0.3), 0px 1px 3px 1px rgba(60, 64, 67, 0.15);\n",
              "      fill: #174EA6;\n",
              "    }\n",
              "\n",
              "    .colab-df-buttons div {\n",
              "      margin-bottom: 4px;\n",
              "    }\n",
              "\n",
              "    [theme=dark] .colab-df-convert {\n",
              "      background-color: #3B4455;\n",
              "      fill: #D2E3FC;\n",
              "    }\n",
              "\n",
              "    [theme=dark] .colab-df-convert:hover {\n",
              "      background-color: #434B5C;\n",
              "      box-shadow: 0px 1px 3px 1px rgba(0, 0, 0, 0.15);\n",
              "      filter: drop-shadow(0px 1px 2px rgba(0, 0, 0, 0.3));\n",
              "      fill: #FFFFFF;\n",
              "    }\n",
              "  </style>\n",
              "\n",
              "    <script>\n",
              "      const buttonEl =\n",
              "        document.querySelector('#df-182a2b43-8c0c-4e46-bb30-33a387e1798a button.colab-df-convert');\n",
              "      buttonEl.style.display =\n",
              "        google.colab.kernel.accessAllowed ? 'block' : 'none';\n",
              "\n",
              "      async function convertToInteractive(key) {\n",
              "        const element = document.querySelector('#df-182a2b43-8c0c-4e46-bb30-33a387e1798a');\n",
              "        const dataTable =\n",
              "          await google.colab.kernel.invokeFunction('convertToInteractive',\n",
              "                                                    [key], {});\n",
              "        if (!dataTable) return;\n",
              "\n",
              "        const docLinkHtml = 'Like what you see? Visit the ' +\n",
              "          '<a target=\"_blank\" href=https://colab.research.google.com/notebooks/data_table.ipynb>data table notebook</a>'\n",
              "          + ' to learn more about interactive tables.';\n",
              "        element.innerHTML = '';\n",
              "        dataTable['output_type'] = 'display_data';\n",
              "        await google.colab.output.renderOutput(dataTable, element);\n",
              "        const docLink = document.createElement('div');\n",
              "        docLink.innerHTML = docLinkHtml;\n",
              "        element.appendChild(docLink);\n",
              "      }\n",
              "    </script>\n",
              "  </div>\n",
              "\n",
              "\n",
              "<div id=\"df-6349a5d2-0011-4ee0-b7f6-b4e1f0567b16\">\n",
              "  <button class=\"colab-df-quickchart\" onclick=\"quickchart('df-6349a5d2-0011-4ee0-b7f6-b4e1f0567b16')\"\n",
              "            title=\"Suggest charts\"\n",
              "            style=\"display:none;\">\n",
              "\n",
              "<svg xmlns=\"http://www.w3.org/2000/svg\" height=\"24px\"viewBox=\"0 0 24 24\"\n",
              "     width=\"24px\">\n",
              "    <g>\n",
              "        <path d=\"M19 3H5c-1.1 0-2 .9-2 2v14c0 1.1.9 2 2 2h14c1.1 0 2-.9 2-2V5c0-1.1-.9-2-2-2zM9 17H7v-7h2v7zm4 0h-2V7h2v10zm4 0h-2v-4h2v4z\"/>\n",
              "    </g>\n",
              "</svg>\n",
              "  </button>\n",
              "\n",
              "<style>\n",
              "  .colab-df-quickchart {\n",
              "      --bg-color: #E8F0FE;\n",
              "      --fill-color: #1967D2;\n",
              "      --hover-bg-color: #E2EBFA;\n",
              "      --hover-fill-color: #174EA6;\n",
              "      --disabled-fill-color: #AAA;\n",
              "      --disabled-bg-color: #DDD;\n",
              "  }\n",
              "\n",
              "  [theme=dark] .colab-df-quickchart {\n",
              "      --bg-color: #3B4455;\n",
              "      --fill-color: #D2E3FC;\n",
              "      --hover-bg-color: #434B5C;\n",
              "      --hover-fill-color: #FFFFFF;\n",
              "      --disabled-bg-color: #3B4455;\n",
              "      --disabled-fill-color: #666;\n",
              "  }\n",
              "\n",
              "  .colab-df-quickchart {\n",
              "    background-color: var(--bg-color);\n",
              "    border: none;\n",
              "    border-radius: 50%;\n",
              "    cursor: pointer;\n",
              "    display: none;\n",
              "    fill: var(--fill-color);\n",
              "    height: 32px;\n",
              "    padding: 0;\n",
              "    width: 32px;\n",
              "  }\n",
              "\n",
              "  .colab-df-quickchart:hover {\n",
              "    background-color: var(--hover-bg-color);\n",
              "    box-shadow: 0 1px 2px rgba(60, 64, 67, 0.3), 0 1px 3px 1px rgba(60, 64, 67, 0.15);\n",
              "    fill: var(--button-hover-fill-color);\n",
              "  }\n",
              "\n",
              "  .colab-df-quickchart-complete:disabled,\n",
              "  .colab-df-quickchart-complete:disabled:hover {\n",
              "    background-color: var(--disabled-bg-color);\n",
              "    fill: var(--disabled-fill-color);\n",
              "    box-shadow: none;\n",
              "  }\n",
              "\n",
              "  .colab-df-spinner {\n",
              "    border: 2px solid var(--fill-color);\n",
              "    border-color: transparent;\n",
              "    border-bottom-color: var(--fill-color);\n",
              "    animation:\n",
              "      spin 1s steps(1) infinite;\n",
              "  }\n",
              "\n",
              "  @keyframes spin {\n",
              "    0% {\n",
              "      border-color: transparent;\n",
              "      border-bottom-color: var(--fill-color);\n",
              "      border-left-color: var(--fill-color);\n",
              "    }\n",
              "    20% {\n",
              "      border-color: transparent;\n",
              "      border-left-color: var(--fill-color);\n",
              "      border-top-color: var(--fill-color);\n",
              "    }\n",
              "    30% {\n",
              "      border-color: transparent;\n",
              "      border-left-color: var(--fill-color);\n",
              "      border-top-color: var(--fill-color);\n",
              "      border-right-color: var(--fill-color);\n",
              "    }\n",
              "    40% {\n",
              "      border-color: transparent;\n",
              "      border-right-color: var(--fill-color);\n",
              "      border-top-color: var(--fill-color);\n",
              "    }\n",
              "    60% {\n",
              "      border-color: transparent;\n",
              "      border-right-color: var(--fill-color);\n",
              "    }\n",
              "    80% {\n",
              "      border-color: transparent;\n",
              "      border-right-color: var(--fill-color);\n",
              "      border-bottom-color: var(--fill-color);\n",
              "    }\n",
              "    90% {\n",
              "      border-color: transparent;\n",
              "      border-bottom-color: var(--fill-color);\n",
              "    }\n",
              "  }\n",
              "</style>\n",
              "\n",
              "  <script>\n",
              "    async function quickchart(key) {\n",
              "      const quickchartButtonEl =\n",
              "        document.querySelector('#' + key + ' button');\n",
              "      quickchartButtonEl.disabled = true;  // To prevent multiple clicks.\n",
              "      quickchartButtonEl.classList.add('colab-df-spinner');\n",
              "      try {\n",
              "        const charts = await google.colab.kernel.invokeFunction(\n",
              "            'suggestCharts', [key], {});\n",
              "      } catch (error) {\n",
              "        console.error('Error during call to suggestCharts:', error);\n",
              "      }\n",
              "      quickchartButtonEl.classList.remove('colab-df-spinner');\n",
              "      quickchartButtonEl.classList.add('colab-df-quickchart-complete');\n",
              "    }\n",
              "    (() => {\n",
              "      let quickchartButtonEl =\n",
              "        document.querySelector('#df-6349a5d2-0011-4ee0-b7f6-b4e1f0567b16 button');\n",
              "      quickchartButtonEl.style.display =\n",
              "        google.colab.kernel.accessAllowed ? 'block' : 'none';\n",
              "    })();\n",
              "  </script>\n",
              "</div>\n",
              "\n",
              "    </div>\n",
              "  </div>\n"
            ]
          },
          "metadata": {},
          "execution_count": 47
        }
      ]
    },
    {
      "cell_type": "code",
      "source": [
        "data.describe()"
      ],
      "metadata": {
        "colab": {
          "base_uri": "https://localhost:8080/",
          "height": 320
        },
        "id": "bvGAvGo78Lnr",
        "outputId": "72361c3f-da54-4ea1-f83a-ec13a0a0e6ea"
      },
      "execution_count": null,
      "outputs": [
        {
          "output_type": "execute_result",
          "data": {
            "text/plain": [
              "          CustomerID    ProdTaken          Age     CityTier  DurationOfPitch  \\\n",
              "count    4888.000000  4888.000000  4662.000000  4888.000000      4637.000000   \n",
              "mean   202443.500000     0.188216    37.622265     1.654255        15.490835   \n",
              "std      1411.188388     0.390925     9.316387     0.916583         8.519643   \n",
              "min    200000.000000     0.000000    18.000000     1.000000         5.000000   \n",
              "25%    201221.750000     0.000000    31.000000     1.000000         9.000000   \n",
              "50%    202443.500000     0.000000    36.000000     1.000000        13.000000   \n",
              "75%    203665.250000     0.000000    44.000000     3.000000        20.000000   \n",
              "max    204887.000000     1.000000    61.000000     3.000000       127.000000   \n",
              "\n",
              "       NumberOfPersonVisiting  NumberOfFollowups  PreferredPropertyStar  \\\n",
              "count             4888.000000        4843.000000            4862.000000   \n",
              "mean                 2.905074           3.708445               3.581037   \n",
              "std                  0.724891           1.002509               0.798009   \n",
              "min                  1.000000           1.000000               3.000000   \n",
              "25%                  2.000000           3.000000               3.000000   \n",
              "50%                  3.000000           4.000000               3.000000   \n",
              "75%                  3.000000           4.000000               4.000000   \n",
              "max                  5.000000           6.000000               5.000000   \n",
              "\n",
              "       NumberOfTrips     Passport  PitchSatisfactionScore       OwnCar  \\\n",
              "count    4748.000000  4888.000000             4888.000000  4888.000000   \n",
              "mean        3.236521     0.290917                3.078151     0.620295   \n",
              "std         1.849019     0.454232                1.365792     0.485363   \n",
              "min         1.000000     0.000000                1.000000     0.000000   \n",
              "25%         2.000000     0.000000                2.000000     0.000000   \n",
              "50%         3.000000     0.000000                3.000000     1.000000   \n",
              "75%         4.000000     1.000000                4.000000     1.000000   \n",
              "max        22.000000     1.000000                5.000000     1.000000   \n",
              "\n",
              "       NumberOfChildrenVisiting  MonthlyIncome  \n",
              "count               4822.000000    4655.000000  \n",
              "mean                   1.187267   23619.853491  \n",
              "std                    0.857861    5380.698361  \n",
              "min                    0.000000    1000.000000  \n",
              "25%                    1.000000   20346.000000  \n",
              "50%                    1.000000   22347.000000  \n",
              "75%                    2.000000   25571.000000  \n",
              "max                    3.000000   98678.000000  "
            ],
            "text/html": [
              "\n",
              "  <div id=\"df-0b4810d1-f8c4-4328-9e49-704ec726b469\" class=\"colab-df-container\">\n",
              "    <div>\n",
              "<style scoped>\n",
              "    .dataframe tbody tr th:only-of-type {\n",
              "        vertical-align: middle;\n",
              "    }\n",
              "\n",
              "    .dataframe tbody tr th {\n",
              "        vertical-align: top;\n",
              "    }\n",
              "\n",
              "    .dataframe thead th {\n",
              "        text-align: right;\n",
              "    }\n",
              "</style>\n",
              "<table border=\"1\" class=\"dataframe\">\n",
              "  <thead>\n",
              "    <tr style=\"text-align: right;\">\n",
              "      <th></th>\n",
              "      <th>CustomerID</th>\n",
              "      <th>ProdTaken</th>\n",
              "      <th>Age</th>\n",
              "      <th>CityTier</th>\n",
              "      <th>DurationOfPitch</th>\n",
              "      <th>NumberOfPersonVisiting</th>\n",
              "      <th>NumberOfFollowups</th>\n",
              "      <th>PreferredPropertyStar</th>\n",
              "      <th>NumberOfTrips</th>\n",
              "      <th>Passport</th>\n",
              "      <th>PitchSatisfactionScore</th>\n",
              "      <th>OwnCar</th>\n",
              "      <th>NumberOfChildrenVisiting</th>\n",
              "      <th>MonthlyIncome</th>\n",
              "    </tr>\n",
              "  </thead>\n",
              "  <tbody>\n",
              "    <tr>\n",
              "      <th>count</th>\n",
              "      <td>4888.000000</td>\n",
              "      <td>4888.000000</td>\n",
              "      <td>4662.000000</td>\n",
              "      <td>4888.000000</td>\n",
              "      <td>4637.000000</td>\n",
              "      <td>4888.000000</td>\n",
              "      <td>4843.000000</td>\n",
              "      <td>4862.000000</td>\n",
              "      <td>4748.000000</td>\n",
              "      <td>4888.000000</td>\n",
              "      <td>4888.000000</td>\n",
              "      <td>4888.000000</td>\n",
              "      <td>4822.000000</td>\n",
              "      <td>4655.000000</td>\n",
              "    </tr>\n",
              "    <tr>\n",
              "      <th>mean</th>\n",
              "      <td>202443.500000</td>\n",
              "      <td>0.188216</td>\n",
              "      <td>37.622265</td>\n",
              "      <td>1.654255</td>\n",
              "      <td>15.490835</td>\n",
              "      <td>2.905074</td>\n",
              "      <td>3.708445</td>\n",
              "      <td>3.581037</td>\n",
              "      <td>3.236521</td>\n",
              "      <td>0.290917</td>\n",
              "      <td>3.078151</td>\n",
              "      <td>0.620295</td>\n",
              "      <td>1.187267</td>\n",
              "      <td>23619.853491</td>\n",
              "    </tr>\n",
              "    <tr>\n",
              "      <th>std</th>\n",
              "      <td>1411.188388</td>\n",
              "      <td>0.390925</td>\n",
              "      <td>9.316387</td>\n",
              "      <td>0.916583</td>\n",
              "      <td>8.519643</td>\n",
              "      <td>0.724891</td>\n",
              "      <td>1.002509</td>\n",
              "      <td>0.798009</td>\n",
              "      <td>1.849019</td>\n",
              "      <td>0.454232</td>\n",
              "      <td>1.365792</td>\n",
              "      <td>0.485363</td>\n",
              "      <td>0.857861</td>\n",
              "      <td>5380.698361</td>\n",
              "    </tr>\n",
              "    <tr>\n",
              "      <th>min</th>\n",
              "      <td>200000.000000</td>\n",
              "      <td>0.000000</td>\n",
              "      <td>18.000000</td>\n",
              "      <td>1.000000</td>\n",
              "      <td>5.000000</td>\n",
              "      <td>1.000000</td>\n",
              "      <td>1.000000</td>\n",
              "      <td>3.000000</td>\n",
              "      <td>1.000000</td>\n",
              "      <td>0.000000</td>\n",
              "      <td>1.000000</td>\n",
              "      <td>0.000000</td>\n",
              "      <td>0.000000</td>\n",
              "      <td>1000.000000</td>\n",
              "    </tr>\n",
              "    <tr>\n",
              "      <th>25%</th>\n",
              "      <td>201221.750000</td>\n",
              "      <td>0.000000</td>\n",
              "      <td>31.000000</td>\n",
              "      <td>1.000000</td>\n",
              "      <td>9.000000</td>\n",
              "      <td>2.000000</td>\n",
              "      <td>3.000000</td>\n",
              "      <td>3.000000</td>\n",
              "      <td>2.000000</td>\n",
              "      <td>0.000000</td>\n",
              "      <td>2.000000</td>\n",
              "      <td>0.000000</td>\n",
              "      <td>1.000000</td>\n",
              "      <td>20346.000000</td>\n",
              "    </tr>\n",
              "    <tr>\n",
              "      <th>50%</th>\n",
              "      <td>202443.500000</td>\n",
              "      <td>0.000000</td>\n",
              "      <td>36.000000</td>\n",
              "      <td>1.000000</td>\n",
              "      <td>13.000000</td>\n",
              "      <td>3.000000</td>\n",
              "      <td>4.000000</td>\n",
              "      <td>3.000000</td>\n",
              "      <td>3.000000</td>\n",
              "      <td>0.000000</td>\n",
              "      <td>3.000000</td>\n",
              "      <td>1.000000</td>\n",
              "      <td>1.000000</td>\n",
              "      <td>22347.000000</td>\n",
              "    </tr>\n",
              "    <tr>\n",
              "      <th>75%</th>\n",
              "      <td>203665.250000</td>\n",
              "      <td>0.000000</td>\n",
              "      <td>44.000000</td>\n",
              "      <td>3.000000</td>\n",
              "      <td>20.000000</td>\n",
              "      <td>3.000000</td>\n",
              "      <td>4.000000</td>\n",
              "      <td>4.000000</td>\n",
              "      <td>4.000000</td>\n",
              "      <td>1.000000</td>\n",
              "      <td>4.000000</td>\n",
              "      <td>1.000000</td>\n",
              "      <td>2.000000</td>\n",
              "      <td>25571.000000</td>\n",
              "    </tr>\n",
              "    <tr>\n",
              "      <th>max</th>\n",
              "      <td>204887.000000</td>\n",
              "      <td>1.000000</td>\n",
              "      <td>61.000000</td>\n",
              "      <td>3.000000</td>\n",
              "      <td>127.000000</td>\n",
              "      <td>5.000000</td>\n",
              "      <td>6.000000</td>\n",
              "      <td>5.000000</td>\n",
              "      <td>22.000000</td>\n",
              "      <td>1.000000</td>\n",
              "      <td>5.000000</td>\n",
              "      <td>1.000000</td>\n",
              "      <td>3.000000</td>\n",
              "      <td>98678.000000</td>\n",
              "    </tr>\n",
              "  </tbody>\n",
              "</table>\n",
              "</div>\n",
              "    <div class=\"colab-df-buttons\">\n",
              "\n",
              "  <div class=\"colab-df-container\">\n",
              "    <button class=\"colab-df-convert\" onclick=\"convertToInteractive('df-0b4810d1-f8c4-4328-9e49-704ec726b469')\"\n",
              "            title=\"Convert this dataframe to an interactive table.\"\n",
              "            style=\"display:none;\">\n",
              "\n",
              "  <svg xmlns=\"http://www.w3.org/2000/svg\" height=\"24px\" viewBox=\"0 -960 960 960\">\n",
              "    <path d=\"M120-120v-720h720v720H120Zm60-500h600v-160H180v160Zm220 220h160v-160H400v160Zm0 220h160v-160H400v160ZM180-400h160v-160H180v160Zm440 0h160v-160H620v160ZM180-180h160v-160H180v160Zm440 0h160v-160H620v160Z\"/>\n",
              "  </svg>\n",
              "    </button>\n",
              "\n",
              "  <style>\n",
              "    .colab-df-container {\n",
              "      display:flex;\n",
              "      gap: 12px;\n",
              "    }\n",
              "\n",
              "    .colab-df-convert {\n",
              "      background-color: #E8F0FE;\n",
              "      border: none;\n",
              "      border-radius: 50%;\n",
              "      cursor: pointer;\n",
              "      display: none;\n",
              "      fill: #1967D2;\n",
              "      height: 32px;\n",
              "      padding: 0 0 0 0;\n",
              "      width: 32px;\n",
              "    }\n",
              "\n",
              "    .colab-df-convert:hover {\n",
              "      background-color: #E2EBFA;\n",
              "      box-shadow: 0px 1px 2px rgba(60, 64, 67, 0.3), 0px 1px 3px 1px rgba(60, 64, 67, 0.15);\n",
              "      fill: #174EA6;\n",
              "    }\n",
              "\n",
              "    .colab-df-buttons div {\n",
              "      margin-bottom: 4px;\n",
              "    }\n",
              "\n",
              "    [theme=dark] .colab-df-convert {\n",
              "      background-color: #3B4455;\n",
              "      fill: #D2E3FC;\n",
              "    }\n",
              "\n",
              "    [theme=dark] .colab-df-convert:hover {\n",
              "      background-color: #434B5C;\n",
              "      box-shadow: 0px 1px 3px 1px rgba(0, 0, 0, 0.15);\n",
              "      filter: drop-shadow(0px 1px 2px rgba(0, 0, 0, 0.3));\n",
              "      fill: #FFFFFF;\n",
              "    }\n",
              "  </style>\n",
              "\n",
              "    <script>\n",
              "      const buttonEl =\n",
              "        document.querySelector('#df-0b4810d1-f8c4-4328-9e49-704ec726b469 button.colab-df-convert');\n",
              "      buttonEl.style.display =\n",
              "        google.colab.kernel.accessAllowed ? 'block' : 'none';\n",
              "\n",
              "      async function convertToInteractive(key) {\n",
              "        const element = document.querySelector('#df-0b4810d1-f8c4-4328-9e49-704ec726b469');\n",
              "        const dataTable =\n",
              "          await google.colab.kernel.invokeFunction('convertToInteractive',\n",
              "                                                    [key], {});\n",
              "        if (!dataTable) return;\n",
              "\n",
              "        const docLinkHtml = 'Like what you see? Visit the ' +\n",
              "          '<a target=\"_blank\" href=https://colab.research.google.com/notebooks/data_table.ipynb>data table notebook</a>'\n",
              "          + ' to learn more about interactive tables.';\n",
              "        element.innerHTML = '';\n",
              "        dataTable['output_type'] = 'display_data';\n",
              "        await google.colab.output.renderOutput(dataTable, element);\n",
              "        const docLink = document.createElement('div');\n",
              "        docLink.innerHTML = docLinkHtml;\n",
              "        element.appendChild(docLink);\n",
              "      }\n",
              "    </script>\n",
              "  </div>\n",
              "\n",
              "\n",
              "<div id=\"df-83e7cf5d-3a5e-4387-8b2a-8bffab2580c4\">\n",
              "  <button class=\"colab-df-quickchart\" onclick=\"quickchart('df-83e7cf5d-3a5e-4387-8b2a-8bffab2580c4')\"\n",
              "            title=\"Suggest charts\"\n",
              "            style=\"display:none;\">\n",
              "\n",
              "<svg xmlns=\"http://www.w3.org/2000/svg\" height=\"24px\"viewBox=\"0 0 24 24\"\n",
              "     width=\"24px\">\n",
              "    <g>\n",
              "        <path d=\"M19 3H5c-1.1 0-2 .9-2 2v14c0 1.1.9 2 2 2h14c1.1 0 2-.9 2-2V5c0-1.1-.9-2-2-2zM9 17H7v-7h2v7zm4 0h-2V7h2v10zm4 0h-2v-4h2v4z\"/>\n",
              "    </g>\n",
              "</svg>\n",
              "  </button>\n",
              "\n",
              "<style>\n",
              "  .colab-df-quickchart {\n",
              "      --bg-color: #E8F0FE;\n",
              "      --fill-color: #1967D2;\n",
              "      --hover-bg-color: #E2EBFA;\n",
              "      --hover-fill-color: #174EA6;\n",
              "      --disabled-fill-color: #AAA;\n",
              "      --disabled-bg-color: #DDD;\n",
              "  }\n",
              "\n",
              "  [theme=dark] .colab-df-quickchart {\n",
              "      --bg-color: #3B4455;\n",
              "      --fill-color: #D2E3FC;\n",
              "      --hover-bg-color: #434B5C;\n",
              "      --hover-fill-color: #FFFFFF;\n",
              "      --disabled-bg-color: #3B4455;\n",
              "      --disabled-fill-color: #666;\n",
              "  }\n",
              "\n",
              "  .colab-df-quickchart {\n",
              "    background-color: var(--bg-color);\n",
              "    border: none;\n",
              "    border-radius: 50%;\n",
              "    cursor: pointer;\n",
              "    display: none;\n",
              "    fill: var(--fill-color);\n",
              "    height: 32px;\n",
              "    padding: 0;\n",
              "    width: 32px;\n",
              "  }\n",
              "\n",
              "  .colab-df-quickchart:hover {\n",
              "    background-color: var(--hover-bg-color);\n",
              "    box-shadow: 0 1px 2px rgba(60, 64, 67, 0.3), 0 1px 3px 1px rgba(60, 64, 67, 0.15);\n",
              "    fill: var(--button-hover-fill-color);\n",
              "  }\n",
              "\n",
              "  .colab-df-quickchart-complete:disabled,\n",
              "  .colab-df-quickchart-complete:disabled:hover {\n",
              "    background-color: var(--disabled-bg-color);\n",
              "    fill: var(--disabled-fill-color);\n",
              "    box-shadow: none;\n",
              "  }\n",
              "\n",
              "  .colab-df-spinner {\n",
              "    border: 2px solid var(--fill-color);\n",
              "    border-color: transparent;\n",
              "    border-bottom-color: var(--fill-color);\n",
              "    animation:\n",
              "      spin 1s steps(1) infinite;\n",
              "  }\n",
              "\n",
              "  @keyframes spin {\n",
              "    0% {\n",
              "      border-color: transparent;\n",
              "      border-bottom-color: var(--fill-color);\n",
              "      border-left-color: var(--fill-color);\n",
              "    }\n",
              "    20% {\n",
              "      border-color: transparent;\n",
              "      border-left-color: var(--fill-color);\n",
              "      border-top-color: var(--fill-color);\n",
              "    }\n",
              "    30% {\n",
              "      border-color: transparent;\n",
              "      border-left-color: var(--fill-color);\n",
              "      border-top-color: var(--fill-color);\n",
              "      border-right-color: var(--fill-color);\n",
              "    }\n",
              "    40% {\n",
              "      border-color: transparent;\n",
              "      border-right-color: var(--fill-color);\n",
              "      border-top-color: var(--fill-color);\n",
              "    }\n",
              "    60% {\n",
              "      border-color: transparent;\n",
              "      border-right-color: var(--fill-color);\n",
              "    }\n",
              "    80% {\n",
              "      border-color: transparent;\n",
              "      border-right-color: var(--fill-color);\n",
              "      border-bottom-color: var(--fill-color);\n",
              "    }\n",
              "    90% {\n",
              "      border-color: transparent;\n",
              "      border-bottom-color: var(--fill-color);\n",
              "    }\n",
              "  }\n",
              "</style>\n",
              "\n",
              "  <script>\n",
              "    async function quickchart(key) {\n",
              "      const quickchartButtonEl =\n",
              "        document.querySelector('#' + key + ' button');\n",
              "      quickchartButtonEl.disabled = true;  // To prevent multiple clicks.\n",
              "      quickchartButtonEl.classList.add('colab-df-spinner');\n",
              "      try {\n",
              "        const charts = await google.colab.kernel.invokeFunction(\n",
              "            'suggestCharts', [key], {});\n",
              "      } catch (error) {\n",
              "        console.error('Error during call to suggestCharts:', error);\n",
              "      }\n",
              "      quickchartButtonEl.classList.remove('colab-df-spinner');\n",
              "      quickchartButtonEl.classList.add('colab-df-quickchart-complete');\n",
              "    }\n",
              "    (() => {\n",
              "      let quickchartButtonEl =\n",
              "        document.querySelector('#df-83e7cf5d-3a5e-4387-8b2a-8bffab2580c4 button');\n",
              "      quickchartButtonEl.style.display =\n",
              "        google.colab.kernel.accessAllowed ? 'block' : 'none';\n",
              "    })();\n",
              "  </script>\n",
              "</div>\n",
              "\n",
              "    </div>\n",
              "  </div>\n"
            ]
          },
          "metadata": {},
          "execution_count": 48
        }
      ]
    },
    {
      "cell_type": "code",
      "source": [
        "data.info()"
      ],
      "metadata": {
        "colab": {
          "base_uri": "https://localhost:8080/"
        },
        "id": "SWpgg0gr8V79",
        "outputId": "963964d1-3ce4-4ad7-fe91-dba57d4ea606"
      },
      "execution_count": null,
      "outputs": [
        {
          "output_type": "stream",
          "name": "stdout",
          "text": [
            "<class 'pandas.core.frame.DataFrame'>\n",
            "RangeIndex: 4888 entries, 0 to 4887\n",
            "Data columns (total 20 columns):\n",
            " #   Column                    Non-Null Count  Dtype  \n",
            "---  ------                    --------------  -----  \n",
            " 0   CustomerID                4888 non-null   int64  \n",
            " 1   ProdTaken                 4888 non-null   int64  \n",
            " 2   Age                       4662 non-null   float64\n",
            " 3   TypeofContact             4863 non-null   object \n",
            " 4   CityTier                  4888 non-null   int64  \n",
            " 5   DurationOfPitch           4637 non-null   float64\n",
            " 6   Occupation                4888 non-null   object \n",
            " 7   Gender                    4888 non-null   object \n",
            " 8   NumberOfPersonVisiting    4888 non-null   int64  \n",
            " 9   NumberOfFollowups         4843 non-null   float64\n",
            " 10  ProductPitched            4888 non-null   object \n",
            " 11  PreferredPropertyStar     4862 non-null   float64\n",
            " 12  MaritalStatus             4888 non-null   object \n",
            " 13  NumberOfTrips             4748 non-null   float64\n",
            " 14  Passport                  4888 non-null   int64  \n",
            " 15  PitchSatisfactionScore    4888 non-null   int64  \n",
            " 16  OwnCar                    4888 non-null   int64  \n",
            " 17  NumberOfChildrenVisiting  4822 non-null   float64\n",
            " 18  Designation               4888 non-null   object \n",
            " 19  MonthlyIncome             4655 non-null   float64\n",
            "dtypes: float64(7), int64(7), object(6)\n",
            "memory usage: 763.9+ KB\n"
          ]
        }
      ]
    },
    {
      "cell_type": "code",
      "source": [
        "data[data.duplicated()].count()"
      ],
      "metadata": {
        "id": "D042VlXH8jsk",
        "colab": {
          "base_uri": "https://localhost:8080/"
        },
        "outputId": "fa6edfd7-ace4-4107-fe34-f4639c4a2529"
      },
      "execution_count": null,
      "outputs": [
        {
          "output_type": "execute_result",
          "data": {
            "text/plain": [
              "CustomerID                  0\n",
              "ProdTaken                   0\n",
              "Age                         0\n",
              "TypeofContact               0\n",
              "CityTier                    0\n",
              "DurationOfPitch             0\n",
              "Occupation                  0\n",
              "Gender                      0\n",
              "NumberOfPersonVisiting      0\n",
              "NumberOfFollowups           0\n",
              "ProductPitched              0\n",
              "PreferredPropertyStar       0\n",
              "MaritalStatus               0\n",
              "NumberOfTrips               0\n",
              "Passport                    0\n",
              "PitchSatisfactionScore      0\n",
              "OwnCar                      0\n",
              "NumberOfChildrenVisiting    0\n",
              "Designation                 0\n",
              "MonthlyIncome               0\n",
              "dtype: int64"
            ]
          },
          "metadata": {},
          "execution_count": 50
        }
      ]
    },
    {
      "cell_type": "code",
      "source": [
        "data.drop([\"CustomerID\"],axis=1,inplace=True)"
      ],
      "metadata": {
        "id": "Q7Ud8EjumaEJ"
      },
      "execution_count": null,
      "outputs": []
    },
    {
      "cell_type": "code",
      "source": [
        "cat_cols=['ProdTaken','TypeofContact','CityTier','Occupation','Gender','NumberOfPersonVisiting','NumberOfFollowups','ProductPitched','PreferredPropertyStar','MaritalStatus','NumberOfTrips','Passport','PitchSatisfactionScore','OwnCar','NumberOfChildrenVisiting','Designation']\n",
        "\n",
        "for column in cat_cols:\n",
        "    print(data[column].value_counts())\n",
        "    print('-'*30)"
      ],
      "metadata": {
        "colab": {
          "base_uri": "https://localhost:8080/"
        },
        "id": "y2RAThKEpAc6",
        "outputId": "4d5b41b1-f30f-428c-fd85-46ccf53dafc6"
      },
      "execution_count": null,
      "outputs": [
        {
          "output_type": "stream",
          "name": "stdout",
          "text": [
            "0    3968\n",
            "1     920\n",
            "Name: ProdTaken, dtype: int64\n",
            "------------------------------\n",
            "Self Enquiry       3444\n",
            "Company Invited    1419\n",
            "Name: TypeofContact, dtype: int64\n",
            "------------------------------\n",
            "1    3190\n",
            "3    1500\n",
            "2     198\n",
            "Name: CityTier, dtype: int64\n",
            "------------------------------\n",
            "Salaried          2368\n",
            "Small Business    2084\n",
            "Large Business     434\n",
            "Free Lancer          2\n",
            "Name: Occupation, dtype: int64\n",
            "------------------------------\n",
            "Male       2916\n",
            "Female     1817\n",
            "Fe Male     155\n",
            "Name: Gender, dtype: int64\n",
            "------------------------------\n",
            "3    2402\n",
            "2    1418\n",
            "4    1026\n",
            "1      39\n",
            "5       3\n",
            "Name: NumberOfPersonVisiting, dtype: int64\n",
            "------------------------------\n",
            "4.0    2068\n",
            "3.0    1466\n",
            "5.0     768\n",
            "2.0     229\n",
            "1.0     176\n",
            "6.0     136\n",
            "Name: NumberOfFollowups, dtype: int64\n",
            "------------------------------\n",
            "Basic           1842\n",
            "Deluxe          1732\n",
            "Standard         742\n",
            "Super Deluxe     342\n",
            "King             230\n",
            "Name: ProductPitched, dtype: int64\n",
            "------------------------------\n",
            "3.0    2993\n",
            "5.0     956\n",
            "4.0     913\n",
            "Name: PreferredPropertyStar, dtype: int64\n",
            "------------------------------\n",
            "Married      2340\n",
            "Divorced      950\n",
            "Single        916\n",
            "Unmarried     682\n",
            "Name: MaritalStatus, dtype: int64\n",
            "------------------------------\n",
            "2.0     1464\n",
            "3.0     1079\n",
            "1.0      620\n",
            "4.0      478\n",
            "5.0      458\n",
            "6.0      322\n",
            "7.0      218\n",
            "8.0      105\n",
            "19.0       1\n",
            "21.0       1\n",
            "20.0       1\n",
            "22.0       1\n",
            "Name: NumberOfTrips, dtype: int64\n",
            "------------------------------\n",
            "0    3466\n",
            "1    1422\n",
            "Name: Passport, dtype: int64\n",
            "------------------------------\n",
            "3    1478\n",
            "5     970\n",
            "1     942\n",
            "4     912\n",
            "2     586\n",
            "Name: PitchSatisfactionScore, dtype: int64\n",
            "------------------------------\n",
            "1    3032\n",
            "0    1856\n",
            "Name: OwnCar, dtype: int64\n",
            "------------------------------\n",
            "1.0    2080\n",
            "2.0    1335\n",
            "0.0    1082\n",
            "3.0     325\n",
            "Name: NumberOfChildrenVisiting, dtype: int64\n",
            "------------------------------\n",
            "Executive         1842\n",
            "Manager           1732\n",
            "Senior Manager     742\n",
            "AVP                342\n",
            "VP                 230\n",
            "Name: Designation, dtype: int64\n",
            "------------------------------\n"
          ]
        }
      ]
    },
    {
      "cell_type": "code",
      "source": [
        "data[\"Gender\"] = data[\"Gender\"].str.replace(\"Fe Male\",\"Female\")\n",
        "print(data[\"Gender\"].value_counts())"
      ],
      "metadata": {
        "id": "VjtLfdHO8jqT",
        "colab": {
          "base_uri": "https://localhost:8080/"
        },
        "outputId": "f0d8e694-a35e-4ece-b3d6-a13e5a5f53dd"
      },
      "execution_count": null,
      "outputs": [
        {
          "output_type": "stream",
          "name": "stdout",
          "text": [
            "Male      2916\n",
            "Female    1972\n",
            "Name: Gender, dtype: int64\n"
          ]
        }
      ]
    },
    {
      "cell_type": "code",
      "source": [
        "data[\"MaritalStatus\"] = data[\"MaritalStatus\"].str.replace(\"Unmarried\",\"Single\")\n",
        "print(data[\"MaritalStatus\"].value_counts())"
      ],
      "metadata": {
        "id": "34GgBXo38jn6",
        "colab": {
          "base_uri": "https://localhost:8080/"
        },
        "outputId": "cdc6d1b8-f4e2-4181-a8d6-1bcf414403ad"
      },
      "execution_count": null,
      "outputs": [
        {
          "output_type": "stream",
          "name": "stdout",
          "text": [
            "Married     2340\n",
            "Single      1598\n",
            "Divorced     950\n",
            "Name: MaritalStatus, dtype: int64\n"
          ]
        }
      ]
    },
    {
      "cell_type": "code",
      "source": [
        "data.info()"
      ],
      "metadata": {
        "id": "1cOECkmA8jlW",
        "colab": {
          "base_uri": "https://localhost:8080/"
        },
        "outputId": "c033bd46-afed-4254-a8e1-4dd5607cfba6"
      },
      "execution_count": null,
      "outputs": [
        {
          "output_type": "stream",
          "name": "stdout",
          "text": [
            "<class 'pandas.core.frame.DataFrame'>\n",
            "RangeIndex: 4888 entries, 0 to 4887\n",
            "Data columns (total 19 columns):\n",
            " #   Column                    Non-Null Count  Dtype  \n",
            "---  ------                    --------------  -----  \n",
            " 0   ProdTaken                 4888 non-null   int64  \n",
            " 1   Age                       4662 non-null   float64\n",
            " 2   TypeofContact             4863 non-null   object \n",
            " 3   CityTier                  4888 non-null   int64  \n",
            " 4   DurationOfPitch           4637 non-null   float64\n",
            " 5   Occupation                4888 non-null   object \n",
            " 6   Gender                    4888 non-null   object \n",
            " 7   NumberOfPersonVisiting    4888 non-null   int64  \n",
            " 8   NumberOfFollowups         4843 non-null   float64\n",
            " 9   ProductPitched            4888 non-null   object \n",
            " 10  PreferredPropertyStar     4862 non-null   float64\n",
            " 11  MaritalStatus             4888 non-null   object \n",
            " 12  NumberOfTrips             4748 non-null   float64\n",
            " 13  Passport                  4888 non-null   int64  \n",
            " 14  PitchSatisfactionScore    4888 non-null   int64  \n",
            " 15  OwnCar                    4888 non-null   int64  \n",
            " 16  NumberOfChildrenVisiting  4822 non-null   float64\n",
            " 17  Designation               4888 non-null   object \n",
            " 18  MonthlyIncome             4655 non-null   float64\n",
            "dtypes: float64(7), int64(6), object(6)\n",
            "memory usage: 725.7+ KB\n"
          ]
        }
      ]
    },
    {
      "cell_type": "code",
      "source": [
        "data[\"ProdTaken\"] = data[\"ProdTaken\"].astype(\"category\")\n",
        "data[\"TypeofContact\"] = data[\"TypeofContact\"].astype(\"category\")\n",
        "data[\"Occupation\"] = data[\"Occupation\"].astype(\"category\")\n",
        "data[\"Gender\"] = data[\"Gender\"].astype(\"category\")\n",
        "data[\"ProductPitched\"] = data[\"ProductPitched\"].astype(\"category\")\n",
        "data[\"MaritalStatus\"] = data[\"MaritalStatus\"].astype(\"category\")\n",
        "data[\"Passport\"] = data[\"Passport\"].astype(\"category\")\n",
        "data[\"OwnCar\"] = data[\"OwnCar\"].astype(\"category\")\n",
        "data[\"Designation\"] = data[\"Designation\"].astype(\"category\")"
      ],
      "metadata": {
        "id": "iYs0Z34pmNGy"
      },
      "execution_count": null,
      "outputs": []
    },
    {
      "cell_type": "code",
      "source": [
        "data.isnull().sum().sort_values(ascending=False)"
      ],
      "metadata": {
        "colab": {
          "base_uri": "https://localhost:8080/"
        },
        "id": "VUgOjK77mgse",
        "outputId": "ccb31b26-d5d1-45bf-f240-34e35b81a8ae"
      },
      "execution_count": null,
      "outputs": [
        {
          "output_type": "execute_result",
          "data": {
            "text/plain": [
              "DurationOfPitch             251\n",
              "MonthlyIncome               233\n",
              "Age                         226\n",
              "NumberOfTrips               140\n",
              "NumberOfChildrenVisiting     66\n",
              "NumberOfFollowups            45\n",
              "PreferredPropertyStar        26\n",
              "TypeofContact                25\n",
              "Designation                   0\n",
              "OwnCar                        0\n",
              "PitchSatisfactionScore        0\n",
              "Passport                      0\n",
              "ProdTaken                     0\n",
              "MaritalStatus                 0\n",
              "NumberOfPersonVisiting        0\n",
              "Gender                        0\n",
              "Occupation                    0\n",
              "CityTier                      0\n",
              "ProductPitched                0\n",
              "dtype: int64"
            ]
          },
          "metadata": {},
          "execution_count": 57
        }
      ]
    },
    {
      "cell_type": "code",
      "source": [
        "medianFiller = lambda x: x.fillna(x.median())\n",
        "NaNcolumns = ['DurationOfPitch','MonthlyIncome','Age','NumberOfTrips','NumberOfChildrenVisiting','NumberOfFollowups','PreferredPropertyStar']\n",
        "print (NaNcolumns)"
      ],
      "metadata": {
        "colab": {
          "base_uri": "https://localhost:8080/"
        },
        "id": "gm1zqQLVm7rV",
        "outputId": "c03839a9-0779-4b1a-8c4c-87a2451e0a22"
      },
      "execution_count": null,
      "outputs": [
        {
          "output_type": "stream",
          "name": "stdout",
          "text": [
            "['DurationOfPitch', 'MonthlyIncome', 'Age', 'NumberOfTrips', 'NumberOfChildrenVisiting', 'NumberOfFollowups', 'PreferredPropertyStar']\n"
          ]
        }
      ]
    },
    {
      "cell_type": "code",
      "source": [
        "data[NaNcolumns] = data[NaNcolumns].apply(medianFiller,axis=0)"
      ],
      "metadata": {
        "id": "4rngcikgnBJ2"
      },
      "execution_count": null,
      "outputs": []
    },
    {
      "cell_type": "code",
      "source": [
        "data.isnull().sum().sort_values(ascending=False)"
      ],
      "metadata": {
        "colab": {
          "base_uri": "https://localhost:8080/"
        },
        "id": "f2W2VuconEwH",
        "outputId": "7f55dd3a-a594-4eb7-b418-ca0deef12cfb"
      },
      "execution_count": null,
      "outputs": [
        {
          "output_type": "execute_result",
          "data": {
            "text/plain": [
              "TypeofContact               25\n",
              "ProdTaken                    0\n",
              "PreferredPropertyStar        0\n",
              "Designation                  0\n",
              "NumberOfChildrenVisiting     0\n",
              "OwnCar                       0\n",
              "PitchSatisfactionScore       0\n",
              "Passport                     0\n",
              "NumberOfTrips                0\n",
              "MaritalStatus                0\n",
              "ProductPitched               0\n",
              "Age                          0\n",
              "NumberOfFollowups            0\n",
              "NumberOfPersonVisiting       0\n",
              "Gender                       0\n",
              "Occupation                   0\n",
              "DurationOfPitch              0\n",
              "CityTier                     0\n",
              "MonthlyIncome                0\n",
              "dtype: int64"
            ]
          },
          "metadata": {},
          "execution_count": 60
        }
      ]
    },
    {
      "cell_type": "code",
      "source": [
        "data= data.dropna()"
      ],
      "metadata": {
        "id": "hnBTOi1rmgm7"
      },
      "execution_count": null,
      "outputs": []
    },
    {
      "cell_type": "code",
      "source": [
        "data.isnull().values.any()"
      ],
      "metadata": {
        "colab": {
          "base_uri": "https://localhost:8080/"
        },
        "id": "LToqwDJQmgo9",
        "outputId": "df9ed429-6dde-4a8e-8fa2-0520bbed3f77"
      },
      "execution_count": null,
      "outputs": [
        {
          "output_type": "execute_result",
          "data": {
            "text/plain": [
              "False"
            ]
          },
          "metadata": {},
          "execution_count": 62
        }
      ]
    },
    {
      "cell_type": "code",
      "source": [
        "def histogram_boxplot(feature, figsize=(7,5), bins = None):\n",
        "    f2, (ax_box2, ax_hist2) = plt.subplots(nrows = 2,\n",
        "                                           sharex = True,\n",
        "                                           gridspec_kw = {\"height_ratios\": (.25, .75)},\n",
        "                                           figsize = figsize\n",
        "                                           )\n",
        "    sns.boxplot(x=feature, ax=ax_box2, showmeans=True, color='violet')\n",
        "    sns.histplot(x=feature, kde=F, ax=ax_hist2, bins=bins,palette=\"winter\") if bins else sns.histplot(x=feature, kde=False, ax=ax_hist2)\n",
        "    ax_hist2.axvline(np.mean(feature), color='green', linestyle='--')\n",
        "    ax_hist2.axvline(np.median(feature), color='black', linestyle='-')"
      ],
      "metadata": {
        "id": "BcgEMtrhoGW5"
      },
      "execution_count": null,
      "outputs": []
    },
    {
      "cell_type": "code",
      "source": [
        "def perc_on_bar(plot, feature):\n",
        "    total = len(feature)\n",
        "    for p in ax.patches:\n",
        "        percentage = '{:.1f}%'.format(100 * p.get_height()/total)\n",
        "        x = p.get_x() + p.get_width() / 2 - 0.05\n",
        "        y = p.get_y() + p.get_height()\n",
        "        ax.annotate(percentage, (x, y), size = 12)\n",
        "    plt.show()"
      ],
      "metadata": {
        "id": "rFJ-27Zenyp5"
      },
      "execution_count": null,
      "outputs": []
    },
    {
      "cell_type": "code",
      "source": [
        "histogram_boxplot(data[\"Age\"])"
      ],
      "metadata": {
        "colab": {
          "base_uri": "https://localhost:8080/",
          "height": 465
        },
        "id": "sB_gVIVWoihC",
        "outputId": "4955861e-f998-46b9-b30d-7e7910e7437c"
      },
      "execution_count": null,
      "outputs": [
        {
          "output_type": "display_data",
          "data": {
            "text/plain": [
              "<Figure size 700x500 with 2 Axes>"
            ],
            "image/png": "[encoded data removed]"
          },
          "metadata": {}
        }
      ]
    },
    {
      "cell_type": "code",
      "source": [
        "histogram_boxplot(data[\"NumberOfPersonVisiting\"])"
      ],
      "metadata": {
        "colab": {
          "base_uri": "https://localhost:8080/",
          "height": 465
        },
        "id": "7qt3ZeyHorgP",
        "outputId": "ffe35033-4e79-400d-ad6b-c30b08047d87"
      },
      "execution_count": null,
      "outputs": [
        {
          "output_type": "display_data",
          "data": {
            "text/plain": [
              "<Figure size 700x500 with 2 Axes>"
            ],
            "image/png": "[encoded data removed]"
          },
          "metadata": {}
        }
      ]
    },
    {
      "cell_type": "code",
      "source": [
        "data = pd.DataFrame(data)\n",
        "plt.figure(figsize=(10, 5))\n",
        "ax = sns.countplot(x=\"TypeofContact\", data=data, order=data[\"TypeofContact\"].value_counts().index)\n",
        "plt.xlabel('TypeofContact')\n",
        "plt.ylabel('Count')\n",
        "\n",
        "plt.show()\n"
      ],
      "metadata": {
        "colab": {
          "base_uri": "https://localhost:8080/",
          "height": 366
        },
        "id": "fCRqT4ajmgkr",
        "outputId": "8d226446-1c6c-4f62-ca09-9009b12160f9"
      },
      "execution_count": null,
      "outputs": [
        {
          "output_type": "display_data",
          "data": {
            "text/plain": [
              "<Figure size 1000x500 with 1 Axes>"
            ],
            "image/png": "[encoded data removed]"
          },
          "metadata": {}
        }
      ]
    },
    {
      "cell_type": "code",
      "source": [
        "data = pd.DataFrame(data)\n",
        "plt.figure(figsize=(10, 5))\n",
        "ax = sns.countplot(x=\"ProdTaken\", data=data, order=data[\"ProdTaken\"].value_counts().index)\n",
        "plt.xlabel('ProdTaken')\n",
        "plt.ylabel('Count')\n",
        "\n",
        "plt.show()\n"
      ],
      "metadata": {
        "colab": {
          "base_uri": "https://localhost:8080/",
          "height": 366
        },
        "id": "U7cd5Oicmgic",
        "outputId": "1f41db51-8d8f-4366-e23c-c5bc8dfab2a1"
      },
      "execution_count": null,
      "outputs": [
        {
          "output_type": "display_data",
          "data": {
            "text/plain": [
              "<Figure size 1000x500 with 1 Axes>"
            ],
            "image/png": "[encoded data removed]"
          },
          "metadata": {}
        }
      ]
    },
    {
      "cell_type": "code",
      "source": [
        "data = pd.DataFrame(data)\n",
        "plt.figure(figsize=(10, 5))\n",
        "ax = sns.countplot(x=\"Occupation\", data=data, order=data[\"Occupation\"].value_counts().index)\n",
        "plt.xlabel('Occupation')\n",
        "plt.ylabel('Count')\n",
        "\n",
        "plt.show()\n"
      ],
      "metadata": {
        "colab": {
          "base_uri": "https://localhost:8080/",
          "height": 366
        },
        "id": "2jVvz5tcmgf6",
        "outputId": "3758fb8f-ddc6-4836-e5ea-5dbc6863ff27"
      },
      "execution_count": null,
      "outputs": [
        {
          "output_type": "display_data",
          "data": {
            "text/plain": [
              "<Figure size 1000x500 with 1 Axes>"
            ],
            "image/png": "[encoded data removed]"
          },
          "metadata": {}
        }
      ]
    },
    {
      "cell_type": "code",
      "source": [
        "data = pd.DataFrame(data)\n",
        "plt.figure(figsize=(10, 5))\n",
        "ax = sns.countplot(x=\"Designation\", data=data, order=data[\"Designation\"].value_counts().index)\n",
        "plt.xlabel('Designation')\n",
        "plt.ylabel('Count')\n",
        "\n",
        "plt.show()\n"
      ],
      "metadata": {
        "colab": {
          "base_uri": "https://localhost:8080/",
          "height": 366
        },
        "id": "eqjdnTPVmgdm",
        "outputId": "cbb1cd1e-e100-4cf4-a0ac-0eb5f5b9499c"
      },
      "execution_count": null,
      "outputs": [
        {
          "output_type": "display_data",
          "data": {
            "text/plain": [
              "<Figure size 1000x500 with 1 Axes>"
            ],
            "image/png": "[encoded data removed]"
          },
          "metadata": {}
        }
      ]
    },
    {
      "cell_type": "code",
      "source": [
        "plt.figure(figsize=(12,8))\n",
        "sns.heatmap(data.corr(),annot=True,fmt='.2f',cmap='rainbow', )\n",
        "plt.show()"
      ],
      "metadata": {
        "colab": {
          "base_uri": "https://localhost:8080/",
          "height": 595
        },
        "id": "144RdCFfmgbQ",
        "outputId": "4c1d3741-55a0-407b-f9e4-8c58ac419f1d"
      },
      "execution_count": null,
      "outputs": [
        {
          "output_type": "stream",
          "name": "stderr",
          "text": [
            "<ipython-input-79-fe10f9d12d8d>:2: FutureWarning: The default value of numeric_only in DataFrame.corr is deprecated. In a future version, it will default to False. Select only valid columns or specify the value of numeric_only to silence this warning.\n",
            "  sns.heatmap(data.corr(),annot=True,fmt='.2f',cmap='rainbow', )\n"
          ]
        },
        {
          "output_type": "display_data",
          "data": {
            "text/plain": [
              "<Figure size 1200x800 with 2 Axes>"
            ],
            "image/png": "[encoded data removed]"
          },
          "metadata": {}
        }
      ]
    },
    {
      "cell_type": "code",
      "source": [
        "data[data.duplicated()].count()"
      ],
      "metadata": {
        "colab": {
          "base_uri": "https://localhost:8080/"
        },
        "id": "Y9FPsMmxmgY1",
        "outputId": "ebf7cd12-aa5f-40eb-f2b1-bb0f808440e8"
      },
      "execution_count": null,
      "outputs": [
        {
          "output_type": "execute_result",
          "data": {
            "text/plain": [
              "ProdTaken                   141\n",
              "Age                         141\n",
              "TypeofContact               141\n",
              "CityTier                    141\n",
              "DurationOfPitch             141\n",
              "Occupation                  141\n",
              "Gender                      141\n",
              "NumberOfPersonVisiting      141\n",
              "NumberOfFollowups           141\n",
              "ProductPitched              141\n",
              "PreferredPropertyStar       141\n",
              "MaritalStatus               141\n",
              "NumberOfTrips               141\n",
              "Passport                    141\n",
              "PitchSatisfactionScore      141\n",
              "OwnCar                      141\n",
              "NumberOfChildrenVisiting    141\n",
              "Designation                 141\n",
              "MonthlyIncome               141\n",
              "dtype: int64"
            ]
          },
          "metadata": {},
          "execution_count": 80
        }
      ]
    },
    {
      "cell_type": "code",
      "source": [
        "data.drop_duplicates(inplace=True)"
      ],
      "metadata": {
        "id": "P5v5Hjejr3EN"
      },
      "execution_count": null,
      "outputs": []
    },
    {
      "cell_type": "code",
      "source": [
        "data[data.duplicated()].count()"
      ],
      "metadata": {
        "colab": {
          "base_uri": "https://localhost:8080/"
        },
        "id": "f0--BscBr3BU",
        "outputId": "c2c505c8-4b8e-48dd-b19f-07ef4bddf3e1"
      },
      "execution_count": null,
      "outputs": [
        {
          "output_type": "execute_result",
          "data": {
            "text/plain": [
              "ProdTaken                   0\n",
              "Age                         0\n",
              "TypeofContact               0\n",
              "CityTier                    0\n",
              "DurationOfPitch             0\n",
              "Occupation                  0\n",
              "Gender                      0\n",
              "NumberOfPersonVisiting      0\n",
              "NumberOfFollowups           0\n",
              "ProductPitched              0\n",
              "PreferredPropertyStar       0\n",
              "MaritalStatus               0\n",
              "NumberOfTrips               0\n",
              "Passport                    0\n",
              "PitchSatisfactionScore      0\n",
              "OwnCar                      0\n",
              "NumberOfChildrenVisiting    0\n",
              "Designation                 0\n",
              "MonthlyIncome               0\n",
              "dtype: int64"
            ]
          },
          "metadata": {},
          "execution_count": 82
        }
      ]
    },
    {
      "cell_type": "code",
      "source": [
        "Y = data[\"ProdTaken\"]\n",
        "X = data.drop(\"ProdTaken\" , axis=1)\n",
        "X = pd.get_dummies(X, drop_first=True)\n",
        "X_train, X_test, y_train, y_test = train_test_split( X, Y, test_size = 0.3, random_state = 42, stratify=Y)\n",
        "print(X_train.shape, X_test.shape, y_train.shape, y_test.shape)"
      ],
      "metadata": {
        "colab": {
          "base_uri": "https://localhost:8080/"
        },
        "id": "UPID-g3Rr2_J",
        "outputId": "3da0891e-489f-4d48-dca7-b77108eaff52"
      },
      "execution_count": null,
      "outputs": [
        {
          "output_type": "stream",
          "name": "stdout",
          "text": [
            "(3305, 27) (1417, 27) (3305,) (1417,)\n"
          ]
        }
      ]
    },
    {
      "cell_type": "code",
      "source": [
        "def make_confusion_matrix(model,y_actual,labels=[1, 0]):\n",
        "    y_predict = model.predict(X_test)\n",
        "    cm=metrics.confusion_matrix( y_actual, y_predict, labels=[0, 1])\n",
        "    df_cm = pd.DataFrame(cm, index = [i for i in [\"Actual - No\",\"Actual - Yes\"]],\n",
        "                  columns = [i for i in ['Predicted - No','Predicted - Yes']])\n",
        "    group_counts = [\"{0:0.0f}\".format(value) for value in\n",
        "                cm.flatten()]\n",
        "    group_percentages = [\"{0:.2%}\".format(value) for value in\n",
        "                         cm.flatten()/np.sum(cm)]\n",
        "    labels = [f\"{v1}\\n{v2}\" for v1, v2 in\n",
        "              zip(group_counts,group_percentages)]\n",
        "    labels = np.asarray(labels).reshape(2,2)\n",
        "    plt.figure(figsize = (10,7))\n",
        "    sns.heatmap(df_cm, annot=labels,fmt='')\n",
        "    plt.ylabel('True label')\n",
        "    plt.xlabel('Predicted label')\n",
        "    plt.show()"
      ],
      "metadata": {
        "id": "rdCsPc3Er28t"
      },
      "execution_count": null,
      "outputs": []
    },
    {
      "cell_type": "code",
      "source": [
        "def get_metrics_score(model,flag=True):\n",
        "\n",
        "    score_list=[]\n",
        "\n",
        "    pred_train = model.predict(X_train)\n",
        "    pred_test = model.predict(X_test)\n",
        "\n",
        "    train_acc = model.score(X_train,y_train)\n",
        "    test_acc = model.score(X_test,y_test)\n",
        "\n",
        "    train_recall = metrics.recall_score(y_train,pred_train)\n",
        "    test_recall = metrics.recall_score(y_test,pred_test)\n",
        "\n",
        "    train_precision = metrics.precision_score(y_train,pred_train)\n",
        "    test_precision = metrics.precision_score(y_test,pred_test)\n",
        "\n",
        "    train_f1 = f1_score(y_train,pred_train)\n",
        "    test_f1 = f1_score(y_test,pred_test)\n",
        "\n",
        "    score_list.extend((train_acc,test_acc,train_recall,test_recall,train_precision,test_precision, train_f1, test_f1))\n",
        "    if flag == True:\n",
        "        print(\"Accuracy on training set : \",model.score(X_train,y_train))\n",
        "        print(\"Accuracy on test set : \",model.score(X_test,y_test))\n",
        "        print(\"Recall on training set : \",metrics.recall_score(y_train,pred_train))\n",
        "        print(\"Recall on test set : \",metrics.recall_score(y_test,pred_test))\n",
        "        print(\"Precision on training set : \",metrics.precision_score(y_train,pred_train))\n",
        "        print(\"Precision on test set : \",metrics.precision_score(y_test,pred_test))\n",
        "        print(\"f1 score on training set : \",metrics.f1_score(y_train,pred_train))\n",
        "        print(\"f1 score on test set : \",metrics.f1_score(y_test,pred_test))\n",
        "\n",
        "\n",
        "    return score_list"
      ],
      "metadata": {
        "id": "G1f-9iZsvb0m"
      },
      "execution_count": null,
      "outputs": []
    },
    {
      "cell_type": "code",
      "source": [
        "dtree = DecisionTreeClassifier(class_weight={0:0.19,1:0.81},random_state=42)\n",
        "dtree.fit(X_train, y_train)"
      ],
      "metadata": {
        "colab": {
          "base_uri": "https://localhost:8080/",
          "height": 74
        },
        "id": "JkQ9xEs2r25_",
        "outputId": "080399ae-41b5-4a34-a858-a669b1e783b5"
      },
      "execution_count": null,
      "outputs": [
        {
          "output_type": "execute_result",
          "data": {
            "text/plain": [
              "DecisionTreeClassifier(class_weight={0: 0.19, 1: 0.81}, random_state=42)"
            ],
            "text/html": [
              "<style>#sk-container-id-1 {color: black;background-color: white;}#sk-container-id-1 pre{padding: 0;}#sk-container-id-1 div.sk-toggleable {background-color: white;}#sk-container-id-1 label.sk-toggleable__label {cursor: pointer;display: block;width: 100%;margin-bottom: 0;padding: 0.3em;box-sizing: border-box;text-align: center;}#sk-container-id-1 label.sk-toggleable__label-arrow:before {content: \"▸\";float: left;margin-right: 0.25em;color: #696969;}#sk-container-id-1 label.sk-toggleable__label-arrow:hover:before {color: black;}#sk-container-id-1 div.sk-estimator:hover label.sk-toggleable__label-arrow:before {color: black;}#sk-container-id-1 div.sk-toggleable__content {max-height: 0;max-width: 0;overflow: hidden;text-align: left;background-color: #f0f8ff;}#sk-container-id-1 div.sk-toggleable__content pre {margin: 0.2em;color: black;border-radius: 0.25em;background-color: #f0f8ff;}#sk-container-id-1 input.sk-toggleable__control:checked~div.sk-toggleable__content {max-height: 200px;max-width: 100%;overflow: auto;}#sk-container-id-1 input.sk-toggleable__control:checked~label.sk-toggleable__label-arrow:before {content: \"▾\";}#sk-container-id-1 div.sk-estimator input.sk-toggleable__control:checked~label.sk-toggleable__label {background-color: #d4ebff;}#sk-container-id-1 div.sk-label input.sk-toggleable__control:checked~label.sk-toggleable__label {background-color: #d4ebff;}#sk-container-id-1 input.sk-hidden--visually {border: 0;clip: rect(1px 1px 1px 1px);clip: rect(1px, 1px, 1px, 1px);height: 1px;margin: -1px;overflow: hidden;padding: 0;position: absolute;width: 1px;}#sk-container-id-1 div.sk-estimator {font-family: monospace;background-color: #f0f8ff;border: 1px dotted black;border-radius: 0.25em;box-sizing: border-box;margin-bottom: 0.5em;}#sk-container-id-1 div.sk-estimator:hover {background-color: #d4ebff;}#sk-container-id-1 div.sk-parallel-item::after {content: \"\";width: 100%;border-bottom: 1px solid gray;flex-grow: 1;}#sk-container-id-1 div.sk-label:hover label.sk-toggleable__label {background-color: #d4ebff;}#sk-container-id-1 div.sk-serial::before {content: \"\";position: absolute;border-left: 1px solid gray;box-sizing: border-box;top: 0;bottom: 0;left: 50%;z-index: 0;}#sk-container-id-1 div.sk-serial {display: flex;flex-direction: column;align-items: center;background-color: white;padding-right: 0.2em;padding-left: 0.2em;position: relative;}#sk-container-id-1 div.sk-item {position: relative;z-index: 1;}#sk-container-id-1 div.sk-parallel {display: flex;align-items: stretch;justify-content: center;background-color: white;position: relative;}#sk-container-id-1 div.sk-item::before, #sk-container-id-1 div.sk-parallel-item::before {content: \"\";position: absolute;border-left: 1px solid gray;box-sizing: border-box;top: 0;bottom: 0;left: 50%;z-index: -1;}#sk-container-id-1 div.sk-parallel-item {display: flex;flex-direction: column;z-index: 1;position: relative;background-color: white;}#sk-container-id-1 div.sk-parallel-item:first-child::after {align-self: flex-end;width: 50%;}#sk-container-id-1 div.sk-parallel-item:last-child::after {align-self: flex-start;width: 50%;}#sk-container-id-1 div.sk-parallel-item:only-child::after {width: 0;}#sk-container-id-1 div.sk-dashed-wrapped {border: 1px dashed gray;margin: 0 0.4em 0.5em 0.4em;box-sizing: border-box;padding-bottom: 0.4em;background-color: white;}#sk-container-id-1 div.sk-label label {font-family: monospace;font-weight: bold;display: inline-block;line-height: 1.2em;}#sk-container-id-1 div.sk-label-container {text-align: center;}#sk-container-id-1 div.sk-container {/* jupyter's `normalize.less` sets `[hidden] { display: none; }` but bootstrap.min.css set `[hidden] { display: none !important; }` so we also need the `!important` here to be able to override the default hidden behavior on the sphinx rendered scikit-learn.org. See: https://github.com/scikit-learn/scikit-learn/issues/21755 */display: inline-block !important;position: relative;}#sk-container-id-1 div.sk-text-repr-fallback {display: none;}</style><div id=\"sk-container-id-1\" class=\"sk-top-container\"><div class=\"sk-text-repr-fallback\"><pre>DecisionTreeClassifier(class_weight={0: 0.19, 1: 0.81}, random_state=42)</pre><b>In a Jupyter environment, please rerun this cell to show the HTML representation or trust the notebook. <br />On GitHub, the HTML representation is unable to render, please try loading this page with nbviewer.org.</b></div><div class=\"sk-container\" hidden><div class=\"sk-item\"><div class=\"sk-estimator sk-toggleable\"><input class=\"sk-toggleable__control sk-hidden--visually\" id=\"sk-estimator-id-1\" type=\"checkbox\" checked><label for=\"sk-estimator-id-1\" class=\"sk-toggleable__label sk-toggleable__label-arrow\">DecisionTreeClassifier</label><div class=\"sk-toggleable__content\"><pre>DecisionTreeClassifier(class_weight={0: 0.19, 1: 0.81}, random_state=42)</pre></div></div></div></div></div>"
            ]
          },
          "metadata": {},
          "execution_count": 95
        }
      ]
    },
    {
      "cell_type": "code",
      "source": [
        "make_confusion_matrix(dtree,y_test)"
      ],
      "metadata": {
        "colab": {
          "base_uri": "https://localhost:8080/",
          "height": 525
        },
        "id": "QXPPtwlar23T",
        "outputId": "b40759f3-a4e1-48a3-a132-d730b9db6bdd"
      },
      "execution_count": null,
      "outputs": [
        {
          "output_type": "display_data",
          "data": {
            "text/plain": [
              "<Figure size 1000x700 with 2 Axes>"
            ],
            "image/png": "[encoded data removed]"
          },
          "metadata": {}
        }
      ]
    },
    {
      "cell_type": "code",
      "source": [
        "dtree_score=get_metrics_score(dtree)"
      ],
      "metadata": {
        "colab": {
          "base_uri": "https://localhost:8080/"
        },
        "id": "N0G-2ljevT0H",
        "outputId": "3d4b88dd-0a1f-47b9-ed11-3e0404421e4d"
      },
      "execution_count": null,
      "outputs": [
        {
          "output_type": "stream",
          "name": "stdout",
          "text": [
            "Accuracy on training set :  1.0\n",
            "Accuracy on test set :  0.8884968242766408\n",
            "Recall on training set :  1.0\n",
            "Recall on test set :  0.6853932584269663\n",
            "Precision on training set :  1.0\n",
            "Precision on test set :  0.7120622568093385\n",
            "f1 score on training set :  1.0\n",
            "f1 score on test set :  0.6984732824427481\n"
          ]
        }
      ]
    },
    {
      "cell_type": "code",
      "source": [
        "rf = RandomForestClassifier(class_weight={0:0.19,1:0.81},random_state=42)\n",
        "rf.fit(X_train,y_train)"
      ],
      "metadata": {
        "colab": {
          "base_uri": "https://localhost:8080/",
          "height": 74
        },
        "id": "kuUQmR-qvTxm",
        "outputId": "d447ba28-62f6-4aa9-f676-68e39b6fbedb"
      },
      "execution_count": null,
      "outputs": [
        {
          "output_type": "execute_result",
          "data": {
            "text/plain": [
              "RandomForestClassifier(class_weight={0: 0.19, 1: 0.81}, random_state=42)"
            ],
            "text/html": [
              "<style>#sk-container-id-2 {color: black;background-color: white;}#sk-container-id-2 pre{padding: 0;}#sk-container-id-2 div.sk-toggleable {background-color: white;}#sk-container-id-2 label.sk-toggleable__label {cursor: pointer;display: block;width: 100%;margin-bottom: 0;padding: 0.3em;box-sizing: border-box;text-align: center;}#sk-container-id-2 label.sk-toggleable__label-arrow:before {content: \"▸\";float: left;margin-right: 0.25em;color: #696969;}#sk-container-id-2 label.sk-toggleable__label-arrow:hover:before {color: black;}#sk-container-id-2 div.sk-estimator:hover label.sk-toggleable__label-arrow:before {color: black;}#sk-container-id-2 div.sk-toggleable__content {max-height: 0;max-width: 0;overflow: hidden;text-align: left;background-color: #f0f8ff;}#sk-container-id-2 div.sk-toggleable__content pre {margin: 0.2em;color: black;border-radius: 0.25em;background-color: #f0f8ff;}#sk-container-id-2 input.sk-toggleable__control:checked~div.sk-toggleable__content {max-height: 200px;max-width: 100%;overflow: auto;}#sk-container-id-2 input.sk-toggleable__control:checked~label.sk-toggleable__label-arrow:before {content: \"▾\";}#sk-container-id-2 div.sk-estimator input.sk-toggleable__control:checked~label.sk-toggleable__label {background-color: #d4ebff;}#sk-container-id-2 div.sk-label input.sk-toggleable__control:checked~label.sk-toggleable__label {background-color: #d4ebff;}#sk-container-id-2 input.sk-hidden--visually {border: 0;clip: rect(1px 1px 1px 1px);clip: rect(1px, 1px, 1px, 1px);height: 1px;margin: -1px;overflow: hidden;padding: 0;position: absolute;width: 1px;}#sk-container-id-2 div.sk-estimator {font-family: monospace;background-color: #f0f8ff;border: 1px dotted black;border-radius: 0.25em;box-sizing: border-box;margin-bottom: 0.5em;}#sk-container-id-2 div.sk-estimator:hover {background-color: #d4ebff;}#sk-container-id-2 div.sk-parallel-item::after {content: \"\";width: 100%;border-bottom: 1px solid gray;flex-grow: 1;}#sk-container-id-2 div.sk-label:hover label.sk-toggleable__label {background-color: #d4ebff;}#sk-container-id-2 div.sk-serial::before {content: \"\";position: absolute;border-left: 1px solid gray;box-sizing: border-box;top: 0;bottom: 0;left: 50%;z-index: 0;}#sk-container-id-2 div.sk-serial {display: flex;flex-direction: column;align-items: center;background-color: white;padding-right: 0.2em;padding-left: 0.2em;position: relative;}#sk-container-id-2 div.sk-item {position: relative;z-index: 1;}#sk-container-id-2 div.sk-parallel {display: flex;align-items: stretch;justify-content: center;background-color: white;position: relative;}#sk-container-id-2 div.sk-item::before, #sk-container-id-2 div.sk-parallel-item::before {content: \"\";position: absolute;border-left: 1px solid gray;box-sizing: border-box;top: 0;bottom: 0;left: 50%;z-index: -1;}#sk-container-id-2 div.sk-parallel-item {display: flex;flex-direction: column;z-index: 1;position: relative;background-color: white;}#sk-container-id-2 div.sk-parallel-item:first-child::after {align-self: flex-end;width: 50%;}#sk-container-id-2 div.sk-parallel-item:last-child::after {align-self: flex-start;width: 50%;}#sk-container-id-2 div.sk-parallel-item:only-child::after {width: 0;}#sk-container-id-2 div.sk-dashed-wrapped {border: 1px dashed gray;margin: 0 0.4em 0.5em 0.4em;box-sizing: border-box;padding-bottom: 0.4em;background-color: white;}#sk-container-id-2 div.sk-label label {font-family: monospace;font-weight: bold;display: inline-block;line-height: 1.2em;}#sk-container-id-2 div.sk-label-container {text-align: center;}#sk-container-id-2 div.sk-container {/* jupyter's `normalize.less` sets `[hidden] { display: none; }` but bootstrap.min.css set `[hidden] { display: none !important; }` so we also need the `!important` here to be able to override the default hidden behavior on the sphinx rendered scikit-learn.org. See: https://github.com/scikit-learn/scikit-learn/issues/21755 */display: inline-block !important;position: relative;}#sk-container-id-2 div.sk-text-repr-fallback {display: none;}</style><div id=\"sk-container-id-2\" class=\"sk-top-container\"><div class=\"sk-text-repr-fallback\"><pre>RandomForestClassifier(class_weight={0: 0.19, 1: 0.81}, random_state=42)</pre><b>In a Jupyter environment, please rerun this cell to show the HTML representation or trust the notebook. <br />On GitHub, the HTML representation is unable to render, please try loading this page with nbviewer.org.</b></div><div class=\"sk-container\" hidden><div class=\"sk-item\"><div class=\"sk-estimator sk-toggleable\"><input class=\"sk-toggleable__control sk-hidden--visually\" id=\"sk-estimator-id-2\" type=\"checkbox\" checked><label for=\"sk-estimator-id-2\" class=\"sk-toggleable__label sk-toggleable__label-arrow\">RandomForestClassifier</label><div class=\"sk-toggleable__content\"><pre>RandomForestClassifier(class_weight={0: 0.19, 1: 0.81}, random_state=42)</pre></div></div></div></div></div>"
            ]
          },
          "metadata": {},
          "execution_count": 99
        }
      ]
    },
    {
      "cell_type": "code",
      "source": [
        "make_confusion_matrix(rf,y_test)"
      ],
      "metadata": {
        "colab": {
          "base_uri": "https://localhost:8080/",
          "height": 525
        },
        "id": "rvN7fWTMvTu8",
        "outputId": "6a0825e5-8aab-4171-e7a5-670fbe98b0d9"
      },
      "execution_count": null,
      "outputs": [
        {
          "output_type": "display_data",
          "data": {
            "text/plain": [
              "<Figure size 1000x700 with 2 Axes>"
            ],
            "image/png": "[encoded data removed]"
          },
          "metadata": {}
        }
      ]
    },
    {
      "cell_type": "code",
      "source": [
        "rf_score=get_metrics_score(rf)"
      ],
      "metadata": {
        "colab": {
          "base_uri": "https://localhost:8080/"
        },
        "id": "BGgDrYmXvTr4",
        "outputId": "de73bc5d-28bd-4eff-c658-3e1c58b56e5e"
      },
      "execution_count": null,
      "outputs": [
        {
          "output_type": "stream",
          "name": "stdout",
          "text": [
            "Accuracy on training set :  1.0\n",
            "Accuracy on test set :  0.9068454481298518\n",
            "Recall on training set :  1.0\n",
            "Recall on test set :  0.550561797752809\n",
            "Precision on training set :  1.0\n",
            "Precision on test set :  0.9245283018867925\n",
            "f1 score on training set :  1.0\n",
            "f1 score on test set :  0.6901408450704226\n"
          ]
        }
      ]
    },
    {
      "cell_type": "code",
      "source": [
        "models = [dtree,rf]\n",
        "\n",
        "# defining empty lists to add train and test results\n",
        "acc_train = []\n",
        "acc_test = []\n",
        "recall_train = []\n",
        "recall_test = []\n",
        "precision_train = []\n",
        "precision_test = []\n",
        "f1_train = []\n",
        "f1_test = []\n",
        "\n",
        "\n",
        "for model in models:\n",
        "\n",
        "    j = get_metrics_score(model,False)\n",
        "    acc_train.append(j[0])\n",
        "    acc_test.append(j[1])\n",
        "    recall_train.append(j[2])\n",
        "    recall_test.append(j[3])\n",
        "    precision_train.append(j[4])\n",
        "    precision_test.append(j[5])\n",
        "    f1_train.append(j[6])\n",
        "    f1_test.append(j[7])"
      ],
      "metadata": {
        "id": "1FvQ3OCNvTpT"
      },
      "execution_count": null,
      "outputs": []
    },
    {
      "cell_type": "code",
      "source": [
        "comparison_frame = pd.DataFrame({'Model':['Decision Tree','Random Forest'],\n",
        "                                          'Train_Accuracy': acc_train,'Test_Accuracy': acc_test,\n",
        "                                          'Train_Recall':recall_train,'Test_Recall':recall_test,\n",
        "                                          'Train_Precision':precision_train,'Test_Precision':precision_test,\n",
        "                                           'Train_F1-Score':f1_train, 'Test_F1-Score':f1_test})\n",
        "\n",
        "#Sorting models in decreasing order of test recall\n",
        "comparison_frame.sort_values(by='Test_F1-Score',ascending=False)"
      ],
      "metadata": {
        "colab": {
          "base_uri": "https://localhost:8080/",
          "height": 184
        },
        "id": "YQPGuKDx0YIb",
        "outputId": "68e6094b-b728-46a2-fbc5-dc1fb6945c9d"
      },
      "execution_count": null,
      "outputs": [
        {
          "output_type": "execute_result",
          "data": {
            "text/plain": [
              "           Model  Train_Accuracy  Test_Accuracy  Train_Recall  Test_Recall  \\\n",
              "0  Decision Tree             1.0       0.888497           1.0     0.685393   \n",
              "1  Random Forest             1.0       0.906845           1.0     0.550562   \n",
              "\n",
              "   Train_Precision  Test_Precision  Train_F1-Score  Test_F1-Score  \n",
              "0              1.0        0.712062             1.0       0.698473  \n",
              "1              1.0        0.924528             1.0       0.690141  "
            ],
            "text/html": [
              "\n",
              "  <div id=\"df-0d222563-3b40-4659-821f-a80d9f62f4a0\" class=\"colab-df-container\">\n",
              "    <div>\n",
              "<style scoped>\n",
              "    .dataframe tbody tr th:only-of-type {\n",
              "        vertical-align: middle;\n",
              "    }\n",
              "\n",
              "    .dataframe tbody tr th {\n",
              "        vertical-align: top;\n",
              "    }\n",
              "\n",
              "    .dataframe thead th {\n",
              "        text-align: right;\n",
              "    }\n",
              "</style>\n",
              "<table border=\"1\" class=\"dataframe\">\n",
              "  <thead>\n",
              "    <tr style=\"text-align: right;\">\n",
              "      <th></th>\n",
              "      <th>Model</th>\n",
              "      <th>Train_Accuracy</th>\n",
              "      <th>Test_Accuracy</th>\n",
              "      <th>Train_Recall</th>\n",
              "      <th>Test_Recall</th>\n",
              "      <th>Train_Precision</th>\n",
              "      <th>Test_Precision</th>\n",
              "      <th>Train_F1-Score</th>\n",
              "      <th>Test_F1-Score</th>\n",
              "    </tr>\n",
              "  </thead>\n",
              "  <tbody>\n",
              "    <tr>\n",
              "      <th>0</th>\n",
              "      <td>Decision Tree</td>\n",
              "      <td>1.0</td>\n",
              "      <td>0.888497</td>\n",
              "      <td>1.0</td>\n",
              "      <td>0.685393</td>\n",
              "      <td>1.0</td>\n",
              "      <td>0.712062</td>\n",
              "      <td>1.0</td>\n",
              "      <td>0.698473</td>\n",
              "    </tr>\n",
              "    <tr>\n",
              "      <th>1</th>\n",
              "      <td>Random Forest</td>\n",
              "      <td>1.0</td>\n",
              "      <td>0.906845</td>\n",
              "      <td>1.0</td>\n",
              "      <td>0.550562</td>\n",
              "      <td>1.0</td>\n",
              "      <td>0.924528</td>\n",
              "      <td>1.0</td>\n",
              "      <td>0.690141</td>\n",
              "    </tr>\n",
              "  </tbody>\n",
              "</table>\n",
              "</div>\n",
              "    <div class=\"colab-df-buttons\">\n",
              "\n",
              "  <div class=\"colab-df-container\">\n",
              "    <button class=\"colab-df-convert\" onclick=\"convertToInteractive('df-0d222563-3b40-4659-821f-a80d9f62f4a0')\"\n",
              "            title=\"Convert this dataframe to an interactive table.\"\n",
              "            style=\"display:none;\">\n",
              "\n",
              "  <svg xmlns=\"http://www.w3.org/2000/svg\" height=\"24px\" viewBox=\"0 -960 960 960\">\n",
              "    <path d=\"M120-120v-720h720v720H120Zm60-500h600v-160H180v160Zm220 220h160v-160H400v160Zm0 220h160v-160H400v160ZM180-400h160v-160H180v160Zm440 0h160v-160H620v160ZM180-180h160v-160H180v160Zm440 0h160v-160H620v160Z\"/>\n",
              "  </svg>\n",
              "    </button>\n",
              "\n",
              "  <style>\n",
              "    .colab-df-container {\n",
              "      display:flex;\n",
              "      gap: 12px;\n",
              "    }\n",
              "\n",
              "    .colab-df-convert {\n",
              "      background-color: #E8F0FE;\n",
              "      border: none;\n",
              "      border-radius: 50%;\n",
              "      cursor: pointer;\n",
              "      display: none;\n",
              "      fill: #1967D2;\n",
              "      height: 32px;\n",
              "      padding: 0 0 0 0;\n",
              "      width: 32px;\n",
              "    }\n",
              "\n",
              "    .colab-df-convert:hover {\n",
              "      background-color: #E2EBFA;\n",
              "      box-shadow: 0px 1px 2px rgba(60, 64, 67, 0.3), 0px 1px 3px 1px rgba(60, 64, 67, 0.15);\n",
              "      fill: #174EA6;\n",
              "    }\n",
              "\n",
              "    .colab-df-buttons div {\n",
              "      margin-bottom: 4px;\n",
              "    }\n",
              "\n",
              "    [theme=dark] .colab-df-convert {\n",
              "      background-color: #3B4455;\n",
              "      fill: #D2E3FC;\n",
              "    }\n",
              "\n",
              "    [theme=dark] .colab-df-convert:hover {\n",
              "      background-color: #434B5C;\n",
              "      box-shadow: 0px 1px 3px 1px rgba(0, 0, 0, 0.15);\n",
              "      filter: drop-shadow(0px 1px 2px rgba(0, 0, 0, 0.3));\n",
              "      fill: #FFFFFF;\n",
              "    }\n",
              "  </style>\n",
              "\n",
              "    <script>\n",
              "      const buttonEl =\n",
              "        document.querySelector('#df-0d222563-3b40-4659-821f-a80d9f62f4a0 button.colab-df-convert');\n",
              "      buttonEl.style.display =\n",
              "        google.colab.kernel.accessAllowed ? 'block' : 'none';\n",
              "\n",
              "      async function convertToInteractive(key) {\n",
              "        const element = document.querySelector('#df-0d222563-3b40-4659-821f-a80d9f62f4a0');\n",
              "        const dataTable =\n",
              "          await google.colab.kernel.invokeFunction('convertToInteractive',\n",
              "                                                    [key], {});\n",
              "        if (!dataTable) return;\n",
              "\n",
              "        const docLinkHtml = 'Like what you see? Visit the ' +\n",
              "          '<a target=\"_blank\" href=https://colab.research.google.com/notebooks/data_table.ipynb>data table notebook</a>'\n",
              "          + ' to learn more about interactive tables.';\n",
              "        element.innerHTML = '';\n",
              "        dataTable['output_type'] = 'display_data';\n",
              "        await google.colab.output.renderOutput(dataTable, element);\n",
              "        const docLink = document.createElement('div');\n",
              "        docLink.innerHTML = docLinkHtml;\n",
              "        element.appendChild(docLink);\n",
              "      }\n",
              "    </script>\n",
              "  </div>\n",
              "\n",
              "\n",
              "<div id=\"df-abf49dcc-373f-4699-95db-bda3d2dd91b1\">\n",
              "  <button class=\"colab-df-quickchart\" onclick=\"quickchart('df-abf49dcc-373f-4699-95db-bda3d2dd91b1')\"\n",
              "            title=\"Suggest charts\"\n",
              "            style=\"display:none;\">\n",
              "\n",
              "<svg xmlns=\"http://www.w3.org/2000/svg\" height=\"24px\"viewBox=\"0 0 24 24\"\n",
              "     width=\"24px\">\n",
              "    <g>\n",
              "        <path d=\"M19 3H5c-1.1 0-2 .9-2 2v14c0 1.1.9 2 2 2h14c1.1 0 2-.9 2-2V5c0-1.1-.9-2-2-2zM9 17H7v-7h2v7zm4 0h-2V7h2v10zm4 0h-2v-4h2v4z\"/>\n",
              "    </g>\n",
              "</svg>\n",
              "  </button>\n",
              "\n",
              "<style>\n",
              "  .colab-df-quickchart {\n",
              "      --bg-color: #E8F0FE;\n",
              "      --fill-color: #1967D2;\n",
              "      --hover-bg-color: #E2EBFA;\n",
              "      --hover-fill-color: #174EA6;\n",
              "      --disabled-fill-color: #AAA;\n",
              "      --disabled-bg-color: #DDD;\n",
              "  }\n",
              "\n",
              "  [theme=dark] .colab-df-quickchart {\n",
              "      --bg-color: #3B4455;\n",
              "      --fill-color: #D2E3FC;\n",
              "      --hover-bg-color: #434B5C;\n",
              "      --hover-fill-color: #FFFFFF;\n",
              "      --disabled-bg-color: #3B4455;\n",
              "      --disabled-fill-color: #666;\n",
              "  }\n",
              "\n",
              "  .colab-df-quickchart {\n",
              "    background-color: var(--bg-color);\n",
              "    border: none;\n",
              "    border-radius: 50%;\n",
              "    cursor: pointer;\n",
              "    display: none;\n",
              "    fill: var(--fill-color);\n",
              "    height: 32px;\n",
              "    padding: 0;\n",
              "    width: 32px;\n",
              "  }\n",
              "\n",
              "  .colab-df-quickchart:hover {\n",
              "    background-color: var(--hover-bg-color);\n",
              "    box-shadow: 0 1px 2px rgba(60, 64, 67, 0.3), 0 1px 3px 1px rgba(60, 64, 67, 0.15);\n",
              "    fill: var(--button-hover-fill-color);\n",
              "  }\n",
              "\n",
              "  .colab-df-quickchart-complete:disabled,\n",
              "  .colab-df-quickchart-complete:disabled:hover {\n",
              "    background-color: var(--disabled-bg-color);\n",
              "    fill: var(--disabled-fill-color);\n",
              "    box-shadow: none;\n",
              "  }\n",
              "\n",
              "  .colab-df-spinner {\n",
              "    border: 2px solid var(--fill-color);\n",
              "    border-color: transparent;\n",
              "    border-bottom-color: var(--fill-color);\n",
              "    animation:\n",
              "      spin 1s steps(1) infinite;\n",
              "  }\n",
              "\n",
              "  @keyframes spin {\n",
              "    0% {\n",
              "      border-color: transparent;\n",
              "      border-bottom-color: var(--fill-color);\n",
              "      border-left-color: var(--fill-color);\n",
              "    }\n",
              "    20% {\n",
              "      border-color: transparent;\n",
              "      border-left-color: var(--fill-color);\n",
              "      border-top-color: var(--fill-color);\n",
              "    }\n",
              "    30% {\n",
              "      border-color: transparent;\n",
              "      border-left-color: var(--fill-color);\n",
              "      border-top-color: var(--fill-color);\n",
              "      border-right-color: var(--fill-color);\n",
              "    }\n",
              "    40% {\n",
              "      border-color: transparent;\n",
              "      border-right-color: var(--fill-color);\n",
              "      border-top-color: var(--fill-color);\n",
              "    }\n",
              "    60% {\n",
              "      border-color: transparent;\n",
              "      border-right-color: var(--fill-color);\n",
              "    }\n",
              "    80% {\n",
              "      border-color: transparent;\n",
              "      border-right-color: var(--fill-color);\n",
              "      border-bottom-color: var(--fill-color);\n",
              "    }\n",
              "    90% {\n",
              "      border-color: transparent;\n",
              "      border-bottom-color: var(--fill-color);\n",
              "    }\n",
              "  }\n",
              "</style>\n",
              "\n",
              "  <script>\n",
              "    async function quickchart(key) {\n",
              "      const quickchartButtonEl =\n",
              "        document.querySelector('#' + key + ' button');\n",
              "      quickchartButtonEl.disabled = true;  // To prevent multiple clicks.\n",
              "      quickchartButtonEl.classList.add('colab-df-spinner');\n",
              "      try {\n",
              "        const charts = await google.colab.kernel.invokeFunction(\n",
              "            'suggestCharts', [key], {});\n",
              "      } catch (error) {\n",
              "        console.error('Error during call to suggestCharts:', error);\n",
              "      }\n",
              "      quickchartButtonEl.classList.remove('colab-df-spinner');\n",
              "      quickchartButtonEl.classList.add('colab-df-quickchart-complete');\n",
              "    }\n",
              "    (() => {\n",
              "      let quickchartButtonEl =\n",
              "        document.querySelector('#df-abf49dcc-373f-4699-95db-bda3d2dd91b1 button');\n",
              "      quickchartButtonEl.style.display =\n",
              "        google.colab.kernel.accessAllowed ? 'block' : 'none';\n",
              "    })();\n",
              "  </script>\n",
              "</div>\n",
              "\n",
              "    </div>\n",
              "  </div>\n"
            ]
          },
          "metadata": {},
          "execution_count": 103
        }
      ]
    }
  ]
}
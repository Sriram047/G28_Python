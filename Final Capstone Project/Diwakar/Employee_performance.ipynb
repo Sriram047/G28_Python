{
  "nbformat": 4,
  "nbformat_minor": 0,
  "metadata": {
    "colab": {
      "provenance": []
    },
    "kernelspec": {
      "name": "python3",
      "display_name": "Python 3"
    },
    "language_info": {
      "name": "python"
    }
  },
  "cells": [
    {
      "cell_type": "code",
      "source": [
        "import pandas as pd\n",
        "import numpy as np\n",
        "from sklearn.cluster import KMeans\n",
        "from sklearn.preprocessing import StandardScaler\n",
        "from sklearn.model_selection import train_test_split\n",
        "from sklearn.metrics import silhouette_score\n",
        "\n",
        "\n",
        "dataset = pd.read_csv('/content/sample_submission.csv')\n",
        "\n",
        "categorical_columns = dataset.select_dtypes(include=['object']).columns\n",
        "dataset = pd.get_dummies(dataset, columns=categorical_columns)\n",
        "\n",
        "\n",
        "scaler = StandardScaler()\n",
        "scaled_data = scaler.fit_transform(dataset)\n",
        "\n",
        "kmeans = KMeans(n_clusters=3)\n",
        "kmeans.fit(scaled_data)\n",
        "\n",
        "labels = kmeans.labels_\n",
        "\n",
        "silhouette_score = silhouette_score(scaled_data, labels)\n",
        "\n",
        "print(\"Silhouette score:\", silhouette_score)\n",
        "\n",
        "import matplotlib.pyplot as plt\n",
        "plt.scatter(scaled_data[:, 0], scaled_data[:, 1], c=labels, cmap='viridis')\n",
        "plt.show()"
      ],
      "metadata": {
        "colab": {
          "base_uri": "https://localhost:8080/",
          "height": 502
        },
        "id": "T8fxfo4H1-d7",
        "outputId": "9811790d-2a89-4e48-c606-e5f1b8b9ec74"
      },
      "execution_count": null,
      "outputs": [
        {
          "output_type": "stream",
          "name": "stderr",
          "text": [
            "/usr/local/lib/python3.10/dist-packages/sklearn/cluster/_kmeans.py:870: FutureWarning: The default value of `n_init` will change from 10 to 'auto' in 1.4. Set the value of `n_init` explicitly to suppress the warning\n",
            "  warnings.warn(\n"
          ]
        },
        {
          "output_type": "stream",
          "name": "stdout",
          "text": [
            "Silhouette score: 0.012192330298567386\n"
          ]
        },
        {
          "output_type": "display_data",
          "data": {
            "text/plain": [
              "<Figure size 640x480 with 1 Axes>"
            ],
            "image/png": "[encoded data removed]"
          },
          "metadata": {}
        }
      ]
    },
    {
      "cell_type": "code",
      "source": [],
      "metadata": {
        "id": "cMZTqX9UV1ey"
      },
      "execution_count": null,
      "outputs": []
    }
  ]
}
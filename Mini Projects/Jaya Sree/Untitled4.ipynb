{
  "nbformat": 4,
  "nbformat_minor": 0,
  "metadata": {
    "colab": {
      "provenance": []
    },
    "kernelspec": {
      "name": "python3",
      "display_name": "Python 3"
    },
    "language_info": {
      "name": "python"
    }
  },
  "cells": [
    {
      "cell_type": "code",
      "execution_count": null,
      "metadata": {
        "id": "2NsIRluXWKmR"
      },
      "outputs": [],
      "source": [
        "import random\n",
        "import smtplib\n",
        "from email.mime.text import MIMEText\n",
        "\n",
        "participants = {}\n",
        "assignments = {}\n",
        "\n",
        "def input_participants():\n",
        "    num_participants = int(input(\"Enter the number of participants: \"))\n",
        "    for i in range(num_participants):\n",
        "        name = input(f\"Enter the name of participant {i+1}: \")\n",
        "        email = input(f\"Enter {name}'s email: \")\n",
        "        wishlist = input(f\"Enter {name}'s wishlist: \")\n",
        "        participants[name] = {'email': email, 'wishlist': wishlist}\n",
        "\n",
        "def input_rules():\n",
        "    while True:\n",
        "        name1 = input(\"Enter the first person's name for a pairing rule (or 'done' to finish): \")\n",
        "        if name1.lower() == 'done':\n",
        "            break\n",
        "        name2 = input(f\"Enter the second person's name not to be paired with {name1}: \")\n",
        "        participants[name1].setdefault('no_pair', []).append(name2)\n",
        "\n",
        "def generate_assignments():\n",
        "    potential_assignments = list(participants.keys())\n",
        "    for name in participants:\n",
        "        while True:\n",
        "            assignment = random.choice(potential_assignments)\n",
        "            if assignment != name and assignment not in assignments and not is_restricted(name, assignment):\n",
        "                assignments[name] = assignment\n",
        "                potential_assignments.remove(assignment)\n",
        "                break\n",
        "\n",
        "def is_restricted(name, assignment):\n",
        "    if 'no_pair' in participants[name] and assignment in participants[name]['no_pair']:\n",
        "        return True\n",
        "    return False\n",
        "\n",
        "def send_email(sender_email, sender_password, recipient_email, subject, message):\n",
        "    try:\n",
        "        server = smtplib.SMTP('smtp.gmail.com', 587)\n",
        "        server.starttls()\n",
        "        server.login(sender_email, sender_password)\n",
        "        msg = MIMEText(message)\n",
        "        msg['From'] = sender_email\n",
        "        msg['To'] = recipient_email\n",
        "        msg['Subject'] = subject\n",
        "        server.sendmail(sender_email, recipient_email, msg.as_string())\n",
        "        server.quit()\n",
        "    except Exception as e:\n",
        "        print(f\"Failed to send email: {e}\")\n",
        "\n",
        "def main():\n",
        "    input_participants()\n",
        "    input_rules()\n",
        "    generate_assignments()\n",
        "\n",
        "    for name, assignment in assignments.items():\n",
        "        recipient_email = participants[assignment]['email']\n",
        "        wishlist = participants[assignment]['wishlist']\n",
        "        subject = \"Your Secret Santa Assignment\"\n",
        "        message = f\"Hello {name},\\n\\nYou are the Secret Santa for {assignment}. Their wishlist is: {wishlist}.\\n\\nHappy gifting!\"\n",
        "        sender_email = input(\"Enter your Gmail address: \")\n",
        "        sender_password = input(\"Enter your Gmail password: \")  # Be cautious with your password\n",
        "\n",
        "        send_email(sender_email, sender_password, recipient_email, subject, message)\n",
        "        print(f\"Assignment sent to {name} ({participants[name]['email']})\")\n",
        "\n",
        "if __name__== \"__main__\":\n",
        "    main()"
      ]
    }
  ]
}